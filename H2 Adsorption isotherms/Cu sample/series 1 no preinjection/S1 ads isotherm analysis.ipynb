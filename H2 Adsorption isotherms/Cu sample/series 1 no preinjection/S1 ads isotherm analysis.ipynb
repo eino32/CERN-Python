{
 "cells": [
  {
   "attachments": {},
   "cell_type": "markdown",
   "metadata": {},
   "source": [
    "# S1 CU sample H2 ads isotherm "
   ]
  },
  {
   "cell_type": "code",
   "execution_count": 67,
   "metadata": {},
   "outputs": [],
   "source": [
    "import pandas as pd\n",
    "import scipy.constants\n",
    "from scipy.optimize import curve_fit\n",
    "from scipy.integrate import quad\n",
    "from sklearn.metrics import r2_score\n",
    "import seaborn\n",
    "seaborn.set(style='whitegrid')\n",
    "import numpy as np\n",
    "import math\n",
    "import matplotlib.pyplot as plt\n",
    "import matplotlib.dates as md\n",
    "import matplotlib.transforms as transforms\n",
    "from matplotlib.ticker import LogFormatter\n",
    "%matplotlib qt\n",
    "# %matplotlib inline\n",
    "import datetime as dt\n",
    "pd.set_option('display.max_rows', 100) "
   ]
  },
  {
   "cell_type": "code",
   "execution_count": 68,
   "metadata": {},
   "outputs": [
    {
     "data": {
      "text/html": [
       "<div>\n",
       "<style scoped>\n",
       "    .dataframe tbody tr th:only-of-type {\n",
       "        vertical-align: middle;\n",
       "    }\n",
       "\n",
       "    .dataframe tbody tr th {\n",
       "        vertical-align: top;\n",
       "    }\n",
       "\n",
       "    .dataframe thead th {\n",
       "        text-align: right;\n",
       "    }\n",
       "</style>\n",
       "<table border=\"1\" class=\"dataframe\">\n",
       "  <thead>\n",
       "    <tr style=\"text-align: right;\">\n",
       "      <th></th>\n",
       "      <th>Live comments</th>\n",
       "      <th>Time</th>\n",
       "      <th>Elapsed time</th>\n",
       "      <th>100mbar inj</th>\n",
       "      <th>Barion_2</th>\n",
       "      <th>Barion_1</th>\n",
       "      <th>DUAL experiment</th>\n",
       "      <th>DUAL insulation</th>\n",
       "      <th>1mbar inj</th>\n",
       "      <th>helium</th>\n",
       "      <th>T-platinum</th>\n",
       "      <th>T-CERNOX</th>\n",
       "      <th>V_heater</th>\n",
       "      <th>DUAL inj line</th>\n",
       "      <th>I_emission</th>\n",
       "      <th>I_grid</th>\n",
       "    </tr>\n",
       "  </thead>\n",
       "  <tbody>\n",
       "    <tr>\n",
       "      <th>0</th>\n",
       "      <td>opening turbo</td>\n",
       "      <td>2023-05-02 09:41:34</td>\n",
       "      <td>0.0</td>\n",
       "      <td>-0.035620</td>\n",
       "      <td>0.0</td>\n",
       "      <td>0.0</td>\n",
       "      <td>1.482000e-06</td>\n",
       "      <td>0.000002</td>\n",
       "      <td>0.010831</td>\n",
       "      <td>0.0</td>\n",
       "      <td>99.887</td>\n",
       "      <td>61.167</td>\n",
       "      <td>0.000026</td>\n",
       "      <td>2.260000e-07</td>\n",
       "      <td>NaN</td>\n",
       "      <td>NaN</td>\n",
       "    </tr>\n",
       "    <tr>\n",
       "      <th>1</th>\n",
       "      <td>NaN</td>\n",
       "      <td>2023-05-02 09:41:43</td>\n",
       "      <td>9.0</td>\n",
       "      <td>-0.035471</td>\n",
       "      <td>0.0</td>\n",
       "      <td>0.0</td>\n",
       "      <td>4.555000e-07</td>\n",
       "      <td>0.000002</td>\n",
       "      <td>0.010836</td>\n",
       "      <td>0.0</td>\n",
       "      <td>100.000</td>\n",
       "      <td>61.279</td>\n",
       "      <td>0.000022</td>\n",
       "      <td>2.260000e-07</td>\n",
       "      <td>NaN</td>\n",
       "      <td>NaN</td>\n",
       "    </tr>\n",
       "    <tr>\n",
       "      <th>2</th>\n",
       "      <td>NaN</td>\n",
       "      <td>2023-05-02 09:41:52</td>\n",
       "      <td>18.0</td>\n",
       "      <td>-0.035962</td>\n",
       "      <td>0.0</td>\n",
       "      <td>0.0</td>\n",
       "      <td>3.039000e-08</td>\n",
       "      <td>0.000002</td>\n",
       "      <td>0.010849</td>\n",
       "      <td>0.0</td>\n",
       "      <td>99.887</td>\n",
       "      <td>61.167</td>\n",
       "      <td>0.000024</td>\n",
       "      <td>2.260000e-07</td>\n",
       "      <td>NaN</td>\n",
       "      <td>NaN</td>\n",
       "    </tr>\n",
       "    <tr>\n",
       "      <th>3</th>\n",
       "      <td>NaN</td>\n",
       "      <td>2023-05-02 09:42:00</td>\n",
       "      <td>26.0</td>\n",
       "      <td>-0.036061</td>\n",
       "      <td>0.0</td>\n",
       "      <td>0.0</td>\n",
       "      <td>2.270000e-08</td>\n",
       "      <td>0.000002</td>\n",
       "      <td>0.010831</td>\n",
       "      <td>0.0</td>\n",
       "      <td>100.000</td>\n",
       "      <td>61.279</td>\n",
       "      <td>0.000025</td>\n",
       "      <td>2.260000e-07</td>\n",
       "      <td>NaN</td>\n",
       "      <td>NaN</td>\n",
       "    </tr>\n",
       "    <tr>\n",
       "      <th>4</th>\n",
       "      <td>NaN</td>\n",
       "      <td>2023-05-02 09:42:09</td>\n",
       "      <td>35.0</td>\n",
       "      <td>-0.035790</td>\n",
       "      <td>0.0</td>\n",
       "      <td>0.0</td>\n",
       "      <td>1.931000e-08</td>\n",
       "      <td>0.000002</td>\n",
       "      <td>0.010853</td>\n",
       "      <td>0.0</td>\n",
       "      <td>99.775</td>\n",
       "      <td>61.055</td>\n",
       "      <td>0.000025</td>\n",
       "      <td>2.260000e-07</td>\n",
       "      <td>NaN</td>\n",
       "      <td>NaN</td>\n",
       "    </tr>\n",
       "  </tbody>\n",
       "</table>\n",
       "</div>"
      ],
      "text/plain": [
       "   Live comments                Time  Elapsed time  100mbar inj  Barion_2  \\\n",
       "0  opening turbo 2023-05-02 09:41:34           0.0    -0.035620       0.0   \n",
       "1            NaN 2023-05-02 09:41:43           9.0    -0.035471       0.0   \n",
       "2            NaN 2023-05-02 09:41:52          18.0    -0.035962       0.0   \n",
       "3            NaN 2023-05-02 09:42:00          26.0    -0.036061       0.0   \n",
       "4            NaN 2023-05-02 09:42:09          35.0    -0.035790       0.0   \n",
       "\n",
       "   Barion_1  DUAL experiment  DUAL insulation  1mbar inj  helium  T-platinum  \\\n",
       "0       0.0     1.482000e-06         0.000002   0.010831     0.0      99.887   \n",
       "1       0.0     4.555000e-07         0.000002   0.010836     0.0     100.000   \n",
       "2       0.0     3.039000e-08         0.000002   0.010849     0.0      99.887   \n",
       "3       0.0     2.270000e-08         0.000002   0.010831     0.0     100.000   \n",
       "4       0.0     1.931000e-08         0.000002   0.010853     0.0      99.775   \n",
       "\n",
       "   T-CERNOX  V_heater  DUAL inj line  I_emission  I_grid  \n",
       "0    61.167  0.000026   2.260000e-07         NaN     NaN  \n",
       "1    61.279  0.000022   2.260000e-07         NaN     NaN  \n",
       "2    61.167  0.000024   2.260000e-07         NaN     NaN  \n",
       "3    61.279  0.000025   2.260000e-07         NaN     NaN  \n",
       "4    61.055  0.000025   2.260000e-07         NaN     NaN  "
      ]
     },
     "execution_count": 68,
     "metadata": {},
     "output_type": "execute_result"
    }
   ],
   "source": [
    "#reading the Emission current, pressures\n",
    "vaclog=pd.read_csv(\"cooldown vaclog\", sep=\"\\t\")\n",
    "vaclog.head()\n",
    "#adding an elapsed time column\n",
    "#making the column into a datetime object\n",
    "vac_timestamps=pd.to_datetime(vaclog[\"Time\"],format=\"%d/%m/%Y %H:%M:%S\")\n",
    "runtime=(vac_timestamps-vac_timestamps[0]).dt.total_seconds()    \n",
    "vaclog.insert(2,\"Elapsed time\",runtime)\n",
    "#drop index column (not necessary)\n",
    "# vaclog.drop(index=vaclog.index[0], \n",
    "#         axis=0, \n",
    "#         inplace=True)\n",
    "vaclog[\"Time\"] = vac_timestamps.dt.strftime('%d-%m-%Y %H:%M:%S')\n",
    "vaclog[\"Time\"] = pd.to_datetime(vaclog[\"Time\"],format='%d-%m-%Y %H:%M:%S')\n",
    "\n",
    "vaclog.head()"
   ]
  },
  {
   "cell_type": "code",
   "execution_count": 69,
   "metadata": {},
   "outputs": [],
   "source": [
    "#Temperature curve for CERNOX \n",
    "A=[230.317302,-6170.1513,71837.9529,-477946.76,2.003668910085786e+6,-5.488690193047771e+6,9.830475663897528e+6,-1.111226817786569e+7,7.202477878914065e+6,-2.04194551328507e+6]\n",
    "#specify fit parameters A, data (Resistance values)\n",
    "def polyfit(params,data):\n",
    "    total=[]\n",
    "    for j in data: \n",
    "        exp=0\n",
    "        for i in range(len(params)):\n",
    "            exp += (params[i]/(math.log10(j))**i)\n",
    "        total.append(10**exp)\n",
    "    return(total)    \n"
   ]
  },
  {
   "cell_type": "markdown",
   "metadata": {},
   "source": [
    "### Injection pressure linearity"
   ]
  },
  {
   "cell_type": "code",
   "execution_count": 70,
   "metadata": {},
   "outputs": [
    {
     "data": {
      "text/plain": [
       "' #defining a function for the straight line\\ndef func(x,a,b):\\n    return a*x + b\\n#curve fit for the data\\ny = inj[\"injection 100mbar\"].values\\nx = (inj[\"Elapsed time\"]/3600).values\\nparams, cov = curve_fit(func,x,y)\\n#straight line parameters\\na, b = params\\nprint(f\"Fitted line: y = {a:.2f}*x+{b:.2f}\") '"
      ]
     },
     "execution_count": 70,
     "metadata": {},
     "output_type": "execute_result"
    }
   ],
   "source": [
    "\"\"\" #defining a function for the straight line\n",
    "def func(x,a,b):\n",
    "    return a*x + b\n",
    "#curve fit for the data\n",
    "y = inj[\"injection 100mbar\"].values\n",
    "x = (inj[\"Elapsed time\"]/3600).values\n",
    "params, cov = curve_fit(func,x,y)\n",
    "#straight line parameters\n",
    "a, b = params\n",
    "print(f\"Fitted line: y = {a:.2f}*x+{b:.2f}\") \"\"\""
   ]
  },
  {
   "cell_type": "code",
   "execution_count": 71,
   "metadata": {},
   "outputs": [
    {
     "name": "stdout",
     "output_type": "stream",
     "text": [
      "['opening turbo' nan 'injection volume prepared' 'LHe transfer complete'\n",
      " 'started MID scan' 'starting injection' 'closed turbo'\n",
      " 'restarting injection' 'stable inj established']\n",
      "                    Time              Live comments\n",
      "0    2023-05-02 09:41:34              opening turbo\n",
      "1869 2023-05-02 14:10:33  injection volume prepared\n",
      "1933 2023-05-02 14:19:43      LHe transfer complete\n",
      "1952 2023-05-02 14:22:25           started MID scan\n",
      "1987 2023-05-02 14:27:28         starting injection\n",
      "2026 2023-05-02 14:33:03               closed turbo\n",
      "2062 2023-05-02 14:38:12       restarting injection\n",
      "2085 2023-05-02 14:41:29     stable inj established\n"
     ]
    },
    {
     "data": {
      "text/plain": [
       "Int64Index([0, 1869, 1933, 1952, 1987, 2026, 2062, 2085], dtype='int64')"
      ]
     },
     "execution_count": 71,
     "metadata": {},
     "output_type": "execute_result"
    }
   ],
   "source": [
    "#print hv comments of first file\n",
    "print(pd.unique(df[\"Live comments\"]))\n",
    "vaclog_comm = vaclog.loc[:,[\"Time\",\"Live comments\"]]\n",
    "vaclog_comm.dropna(inplace=True)\n",
    "print(vaclog_comm)\n",
    "vaclog_comm.index"
   ]
  },
  {
   "attachments": {},
   "cell_type": "markdown",
   "metadata": {},
   "source": [
    "## Plotting"
   ]
  },
  {
   "cell_type": "code",
   "execution_count": 72,
   "metadata": {},
   "outputs": [],
   "source": [
    "#define parameters for plotting\n",
    "#annotation params\n",
    "font = dict(size = \"x-small\", color =\"green\", style =\"italic\",rotation=\"vertical\")\n"
   ]
  },
  {
   "cell_type": "code",
   "execution_count": 73,
   "metadata": {},
   "outputs": [
    {
     "data": {
      "text/plain": [
       "' #Plotting BA2, BA1 pressure\\nplt.figure(figsize=(12,6))\\nplt.plot(vaclog[\"Time\"],vaclog[\"Barion_2\"],marker=\".\", markersize=4,label=\\'Barion 2\\')\\nplt.plot(vaclog[\"Time\"],vaclog[\"Barion_1\"],marker=\".\", markersize=4,label=\\'Barion 1\\')\\nplt.xlabel(\\'Timestamp\\')\\nplt.ylabel(\\'Pressure (mbar)\\')\\nplt.legend()\\nplt.title(\"S1 Total pressure evolution\")\\nplt.tick_params(axis=\"y\", which=\\'minor\\')\\nplt.grid(which=\\'minor\\', axis=\\'y\\')\\nplt.yscale(\\'log\\')\\n\\nax.xaxis.set_major_formatter(md.DateFormatter(\\'%H:%M\\'))\\nax.xaxis.set_major_locator(plt.MaxNLocator(10))\\nfor label in ax.get_xticklabels(which=\\'major\\'):\\n    label.set(rotation=30, horizontalalignment=\\'right\\')    \\n       \\nplt.savefig(r\\'./graphs/Barions.png\\')\\nplt.show() '"
      ]
     },
     "execution_count": 73,
     "metadata": {},
     "output_type": "execute_result"
    }
   ],
   "source": [
    "#Plotting the general pressure evolution for overview\n",
    "fig, ax = plt.subplots()\n",
    "\n",
    "l5 = ax.plot(vaclog[\"Time\"], polyfit(A,vaclog[\"T-CERNOX\"]),marker=\".\", color=\"cyan\", markersize=5,label='Temperature')\n",
    "ax.set_ylabel('Temperature (K)')\n",
    "ax.set_xlabel('Timestamp')\n",
    "ax.xaxis.set_major_formatter(md.DateFormatter('%H:%M'))\n",
    "ax.xaxis.set_major_locator(plt.MaxNLocator(10))\n",
    "for label in ax.get_xticklabels(which='major'):\n",
    "    label.set(rotation=30, horizontalalignment='right')    \n",
    "       \n",
    "#comments\n",
    "trans  = transforms.blended_transform_factory(\n",
    "    ax.transData, ax.transAxes)\n",
    "for i in vaclog_comm.index:\n",
    "    plt.text(vaclog_comm[\"Time\"][i],0.8,str(vaclog_comm[\"Live comments\"][i]),fontdict=font, transform=trans)\n",
    "    \n",
    "\n",
    "\n",
    "ax2=ax.twinx()\n",
    "\n",
    "l1 = ax2.plot((vaclog[\"Time\"]),vaclog['Barion_1']/0.46,marker=\".\", markersize=5,label='BA1')\n",
    "l2 = ax2.plot((vaclog[\"Time\"]),vaclog['Barion_2']/0.46,marker=\".\", markersize=5,label='BA2')\n",
    "l3 = ax2.plot((vaclog[\"Time\"]),vaclog['DUAL experiment'],marker=\".\", markersize=5,label='DUAL')\n",
    "l4 = ax2.plot((vaclog[\"Time\"]),vaclog['1mbar inj'],marker=\".\", markersize=5,label='1mbar inj')\n",
    "\n",
    "ax2.set_ylabel('Pressure (mbar)')\n",
    "\n",
    "ax2.legend(handles = l1+l2+l3+l4+l5, loc=\"upper left\")\n",
    "plt.title(\"S1 ads. isotherm on Cu Sample: Pressure evolution + temperatures. AS read from file\")\n",
    "ax2.set_yscale('log')\n",
    "ax2.tick_params(axis=\"y\", which='minor')\n",
    "ax2.grid(which='minor', axis='y')\n",
    "plt.savefig(r'./graphs/Barions.png')\n",
    "plt.show()\n",
    "\n",
    "\n",
    "\"\"\" #Plotting BA2, BA1 pressure\n",
    "plt.figure(figsize=(12,6))\n",
    "plt.plot(vaclog[\"Time\"],vaclog[\"Barion_2\"],marker=\".\", markersize=4,label='Barion 2')\n",
    "plt.plot(vaclog[\"Time\"],vaclog[\"Barion_1\"],marker=\".\", markersize=4,label='Barion 1')\n",
    "plt.xlabel('Timestamp')\n",
    "plt.ylabel('Pressure (mbar)')\n",
    "plt.legend()\n",
    "plt.title(\"S1 Total pressure evolution\")\n",
    "plt.tick_params(axis=\"y\", which='minor')\n",
    "plt.grid(which='minor', axis='y')\n",
    "plt.yscale('log')\n",
    "\n",
    "ax.xaxis.set_major_formatter(md.DateFormatter('%H:%M'))\n",
    "ax.xaxis.set_major_locator(plt.MaxNLocator(10))\n",
    "for label in ax.get_xticklabels(which='major'):\n",
    "    label.set(rotation=30, horizontalalignment='right')    \n",
    "       \n",
    "plt.savefig(r'./graphs/Barions.png')\n",
    "plt.show() \"\"\""
   ]
  },
  {
   "cell_type": "code",
   "execution_count": 74,
   "metadata": {},
   "outputs": [
    {
     "data": {
      "text/plain": [
       "' #checking inj pressure linearity, graph\\nfig, ax = plt.subplots()\\ny_fit = func(x,a,b)\\nax.plot((inj[\"Elapsed time\"]/3600),inj[\"injection 100mbar\"],marker=\".\", markersize=5,label=\\'inj volume pressure\\')\\nax.plot((inj[\"Elapsed time\"]/3600),y_fit, \"--\",color=\"red\", label=\"Y= -ax + b fit\") \\nax.legend(loc=\"upper right\")\\n\\nax.set_xlabel(\\'Elapsed time (h)\\')\\nax.set_ylabel(\\'Pressure (mbar)\\')\\nax.set_yscale(\\'linear\\')\\nplt.title(\"Injection pressure evolution 100mbar conductance gauge\") '"
      ]
     },
     "execution_count": 74,
     "metadata": {},
     "output_type": "execute_result"
    }
   ],
   "source": [
    "\"\"\" #checking inj pressure linearity, graph\n",
    "fig, ax = plt.subplots()\n",
    "y_fit = func(x,a,b)\n",
    "ax.plot((inj[\"Elapsed time\"]/3600),inj[\"injection 100mbar\"],marker=\".\", markersize=5,label='inj volume pressure')\n",
    "ax.plot((inj[\"Elapsed time\"]/3600),y_fit, \"--\",color=\"red\", label=\"Y= -ax + b fit\") \n",
    "ax.legend(loc=\"upper right\")\n",
    "\n",
    "ax.set_xlabel('Elapsed time (h)')\n",
    "ax.set_ylabel('Pressure (mbar)')\n",
    "ax.set_yscale('linear')\n",
    "plt.title(\"Injection pressure evolution 100mbar conductance gauge\") \"\"\""
   ]
  }
 ],
 "metadata": {
  "kernelspec": {
   "display_name": "base",
   "language": "python",
   "name": "python3"
  },
  "language_info": {
   "codemirror_mode": {
    "name": "ipython",
    "version": 3
   },
   "file_extension": ".py",
   "mimetype": "text/x-python",
   "name": "python",
   "nbconvert_exporter": "python",
   "pygments_lexer": "ipython3",
   "version": "3.9.12"
  },
  "orig_nbformat": 4
 },
 "nbformat": 4,
 "nbformat_minor": 2
}
