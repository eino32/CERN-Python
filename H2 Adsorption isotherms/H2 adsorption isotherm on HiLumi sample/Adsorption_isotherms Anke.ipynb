{
 "cells": [
  {
   "cell_type": "markdown",
   "metadata": {},
   "source": [
    "# Hydrogen isotherms\n",
    "\n",
    "Relative coverage $\\Theta=\\frac{S}{S_m}$, with $S$ the surface coverage and $S_m$ the maximum monolayer capacity (parameter of a given surface and material), depends only on the temperature and the surface coverage $S$.\n",
    "\n",
    "## Dubinin-Radushkevich-Kaganer (DRK) Model\n",
    "\n",
    "Model describing the physisorption isotherms for low temperatures in the submonolayer region:\n",
    "\n",
    "$\\ln\\Theta=-D\\left(k_BT\\ln\\left(\\frac{P}{P_0}\\right)\\right)^2=-B\\left(R\\,T\\ln\\left(\\frac{P}{P_0}\\right)\\right)^2$, \n",
    "\n",
    "with $k_B$ the Boltzmann constant, $R$ the gas constant, $D$ or $B$ an empirical constant linked to the vaporisation heat of the adsorbate (DR energy)  and $P_0$ the saturated vapor pressure at the temperature $T$.\n",
    "\n",
    "## Plotting for different fits\n",
    "### Hobson, 1995\n",
    "Hobson took $B$ to be $B=3.59\\cdot 10^{-6}\\,\\mathrm{cal^{-2}mol^{2}}$ following Halama and Aggus (https://doi.org/10.1116/1.568583 , 1975). \n",
    "### Chill, Wilfert and Bozyk, 2019\n",
    "Chill, Wilfert and Bozyk measured isotherms between 7 and 18 K on stainless steel and found by fitting $D=3075\\,\\mathrm{eV}^{-2}$."
   ]
  },
  {
   "cell_type": "code",
   "execution_count": 1,
   "metadata": {},
   "outputs": [],
   "source": [
    "from scipy import constants\n",
    "import matplotlib.pyplot as plt\n",
    "import numpy as np\n",
    "import seaborn\n",
    "import pandas as pd\n",
    "seaborn.set(style='whitegrid')\n",
    "seaborn.set_context('paper')\n",
    "from scipy.optimize import curve_fit\n",
    "# %matplotlib qt\n",
    "%matplotlib inline"
   ]
  },
  {
   "cell_type": "markdown",
   "metadata": {},
   "source": [
    "# Data point from BASE\n",
    "### Important to bear in mind: BASE never lost a single antiproton to the interaction with residual gas. That means the pressure is only an upper limit and cannot be bounded from below! The error on the coverage on the other hand can be reduced.\n",
    "\n",
    "## 1. Given\n",
    "### 1.1 Geometry\n",
    "* Surfaces:\n",
    "    * OFHC (Oxygen-free high conductivity copper): $0.080\\,\\mathrm{m}^2$\n",
    "    * Sapphire: $0.012\\,\\mathrm{m}^2$\n",
    "    * Gold-plated OFHC: $0.009\\,\\mathrm{m}^2$"
   ]
  },
  {
   "cell_type": "code",
   "execution_count": 2,
   "metadata": {},
   "outputs": [
    {
     "data": {
      "text/plain": [
       "0.10099999999999999"
      ]
     },
     "execution_count": 2,
     "metadata": {},
     "output_type": "execute_result"
    }
   ],
   "source": [
    "a_ofhc=0.08\n",
    "a_sapphire=0.012\n",
    "a_au_ofhc=0.009\n",
    "a_total=a_au_ofhc+a_ofhc+a_sapphire\n",
    "a_total # m^2"
   ]
  },
  {
   "cell_type": "markdown",
   "metadata": {},
   "source": [
    "* volume: main pipe with radius $r=34.5\\,\\mathrm{mm}$ and length $l=231\\,\\mathrm{mm}$"
   ]
  },
  {
   "cell_type": "code",
   "execution_count": 3,
   "metadata": {},
   "outputs": [
    {
     "data": {
      "text/plain": [
       "0.0008637738315210432"
      ]
     },
     "execution_count": 3,
     "metadata": {},
     "output_type": "execute_result"
    }
   ],
   "source": [
    "r=34.5e-3\n",
    "l=231e-3\n",
    "v=r**2 * np.pi * l\n",
    "v # m^3"
   ]
  },
  {
   "cell_type": "markdown",
   "metadata": {},
   "source": [
    "### 1.2 Procedure\n"
   ]
  },
  {
   "cell_type": "code",
   "execution_count": 4,
   "metadata": {},
   "outputs": [],
   "source": [
    "n_before_pinchoff=0\n",
    "n_pinchoff=0\n",
    "time_pinchoffToCooldown=12*3600 # in seconds"
   ]
  },
  {
   "cell_type": "markdown",
   "metadata": {},
   "source": [
    "## 2. Outgassing\n",
    "In an unbaked system the outgassing is $H_2O, CO, N_2, ...$ dominant and so overshadow the $H_2$ outgassing. To get the hydrogen outgassing, values [1] measured at baked systems are taken as a first approximate ($TODO$: get better value for unbaked system):\n",
    "\n",
    "<img src=\"./outgassing_OFHC.jpeg\" width=\"400\">\n",
    "\n",
    "After bakeout at 250 degree Celcius the total outgassing rate should be equivalent to the hydrogen outgassing rate. \n",
    "So it is set to $q_{OFHC}=1.81\\cdot 10^{-12}\\,\\mathrm{Pa\\,m^3\\,s^{-1}\\,m^{-2}}=1.81\\cdot 10^{-15}\\,\\mathrm{mbar\\,l\\,s^{-1}\\,cm^{-2}}$\n",
    "\n",
    "No values yet found for sapphire and for the effects of gold-plating, so the whole area will be assumed to have the given $q_{OFHC}$.\n",
    "\n",
    "[1] Y. Koyatsu, H. Miki, F. Watanabe: Measurements of outgassing rate from copper and copper alloy chambers, Vacuum, 47 (6) (1996), pp. 709-711"
   ]
  },
  {
   "cell_type": "markdown",
   "metadata": {},
   "source": [
    "**New insights:** Copper has higher diffusion rate than e.g. stainless steel at room temperature. Baking has significant impact on the outgassing rate of hydrogen in copper. According to Paolo, the rate is more in the range of: \n",
    "$\\Rightarrow q_{H_2,\\text{unbaked}}\\approx 10^{-12}\\,\\mathrm{mbar\\,l\\,s^{-1}\\,cm^{-2}}$ "
   ]
  },
  {
   "cell_type": "code",
   "execution_count": 5,
   "metadata": {},
   "outputs": [
    {
     "data": {
      "text/plain": [
       "442897859257.8465"
      ]
     },
     "execution_count": 5,
     "metadata": {},
     "output_type": "execute_result"
    }
   ],
   "source": [
    "q=1.81e-9 # Pa m^3 s^-1 m^-2\n",
    "q_molecules=q/(constants.k*296) # at 296 Kelvin\n",
    "q_molecules"
   ]
  },
  {
   "cell_type": "markdown",
   "metadata": {},
   "source": [
    "## 3. Partial pressure at start of cooldown"
   ]
  },
  {
   "cell_type": "markdown",
   "metadata": {},
   "source": [
    "Number of hydrogen molecules in system at start of cooldown:"
   ]
  },
  {
   "cell_type": "code",
   "execution_count": 6,
   "metadata": {},
   "outputs": [
    {
     "data": {
      "text/plain": [
       "1932451939513835.8"
      ]
     },
     "execution_count": 6,
     "metadata": {},
     "output_type": "execute_result"
    }
   ],
   "source": [
    "n=n_before_pinchoff+n_pinchoff+q_molecules*a_total*time_pinchoffToCooldown\n",
    "n"
   ]
  },
  {
   "cell_type": "markdown",
   "metadata": {},
   "source": [
    "Hydrogen partial pressure at start of cooldown:"
   ]
  },
  {
   "cell_type": "code",
   "execution_count": 7,
   "metadata": {},
   "outputs": [
    {
     "name": "stdout",
     "output_type": "stream",
     "text": [
      "9.142893326709452e-05 mbar\n"
     ]
    }
   ],
   "source": [
    "p_warm=n*constants.k*296/v\n",
    "print(p_warm/100.,\"mbar\")"
   ]
  },
  {
   "cell_type": "markdown",
   "metadata": {},
   "source": [
    "## 4. Coverage estimate"
   ]
  },
  {
   "cell_type": "code",
   "execution_count": 47,
   "metadata": {},
   "outputs": [
    {
     "data": {
      "text/plain": [
       "6.45e+18"
      ]
     },
     "execution_count": 47,
     "metadata": {},
     "output_type": "execute_result"
    }
   ],
   "source": [
    "p_0=4.25e-5 #pascal\n",
    "d=3075/constants.e**2 # J^-2\n",
    "s_m=6.45e14*1e4 # m^-2\n",
    "s_m"
   ]
  },
  {
   "cell_type": "markdown",
   "metadata": {},
   "source": [
    "Cold pressure was better than 1E-19 mbar"
   ]
  },
  {
   "cell_type": "code",
   "execution_count": 48,
   "metadata": {},
   "outputs": [
    {
     "data": {
      "text/plain": [
       "148.95924748175594"
      ]
     },
     "execution_count": 48,
     "metadata": {},
     "output_type": "execute_result"
    }
   ],
   "source": [
    "p_cold=1e-17 #pascal\n",
    "n_cold=p_cold*v/(constants.k*4.2)\n",
    "n_cold"
   ]
  },
  {
   "cell_type": "code",
   "execution_count": 49,
   "metadata": {
    "scrolled": true
   },
   "outputs": [
    {
     "name": "stdout",
     "output_type": "stream",
     "text": [
      "Total number of adsorbed molecules:  1.93245E+15\n",
      "Surface coverage:  1.91332E+16 molecules per m^-2\n",
      "Relative surface coverage:  0.002966385662005813 << 1\n"
     ]
    }
   ],
   "source": [
    "n_adsorbed=n-n_cold\n",
    "print(\"Total number of adsorbed molecules: \", '{:.5E}'.format(n_adsorbed))\n",
    "s=n_adsorbed/a_total\n",
    "print(\"Surface coverage: \", '{:.5E}'.format(s), \"molecules per m^-2\")\n",
    "theta=s/s_m\n",
    "print(\"Relative surface coverage: \", theta, \"<< 1\")"
   ]
  },
  {
   "cell_type": "markdown",
   "metadata": {},
   "source": [
    "## 5. Surface coverage according to DRK model with fit parameters $D$ and $S_m$"
   ]
  },
  {
   "cell_type": "code",
   "execution_count": 50,
   "metadata": {},
   "outputs": [
    {
     "data": {
      "text/plain": [
       "0.7113589474051248"
      ]
     },
     "execution_count": 50,
     "metadata": {},
     "output_type": "execute_result"
    }
   ],
   "source": [
    "theta_DRK=np.exp(-d*(constants.k*4.2*np.log(p_cold/p_0))**2)\n",
    "theta_DRK"
   ]
  },
  {
   "cell_type": "code",
   "execution_count": 51,
   "metadata": {},
   "outputs": [
    {
     "data": {
      "text/plain": [
       "0.8096746277791553"
      ]
     },
     "execution_count": 51,
     "metadata": {},
     "output_type": "execute_result"
    }
   ],
   "source": [
    "b_hobson=1./528**2\n",
    "gas_constant=1.9865\n",
    "theta_hobson=np.exp(-b_hobson*(gas_constant*4.2*np.log(p_cold/p_0))**2)\n",
    "theta_hobson"
   ]
  },
  {
   "cell_type": "code",
   "execution_count": 52,
   "metadata": {
    "scrolled": false
   },
   "outputs": [
    {
     "data": {
      "text/plain": [
       "7.425791112504262e+40"
      ]
     },
     "execution_count": 52,
     "metadata": {},
     "output_type": "execute_result"
    }
   ],
   "source": [
    "b_hobson*(gas_constant/constants.k)**2"
   ]
  },
  {
   "cell_type": "code",
   "execution_count": 53,
   "metadata": {},
   "outputs": [
    {
     "data": {
      "text/plain": [
       "1.1979103924422136e+41"
      ]
     },
     "execution_count": 53,
     "metadata": {},
     "output_type": "execute_result"
    }
   ],
   "source": [
    "d"
   ]
  },
  {
   "cell_type": "code",
   "execution_count": 54,
   "metadata": {
    "scrolled": true
   },
   "outputs": [],
   "source": [
    "pressure_plot=np.logspace(-20,-5,40)\n",
    "theta_4=np.exp(-b_hobson*(gas_constant*4.2*np.log(pressure_plot/p_0))**2)\n",
    "theta_6=np.exp(-b_hobson*(gas_constant*6*np.log(pressure_plot/0.12369))**2)\n",
    "theta_10=np.exp(-b_hobson*(gas_constant*10*np.log(pressure_plot/254.03))**2)\n",
    "plt.loglog(pressure_plot, theta_4, '-', label='4.2 K')\n",
    "plt.loglog(pressure_plot, theta_6, '-', label='6 K')\n",
    "plt.loglog(pressure_plot, theta_10, '-', label='10 K')\n",
    "plt.xlabel('Pressure in Pascal')\n",
    "plt.ylabel('Relative surface coverage')\n",
    "plt.title('Hobson theoretical adsorption isotherms\\n with fit parameter B taken from Halama and  Aggus (1975) \\n https://doi.org/10.1116/1.568583')\n",
    "plt.legend();"
   ]
  },
  {
   "cell_type": "code",
   "execution_count": 55,
   "metadata": {
    "scrolled": false
   },
   "outputs": [
    {
     "ename": "TypeError",
     "evalue": "'float' object is not callable",
     "output_type": "error",
     "traceback": [
      "\u001b[1;31m---------------------------------------------------------------------------\u001b[0m",
      "\u001b[1;31mTypeError\u001b[0m                                 Traceback (most recent call last)",
      "\u001b[1;32m~\\AppData\\Local\\Temp/ipykernel_15520/354982953.py\u001b[0m in \u001b[0;36m<module>\u001b[1;34m\u001b[0m\n\u001b[0;32m     12\u001b[0m \u001b[0mplt\u001b[0m\u001b[1;33m.\u001b[0m\u001b[0mloglog\u001b[0m\u001b[1;33m(\u001b[0m\u001b[0mpressure_plot\u001b[0m\u001b[1;33m,\u001b[0m \u001b[0mtheta_10_2\u001b[0m\u001b[1;33m,\u001b[0m \u001b[1;34m'-'\u001b[0m\u001b[1;33m,\u001b[0m\u001b[0mcolor\u001b[0m\u001b[1;33m=\u001b[0m\u001b[1;34m'darkseagreen'\u001b[0m\u001b[1;33m,\u001b[0m \u001b[0mlabel\u001b[0m\u001b[1;33m=\u001b[0m\u001b[1;34m'10 K, Chill, Wilfert and Bozyk'\u001b[0m\u001b[1;33m)\u001b[0m\u001b[1;33m\u001b[0m\u001b[1;33m\u001b[0m\u001b[0m\n\u001b[0;32m     13\u001b[0m \u001b[1;33m\u001b[0m\u001b[0m\n\u001b[1;32m---> 14\u001b[1;33m \u001b[0mplt\u001b[0m\u001b[1;33m.\u001b[0m\u001b[0mloglog\u001b[0m\u001b[1;33m(\u001b[0m\u001b[0mpressure_plot\u001b[0m\u001b[1;33m,\u001b[0m \u001b[0mtheta\u001b[0m\u001b[1;33m(\u001b[0m\u001b[1;36m4.2\u001b[0m\u001b[1;33m,\u001b[0m\u001b[0mpressure_plot\u001b[0m\u001b[1;33m*\u001b[0m\u001b[1;36m100\u001b[0m\u001b[1;33m)\u001b[0m\u001b[1;33m,\u001b[0m \u001b[0mcolor\u001b[0m\u001b[1;33m=\u001b[0m\u001b[1;34m'purple'\u001b[0m\u001b[1;33m,\u001b[0m \u001b[0mlabel\u001b[0m\u001b[1;33m=\u001b[0m\u001b[1;34m'my function'\u001b[0m\u001b[1;33m)\u001b[0m\u001b[1;33m\u001b[0m\u001b[1;33m\u001b[0m\u001b[0m\n\u001b[0m\u001b[0;32m     15\u001b[0m \u001b[1;33m\u001b[0m\u001b[0m\n\u001b[0;32m     16\u001b[0m \u001b[0mplt\u001b[0m\u001b[1;33m.\u001b[0m\u001b[0mxlabel\u001b[0m\u001b[1;33m(\u001b[0m\u001b[1;34m'Pressure in Pascal'\u001b[0m\u001b[1;33m)\u001b[0m\u001b[1;33m\u001b[0m\u001b[1;33m\u001b[0m\u001b[0m\n",
      "\u001b[1;31mTypeError\u001b[0m: 'float' object is not callable"
     ]
    }
   ],
   "source": [
    "plt.figure(figsize=(8,6))\n",
    "pressure_plot=np.logspace(-20,-5,40)\n",
    "theta_4_2=np.exp(-d*(constants.k*4.2*np.log(pressure_plot/p_0))**2)\n",
    "theta_6_2=np.exp(-d*(constants.k*6*np.log(pressure_plot/0.12369))**2)\n",
    "theta_10_2=np.exp(-d*(constants.k*10*np.log(pressure_plot/254.03))**2)\n",
    "\n",
    "plt.loglog(pressure_plot, theta_4, '-',color='royalblue', label='4.2 K, Hobson')\n",
    "plt.loglog(pressure_plot, theta_4_2, '-', color='lightskyblue', label='4.2 K, Chill, Wilfert and Bozyk')\n",
    "plt.loglog(pressure_plot, theta_6, '-',color='darkred', label='6 K, Hobson')\n",
    "plt.loglog(pressure_plot, theta_6_2, '-', color='indianred', label='6 K, Chill, Wilfert and Bozyk')\n",
    "plt.loglog(pressure_plot, theta_10, '-',color='green', label='10 K, Hobson')\n",
    "plt.loglog(pressure_plot, theta_10_2, '-',color='darkseagreen', label='10 K, Chill, Wilfert and Bozyk')\n",
    "\n",
    "plt.loglog(pressure_plot, theta(4.2,pressure_plot*100), color='purple', label='my function')\n",
    "\n",
    "plt.xlabel('Pressure in Pascal')\n",
    "plt.ylabel('Relative surface coverage')\n",
    "plt.title(r'Theoretical hydrogen adsoption isotherms')\n",
    "plt.legend();"
   ]
  },
  {
   "cell_type": "code",
   "execution_count": null,
   "metadata": {},
   "outputs": [],
   "source": [
    "plt.figure(figsize=(8,6))\n",
    "pressure_plot=np.logspace(-20,-5,40)\n",
    "theta_4_2=np.exp(-d*(constants.k*4.2*np.log(pressure_plot/p_0))**2)\n",
    "theta_6_2=np.exp(-d*(constants.k*6*np.log(pressure_plot/0.12369))**2)\n",
    "theta_10_2=np.exp(-d*(constants.k*10*np.log(pressure_plot/254.03))**2)\n",
    "\n",
    "plt.loglog(theta_4, pressure_plot/100., '-',color='royalblue', label='4.2 K, Hobson')\n",
    "plt.loglog(theta_4_2, pressure_plot/100., '-', color='lightskyblue', label='4.2 K, Chill, Wilfert and Bozyk')\n",
    "plt.loglog(theta_6,  pressure_plot/100.,'-',color='darkred', label='6 K, Hobson')\n",
    "plt.loglog(theta_6_2, pressure_plot/100., '-', color='indianred', label='6 K, Chill, Wilfert and Bozyk')\n",
    "plt.loglog(theta_10,  pressure_plot/100.,'-',color='green', label='10 K, Hobson')\n",
    "plt.loglog(theta_10_2,  pressure_plot/100.,'-',color='darkseagreen', label='10 K, Chill, Wilfert and Bozyk')\n",
    "\n",
    "plt.loglog(theta(4.2,pressure_plot*100), pressure(4.2,theta(4.2,pressure_plot*100)) , color='purple', label='my function')\n",
    "\n",
    "\n",
    "plt.ylabel('Pressure in mbar')\n",
    "plt.xlabel('Relative surface coverage')\n",
    "plt.title(r'Theoretical hydrogen adsoption isotherms')\n",
    "plt.legend();"
   ]
  },
  {
   "cell_type": "code",
   "execution_count": 56,
   "metadata": {},
   "outputs": [],
   "source": [
    "plt.figure(figsize=(8,6))\n",
    "plt.loglog(pressure_plot/100., theta_4, '-',color='royalblue', label='4.2 K, Hobson')\n",
    "plt.loglog(pressure_plot/100., theta_4_2, '-', color='lightskyblue', label='4.2 K, Chill, Wilfert and Bozyk')\n",
    "plt.xlabel('Pressure in mbar')\n",
    "plt.ylabel('Relative surface coverage')\n",
    "plt.title('4.2K only')\n",
    "plt.grid(axis='y', which='both')\n",
    "plt.legend();"
   ]
  },
  {
   "cell_type": "code",
   "execution_count": 57,
   "metadata": {},
   "outputs": [],
   "source": [
    "plt.figure(figsize=(8,6))\n",
    "plt.loglog(theta_4,pressure_plot/100., '-',color='royalblue', label='4.2 K, Hobson')\n",
    "plt.loglog(theta_4_2, pressure_plot/100., '-', color='lightskyblue', label='4.2 K, Chill, Wilfert and Bozyk')\n",
    "plt.ylabel('Pressure in mbar')\n",
    "plt.xlabel('Relative surface coverage')\n",
    "plt.title('4.2K only')\n",
    "plt.grid(axis='x', which='both')\n",
    "plt.legend();"
   ]
  },
  {
   "cell_type": "markdown",
   "metadata": {},
   "source": [
    "## 6. Outgassing (or surface area) backwards estimation"
   ]
  },
  {
   "cell_type": "code",
   "execution_count": 58,
   "metadata": {},
   "outputs": [
    {
     "name": "stdout",
     "output_type": "stream",
     "text": [
      "Total number of adsorbed molecules (Hobson):  5.27463E+17\n",
      "Total number of adsorbed molecules (Chill et al):  4.63415E+17\n"
     ]
    }
   ],
   "source": [
    "theta_chill=np.exp(-d*(constants.k*4.2*np.log(p_cold/p_0))**2)\n",
    "theta_hobson=np.exp(-b_hobson*(gas_constant*4.2*np.log(p_cold/p_0))**2)\n",
    "n_adsorbed_chill=theta_chill*s_m*a_total\n",
    "n_adsorbed_hobson=theta_hobson*s_m*a_total\n",
    "print(\"Total number of adsorbed molecules (Hobson): \", '{:.5E}'.format(n_adsorbed_hobson))\n",
    "print(\"Total number of adsorbed molecules (Chill et al): \", '{:.5E}'.format(n_adsorbed_chill))"
   ]
  },
  {
   "cell_type": "markdown",
   "metadata": {},
   "source": [
    "No adsorption before cooldown, all adsorbed molecules are free in the volume:"
   ]
  },
  {
   "cell_type": "code",
   "execution_count": 59,
   "metadata": {},
   "outputs": [],
   "source": [
    "p_warm_hobson=n_adsorbed_hobson*constants.k*293.15/v"
   ]
  },
  {
   "cell_type": "code",
   "execution_count": 60,
   "metadata": {},
   "outputs": [
    {
     "data": {
      "text/plain": [
       "0.024715235737710933"
      ]
     },
     "execution_count": 60,
     "metadata": {},
     "output_type": "execute_result"
    }
   ],
   "source": [
    "p_warm_hobson/100"
   ]
  },
  {
   "cell_type": "markdown",
   "metadata": {},
   "source": [
    "## Fleur's measurments"
   ]
  },
  {
   "cell_type": "code",
   "execution_count": 61,
   "metadata": {},
   "outputs": [],
   "source": [
    "data=pd.read_csv('./fleurs_measurements.csv')"
   ]
  },
  {
   "cell_type": "code",
   "execution_count": 62,
   "metadata": {},
   "outputs": [],
   "source": [
    "plt.figure(figsize=(8,6))\n",
    "plt.loglog(data['Coverage (molecules/cm^2).1']/(3e15), data['Pressure (mbar).1']*100, '.--', label='Fleur\\'s data 1')\n",
    "plt.loglog(data['Coverage (molecules/cm^2).2']/(3e15), data['Pressure Barion gauge (mbar)']*100, '.--', label='Fleur\\'s data Barion')\n",
    "plt.loglog(data['Coverage (molecules/cm^2).2']/(3e15), data['Pressure RGA (mbar)']*100, '.--', label='Fleur\\'s data RGA')\n",
    "plt.loglog(theta_4,pressure_plot, '-',color='royalblue', label='4.2 K, Hobson')\n",
    "plt.loglog(theta_4_2, pressure_plot, '-', color='lightskyblue', label='4.2 K, Chill, Wilfert and Bozyk')\n",
    "plt.ylabel('Pressure in Pascal')\n",
    "plt.xlabel('Relative surface coverage')\n",
    "plt.title('4.2K only')\n",
    "plt.grid(axis='x', which='both')\n",
    "plt.legend();"
   ]
  },
  {
   "cell_type": "code",
   "execution_count": 63,
   "metadata": {},
   "outputs": [],
   "source": [
    "plt.figure(figsize=(8,6))\n",
    "plt.loglog(data['Coverage (molecules/cm^2).1']/(3e15), data['Pressure (mbar).1'], '.--', label='Fleur\\'s data 1')\n",
    "plt.loglog(data['Coverage (molecules/cm^2).2']/(3e15), data['Pressure Barion gauge (mbar)'], '.--', label='Fleur\\'s data Barion')\n",
    "plt.loglog(data['Coverage (molecules/cm^2).2']/(3e15), data['Pressure RGA (mbar)'], '.--', label='Fleur\\'s data RGA')\n",
    "plt.loglog(theta,p_cold*1e-2, 'D', label='Estimated data point from BASE')\n",
    "plt.ylabel('Pressure in mbar')\n",
    "plt.xlabel(r'Relative surface coverage')\n",
    "plt.title('4.2K')\n",
    "plt.grid(axis='both', which='minor')\n",
    "plt.legend();"
   ]
  },
  {
   "cell_type": "markdown",
   "metadata": {},
   "source": [
    "## Wallen's data"
   ]
  },
  {
   "cell_type": "code",
   "execution_count": 64,
   "metadata": {},
   "outputs": [
    {
     "data": {
      "text/plain": [
       "4.25e-07"
      ]
     },
     "execution_count": 64,
     "metadata": {},
     "output_type": "execute_result"
    }
   ],
   "source": [
    "T=4.2 #Kelvin\n",
    "p_0_mbar=p_0/100\n",
    "p_0_mbar"
   ]
  },
  {
   "cell_type": "code",
   "execution_count": 65,
   "metadata": {},
   "outputs": [],
   "source": [
    "data_wallen=pd.read_csv('./Wallen.csv', delimiter='\\t')\n",
    "offset_mbar=data_wallen['Pressure [mbar]'][23]-p_0_mbar"
   ]
  },
  {
   "cell_type": "markdown",
   "metadata": {},
   "source": [
    "### Fitting DRK model"
   ]
  },
  {
   "cell_type": "code",
   "execution_count": 66,
   "metadata": {},
   "outputs": [],
   "source": [
    "def drk(theta, dr_energy,t):\n",
    "    return p_0_mbar*np.exp(np.sqrt(-np.log(theta))/(-constants.k*T*np.sqrt(dr_energy))+t*1E30)"
   ]
  },
  {
   "cell_type": "code",
   "execution_count": 67,
   "metadata": {},
   "outputs": [],
   "source": [
    "def lin(x,m,t):\n",
    "    return m*x+t"
   ]
  },
  {
   "cell_type": "code",
   "execution_count": 68,
   "metadata": {},
   "outputs": [],
   "source": [
    "thetas=np.logspace(-7,0,100)"
   ]
  },
  {
   "cell_type": "code",
   "execution_count": 69,
   "metadata": {},
   "outputs": [],
   "source": [
    "x10=np.sqrt(-np.log(data_wallen['Relative surface coverage'][0:10]))\n",
    "y10=1E30*constants.k*T*np.log(data_wallen['Pressure [mbar]'][0:10]/p_0_mbar)\n",
    "popt_10,pcov_10=curve_fit(lin,x10,y10)\n",
    "fit_p10=p_0_mbar*np.exp((popt_10[0]*np.sqrt(-np.log(thetas))+popt_10[1])/(constants.k*T*1E30))\n",
    "fit_p10_upper=p_0_mbar*np.exp(((popt_10[0]+np.sqrt(pcov_10[0,0]))*np.sqrt(-np.log(thetas))+popt_10[1])/(constants.k*T*1E30))\n",
    "fit_p10_lower=p_0_mbar*np.exp(((popt_10[0]-np.sqrt(pcov_10[0,0]))*np.sqrt(-np.log(thetas))+popt_10[1])/(constants.k*T*1E30))\n"
   ]
  },
  {
   "cell_type": "code",
   "execution_count": 70,
   "metadata": {},
   "outputs": [],
   "source": [
    "x9=np.sqrt(-np.log(data_wallen['Relative surface coverage'][0:9]))\n",
    "y9=1E30*constants.k*T*np.log(data_wallen['Pressure [mbar]'][0:9]/p_0_mbar)\n",
    "popt_9,pcov_9=curve_fit(lin,x9,y9)\n",
    "fit_p9=p_0_mbar*np.exp((popt_9[0]*np.sqrt(-np.log(thetas))+popt_9[1])/(constants.k*T*1E30))"
   ]
  },
  {
   "cell_type": "code",
   "execution_count": 71,
   "metadata": {},
   "outputs": [],
   "source": [
    "x8=np.sqrt(-np.log(data_wallen['Relative surface coverage'][0:8]))\n",
    "y8=1E30*constants.k*T*np.log(data_wallen['Pressure [mbar]'][0:8]/p_0_mbar)\n",
    "popt_8,pcov_8=curve_fit(lin,x8,y8)\n",
    "fit_p8=p_0_mbar*np.exp((popt_8[0]*np.sqrt(-np.log(thetas))+popt_8[1])/(constants.k*T*1E30))"
   ]
  },
  {
   "cell_type": "code",
   "execution_count": 72,
   "metadata": {},
   "outputs": [],
   "source": [
    "x7=np.sqrt(-np.log(data_wallen['Relative surface coverage'][0:7]))\n",
    "y7=1E30*constants.k*T*np.log(data_wallen['Pressure [mbar]'][0:7]/p_0_mbar)\n",
    "popt_7,pcov_7=curve_fit(lin,x7,y7)\n",
    "fit_p7=p_0_mbar*np.exp((popt_7[0]*np.sqrt(-np.log(thetas))+popt_7[1])/(constants.k*T*1E30))\n",
    "fit_p7_upper=p_0_mbar*np.exp(((popt_7[0]+np.sqrt(pcov_7[0,0]))*np.sqrt(-np.log(thetas))+popt_7[1])/(constants.k*T*1E30))\n",
    "fit_p7_lower=p_0_mbar*np.exp(((popt_7[0]-np.sqrt(pcov_7[0,0]))*np.sqrt(-np.log(thetas))+popt_7[1])/(constants.k*T*1E30))"
   ]
  },
  {
   "cell_type": "code",
   "execution_count": 73,
   "metadata": {},
   "outputs": [],
   "source": [
    "x4to9=np.sqrt(-np.log(data_wallen['Relative surface coverage'][4:10]))\n",
    "y4to9=1E30*constants.k*T*np.log(data_wallen['Pressure [mbar]'][4:10]/p_0_mbar)\n",
    "popt_4to9,pcov_4to9=curve_fit(lin,x4to9,y4to9)\n",
    "fit_p4to9=p_0_mbar*np.exp((popt_4to9[0]*np.sqrt(-np.log(thetas))+popt_4to9[1])/(constants.k*T*1E30))"
   ]
  },
  {
   "cell_type": "code",
   "execution_count": 74,
   "metadata": {},
   "outputs": [],
   "source": [
    "x4to8=np.sqrt(-np.log(data_wallen['Relative surface coverage'][4:9]))\n",
    "y4to8=1E30*constants.k*T*np.log(data_wallen['Pressure [mbar]'][4:9]/p_0_mbar)\n",
    "popt_4to8,pcov_4to8=curve_fit(lin,x4to8,y4to8)\n",
    "fit_p4to8=p_0_mbar*np.exp((popt_4to8[0]*np.sqrt(-np.log(thetas))+popt_4to8[1])/(constants.k*T*1E30))"
   ]
  },
  {
   "cell_type": "code",
   "execution_count": 75,
   "metadata": {},
   "outputs": [],
   "source": [
    "x4to7=np.sqrt(-np.log(data_wallen['Relative surface coverage'][4:8]))\n",
    "y4to7=1E30*constants.k*T*np.log(data_wallen['Pressure [mbar]'][4:8]/p_0_mbar)\n",
    "popt_4to7,pcov_4to7=curve_fit(lin,x4to7,y4to7)\n",
    "fit_p4to7=p_0_mbar*np.exp((popt_4to7[0]*np.sqrt(-np.log(thetas))+popt_4to7[1])/(constants.k*T*1E30))\n",
    "fit_p4to7_upper=p_0_mbar*np.exp(((popt_4to7[0]+np.sqrt(pcov_4to7[0,0]))*np.sqrt(-np.log(thetas))+popt_4to7[1])/(constants.k*T*1E30))\n",
    "fit_p4to7_lower=p_0_mbar*np.exp(((popt_4to7[0]-np.sqrt(pcov_4to7[0,0]))*np.sqrt(-np.log(thetas))+popt_4to7[1])/(constants.k*T*1E30))                                "
   ]
  },
  {
   "cell_type": "code",
   "execution_count": 81,
   "metadata": {},
   "outputs": [],
   "source": [
    "plt.figure(figsize=(8,6))\n",
    "\n",
    "plt.loglog(thetas,fit_p10,'--', label='Fit with 10 data points')\n",
    "plt.loglog(thetas,fit_p9,'--', label='Fit with 9 data points')\n",
    "# plt.loglog(thetas,fit_p8,'--', label='Fit with 8 data points')\n",
    "plt.loglog(thetas,fit_p7,'--', label='Fit with 7 data points')\n",
    "plt.loglog(thetas,fit_p4to9,'--', label='Fit with data points 4 to 9')\n",
    "# plt.loglog(thetas,fit_p4to8,'--', label='Fit with data points 4 to 8')\n",
    "plt.loglog(thetas,fit_p4to7,'--', label='Fit with data points 4 to 7')\n",
    "\n",
    "\n",
    "plt.plot(data_wallen['Relative surface coverage'][4:],data_wallen['Pressure [mbar]'][4:], 'r.-', label='Wallen\\'s data on Cu plated stainless steel')\n",
    "plt.loglog(data_wallen['Relative surface coverage'][:4],data_wallen['Pressure [mbar]'][:4], 'r*', label='Wallen\\'s data less than 10% over background pressure')\n",
    "\n",
    "plt.loglog(theta,p_cold*1e-2, 'D',color='purple', label='Estimated data point from BASE')\n",
    "\n",
    "plt.ylabel('Pressure in mbar')\n",
    "plt.xlabel(r'Relative surface coverage')\n",
    "plt.title('Hydrogen on copper at 4.2K')\n",
    "plt.grid(axis='both', which='minor')\n",
    "plt.legend();"
   ]
  },
  {
   "cell_type": "code",
   "execution_count": 77,
   "metadata": {},
   "outputs": [],
   "source": [
    "plt.figure(figsize=(8,6))\n",
    "thetas=np.logspace(-7,0,100)\n",
    "\n",
    "plt.loglog(thetas,fit_p10,'--', label='Fit with 10 data points')\n",
    "# plt.loglog(thetas,fit_p10_upper,'-', label='Fit with 10 data points upper')\n",
    "# plt.loglog(thetas,fit_p10_lower,'-', label='Fit with 10 data points lower')\n",
    "\n",
    "plt.loglog(thetas,fit_p9,'--', label='Fit with 9 data points')\n",
    "plt.loglog(thetas,fit_p8,'--', label='Fit with 8 data points')\n",
    "plt.loglog(thetas,fit_p7,'--', label='Fit with 7 data points')\n",
    "# plt.loglog(thetas,fit_p7_upper,'--', label='Fit with 7 data points upper')\n",
    "# plt.loglog(thetas,fit_p7_lower,'--', label='Fit with 7 data points lower')\n",
    "plt.loglog(thetas,fit_p4to9,'-', label='Fit with data points 4 to 9')\n",
    "plt.loglog(thetas,fit_p4to8,'-', label='Fit with data points 4 to 8')\n",
    "plt.loglog(thetas,fit_p4to7,'-', label='Fit with data points 4 to 7')\n",
    "# plt.loglog(thetas,fit_p4to7_upper,'-.', label='Fit with data points 4 to 7 upper')\n",
    "# plt.loglog(thetas,fit_p4to7_lower,'-.', label='Fit with data points 4 to 7 lower')\n",
    "\n",
    "\n",
    "plt.plot(data_wallen['Relative surface coverage'][4:],data_wallen['Pressure [mbar]'][4:], 'r.-', label='Wallen\\'s data on Cu plated stainless steel')\n",
    "plt.loglog(data_wallen['Relative surface coverage'][:4],data_wallen['Pressure [mbar]'][:4], 'r*', label='Wallen\\'s data less than 10% over background pressure')\n",
    "\n",
    "plt.loglog(theta,p_cold*1e-2, 'D',color='purple', label='Estimated data point from BASE')\n",
    "\n",
    "plt.ylabel('Pressure in mbar')\n",
    "plt.xlabel(r'Relative surface coverage')\n",
    "plt.title('Hydrogen on copper at 4.2K')\n",
    "plt.grid(axis='both', which='minor')\n",
    "plt.legend();"
   ]
  },
  {
   "cell_type": "code",
   "execution_count": 78,
   "metadata": {},
   "outputs": [
    {
     "data": {
      "text/plain": [
       "13623155.966969173"
      ]
     },
     "execution_count": 78,
     "metadata": {},
     "output_type": "execute_result"
    }
   ],
   "source": [
    "np.sqrt(pcov_10[0,0])"
   ]
  },
  {
   "cell_type": "markdown",
   "metadata": {},
   "source": [
    "## Comparison of all data and fits"
   ]
  },
  {
   "cell_type": "code",
   "execution_count": 79,
   "metadata": {},
   "outputs": [],
   "source": [
    "# %matplotlib qt\n",
    "plt.figure(figsize=(8,6))\n",
    "plt.rcParams.update(plt.rcParamsDefault)\n",
    "\n",
    "pressure_plot2=np.logspace(-21,-9,40)\n",
    "theta_hobson=np.exp(-b_hobson*(gas_constant*4.2*np.log(pressure_plot2/(p_0*1e-2)))**2)\n",
    "theta_wilfert=np.exp(-d*(constants.k*4.2*np.log(pressure_plot2/(p_0*1e-2)))**2)\n",
    "\n",
    "# plt.loglog(data['Coverage (molecules/cm^2).1']/(3e15), data['Pressure (mbar).1'], '.--' )\n",
    "#plt.errorbar(data['Coverage (molecules/cm^2).1']/(3e15), data['Pressure (mbar).1'],xerr=data['Coverage (molecules/cm^2).1']/(3e15)*0.20, yerr= data['Pressure (mbar).1']*0.99,fmt='^-',color='brown', alpha=0.5)\n",
    "plt.loglog(data['Coverage (molecules/cm^2).1']/(3e15), data['Pressure (mbar).1'],'^-',color='brown',label='Fleur\\'s data 1')\n",
    "#plt.errorbar(data['Coverage (molecules/cm^2).2']/(3e15), data['Pressure Barion gauge (mbar)'],xerr=data['Coverage (molecules/cm^2).2']/(3e15)*0.20, yerr= data['Pressure Barion gauge (mbar)']*0.99,fmt='o-',color='orange',alpha=0.5)\n",
    "plt.loglog(data['Coverage (molecules/cm^2).2']/(3e15), data['Pressure Barion gauge (mbar)'],'o-',color='orange' ,label='Fleur\\'s data Barion gauge' )\n",
    "# plt.loglog(data['Coverage (molecules/cm^2).2']/(3e15), data['Pressure RGA (mbar)'], '.--', label='Fleur\\'s data RGA')\n",
    "#plt.errorbar(data_wallen['Relative surface coverage'][4:],data_wallen['Pressure [mbar]'][4:],xerr=data_wallen['Relative surface coverage'][4:]*0.20,yerr=data_wallen['Pressure [mbar]'][4:]*0.99, fmt='g-',alpha=0.5)\n",
    "plt.loglog(data_wallen['Relative surface coverage'][4:],data_wallen['Pressure [mbar]'][4:], 'gD-', label='Wallen\\'s data on Cu plated stainless steel')\n",
    "plt.loglog(data_wallen['Relative surface coverage'][:4],data_wallen['Pressure [mbar]'][:4], 'g*', label='Wallen\\'s data less than 10% over background pressure')\n",
    "\n",
    "plt.loglog(theta,p_cold*1e-2, 'D',color='purple', label='Estimated data point from BASE')\n",
    "plt.fill_between(x=[4,theta],y1=[p_cold*1e-2,p_cold*1e-2],y2=[1e-21,1e-21],color='purple',alpha=0.5)\n",
    "\n",
    "plt.loglog(theta_hobson,pressure_plot2, '--',color='royalblue', label='Prediction Hobson')\n",
    "plt.loglog(theta_wilfert, pressure_plot2, '-.', color='lightskyblue', label='Prediction from fit of data from Chill, Wilfert and Bozyk')\n",
    "\n",
    "plt.ylim(1e-21)\n",
    "plt.xlim(2e-3,4)\n",
    "plt.ylabel('Pressure in mbar')\n",
    "plt.xlabel(r'Relative surface coverage')\n",
    "plt.title('Hydrogen on copper at 4.2K')\n",
    "plt.grid(axis='both', which='both')\n",
    "plt.tight_layout()\n",
    "plt.legend();"
   ]
  },
  {
   "cell_type": "code",
   "execution_count": 80,
   "metadata": {},
   "outputs": [],
   "source": [
    "%matplotlib qt\n",
    "seaborn.set_context('talk')\n",
    "\n",
    "plt.figure(figsize=(10,6))\n",
    "\n",
    "pressure_plot2=np.logspace(-21,-9,40)\n",
    "theta_hobson=np.exp(-b_hobson*(gas_constant*4.2*np.log(pressure_plot2/(p_0*1e-2)))**2)\n",
    "theta_wilfert=np.exp(-d*(constants.k*4.2*np.log(pressure_plot2/(p_0*1e-2)))**2)\n",
    "\n",
    "# plt.loglog(data['Coverage (molecules/cm^2).1']/(3e15), data['Pressure (mbar).1'], '.--' )\n",
    "# plt.errorbar(data['Coverage (molecules/cm^2).1']/(3e15), data['Pressure (mbar).1'],xerr=data['Coverage (molecules/cm^2).1']/(3e15)*0.20, yerr= data['Pressure (mbar).1']*0.99,fmt='^-',color='brown', alpha=0.5)\n",
    "plt.loglog(data['Coverage (molecules/cm^2).1']/(3e15), data['Pressure (mbar).1'],'^-',color='brown',label='Fleur\\'s data 1')\n",
    "# plt.errorbar(data['Coverage (molecules/cm^2).2']/(3e15), data['Pressure Barion gauge (mbar)'],xerr=data['Coverage (molecules/cm^2).2']/(3e15)*0.20, yerr= data['Pressure Barion gauge (mbar)']*0.99,fmt='o-',color='orange',alpha=0.5)\n",
    "plt.loglog(data['Coverage (molecules/cm^2).2']/(3e15), data['Pressure Barion gauge (mbar)'],'o-',color='orange' ,label='Fleur\\'s data Barion gauge' )\n",
    "# plt.loglog(data['Coverage (molecules/cm^2).2']/(3e15), data['Pressure RGA (mbar)'], '.--', label='Fleur\\'s data RGA')\n",
    "# plt.errorbar(data_wallen['Relative surface coverage'][4:],data_wallen['Pressure [mbar]'][4:],xerr=data_wallen['Relative surface coverage'][4:]*0.20,yerr=data_wallen['Pressure [mbar]'][4:]*0.99, fmt='g-',alpha=0.5)\n",
    "plt.loglog(data_wallen['Relative surface coverage'][4:],data_wallen['Pressure [mbar]'][4:], 'gD-', label='Wallen\\'s data on Cu plated stainless steel')\n",
    "plt.loglog(data_wallen['Relative surface coverage'][:4],data_wallen['Pressure [mbar]'][:4], 'g*', label='Wallen\\'s data less than 10% over background pressure')\n",
    "\n",
    "plt.loglog(theta,p_cold*1e-2, 'D',color='purple', label='Estimated limit point from BASE')\n",
    "plt.fill_between(x=[4,theta],y1=[p_cold*1e-2,p_cold*1e-2],y2=[1e-21,1e-21],color='purple',alpha=0.5)\n",
    "\n",
    "plt.loglog(theta_hobson,pressure_plot2, '--',color='royalblue', label='Prediction Hobson')\n",
    "plt.loglog(theta_wilfert, pressure_plot2, '-.', color='lightskyblue', label='Prediction from fit of data from Chill, Wilfert and Bozyk')\n",
    "\n",
    "plt.ylim(1e-21)\n",
    "plt.xlim(2e-3,4)\n",
    "plt.ylabel('Pressure in mbar')\n",
    "plt.xlabel(r'Relative surface coverage')\n",
    "plt.title('Hydrogen on copper at 4.2K')\n",
    "plt.grid(axis='both', which='both')\n",
    "plt.legend(loc=6, fontsize='small')\n",
    "plt.tight_layout()\n"
   ]
  },
  {
   "cell_type": "code",
   "execution_count": 44,
   "metadata": {},
   "outputs": [],
   "source": [
    "# %matplotlib qt\n",
    "plt.figure()\n",
    "# plt.rcParams['font.size'] = '25'\n",
    "\n",
    "pressure_plot2=np.logspace(-19,-8,40)\n",
    "theta_hobson=np.exp(-b_hobson*(gas_constant*4.2*np.log(pressure_plot2/(p_0*1e-2)))**2)\n",
    "theta_wilfert=np.exp(-d*(constants.k*4.2*np.log(pressure_plot2/(p_0*1e-2)))**2)\n",
    "\n",
    "# plt.loglog(theta_hobson,pressure_plot2, '-',color='royalblue', label='Prediction Hobson')\n",
    "# plt.loglog(theta_wilfert, pressure_plot2, '-', color='lightskyblue', label='Prediction from fit of data from Chill, Wilfert and Bozyk')\n",
    "\n",
    "plt.loglog(data['Coverage (molecules/cm^2).1']/(3e15), data['Pressure (mbar).1'], '.--', label='Fleur\\'s data 1')\n",
    "plt.loglog(data['Coverage (molecules/cm^2).2']/(3e15), data['Pressure Barion gauge (mbar)'], '.--', label='Fleur\\'s data Barion')\n",
    "plt.loglog(data['Coverage (molecules/cm^2).2']/(3e15), data['Pressure RGA (mbar)'], '.--', label='Fleur\\'s data RGA')\n",
    "plt.loglog(data_wallen['Relative surface coverage'][4:],data_wallen['Pressure [mbar]'][4:], 'r.-', label='Wallen\\'s data on Cu plated stainless steel')\n",
    "plt.loglog(data_wallen['Relative surface coverage'][:4],data_wallen['Pressure [mbar]'][:4], 'r*', label='Wallen\\'s data less than 10% over background pressure')\n",
    "\n",
    "plt.loglog(theta,p_cold*1e-2, 'D', label='Estimated data point from BASE')\n",
    "plt.ylabel('Pressure in mbar')\n",
    "plt.xlabel(r'Relative surface coverage')\n",
    "plt.title('Hydrogen on copper at 4.2K')\n",
    "plt.grid(axis='both', which='minor')\n",
    "plt.legend();"
   ]
  },
  {
   "cell_type": "markdown",
   "metadata": {},
   "source": [
    "## Huang's theory\n",
    "I was not able to retrieve a \"formula\" of an adsorption isotherm from the papers..."
   ]
  },
  {
   "cell_type": "markdown",
   "metadata": {},
   "source": [
    "## Assumptions\n",
    "* Hydrogen fully pumped before pinch off, no sticking to the surfaces $\\rightarrow$ Hydrogen only from outgassing between pinch off and cooling\n",
    "* Outgassing negligible when system is cold"
   ]
  },
  {
   "cell_type": "markdown",
   "metadata": {},
   "source": [
    "## Open questions\n",
    "* Partial pressure of hydrogen before pinch off\n",
    "* Hydrogen release during pinch off\n",
    "* "
   ]
  },
  {
   "cell_type": "markdown",
   "metadata": {},
   "source": [
    "## Inverse function"
   ]
  },
  {
   "cell_type": "code",
   "execution_count": null,
   "metadata": {},
   "outputs": [],
   "source": [
    "# saturation pressure in mbar\n",
    "p_saturation={3: 8.5e-12*1.333, 4.2: p_0_mbar, 6: 9.3e-4*1.333, 10: 1.91*1.333, 15: 95*1.333, 20: 7.26e2*1.333}"
   ]
  },
  {
   "cell_type": "code",
   "execution_count": null,
   "metadata": {},
   "outputs": [],
   "source": [
    "def p_sat(temp):\n",
    "    try:\n",
    "        return p_saturation[temp]\n",
    "    except KeyError:\n",
    "        return 'Temperature missing in dictionary'\n",
    "def theta(temp, pressure):\n",
    "    try:\n",
    "        return np.exp(-d*(constants.k*temp*np.log(pressure/p_sat(temp)))**2)\n",
    "    except:\n",
    "        print(p_sat(temp))\n",
    "def theta(temp, pressure=[]):\n",
    "    try:\n",
    "        return np.exp(-d*(constants.k*temp*np.log(pressure/p_sat(temp)))**2)\n",
    "    except:\n",
    "        print(p_sat(temp))\n",
    "def pressure(temp, theta=[]):\n",
    "    try:\n",
    "        return p_sat(temp)*np.exp(-1./(np.sqrt(d)*constants.k*temp)*np.sqrt(-np.log(theta)))\n",
    "    except:\n",
    "        print(p_sat(temp))"
   ]
  },
  {
   "cell_type": "code",
   "execution_count": null,
   "metadata": {},
   "outputs": [],
   "source": [
    "theta(4.2,1e-17)"
   ]
  },
  {
   "cell_type": "code",
   "execution_count": null,
   "metadata": {},
   "outputs": [],
   "source": [
    "pressure(4.2,0.7856502482339683)"
   ]
  },
  {
   "cell_type": "code",
   "execution_count": null,
   "metadata": {},
   "outputs": [],
   "source": []
  }
 ],
 "metadata": {
  "kernelspec": {
   "display_name": "Python 3 (ipykernel)",
   "language": "python",
   "name": "python3"
  },
  "language_info": {
   "codemirror_mode": {
    "name": "ipython",
    "version": 3
   },
   "file_extension": ".py",
   "mimetype": "text/x-python",
   "name": "python",
   "nbconvert_exporter": "python",
   "pygments_lexer": "ipython3",
   "version": "3.9.7"
  },
  "latex_envs": {
   "LaTeX_envs_menu_present": true,
   "autoclose": false,
   "autocomplete": true,
   "bibliofile": "biblio.bib",
   "cite_by": "apalike",
   "current_citInitial": 1,
   "eqLabelWithNumbers": true,
   "eqNumInitial": 1,
   "hotkeys": {
    "equation": "Ctrl-E",
    "itemize": "Ctrl-I"
   },
   "labels_anchors": false,
   "latex_user_defs": false,
   "report_style_numbering": false,
   "user_envs_cfg": false
  },
  "varInspector": {
   "cols": {
    "lenName": 16,
    "lenType": 16,
    "lenVar": 40
   },
   "kernels_config": {
    "python": {
     "delete_cmd_postfix": "",
     "delete_cmd_prefix": "del ",
     "library": "var_list.py",
     "varRefreshCmd": "print(var_dic_list())"
    },
    "r": {
     "delete_cmd_postfix": ") ",
     "delete_cmd_prefix": "rm(",
     "library": "var_list.r",
     "varRefreshCmd": "cat(var_dic_list()) "
    }
   },
   "types_to_exclude": [
    "module",
    "function",
    "builtin_function_or_method",
    "instance",
    "_Feature"
   ],
   "window_display": false
  }
 },
 "nbformat": 4,
 "nbformat_minor": 4
}
