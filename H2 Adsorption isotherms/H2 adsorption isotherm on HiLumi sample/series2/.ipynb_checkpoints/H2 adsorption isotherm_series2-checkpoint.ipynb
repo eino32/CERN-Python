{
 "cells": [
  {
   "cell_type": "code",
   "execution_count": 1,
   "id": "66e3cff0",
   "metadata": {},
   "outputs": [
    {
     "name": "stderr",
     "output_type": "stream",
     "text": [
      "C:\\Users\\etiirine\\Anaconda3\\lib\\site-packages\\scipy\\__init__.py:146: UserWarning: A NumPy version >=1.16.5 and <1.23.0 is required for this version of SciPy (detected version 1.23.2\n",
      "  warnings.warn(f\"A NumPy version >={np_minversion} and <{np_maxversion}\"\n"
     ]
    }
   ],
   "source": [
    "import pandas as pd\n",
    "from scipy.optimize import curve_fit\n",
    "import seaborn\n",
    "seaborn.set(style='whitegrid')\n",
    "import numpy as np\n",
    "import matplotlib.pyplot as plt\n",
    "import math\n",
    "%matplotlib qt\n",
    "# %matplotlib inline\n",
    "from datetime import datetime, date\n"
   ]
  },
  {
   "cell_type": "code",
   "execution_count": 2,
   "id": "f70feb86",
   "metadata": {},
   "outputs": [],
   "source": [
    "#read in the data\n",
    "df= pd.read_csv(\"vaclog\", sep='\\t', index_col=False)\n",
    "df.drop(columns=[\"I_emission\",\"I_grid\",\"T-platinum\"], inplace=True)\n"
   ]
  },
  {
   "cell_type": "code",
   "execution_count": 3,
   "id": "70f2f7e2",
   "metadata": {},
   "outputs": [
    {
     "data": {
      "text/html": [
       "<div>\n",
       "<style scoped>\n",
       "    .dataframe tbody tr th:only-of-type {\n",
       "        vertical-align: middle;\n",
       "    }\n",
       "\n",
       "    .dataframe tbody tr th {\n",
       "        vertical-align: top;\n",
       "    }\n",
       "\n",
       "    .dataframe thead th {\n",
       "        text-align: right;\n",
       "    }\n",
       "</style>\n",
       "<table border=\"1\" class=\"dataframe\">\n",
       "  <thead>\n",
       "    <tr style=\"text-align: right;\">\n",
       "      <th></th>\n",
       "      <th>Live comments</th>\n",
       "      <th>Elapsed time</th>\n",
       "      <th>Time</th>\n",
       "      <th>injection 100mbar</th>\n",
       "      <th>Barion_2</th>\n",
       "      <th>Barion_1</th>\n",
       "      <th>DUAL experiment</th>\n",
       "      <th>DUAL insulation</th>\n",
       "      <th>injection 1mbar</th>\n",
       "      <th>helium</th>\n",
       "      <th>T-CERNOX</th>\n",
       "    </tr>\n",
       "  </thead>\n",
       "  <tbody>\n",
       "    <tr>\n",
       "      <th>0</th>\n",
       "      <td>starting lhe transfer</td>\n",
       "      <td>0.0</td>\n",
       "      <td>08/12/2022 11:07:05</td>\n",
       "      <td>78.515</td>\n",
       "      <td>4.770000e-09</td>\n",
       "      <td>1.430000e-09</td>\n",
       "      <td>4.996000e-09</td>\n",
       "      <td>4.458000e-07</td>\n",
       "      <td>1.1</td>\n",
       "      <td>0.0</td>\n",
       "      <td>143.658</td>\n",
       "    </tr>\n",
       "    <tr>\n",
       "      <th>1</th>\n",
       "      <td>NaN</td>\n",
       "      <td>7.0</td>\n",
       "      <td>08/12/2022 11:07:12</td>\n",
       "      <td>78.515</td>\n",
       "      <td>4.770000e-09</td>\n",
       "      <td>1.430000e-09</td>\n",
       "      <td>4.996000e-09</td>\n",
       "      <td>4.463000e-07</td>\n",
       "      <td>1.1</td>\n",
       "      <td>0.0</td>\n",
       "      <td>143.658</td>\n",
       "    </tr>\n",
       "    <tr>\n",
       "      <th>2</th>\n",
       "      <td>NaN</td>\n",
       "      <td>15.0</td>\n",
       "      <td>08/12/2022 11:07:20</td>\n",
       "      <td>78.515</td>\n",
       "      <td>4.770000e-09</td>\n",
       "      <td>1.420000e-09</td>\n",
       "      <td>4.996000e-09</td>\n",
       "      <td>4.500000e-07</td>\n",
       "      <td>1.1</td>\n",
       "      <td>0.0</td>\n",
       "      <td>143.546</td>\n",
       "    </tr>\n",
       "    <tr>\n",
       "      <th>3</th>\n",
       "      <td>NaN</td>\n",
       "      <td>22.0</td>\n",
       "      <td>08/12/2022 11:07:27</td>\n",
       "      <td>78.515</td>\n",
       "      <td>4.770000e-09</td>\n",
       "      <td>1.430000e-09</td>\n",
       "      <td>4.996000e-09</td>\n",
       "      <td>4.500000e-07</td>\n",
       "      <td>1.1</td>\n",
       "      <td>0.0</td>\n",
       "      <td>143.883</td>\n",
       "    </tr>\n",
       "    <tr>\n",
       "      <th>4</th>\n",
       "      <td>NaN</td>\n",
       "      <td>29.0</td>\n",
       "      <td>08/12/2022 11:07:34</td>\n",
       "      <td>78.515</td>\n",
       "      <td>4.780000e-09</td>\n",
       "      <td>1.420000e-09</td>\n",
       "      <td>4.996000e-09</td>\n",
       "      <td>4.500000e-07</td>\n",
       "      <td>1.1</td>\n",
       "      <td>0.0</td>\n",
       "      <td>143.658</td>\n",
       "    </tr>\n",
       "  </tbody>\n",
       "</table>\n",
       "</div>"
      ],
      "text/plain": [
       "           Live comments  Elapsed time                 Time  \\\n",
       "0  starting lhe transfer           0.0  08/12/2022 11:07:05   \n",
       "1                    NaN           7.0  08/12/2022 11:07:12   \n",
       "2                    NaN          15.0  08/12/2022 11:07:20   \n",
       "3                    NaN          22.0  08/12/2022 11:07:27   \n",
       "4                    NaN          29.0  08/12/2022 11:07:34   \n",
       "\n",
       "   injection 100mbar      Barion_2      Barion_1  DUAL experiment  \\\n",
       "0             78.515  4.770000e-09  1.430000e-09     4.996000e-09   \n",
       "1             78.515  4.770000e-09  1.430000e-09     4.996000e-09   \n",
       "2             78.515  4.770000e-09  1.420000e-09     4.996000e-09   \n",
       "3             78.515  4.770000e-09  1.430000e-09     4.996000e-09   \n",
       "4             78.515  4.780000e-09  1.420000e-09     4.996000e-09   \n",
       "\n",
       "   DUAL insulation  injection 1mbar  helium  T-CERNOX  \n",
       "0     4.458000e-07              1.1     0.0   143.658  \n",
       "1     4.463000e-07              1.1     0.0   143.658  \n",
       "2     4.500000e-07              1.1     0.0   143.546  \n",
       "3     4.500000e-07              1.1     0.0   143.883  \n",
       "4     4.500000e-07              1.1     0.0   143.658  "
      ]
     },
     "execution_count": 3,
     "metadata": {},
     "output_type": "execute_result"
    }
   ],
   "source": [
    "#add elapsed time\n",
    "\n",
    "timestamps=pd.to_datetime(df[\"Time\"],format=\"%d/%m/%Y %H:%M:%S\")\n",
    "runtime=(timestamps-timestamps[0]).dt.total_seconds()    \n",
    "df.insert(1,\"Elapsed time\",runtime)\n",
    "df.head()\n"
   ]
  },
  {
   "cell_type": "code",
   "execution_count": 4,
   "id": "eac28b3d",
   "metadata": {},
   "outputs": [],
   "source": [
    "#Temperature curve for CERNOX \n",
    "A=[230.317302,-6170.1513,71837.9529,-477946.76,2.003668910085786e+6,-5.488690193047771e+6,9.830475663897528e+6,-1.111226817786569e+7,7.202477878914065e+6,-2.04194551328507e+6]\n",
    "#specify fit parameters A, data (Resistance values)\n",
    "def polyfit(params,data):\n",
    "    total=[]\n",
    "    for j in data: \n",
    "        exp=0\n",
    "        for i in range(len(params)):\n",
    "            exp += (params[i]/(math.log10(j))**i)\n",
    "        total.append(10**exp)\n",
    "    return(total)    \n"
   ]
  },
  {
   "cell_type": "code",
   "execution_count": 5,
   "id": "0bade304",
   "metadata": {},
   "outputs": [],
   "source": [
    "#Plotting the general pressure evolution for overview\n",
    "fig, ax = plt.subplots()\n",
    "\n",
    "l5 = ax.plot(df[\"Elapsed time\"]/3600, polyfit(A,df[\"T-CERNOX\"]),marker=\".\", color=\"cyan\", markersize=5,label='Temperature')\n",
    "ax.set_ylabel('Temperature (K)')\n",
    "\n",
    "ax.set_xlabel('Elapsed time (h)')\n",
    "ax2=ax.twinx()\n",
    "\n",
    "l1 = ax2.plot((df[\"Elapsed time\"]/3600),df['Barion_1']/0.46,marker=\".\", markersize=5,label='BA1')\n",
    "l2 = ax2.plot((df[\"Elapsed time\"]/3600),df['Barion_2']/0.46,marker=\".\", markersize=5,label='BA2')\n",
    "l3 = ax2.plot((df[\"Elapsed time\"]/3600),df['DUAL experiment'],marker=\".\", markersize=5,label='Dual gauge')\n",
    "l4 = ax2.plot((df[\"Elapsed time\"]/3600),df['injection 100mbar'],marker=\".\", markersize=5,label='100mbar F-R')\n",
    "ax2.set_ylabel('Pressure (mbar)')\n",
    "#TODO - annotations\n",
    "ax2.legend(handles = l1+l2+l3+l4+l5, loc=\"upper right\")\n",
    "plt.title(\"Pressure evolution + temperatures. Correction for H2 applied.\")\n",
    "ax2.set_yscale('log')\n"
   ]
  },
  {
   "cell_type": "code",
   "execution_count": 6,
   "id": "0e7b5370",
   "metadata": {},
   "outputs": [
    {
     "name": "stdout",
     "output_type": "stream",
     "text": [
      "      Live comments  Elapsed time                 Time  injection 100mbar  \\\n",
      "597             NaN        4284.0  08/12/2022 12:18:29             29.552   \n",
      "598             NaN        4291.0  08/12/2022 12:18:36             29.552   \n",
      "599             NaN        4298.0  08/12/2022 12:18:43             29.551   \n",
      "600             NaN        4305.0  08/12/2022 12:18:50             29.551   \n",
      "601             NaN        4313.0  08/12/2022 12:18:58             29.552   \n",
      "...             ...           ...                  ...                ...   \n",
      "11420           NaN       82076.0  09/12/2022 09:55:01             25.175   \n",
      "11421           NaN       82083.0  09/12/2022 09:55:08             25.173   \n",
      "11422           NaN       82090.0  09/12/2022 09:55:15             25.176   \n",
      "11423           NaN       82098.0  09/12/2022 09:55:23             25.175   \n",
      "11424           NaN       82105.0  09/12/2022 09:55:30             25.171   \n",
      "\n",
      "           Barion_2      Barion_1  DUAL experiment  DUAL insulation  \\\n",
      "597    4.970000e-08  4.920000e-08     3.014000e-08     4.688000e-07   \n",
      "598    4.970000e-08  4.920000e-08     3.014000e-08     4.688000e-07   \n",
      "599    4.970000e-08  4.920000e-08     3.006000e-08     4.688000e-07   \n",
      "600    4.960000e-08  4.910000e-08     3.010000e-08     4.688000e-07   \n",
      "601    4.960000e-08  4.910000e-08     3.006000e-08     4.688000e-07   \n",
      "...             ...           ...              ...              ...   \n",
      "11420  1.710000e-06  1.660000e-06     1.096000e-06     2.657000e-07   \n",
      "11421  1.710000e-06  1.660000e-06     1.096000e-06     2.657000e-07   \n",
      "11422  1.710000e-06  1.660000e-06     1.098000e-06     2.657000e-07   \n",
      "11423  1.710000e-06  1.660000e-06     1.098000e-06     2.657000e-07   \n",
      "11424  1.710000e-06  1.660000e-06     1.098000e-06     2.654000e-07   \n",
      "\n",
      "       injection 1mbar  helium  T-CERNOX  \n",
      "597                1.1   316.0  4294.708  \n",
      "598                1.1   316.0  4294.596  \n",
      "599                1.1   316.0  4294.820  \n",
      "600                1.1   316.0  4295.045  \n",
      "601                1.1   316.0  4295.045  \n",
      "...                ...     ...       ...  \n",
      "11420              1.1   330.0  4323.552  \n",
      "11421              1.1   330.0  4323.215  \n",
      "11422              1.1   330.0  4323.439  \n",
      "11423              1.1   330.0  4323.215  \n",
      "11424              1.1   330.0  4323.439  \n",
      "\n",
      "[10828 rows x 11 columns]\n"
     ]
    }
   ],
   "source": [
    "#slicing the dataset\n",
    "ramp = df.iloc[list((df[\"Elapsed time\"]/3600).between(1.19,40))]\n",
    "print(ramp)"
   ]
  },
  {
   "cell_type": "code",
   "execution_count": 7,
   "id": "d4e58582",
   "metadata": {},
   "outputs": [
    {
     "data": {
      "text/plain": [
       "Text(0.5, 1.0, 'Pressure evolution during injection. Corrected for H2')"
      ]
     },
     "execution_count": 7,
     "metadata": {},
     "output_type": "execute_result"
    }
   ],
   "source": [
    "#plotting the sliced data\n",
    "#Plotting the general pressure evolution for overview\n",
    "fig, ax = plt.subplots()\n",
    "\n",
    "ax.plot((ramp[\"Elapsed time\"]/3600),ramp['Barion_1']/0.46,marker=\".\", markersize=5,label='BA1')\n",
    "ax.plot((ramp[\"Elapsed time\"]/3600),ramp['Barion_2']/0.46,marker=\".\", markersize=5,label='BA2')\n",
    "ax.plot((ramp[\"Elapsed time\"]/3600),ramp['DUAL experiment'],marker=\".\", markersize=5,label='DUAL gauge')\n",
    "plt.legend(loc=\"upper right\")\n",
    "\n",
    "ax.set_xlabel('Elapsed time (h)')\n",
    "ax.set_ylabel('Pressure (mbar)')\n",
    "ax.set_yscale('linear')\n",
    "\n",
    "plt.legend(loc=\"upper right\")\n",
    "plt.title(\"Pressure evolution during injection. Corrected for H2\")\n"
   ]
  },
  {
   "cell_type": "code",
   "execution_count": 8,
   "id": "4d721f30",
   "metadata": {
    "scrolled": true
   },
   "outputs": [
    {
     "name": "stdout",
     "output_type": "stream",
     "text": [
      "      Live comments                 Time  injection 100mbar      Barion_2  \\\n",
      "558             NaN  08/12/2022 12:13:48             29.552  4.360000e-08   \n",
      "559             NaN  08/12/2022 12:13:56             29.552  8.190000e-08   \n",
      "560             NaN  08/12/2022 12:14:03             29.552  1.010000e-07   \n",
      "561             NaN  08/12/2022 12:14:10             29.552  6.220000e-08   \n",
      "562             NaN  08/12/2022 12:14:17             29.552  4.470000e-08   \n",
      "...             ...                  ...                ...           ...   \n",
      "11420           NaN  09/12/2022 09:55:01             25.175  1.710000e-06   \n",
      "11421           NaN  09/12/2022 09:55:08             25.173  1.710000e-06   \n",
      "11422           NaN  09/12/2022 09:55:15             25.176  1.710000e-06   \n",
      "11423           NaN  09/12/2022 09:55:23             25.175  1.710000e-06   \n",
      "11424           NaN  09/12/2022 09:55:30             25.171  1.710000e-06   \n",
      "\n",
      "           Barion_1  DUAL experiment  DUAL insulation  injection 1mbar  \\\n",
      "558    4.400000e-08     3.105000e-08     4.632000e-07              1.1   \n",
      "559    8.350000e-08     6.712000e-08     4.632000e-07              1.1   \n",
      "560    8.740000e-08     3.982000e-08     4.632000e-07              1.1   \n",
      "561    6.000000e-08     2.825000e-08     4.632000e-07              1.1   \n",
      "562    4.420000e-08     2.578000e-08     4.632000e-07              1.1   \n",
      "...             ...              ...              ...              ...   \n",
      "11420  1.660000e-06     1.096000e-06     2.657000e-07              1.1   \n",
      "11421  1.660000e-06     1.096000e-06     2.657000e-07              1.1   \n",
      "11422  1.660000e-06     1.098000e-06     2.657000e-07              1.1   \n",
      "11423  1.660000e-06     1.098000e-06     2.657000e-07              1.1   \n",
      "11424  1.660000e-06     1.098000e-06     2.654000e-07              1.1   \n",
      "\n",
      "       helium  T-CERNOX  \n",
      "558     317.0  4290.443  \n",
      "559     317.0  4290.555  \n",
      "560     317.0  4290.555  \n",
      "561     317.0  4290.555  \n",
      "562     317.0  4290.555  \n",
      "...       ...       ...  \n",
      "11420   330.0  4323.552  \n",
      "11421   330.0  4323.215  \n",
      "11422   330.0  4323.439  \n",
      "11423   330.0  4323.215  \n",
      "11424   330.0  4323.439  \n",
      "\n",
      "[10315 rows x 10 columns]\n"
     ]
    },
    {
     "name": "stderr",
     "output_type": "stream",
     "text": [
      "C:\\Users\\etiirine\\AppData\\Local\\Temp\\ipykernel_25124\\455032170.py:6: SettingWithCopyWarning: \n",
      "A value is trying to be set on a copy of a slice from a DataFrame\n",
      "\n",
      "See the caveats in the documentation: https://pandas.pydata.org/pandas-docs/stable/user_guide/indexing.html#returning-a-view-versus-a-copy\n",
      "  inj.drop(columns=\"Elapsed time\", inplace=True)\n"
     ]
    }
   ],
   "source": [
    "#TODO - calculating coverages for plotting pressure v coverage\n",
    "#in the first assumption coverage is assumed to be equivalent to the number of molecules injected\n",
    "#coverage at any given time point in [M/cm2] -> M/s * total injection time \n",
    "#First - Determine the inj start point, set elapsed time here to 0. \n",
    "inj = df.loc[df[\"Barion_2\"]/0.46 >= 9e-8]\n",
    "inj.drop(columns=\"Elapsed time\", inplace=True)\n",
    "print(inj)\n",
    "timestamps2 = pd.to_datetime(inj[\"Time\"],format=\"%d/%m/%Y %H:%M:%S\")\n",
    "runtime2 = (timestamps2-timestamps2[558]).dt.total_seconds()    \n",
    "inj.insert(1,\"Elapsed time\",runtime2)\n",
    "\n"
   ]
  },
  {
   "cell_type": "code",
   "execution_count": 9,
   "id": "88fde74b",
   "metadata": {
    "scrolled": true
   },
   "outputs": [],
   "source": [
    "#TODO - subtract the baseline from graph 2 (linear pressure scale) and plot again\n",
    "#adding H2 equiv pressure readings\n",
    "inj.insert(3, \"corr BA2\", inj[\"Barion_2\"]/0.46)\n",
    "inj.insert(4, \"corr BA1\", inj[\"Barion_1\"]/0.46)\n"
   ]
  },
  {
   "cell_type": "code",
   "execution_count": 10,
   "id": "59397b73",
   "metadata": {},
   "outputs": [
    {
     "name": "stdout",
     "output_type": "stream",
     "text": [
      "1.1493369650513688e-07\n",
      "1.1634404243099886e-07\n"
     ]
    }
   ],
   "source": [
    "#define baseline\n",
    "base1 = inj[inj[\"corr BA1\"].between(1e-7,1.3e-7)]\n",
    "base2 = inj[inj[\"corr BA2\"].between(1e-7,1.3e-7)]\n",
    "#take the average of the baseline\n",
    "avg2 = np.mean(base1[\"corr BA2\"])\n",
    "avg1 = np.mean(base2[\"corr BA1\"])\n",
    "print(avg1)\n",
    "print(avg2)\n",
    "#inj[\"corr BA1\"].loc[inj[\"corr BA1\"].sub(avg1)]"
   ]
  },
  {
   "cell_type": "code",
   "execution_count": 11,
   "id": "61bacca0",
   "metadata": {},
   "outputs": [
    {
     "data": {
      "text/plain": [
       "Text(0.5, 1.0, 'Pressure evolution on the sample, inj. base pressure subtracted. Pressures H2 equivalent')"
      ]
     },
     "execution_count": 11,
     "metadata": {},
     "output_type": "execute_result"
    }
   ],
   "source": [
    "#subtract the baseline from the graph to get the actual pressure evolution on the sample\n",
    "\n",
    "#Plotting the h2 equiv base pressure subtracted data\n",
    "fig, ax = plt.subplots()\n",
    "#subtract the baseline from the graph to get the actual pressure evolution on the sample\n",
    "\n",
    "ax.plot((inj[\"Elapsed time\"]/3600),inj['corr BA1'].sub(avg1),marker=\".\", markersize=5,label='BA1')\n",
    "ax.plot((inj[\"Elapsed time\"]/3600),inj['corr BA2'].sub(avg2),marker=\".\", markersize=5,label='BA2')\n",
    "plt.legend(loc=\"upper left\")\n",
    "\n",
    "ax.set_xlabel('Elapsed time (h)')\n",
    "ax.set_ylabel('Pressure (mbar)')\n",
    "ax.set_yscale('linear')\n",
    "\n",
    "plt.legend(loc=\"upper right\")\n",
    "plt.title(\"Pressure evolution on the sample, inj. base pressure subtracted. Pressures H2 equivalent\")\n"
   ]
  },
  {
   "cell_type": "markdown",
   "id": "62d77a3b",
   "metadata": {},
   "source": [
    "### Formula for sum of the differential injection flux\n",
    "$$\n",
    "N=\\frac{\\Sigma\\frac{dp}{dt}\\cdot V_{inj}}{k_B\\cdot T}=\\frac{\\Sigma\\frac{(p_{inj,t(x)}-p_{inj,t(x-1)})}{(t_{t(x)}-t_{t(x-1)})}\\cdot V_{inj}}{k_B \\cdot T}   \\space \\left[\\frac{M}{s}\\right]\n",
    "$$"
   ]
  },
  {
   "cell_type": "code",
   "execution_count": 12,
   "id": "88244da9",
   "metadata": {
    "scrolled": true
   },
   "outputs": [
    {
     "name": "stdout",
     "output_type": "stream",
     "text": [
      "-0.04247624587938723\n",
      "[0.00000000e+00 0.00000000e+00 0.00000000e+00 ... 2.79214286e-06\n",
      " 8.14375000e-07 3.72285714e-06]\n",
      "[0.00000000e+00 0.00000000e+00 0.00000000e+00 ... 2.18748709e+18\n",
      " 2.18768850e+18 2.18860922e+18]\n",
      "[0.00000000e+00 0.00000000e+00 0.00000000e+00 ... 7.92567786e+15\n",
      " 7.92640760e+15 7.92974356e+15]\n"
     ]
    }
   ],
   "source": [
    "#constants in SI units\n",
    "T = 293\n",
    "k_B = 1.38e-23\n",
    "V_inj = 6.515e-5\n",
    "S_sample= 276\n",
    "#implement the formula above\n",
    "dp = np.diff(inj[\"injection 100mbar\"]*100)\n",
    "print(np.mean(dp))\n",
    "dt = np.diff(inj[\"Elapsed time\"])\n",
    "dif = abs(dp)*V_inj/dt\n",
    "dif = np.insert(dif,0,0)\n",
    "print(dif)\n",
    "N_x = (dif.cumsum())/(k_B*T)\n",
    "print(N_x)\n",
    "N_cov = N_x/S_sample\n",
    "print(N_cov)\n",
    "# 4 orders of magnitude mistake somewhere\n",
    "#also do the units match up??"
   ]
  },
  {
   "cell_type": "code",
   "execution_count": 13,
   "id": "88faa9b6",
   "metadata": {},
   "outputs": [],
   "source": [
    "inj.insert(2, \"Coverage\",N_cov)\n"
   ]
  },
  {
   "cell_type": "code",
   "execution_count": 14,
   "id": "fa6b0151",
   "metadata": {
    "scrolled": false
   },
   "outputs": [
    {
     "data": {
      "text/html": [
       "<div>\n",
       "<style scoped>\n",
       "    .dataframe tbody tr th:only-of-type {\n",
       "        vertical-align: middle;\n",
       "    }\n",
       "\n",
       "    .dataframe tbody tr th {\n",
       "        vertical-align: top;\n",
       "    }\n",
       "\n",
       "    .dataframe thead th {\n",
       "        text-align: right;\n",
       "    }\n",
       "</style>\n",
       "<table border=\"1\" class=\"dataframe\">\n",
       "  <thead>\n",
       "    <tr style=\"text-align: right;\">\n",
       "      <th></th>\n",
       "      <th>Live comments</th>\n",
       "      <th>Elapsed time</th>\n",
       "      <th>Coverage</th>\n",
       "      <th>Time</th>\n",
       "      <th>corr BA2</th>\n",
       "      <th>corr BA1</th>\n",
       "      <th>injection 100mbar</th>\n",
       "      <th>Barion_2</th>\n",
       "      <th>Barion_1</th>\n",
       "      <th>DUAL experiment</th>\n",
       "      <th>DUAL insulation</th>\n",
       "      <th>injection 1mbar</th>\n",
       "      <th>helium</th>\n",
       "      <th>T-CERNOX</th>\n",
       "    </tr>\n",
       "  </thead>\n",
       "  <tbody>\n",
       "    <tr>\n",
       "      <th>558</th>\n",
       "      <td>NaN</td>\n",
       "      <td>0.0</td>\n",
       "      <td>0.0</td>\n",
       "      <td>08/12/2022 12:13:48</td>\n",
       "      <td>9.478261e-08</td>\n",
       "      <td>9.565217e-08</td>\n",
       "      <td>29.552</td>\n",
       "      <td>4.360000e-08</td>\n",
       "      <td>4.400000e-08</td>\n",
       "      <td>3.105000e-08</td>\n",
       "      <td>4.632000e-07</td>\n",
       "      <td>1.1</td>\n",
       "      <td>317.0</td>\n",
       "      <td>4290.443</td>\n",
       "    </tr>\n",
       "    <tr>\n",
       "      <th>559</th>\n",
       "      <td>NaN</td>\n",
       "      <td>8.0</td>\n",
       "      <td>0.0</td>\n",
       "      <td>08/12/2022 12:13:56</td>\n",
       "      <td>1.780435e-07</td>\n",
       "      <td>1.815217e-07</td>\n",
       "      <td>29.552</td>\n",
       "      <td>8.190000e-08</td>\n",
       "      <td>8.350000e-08</td>\n",
       "      <td>6.712000e-08</td>\n",
       "      <td>4.632000e-07</td>\n",
       "      <td>1.1</td>\n",
       "      <td>317.0</td>\n",
       "      <td>4290.555</td>\n",
       "    </tr>\n",
       "    <tr>\n",
       "      <th>560</th>\n",
       "      <td>NaN</td>\n",
       "      <td>15.0</td>\n",
       "      <td>0.0</td>\n",
       "      <td>08/12/2022 12:14:03</td>\n",
       "      <td>2.195652e-07</td>\n",
       "      <td>1.900000e-07</td>\n",
       "      <td>29.552</td>\n",
       "      <td>1.010000e-07</td>\n",
       "      <td>8.740000e-08</td>\n",
       "      <td>3.982000e-08</td>\n",
       "      <td>4.632000e-07</td>\n",
       "      <td>1.1</td>\n",
       "      <td>317.0</td>\n",
       "      <td>4290.555</td>\n",
       "    </tr>\n",
       "    <tr>\n",
       "      <th>561</th>\n",
       "      <td>NaN</td>\n",
       "      <td>22.0</td>\n",
       "      <td>0.0</td>\n",
       "      <td>08/12/2022 12:14:10</td>\n",
       "      <td>1.352174e-07</td>\n",
       "      <td>1.304348e-07</td>\n",
       "      <td>29.552</td>\n",
       "      <td>6.220000e-08</td>\n",
       "      <td>6.000000e-08</td>\n",
       "      <td>2.825000e-08</td>\n",
       "      <td>4.632000e-07</td>\n",
       "      <td>1.1</td>\n",
       "      <td>317.0</td>\n",
       "      <td>4290.555</td>\n",
       "    </tr>\n",
       "    <tr>\n",
       "      <th>562</th>\n",
       "      <td>NaN</td>\n",
       "      <td>29.0</td>\n",
       "      <td>0.0</td>\n",
       "      <td>08/12/2022 12:14:17</td>\n",
       "      <td>9.717391e-08</td>\n",
       "      <td>9.608696e-08</td>\n",
       "      <td>29.552</td>\n",
       "      <td>4.470000e-08</td>\n",
       "      <td>4.420000e-08</td>\n",
       "      <td>2.578000e-08</td>\n",
       "      <td>4.632000e-07</td>\n",
       "      <td>1.1</td>\n",
       "      <td>317.0</td>\n",
       "      <td>4290.555</td>\n",
       "    </tr>\n",
       "  </tbody>\n",
       "</table>\n",
       "</div>"
      ],
      "text/plain": [
       "    Live comments  Elapsed time  Coverage                 Time      corr BA2  \\\n",
       "558           NaN           0.0       0.0  08/12/2022 12:13:48  9.478261e-08   \n",
       "559           NaN           8.0       0.0  08/12/2022 12:13:56  1.780435e-07   \n",
       "560           NaN          15.0       0.0  08/12/2022 12:14:03  2.195652e-07   \n",
       "561           NaN          22.0       0.0  08/12/2022 12:14:10  1.352174e-07   \n",
       "562           NaN          29.0       0.0  08/12/2022 12:14:17  9.717391e-08   \n",
       "\n",
       "         corr BA1  injection 100mbar      Barion_2      Barion_1  \\\n",
       "558  9.565217e-08             29.552  4.360000e-08  4.400000e-08   \n",
       "559  1.815217e-07             29.552  8.190000e-08  8.350000e-08   \n",
       "560  1.900000e-07             29.552  1.010000e-07  8.740000e-08   \n",
       "561  1.304348e-07             29.552  6.220000e-08  6.000000e-08   \n",
       "562  9.608696e-08             29.552  4.470000e-08  4.420000e-08   \n",
       "\n",
       "     DUAL experiment  DUAL insulation  injection 1mbar  helium  T-CERNOX  \n",
       "558     3.105000e-08     4.632000e-07              1.1   317.0  4290.443  \n",
       "559     6.712000e-08     4.632000e-07              1.1   317.0  4290.555  \n",
       "560     3.982000e-08     4.632000e-07              1.1   317.0  4290.555  \n",
       "561     2.825000e-08     4.632000e-07              1.1   317.0  4290.555  \n",
       "562     2.578000e-08     4.632000e-07              1.1   317.0  4290.555  "
      ]
     },
     "execution_count": 14,
     "metadata": {},
     "output_type": "execute_result"
    }
   ],
   "source": [
    "inj.head()"
   ]
  },
  {
   "cell_type": "code",
   "execution_count": 15,
   "id": "195c0501",
   "metadata": {},
   "outputs": [
    {
     "data": {
      "text/plain": [
       "Text(0.5, 1.0, 'Coverage over time')"
      ]
     },
     "execution_count": 15,
     "metadata": {},
     "output_type": "execute_result"
    }
   ],
   "source": [
    "fig, ax = plt.subplots()\n",
    "\n",
    "ax.plot((inj[\"Elapsed time\"]/3600),inj[\"Coverage\"],marker=\".\", markersize=5,label='Coverage')\n",
    "ax.legend(loc=\"upper right\")\n",
    "\n",
    "ax.set_xlabel('Elapsed time (h)')\n",
    "ax.set_ylabel('Coverage (M/s*cm2)')\n",
    "ax.set_yscale('linear')\n",
    "plt.title(\"Coverage over time\")"
   ]
  },
  {
   "cell_type": "code",
   "execution_count": 30,
   "id": "c0207e33",
   "metadata": {},
   "outputs": [
    {
     "data": {
      "text/plain": [
       "Text(0.5, 1.0, 'H2 adsorption isotherm')"
      ]
     },
     "execution_count": 30,
     "metadata": {},
     "output_type": "execute_result"
    }
   ],
   "source": [
    "#TODO - plotting pressure vs coverage\n",
    "fig, ax = plt.subplots()\n",
    "\n",
    "ax.plot((inj[\"Coverage\"]),inj[\"corr BA2\"].sub(avg2),marker=\".\", markersize=5,label='isotherm')\n",
    "ax.legend(loc=\"upper left\")\n",
    "ax.set_xlim(left=2e+15)\n",
    "#ax.set_ylim(4e-9,8e-9)\n",
    "ax.set_xlabel('Coverage (M/s*cm2)')\n",
    "ax.set_ylabel('Pressure (mbar)')\n",
    "ax.set_yscale('log')\n",
    "font = {'family': 'arial',\n",
    "        'color':  'green',\n",
    "        'weight': 'normal',\n",
    "        'size': 10,\n",
    "        }\n",
    "plt.text(2.2e+15, 1.7e-9, '\\u2190 Base pressure check', fontdict = font)\n",
    "plt.text(7.02e+15, 1.8e-6, 'B-P check \\u2191 ', fontdict = font)\n",
    "plt.text(5.8e+15, 4e-6, '~Saturated vapor pressure', fontdict = font)\n",
    "plt.title(\"H2 adsorption isotherm\")"
   ]
  }
 ],
 "metadata": {
  "kernelspec": {
   "display_name": "Python 3 (ipykernel)",
   "language": "python",
   "name": "python3"
  },
  "language_info": {
   "codemirror_mode": {
    "name": "ipython",
    "version": 3
   },
   "file_extension": ".py",
   "mimetype": "text/x-python",
   "name": "python",
   "nbconvert_exporter": "python",
   "pygments_lexer": "ipython3",
   "version": "3.9.12"
  }
 },
 "nbformat": 4,
 "nbformat_minor": 5
}
