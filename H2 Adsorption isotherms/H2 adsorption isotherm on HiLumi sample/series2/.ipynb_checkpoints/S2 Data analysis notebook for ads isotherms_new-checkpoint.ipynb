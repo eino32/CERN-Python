{
 "cells": [
  {
   "cell_type": "code",
   "execution_count": 910,
   "metadata": {},
   "outputs": [],
   "source": [
    "import pandas as pd\n",
    "import scipy.constants\n",
    "from scipy.optimize import curve_fit\n",
    "from scipy.integrate import quad\n",
    "from sklearn.metrics import r2_score\n",
    "import numpy as np\n",
    "import math\n",
    "import matplotlib.pyplot as plt\n",
    "import matplotlib.dates as md\n",
    "import matplotlib.transforms as transforms\n",
    "from matplotlib.ticker import LogFormatter\n",
    "import os\n",
    "import fnmatch\n",
    "%matplotlib qt\n",
    "# %matplotlib inline\n",
    "import datetime as dt\n",
    "pd.set_option('display.max_rows', 100) "
   ]
  },
  {
   "cell_type": "markdown",
   "metadata": {},
   "source": [
    "## Reading in the data and preparing DataFrames"
   ]
  },
  {
   "cell_type": "markdown",
   "metadata": {},
   "source": [
    "#### MID"
   ]
  },
  {
   "cell_type": "code",
   "execution_count": 911,
   "metadata": {},
   "outputs": [],
   "source": [
    "#read in the file and create dataframe\n",
    "#excplicitly state the part\n",
    "#path = r'C:\\Users\\einot\\OneDrive\\Documents\\CERN VScode\\CERN-Python\\4K desorption measurements\\Cu sample\\EGA fully in\\S1 no preinjection at cold temps'\n",
    "#mid = pd.read_csv(os.path.join(path, \"MID.tsv\"), sep=\"\\t\", skiprows=lambda x: x<=11, on_bad_lines=\"skip\")\n",
    "\n",
    "#List molecule masses used in MID scan\n",
    "\n",
    "#masslist = [2,4,12,15,16,18,28,32,40,44]\n",
    "\n",
    "#Define datetime format\n",
    "#MID_datetime = \"%Y/%m/%d %H:%M:%S.%f\"\n",
    "\n",
    "#Reformat time values\n",
    "def timeformat(df,format):\n",
    "    new_df = df.copy()\n",
    "    for idx, col in enumerate(df):\n",
    "        if idx % 2 == 0:  # Check if the column index is even (every other column)\n",
    "            pandas_timestamp = pd.to_datetime(df[col], format=format)\n",
    "            timestamp = pandas_timestamp.dt.strftime('%d-%m-%Y %H:%M:%S')\n",
    "            new_df[col] = timestamp  # Replace the time column in the new dataframe\n",
    "    return new_df\n",
    "\n",
    "#call the function with correct parameters to modify MID dataframe\n",
    "#mid = timeformat(mid,MID_datetime)"
   ]
  },
  {
   "cell_type": "markdown",
   "metadata": {},
   "source": [
    "#### Vaclogger"
   ]
  },
  {
   "cell_type": "code",
   "execution_count": 912,
   "metadata": {},
   "outputs": [
    {
     "data": {
      "text/plain": [
       "' \\n#call the function with correct parameters to modify vaclogger dataframe\\nvaclog = elapsed_time(vaclog,\"Time\",vaclog_datetime) '"
      ]
     },
     "execution_count": 912,
     "metadata": {},
     "output_type": "execute_result"
    }
   ],
   "source": [
    "\"\"\" #Reading in the file\n",
    "vaclog = pd.read_csv(os.path.join(path, \"vaclog\"), sep=\"\\t\")\n",
    "\n",
    "#Define original datetime format\n",
    "vaclog_datetime = \"%d/%m/%Y %H:%M:%S\"\n",
    " \"\"\"\n",
    "#Adding an elapsed time column for temperature fits\n",
    "def elapsed_time(df,timecol,format):\n",
    "    new_df = df.copy()\n",
    "    pandas_timestamp = pd.to_datetime(new_df[timecol],format=format)\n",
    "    runtime = (pandas_timestamp-pandas_timestamp[0]).dt.total_seconds()\n",
    "    insert_idx = df.columns.get_loc(timecol) + 1  # Get the index to insert the new column\n",
    "    new_df.insert(insert_idx,\"Elapsed time\", runtime)\n",
    "    reformat = pandas_timestamp.dt.strftime('%d-%m-%Y %H:%M:%S') #New timestamp format for plotting\n",
    "    new_df[timecol] = reformat\n",
    "    new_df[timecol] = pd.to_datetime(new_df[timecol],format='%d-%m-%Y %H:%M:%S') #convert to pd datetime\n",
    "    \n",
    "    return new_df\n",
    "\"\"\" \n",
    "#call the function with correct parameters to modify vaclogger dataframe\n",
    "vaclog = elapsed_time(vaclog,\"Time\",vaclog_datetime) \"\"\""
   ]
  },
  {
   "cell_type": "code",
   "execution_count": 913,
   "metadata": {},
   "outputs": [],
   "source": [
    "def process_data(root):\n",
    "    #Define datetime formats\n",
    "    MID_datetime = \"%Y/%m/%d %H:%M:%S.%f\"\n",
    "    vaclog_datetime = \"%d/%m/%Y %H:%M:%S\"\n",
    "    hv_datetime = \"%d/%m/%Y %H:%M:%S.%f\"\n",
    "    \n",
    "    #Create an empty dictionary to store processed dataframes\n",
    "    dataframes = {}\n",
    "\n",
    "    # Iterate over the subdirectories starting from the specified directory\n",
    "    for dirpath, dirs, files in os.walk(root):\n",
    "        for filename in files:\n",
    "            filepath = os.path.join(dirpath,filename)\n",
    "            #print(filepath)\n",
    "            # Create a variable name using the relative path\n",
    "            relative_path = os.path.relpath(root, dirpath)\n",
    "            #print(relative_path)\n",
    "            variable_name = os.path.join(relative_path, os.path.splitext(filename)[0])\n",
    "            #print(variable_name)\n",
    "            #Read in the MID file\n",
    "            if fnmatch.fnmatch(filename,\"*MID*.tsv\"):\n",
    "                mid = pd.read_csv(filepath, sep=\"\\t\", skiprows=lambda x: x<=11, on_bad_lines=\"skip\")\n",
    "                mid = timeformat(mid, MID_datetime)\n",
    "\n",
    "                # Create a variable name using the base name of the MID filename\n",
    "                #variable_name = os.path.splitext(filename)[0]\n",
    "\n",
    "                # Store the MID dataframe using the variable name\n",
    "                dataframes[variable_name] = mid\n",
    "\n",
    "            #Read in the vaclog file\n",
    "            elif fnmatch.fnmatch(filename,\"*vaclog*\"):\n",
    "                vaclog = elapsed_time(pd.read_csv(filepath, sep=\"\\t\"), \"Time\", vaclog_datetime)\n",
    "                \n",
    "                # Create a variable name using the base name of the MID filename\n",
    "                #variable_name = os.path.splitext(filename)[0]\n",
    "\n",
    "                # Store the vaclog dataframe using the variable name\n",
    "                dataframes[variable_name] = vaclog\n",
    "\n",
    "            #Read in the hivolta file\n",
    "            elif fnmatch.fnmatch(filename,\"*hv log*\"):\n",
    "                hv = pd.read_csv(filepath, sep=\",\")\n",
    "                hv[\"hv_grid\"] = [abs(element) * 1e-6 for element in hv[\"IMon1\"]]\n",
    "                hv[\"I_em\"] = [abs(element) * 1e-6 for element in hv[\"IMon2\"]]\n",
    "                hv[\"datetime\"] = hv['Date'] + ' ' + hv['Time']\n",
    "                hv = elapsed_time(hv, \"datetime\", hv_datetime)\n",
    "\n",
    "                # Create a variable name using the base name of the MID filename\n",
    "                #variable_name = os.path.splitext(filename)[0]\n",
    "                \n",
    "                # Store the hv dataframe using the variable name\n",
    "                dataframes[variable_name] = hv   \n",
    "            \n",
    "    return dataframes\n",
    "\n",
    "\n"
   ]
  },
  {
   "cell_type": "markdown",
   "metadata": {},
   "source": [
    "## Data processing"
   ]
  },
  {
   "cell_type": "code",
   "execution_count": 914,
   "metadata": {},
   "outputs": [
    {
     "name": "stdout",
     "output_type": "stream",
     "text": [
      ".\\vaclog\n",
      "               Live comments                Time  Elapsed time  \\\n",
      "0      starting lhe transfer 2022-12-08 11:07:05           0.0   \n",
      "1                        NaN 2022-12-08 11:07:12           7.0   \n",
      "2                        NaN 2022-12-08 11:07:20          15.0   \n",
      "3                        NaN 2022-12-08 11:07:27          22.0   \n",
      "4                        NaN 2022-12-08 11:07:34          29.0   \n",
      "...                      ...                 ...           ...   \n",
      "11420                    NaN 2022-12-09 09:55:01       82076.0   \n",
      "11421                    NaN 2022-12-09 09:55:08       82083.0   \n",
      "11422                    NaN 2022-12-09 09:55:15       82090.0   \n",
      "11423                    NaN 2022-12-09 09:55:23       82098.0   \n",
      "11424                    NaN 2022-12-09 09:55:30       82105.0   \n",
      "\n",
      "       injection 100mbar      Barion_2      Barion_1  DUAL experiment  \\\n",
      "0                 78.515  4.770000e-09  1.430000e-09     4.996000e-09   \n",
      "1                 78.515  4.770000e-09  1.430000e-09     4.996000e-09   \n",
      "2                 78.515  4.770000e-09  1.420000e-09     4.996000e-09   \n",
      "3                 78.515  4.770000e-09  1.430000e-09     4.996000e-09   \n",
      "4                 78.515  4.780000e-09  1.420000e-09     4.996000e-09   \n",
      "...                  ...           ...           ...              ...   \n",
      "11420             25.175  1.710000e-06  1.660000e-06     1.096000e-06   \n",
      "11421             25.173  1.710000e-06  1.660000e-06     1.096000e-06   \n",
      "11422             25.176  1.710000e-06  1.660000e-06     1.098000e-06   \n",
      "11423             25.175  1.710000e-06  1.660000e-06     1.098000e-06   \n",
      "11424             25.171  1.710000e-06  1.660000e-06     1.098000e-06   \n",
      "\n",
      "       DUAL insulation  injection 1mbar  helium  T-platinum  T-CERNOX  \\\n",
      "0         4.458000e-07              1.1     0.0     -38.496   143.658   \n",
      "1         4.463000e-07              1.1     0.0     -38.720   143.658   \n",
      "2         4.500000e-07              1.1     0.0     -38.608   143.546   \n",
      "3         4.500000e-07              1.1     0.0     -38.384   143.883   \n",
      "4         4.500000e-07              1.1     0.0     -38.608   143.658   \n",
      "...                ...              ...     ...         ...       ...   \n",
      "11420     2.657000e-07              1.1   330.0      -5.163  4323.552   \n",
      "11421     2.657000e-07              1.1   330.0      -4.938  4323.215   \n",
      "11422     2.657000e-07              1.1   330.0      -5.163  4323.439   \n",
      "11423     2.657000e-07              1.1   330.0      -5.050  4323.215   \n",
      "11424     2.654000e-07              1.1   330.0      -4.938  4323.439   \n",
      "\n",
      "       I_emission  I_grid  \n",
      "0             NaN     NaN  \n",
      "1             NaN     NaN  \n",
      "2             NaN     NaN  \n",
      "3             NaN     NaN  \n",
      "4             NaN     NaN  \n",
      "...           ...     ...  \n",
      "11420         NaN     NaN  \n",
      "11421         NaN     NaN  \n",
      "11422         NaN     NaN  \n",
      "11423         NaN     NaN  \n",
      "11424         NaN     NaN  \n",
      "\n",
      "[11425 rows x 14 columns]\n",
      "-----------------\n"
     ]
    }
   ],
   "source": [
    "#Accessing the files\n",
    "root = os.getcwd()\n",
    "data = process_data(root)\n",
    "\n",
    "# Access the processed dataframes using the variable names\n",
    "for variable_name, dataframe in data.items():\n",
    "    print(variable_name)\n",
    "    print(dataframe)\n",
    "    print(\"-----------------\")"
   ]
  },
  {
   "cell_type": "markdown",
   "metadata": {},
   "source": [
    "#### CernOx R-T conversion "
   ]
  },
  {
   "cell_type": "code",
   "execution_count": 915,
   "metadata": {},
   "outputs": [],
   "source": [
    "def tempconvert(df):\n",
    "    new_df = df.copy()\n",
    "    #Temperature curve for CERNOX - for temp stability\n",
    "    A=[230.317302,-6170.1513,71837.9529,-477946.76,2.003668910085786e+6,-5.488690193047771e+6,9.830475663897528e+6,-1.111226817786569e+7,7.202477878914065e+6,-2.04194551328507e+6]\n",
    "\n",
    "    #specify fit parameters A, data (Resistance values)\n",
    "    def polyfit(param,data):\n",
    "        total=[]\n",
    "        for j in data: \n",
    "            exp=0\n",
    "            for i in range(len(param)):\n",
    "                exp += (param[i]/(math.log10(j))**i)\n",
    "            total.append(10**exp)\n",
    "        return(total)\n",
    "    col_loc = int(df.columns.get_loc(\"T-CERNOX\") + 1)    \n",
    "    new_df.insert(col_loc, \"CernOx Temp\", polyfit(A, new_df[\"T-CERNOX\"]))\n",
    "    return new_df\n"
   ]
  },
  {
   "cell_type": "markdown",
   "metadata": {},
   "source": [
    "#### LHe level"
   ]
  },
  {
   "cell_type": "code",
   "execution_count": 916,
   "metadata": {},
   "outputs": [],
   "source": [
    "def linfit(x, a, b):\n",
    "        return a * x + b\n",
    "def lhe_fit(y_val, x_val): #Normal fit without extended x-axis\n",
    "    # Curve fit for the data\n",
    "    params, cov = curve_fit(linfit, x_val, y_val)\n",
    "\n",
    "    # Straight line parameters\n",
    "    a, b = params\n",
    "\n",
    "    # Calculate the number of data points needed to reach b/a condition\n",
    "    num_points = int(abs(b / a) / (x_val[1] - x_val[0])) + 1\n",
    "\n",
    "    # Extend the fitted line to y_fit = 0\n",
    "    x_fit = np.linspace(x_val[0], (-b/a), num_points)\n",
    "\n",
    "    y_fit = linfit(x_fit, a, b)\n",
    "\n",
    "    return x_fit, y_fit, a, b\n",
    "\n",
    "def ext_fit(y_val, x_val, b_val): #extended fit with longer x-axis, user specified b-parameter\n",
    "    # Curve fit for the data\n",
    "    params, cov = curve_fit(linfit, x_val, y_val)\n",
    "\n",
    "    # Straight line parameters\n",
    "    a, b = params\n",
    "\n",
    "    # Calculate the number of data points needed to reach b/a condition\n",
    "    num_points = int(abs(b_val / a) / (x_val[1] - x_val[0])) + 1\n",
    "\n",
    "    # Extend the fitted line to y_fit = 0\n",
    "    x_fit_extended = np.linspace(x_val[0], (-b_val/a), num_points)\n",
    "\n",
    "    y_fit_extended = linfit(x_fit_extended, a, b_val)\n",
    "\n",
    "    return x_fit_extended, y_fit_extended, a, b\n"
   ]
  },
  {
   "cell_type": "markdown",
   "metadata": {},
   "source": [
    "#### Coefficients for gauge readings\n",
    "Applied for the gauge readings using the formula below:\n",
    "    $$\n",
    "    \\frac{p_2}{p_1}=\\sqrt \\frac{T_2}{T_1}\n",
    "    $$\n",
    "Here $p_2$ and $T_2$ are the pressure and temperature in the cold part and $p_1$, $T_1$ are the pressure, temperature the gauge is exposed to."
   ]
  },
  {
   "cell_type": "code",
   "execution_count": 917,
   "metadata": {},
   "outputs": [
    {
     "name": "stdout",
     "output_type": "stream",
     "text": [
      "8.352359233288805\n"
     ]
    }
   ],
   "source": [
    "#Thermal transpiration\n",
    "T2 = 4.2\n",
    "T1 = 293\n",
    "p_coef = np.sqrt(T1/T2)\n",
    "print(p_coef)\n",
    "#N2 to H2 equivalent conversion\n",
    "CF_h2 = 2.49\n",
    "def gauge_correction(df):\n",
    "    new_df = df.copy()\n",
    "    #apply correction factors\n",
    "    ba1 = df[\"Barion_1\"]*CF_h2/p_coef\n",
    "    ba2 = df[\"Barion_2\"]*CF_h2/p_coef\n",
    "    #print(ba1[0])\n",
    "    #print(df[\"Barion_1\"][0])\n",
    "    new_df[\"Barion_1\"] = ba1\n",
    "    new_df[\"Barion_2\"] = ba2\n",
    "    new_df.rename(columns={\"Barion_1\": \"Barion_1 corr\", \"Barion_2\": \"Barion_2 corr\"},inplace=True)\n",
    "   # print(new_df.head)\n",
    "    return new_df"
   ]
  },
  {
   "cell_type": "markdown",
   "metadata": {},
   "source": [
    "#### Theoretical isotherms"
   ]
  },
  {
   "cell_type": "code",
   "execution_count": 918,
   "metadata": {},
   "outputs": [],
   "source": [
    "#reading in other data\n",
    "p_0 = 4.25e-5 #(Pa)\n",
    "p_0_mbar=p_0/100\n",
    "p_0_mbar\n",
    "S_m = 2.39e15 #molecules/cm2\n",
    "d_wallen = 3.61e4/scipy.constants.e**2 # ev^-2 to J^-2\n",
    "def read_data(filepath,delim):\n",
    "    df=pd.read_csv(filepath, delimiter=delim)#for wallen, use \"\\t\"\n",
    "    return df\n",
    "\n",
    "wallen = read_data(r'C:\\Users\\etiirine\\cernbox\\Documents\\etiirinen\\Python\\H2 Adsorption isotherms\\H2 adsorption isotherm on HiLumi sample\\Wallen.csv',\"\\t\")\n"
   ]
  },
  {
   "cell_type": "code",
   "execution_count": 919,
   "metadata": {},
   "outputs": [
    {
     "name": "stdout",
     "output_type": "stream",
     "text": [
      "3.5870064279155188e-06\n"
     ]
    }
   ],
   "source": [
    "#constants\n",
    "b_hobson=1./528**2\n",
    "print(b_hobson)\n",
    "gas_constant=1.9865\n",
    "d_CWB = 3075/scipy.constants.e**2 # J^-2\n",
    "#Hobson and DRK isotherms\n",
    "def theta_hobson(p):\n",
    "    return S_m*np.exp(-b_hobson*(gas_constant*4.2*np.log(p/p_0))**2)\n",
    "def theta_drk(p,d_const):\n",
    "    return S_m*np.exp(-d_const*(scipy.constants.k*4.2*np.log(p/p_0))**2)\n",
    "fit_values = np.logspace(-18,-4,50) #Pa\n",
    "thetas=np.logspace(-7,0,100)"
   ]
  },
  {
   "cell_type": "code",
   "execution_count": 920,
   "metadata": {},
   "outputs": [],
   "source": [
    "#Define pressure on sample\n",
    "#find local minima:\n",
    "def theoretic_sample_p(df):\n",
    "    new_df = df.copy()\n",
    "    #Create a variable for H2 equiv thermal transpiration corrected Barion 2 values\n",
    "    ba2 = df[\"Barion_2 corr\"].values\n",
    "    minima_idx = scipy.signal.argrelmin(ba2,order=10)\n",
    "    #Find the pressure values corresponding to the indexes found\n",
    "    minima_pressure = ba2[minima_idx]\n",
    "    #Find the elapsed time values\n",
    "    elapsed_time_minima = df[\"Elapsed time\"].values[minima_idx]\n",
    "    # Vectorize the theta_hobson function to work with NumPy arrays\n",
    "    theta_hobson_vec = np.vectorize(theta_hobson)\n",
    "    # Perform curve fitting to get the parameters\n",
    "    popt, pcov = curve_fit(theta_hobson_vec, minima_pressure, elapsed_time_minima, p0=1)\n",
    "\n",
    "    # Calculate the fitted elapsed time values using the theta_hobson function\n",
    "    fitted_elapsed_time = theta_hobson_vec(minima_pressure, *popt)\n",
    "\n",
    "    #Create a polynomial fit that goes through these points\n",
    "    # Add data to new_df\n",
    "    col_loc = int(df.columns.get_loc(\"Barion_2 corr\") + 1)\n",
    "    new_df.insert(col_loc, \"sample pressure\", np.nan)\n",
    "    new_df.loc[minima_idx[0], \"sample pressure\"] = minima_pressure\n",
    "    new_df[\"sample pressure\"] = fitted_elapsed_time\n",
    "    #add data to new_df\n",
    "    #col_loc = int(df.columns.get_loc(\"Barion_2 corr\") + 1)    \n",
    "    #new_df.insert(col_loc,\"sample pressure\",minima)\n",
    "    return new_df\n",
    "\n"
   ]
  },
  {
   "cell_type": "markdown",
   "metadata": {},
   "source": [
    "#### Calculating number of molecules injected\n",
    "$$\n",
    "N=\\frac{\\Sigma dp\\cdot V_{inj}}{k_B\\cdot T}=\\frac{\\Sigma (p_{inj,t(x)}-p_{inj,t(x-1)})\\cdot V_{inj}}{k_B \\cdot T}   \\space \\left[{M}\\right]\n",
    "$$"
   ]
  },
  {
   "cell_type": "markdown",
   "metadata": {},
   "source": [
    "$$\n",
    "N=\\frac{\\Sigma\\frac{dp}{dt}\\cdot V_{inj}}{k_B\\cdot T}=\\frac{\\Sigma\\frac{(p_{inj,t(x)}-p_{inj,t(x-1)})}{(t_{t(x)}-t_{t(x-1)})}\\cdot V_{inj}}{k_B \\cdot T}   \\space \\left[\\frac{M}{s}\\right]\n",
    "$$\n",
    "this formula also takes into account the sampling rate (7s)"
   ]
  },
  {
   "cell_type": "code",
   "execution_count": 921,
   "metadata": {},
   "outputs": [],
   "source": [
    "#constants \n",
    "V_inj = 6.515e-5\n",
    "S_sample= 276\n",
    "\n",
    "#Getting the number of molecules injected per second N and (homogenous) coverage:\n",
    "def N_inj(df, inj_gauge):\n",
    "    #Calculate dp\n",
    "    dp = np.diff(df[inj_gauge]*100).clip(0) #mbar to Pa conversion\n",
    "    # Append a 0 to the beginning of the dif array\n",
    "    dp = np.insert(dp, 0, 0)\n",
    "    N = (dp.cumsum()*V_inj)/(scipy.constants.Boltzmann*T1)\n",
    "    cov = N/S_sample #Molecules per cm2\n",
    "    col_loc = int(df.columns.get_loc(inj_gauge) + 1)\n",
    "    df.insert(col_loc,\"Number of molecules injected\",N)\n",
    "    df.insert(col_loc+1,\"Coverage\",cov)\n",
    "    return df"
   ]
  },
  {
   "cell_type": "markdown",
   "metadata": {},
   "source": [
    "#### Comments for annotations"
   ]
  },
  {
   "cell_type": "code",
   "execution_count": 922,
   "metadata": {},
   "outputs": [],
   "source": [
    "def comments(dataframe,timecol,commentcol):\n",
    "    #print hv comments\n",
    "    #print(pd.unique(dataframe[colname]))\n",
    "    new_dataframe = dataframe.loc[:,[timecol,commentcol]]\n",
    "  \n",
    "    #drop NaN values\n",
    "    new_dataframe.dropna(inplace=True)\n",
    "    return new_dataframe"
   ]
  },
  {
   "cell_type": "markdown",
   "metadata": {},
   "source": [
    "#### Simpson's rule for integration (only for isotherm + ESD mixed measurements)"
   ]
  },
  {
   "cell_type": "markdown",
   "metadata": {},
   "source": [
    "## Fitting (TODO)"
   ]
  },
  {
   "cell_type": "markdown",
   "metadata": {},
   "source": [
    "### Adsorption isotherms (DRK, Hobson)\n"
   ]
  },
  {
   "cell_type": "markdown",
   "metadata": {},
   "source": [
    "\n",
    "Model describing the physisorption isotherms for low temperatures in the submonolayer region:\n",
    "\n",
    "$\\ln\\Theta=-D\\left(k_BT\\ln\\left(\\frac{P}{P_0}\\right)\\right)^2=-B\\left(R\\,T\\ln\\left(\\frac{P}{P_0}\\right)\\right)^2$, \n",
    "\n",
    "with $k_B$ the Boltzmann constant, $R$ the gas constant, $D$ or $B$ an empirical constant linked to the vaporisation heat of the adsorbate (DR energy)  and $P_0$ the saturated vapor pressure at the temperature $T$.\n",
    "\n",
    "#### Hobson, 1995\n",
    "Hobson took $B$ to be $B=3.59\\cdot 10^{-6}\\,\\mathrm{cal^{-2}mol^{2}}$ following Halama and Aggus (https://doi.org/10.1116/1.568583 , 1975).\n",
    "R = gas_constant=1.9865\n",
    "\n",
    "\n",
    "#### Chill, Wilfert and Bozyk, 2019\n",
    "Chill, Wilfert and Bozyk measured isotherms between 7 and 18 K on stainless steel and found by fitting $D=3075\\,\\mathrm{eV}^{-2}$."
   ]
  },
  {
   "cell_type": "markdown",
   "metadata": {},
   "source": [
    "### Calculate pressure on the sample\n",
    "$$\n",
    "Q=C\\cdot (p_2-p_1(\\approx \\, <0.1p_2)) \\implies p_1 = \\frac{Cp_2-Q}{C}\n",
    "$$\n",
    "where $p_1$ is the pressure in the RT part and $p_2$ is the pressure in the cold part. C is the conductance of the $d=35$ mm copper chimney\n",
    "\n",
    "$$\n",
    "C=44 \\left[\\frac{l}{s\\cdot cm^2}\\right]\\cdot \\frac{3.5^2\\cdot \\pi}{4} [cm^2]=423.33 \\frac{l}{s}\n",
    "$$\n"
   ]
  },
  {
   "cell_type": "code",
   "execution_count": 923,
   "metadata": {},
   "outputs": [
    {
     "data": {
      "text/plain": [
       "' #Calculate the flux\\nc_chimney = 423.33 #l/s\\ndef sample_pressure(df):\\n    new_df = df.copy()\\n    #define df slice between two comments \"turbo valve closed\" and \"checking base pressure\"\\n    first_inj = new_df.loc[]\\n    #Take the average pressure value of first_inj\\n    p2_avg = first_inj[\"Barion_2 corr\"]\\n    #Take the smallest value of a dataframe slice between comments \"checking base pressure\" and \"restarted injection\"\\n    no_inj = new_df.loc[]\\n    #Calculate the difference of these values\\n    delta_p = p2_avg-no_inj\\n    #Calculate flux according to formula\\n    Q = c_chimney*delta_p\\n    #Calculate the sample pressure for every datapoint in new_df according to the formula\\n    p1 = (c_chimney*p_2-Q)/c_chimney\\n    #add p1 to the dataframe\\n    col_loc = int(new_df.columns.get_loc(\"Barion_2 corr\") + 1)\\n    new_df.insert(col_loc, \"sample pressure\", p1)\\n    return '"
      ]
     },
     "execution_count": 923,
     "metadata": {},
     "output_type": "execute_result"
    }
   ],
   "source": [
    "\"\"\" #Calculate the flux\n",
    "c_chimney = 423.33 #l/s\n",
    "def sample_pressure(df):\n",
    "    new_df = df.copy()\n",
    "    #define df slice between two comments \"turbo valve closed\" and \"checking base pressure\"\n",
    "    first_inj = new_df.loc[]\n",
    "    #Take the average pressure value of first_inj\n",
    "    p2_avg = first_inj[\"Barion_2 corr\"]\n",
    "    #Take the smallest value of a dataframe slice between comments \"checking base pressure\" and \"restarted injection\"\n",
    "    no_inj = new_df.loc[]\n",
    "    #Calculate the difference of these values\n",
    "    delta_p = p2_avg-no_inj\n",
    "    #Calculate flux according to formula\n",
    "    Q = c_chimney*delta_p\n",
    "    #Calculate the sample pressure for every datapoint in new_df according to the formula\n",
    "    p1 = (c_chimney*p_2-Q)/c_chimney\n",
    "    #add p1 to the dataframe\n",
    "    col_loc = int(new_df.columns.get_loc(\"Barion_2 corr\") + 1)\n",
    "    new_df.insert(col_loc, \"sample pressure\", p1)\n",
    "    return \"\"\""
   ]
  },
  {
   "cell_type": "markdown",
   "metadata": {},
   "source": [
    "### $N_{inj}$ by flux integral\n",
    "\n",
    "$$\n",
    "N_{inj} = \\frac{\\int Q dt}{k_BT}\n",
    "$$ "
   ]
  },
  {
   "cell_type": "code",
   "execution_count": 924,
   "metadata": {},
   "outputs": [],
   "source": [
    "c_chimney = 423.33  # l/s\n",
    "\n",
    "def sample_pressure_and_cov(df):\n",
    "    new_df = df.copy()\n",
    "\n",
    "    # Define df slices between all injections, first between comments \"turbo valve closed\" and \"checking base pressure\"\n",
    "    idx_start1 = new_df.loc[(new_df[\"Live comments\"] == \"turbo valve closed\")].index.min()\n",
    "    idx_end1 = new_df.loc[(new_df[\"Live comments\"] == \"checking baseline\")].index.min()\n",
    "    first_inj = new_df.loc[idx_start1:idx_end1]\n",
    "    print(\"1st inj\", len(first_inj.index))\n",
    "\n",
    "    # Define df slices between all injections, second between comments \"restarted injection\" and \"baseline check\"\n",
    "    idx_start2 = new_df.loc[(new_df[\"Live comments\"] == \"restarted injection\")].index.min()\n",
    "    idx_end2 = new_df.loc[(new_df[\"Live comments\"] == \"baseline check\")].index.min()\n",
    "    second_inj = new_df.loc[idx_start2:idx_end2]\n",
    "    print(\"2nd inj\",len(second_inj.index))\n",
    "\n",
    "    # Define df slices between all injections, third between comments \"continuing injection\" and \"base pressure check\"\n",
    "    idx_start3 = new_df.loc[(new_df[\"Live comments\"] == \"continuing injection\")].index.min()\n",
    "    idx_end3 = new_df.loc[(new_df[\"Live comments\"] == \"base pressure check\")].index.max()\n",
    "    third_inj = new_df.loc[idx_start3:idx_end3]\n",
    "    print(\"3rd inj\", len(third_inj.index))\n",
    "\n",
    "    # Define df slices between all injections, starting from timestamp 18:23\n",
    "    start_time = 26200 # timestamp after last base pressure check\n",
    "    start_idx = new_df[new_df[\"Elapsed time\"] >= start_time].index[0]\n",
    "    fourth_inj = new_df.loc[start_idx:]\n",
    "    print(\"4th inj\", len(fourth_inj.index))\n",
    "\n",
    "    # Take the average pressure value of first_inj\n",
    "    p2_avg = first_inj[\"Barion_2 corr\"].mean()\n",
    "\n",
    "    # Take the smallest value of a dataframe slice between comments \"checking base pressure\" and \"restarted injection\"\n",
    "    idx_noinj_start = new_df.loc[(new_df[\"Live comments\"] == \"checking baseline\")].index.min()\n",
    "    idx_noinj_end = new_df.loc[(new_df[\"Live comments\"] == \"restarted injection\")].index.min()\n",
    "    no_inj = new_df.loc[idx_noinj_start:idx_noinj_end]\n",
    "    min_pressure = no_inj[\"Barion_2 corr\"].min()\n",
    "\n",
    "    # Calculate the difference of these values\n",
    "    delta_p = p2_avg - min_pressure\n",
    "\n",
    "    # Calculate flux according to first assumption\n",
    "    const_flux = c_chimney * delta_p\n",
    "    \n",
    "    # Calculate the sample pressure for every datapoint in new_df according to the formula\n",
    "    p1 = (c_chimney * new_df[\"Barion_2 corr\"] - const_flux) / c_chimney\n",
    "    \n",
    "    # Add p1 to the dataframe\n",
    "    col_loc_p1 = int(new_df.columns.get_loc(\"Barion_2 corr\") + 1)\n",
    "    new_df.insert(col_loc_p1, \"sample pressure\", p1)\n",
    "\n",
    "    # Add flux to the dataframe\n",
    "    col_loc_flux = int(new_df.columns.get_loc(\"sample pressure\") + 1)\n",
    "    new_df.insert(col_loc_flux, \"flux through chimney\", const_flux)\n",
    "\n",
    "    # Calculate the number of injected molecules using np.cumsum\n",
    "    a1 = const_flux*np.diff(first_inj[\"Elapsed time\"])*0.1 # mbar*l to Pa/m3 \n",
    "    a2 = const_flux*np.diff(second_inj[\"Elapsed time\"])*0.1\n",
    "    a3 = const_flux*np.diff(third_inj[\"Elapsed time\"])*0.1\n",
    "    a4 = const_flux*np.diff(fourth_inj[\"Elapsed time\"])*0.1\n",
    "\n",
    "    # Calculate the cumulative sums of Q*dt\n",
    "   # Calculate the cumulative sums of Q*dt\n",
    "    first_interval = np.cumsum(a1) / (scipy.constants.k * T1) / 276  # molecules/cm2\n",
    "    second_interval = first_interval[-1] + np.cumsum(a2) / (scipy.constants.k * T1) / 276\n",
    "    third_interval = second_interval[-1] + np.cumsum(a3) / (scipy.constants.k * T1) / 276\n",
    "    fourth_interval = third_interval[-1] + np.cumsum(a4) / (scipy.constants.k * T1) / 276\n",
    "\n",
    "    # Append these to get a continuous array\n",
    "    coverage_intervals = np.concatenate((first_interval, second_interval, third_interval, fourth_interval),axis=0)\n",
    "    \n",
    "    # Create an equal length Elapsed time array and\n",
    "    time_intervals = np.concatenate((first_inj[\"Elapsed time\"].values[:-1],\n",
    "                                     second_inj[\"Elapsed time\"].values[:-1],\n",
    "                                     third_inj[\"Elapsed time\"].values[:-1],\n",
    "                                     fourth_inj[\"Elapsed time\"].values[:-1]))\n",
    "    \n",
    "    # Place both variables into a new dataframe\n",
    "    cov = pd.DataFrame({\"Elapsed time\": time_intervals, \"Coverage, calculated from flux\": coverage_intervals})\n",
    "    print(len(p1.index))\n",
    "    print(len(cov.index))\n",
    "    # Add previously calculated p1 values to the cov DataFrame\n",
    "    matching_p1 = new_df[new_df[\"Elapsed time\"].isin(cov[\"Elapsed time\"])][\"sample pressure\"].values\n",
    "    cov[\"sample pressure\"] = matching_p1\n",
    "    return new_df, cov\n"
   ]
  },
  {
   "cell_type": "markdown",
   "metadata": {},
   "source": [
    "## Calling the data analysis functions and writing to file"
   ]
  },
  {
   "cell_type": "markdown",
   "metadata": {},
   "source": []
  },
  {
   "cell_type": "markdown",
   "metadata": {},
   "source": [
    "#### Defining variables to the called functions"
   ]
  },
  {
   "cell_type": "code",
   "execution_count": 925,
   "metadata": {},
   "outputs": [
    {
     "name": "stdout",
     "output_type": "stream",
     "text": [
      "1st inj 812\n",
      "2nd inj 882\n",
      "3rd inj 815\n",
      "4th inj 7778\n",
      "10892\n",
      "10283\n",
      "                     Time                        Live comments\n",
      "0     2022-12-08 11:07:05                starting lhe transfer\n",
      "512   2022-12-08 12:08:18  inj volume pressurised to 29.5 mbar\n",
      "533   2022-12-08 12:10:49                   turbo valve closed\n",
      "1344  2022-12-08 13:47:59                    checking baseline\n",
      "1537  2022-12-08 14:11:06                  restarted injection\n",
      "2418  2022-12-08 15:56:37                       baseline check\n",
      "2579  2022-12-08 16:15:54                 continuing injection\n",
      "3391  2022-12-08 17:53:08                           LHe refill\n",
      "3393  2022-12-08 17:53:23                  base pressure check\n",
      "3651  2022-12-08 18:24:15                  restarted injection\n",
      "11350 2022-12-09 09:46:37                       baseline check\n"
     ]
    },
    {
     "data": {
      "text/html": [
       "<div>\n",
       "<style scoped>\n",
       "    .dataframe tbody tr th:only-of-type {\n",
       "        vertical-align: middle;\n",
       "    }\n",
       "\n",
       "    .dataframe tbody tr th {\n",
       "        vertical-align: top;\n",
       "    }\n",
       "\n",
       "    .dataframe thead th {\n",
       "        text-align: right;\n",
       "    }\n",
       "</style>\n",
       "<table border=\"1\" class=\"dataframe\">\n",
       "  <thead>\n",
       "    <tr style=\"text-align: right;\">\n",
       "      <th></th>\n",
       "      <th>Elapsed time</th>\n",
       "      <th>Coverage, calculated from flux</th>\n",
       "      <th>sample pressure</th>\n",
       "    </tr>\n",
       "  </thead>\n",
       "  <tbody>\n",
       "    <tr>\n",
       "      <th>0</th>\n",
       "      <td>3824.0</td>\n",
       "      <td>3.584789e+12</td>\n",
       "      <td>-1.286268e-08</td>\n",
       "    </tr>\n",
       "    <tr>\n",
       "      <th>1</th>\n",
       "      <td>3831.0</td>\n",
       "      <td>7.169578e+12</td>\n",
       "      <td>-1.286268e-08</td>\n",
       "    </tr>\n",
       "    <tr>\n",
       "      <th>2</th>\n",
       "      <td>3838.0</td>\n",
       "      <td>1.075437e+13</td>\n",
       "      <td>-1.285671e-08</td>\n",
       "    </tr>\n",
       "    <tr>\n",
       "      <th>3</th>\n",
       "      <td>3845.0</td>\n",
       "      <td>1.485127e+13</td>\n",
       "      <td>-1.285671e-08</td>\n",
       "    </tr>\n",
       "    <tr>\n",
       "      <th>4</th>\n",
       "      <td>3853.0</td>\n",
       "      <td>1.843606e+13</td>\n",
       "      <td>-1.285373e-08</td>\n",
       "    </tr>\n",
       "  </tbody>\n",
       "</table>\n",
       "</div>"
      ],
      "text/plain": [
       "   Elapsed time  Coverage, calculated from flux  sample pressure\n",
       "0        3824.0                    3.584789e+12    -1.286268e-08\n",
       "1        3831.0                    7.169578e+12    -1.286268e-08\n",
       "2        3838.0                    1.075437e+13    -1.285671e-08\n",
       "3        3845.0                    1.485127e+13    -1.285671e-08\n",
       "4        3853.0                    1.843606e+13    -1.285373e-08"
      ]
     },
     "execution_count": 925,
     "metadata": {},
     "output_type": "execute_result"
    }
   ],
   "source": [
    "# Defining a variable for original measurement data\n",
    "vaclog = data[\".\\\\vaclog\"]\n",
    "\n",
    "#LHe data\n",
    "y_val = data[\".\\\\vaclog\"][\"helium\"].values\n",
    "x_val = data[\".\\\\vaclog\"][\"Elapsed time\"].values\n",
    "b_full = 560\n",
    "\n",
    "# Find the indices where x_val has non-NaN values\n",
    "valid_indices = ~np.isnan(x_val)\n",
    "\n",
    "# Remove NaN values from both x_val and y_val using the valid_indices\n",
    "x_val = x_val[valid_indices]\n",
    "y_val = y_val[valid_indices]\n",
    "\n",
    "#Straight line fit for LHe data\n",
    "x_fit, y_fit, a, b = lhe_fit(y_val, x_val)\n",
    "\n",
    "#Extended fit for LHe data\n",
    "x_fit_extended, y_fit_extended, a_ext, b_full = ext_fit(y_val, x_val, b_full)\n",
    "\n",
    "#Cut values before injection start\n",
    "def rows_from_started_comment(dataframe, start_comment):\n",
    "    # Find the index where the comment \"started injection\" is first found\n",
    "    start_index = dataframe.loc[dataframe[\"Live comments\"] == start_comment].index.min()\n",
    "\n",
    "    # Extract all rows from the start_index to the end of the DataFrame\n",
    "    extracted_rows = dataframe.loc[start_index:]\n",
    "\n",
    "    return extracted_rows\n",
    "\n",
    "#Calculate Number of molecules and coverage, CernOx temperature, apply gauge correction\n",
    "vaclog_new = N_inj(rows_from_started_comment((gauge_correction(tempconvert(vaclog))),\"turbo valve closed\"),\"injection 100mbar\")\n",
    "vaclog_sample, coverage = sample_pressure_and_cov(vaclog_new)\n",
    "#Comments\n",
    "vaclog_comments = comments(vaclog,\"Time\", \"Live comments\")\n",
    "print(vaclog_comments)\n",
    "coverage.head()\n",
    "\n",
    "#print(sample_p(vaclog_new).head())"
   ]
  },
  {
   "cell_type": "code",
   "execution_count": 926,
   "metadata": {},
   "outputs": [
    {
     "name": "stdout",
     "output_type": "stream",
     "text": [
      "count    1.089200e+04\n",
      "mean     1.513641e-07\n",
      "std      1.811089e-07\n",
      "min     -1.286268e-08\n",
      "25%      2.554567e-09\n",
      "50%      3.329813e-08\n",
      "75%      3.203871e-07\n",
      "max      5.141647e-07\n",
      "Name: sample pressure, dtype: float64\n"
     ]
    }
   ],
   "source": [
    "print(vaclog_sample[\"sample pressure\"].describe())"
   ]
  },
  {
   "cell_type": "code",
   "execution_count": 927,
   "metadata": {},
   "outputs": [],
   "source": [
    "#### Writing to excel file\n",
    "def write_to_excel(filename):\n",
    "    #Insert Lhe fit data\n",
    "    lhe_fit_data = {f\"Fit x a={a:.4f}, b={b:.4f}\":x_fit,f\"Fit y a={a:.4f}, b={b:.4f}\":y_fit}\n",
    "    lhe_ext_fit_data = {f\"Extended fit x a={a_ext:.4f}, b={b_full:.4f}\":x_fit_extended,f\"Extended fit y a={a_ext:.4f}, b={b_full:.4f}\":y_fit_extended}\n",
    "    lhe_fit_df = pd.DataFrame(lhe_fit_data)\n",
    "    lhe_fit_ext_df = pd.DataFrame(lhe_ext_fit_data)\n",
    "    \n",
    "    #Write to excel\n",
    "    writer = pd.ExcelWriter(os.path.join(os.getcwd(),filename),engine=\"xlsxwriter\")\n",
    "    vaclog.to_excel(writer,sheet_name='Original data')\n",
    "    vaclog_new.to_excel(writer, sheet_name='Analysed data')\n",
    "    lhe_fit_df.to_excel(writer,sheet_name=\"LHe fit data\")\n",
    "    lhe_fit_ext_df.to_excel(writer,sheet_name=\"LHe extended fit data\")\n",
    "    writer.save()\n",
    "    return\n",
    "\n"
   ]
  },
  {
   "cell_type": "markdown",
   "metadata": {},
   "source": [
    "## Plotting "
   ]
  },
  {
   "cell_type": "code",
   "execution_count": 928,
   "metadata": {},
   "outputs": [],
   "source": [
    "#define parameters for plotting\n",
    "#annotation params\n",
    "font = dict(size = \"x-small\", color =\"green\", style =\"italic\",rotation=\"vertical\")\n",
    "\n",
    "plt.rcParams[\"figure.figsize\"] = [8,5]\n",
    "plt.rcParams[\"axes.edgecolor\"] = \"black\"\n",
    "plt.rcParams[\"axes.grid\"] = True\n",
    "plt.rcParams[\"grid.color\"] = \"black\"\n",
    "plt.rcParams[\"grid.linewidth\"] = 0.35\n",
    "\n",
    "formatter = md.DateFormatter('%H:%M')\n",
    "\n",
    "# Create the \"graphs\" folder path\n",
    "graphs_folder = os.path.join(root, 'graphs')\n",
    "\n",
    "# Ensure the \"graphs\" folder exists, if not create it\n",
    "if not os.path.exists(graphs_folder):\n",
    "    os.makedirs(graphs_folder)\n",
    "    "
   ]
  },
  {
   "cell_type": "code",
   "execution_count": 929,
   "metadata": {},
   "outputs": [],
   "source": [
    "# Plotting the temp evolution\n",
    "plt.figure()\n",
    "plt.plot(vaclog_new[\"Time\"],vaclog_new[\"CernOx Temp\"],marker=\".\", markersize=5,label='T-CERNOX')          \n",
    "plt.xlabel('Timestamp')\n",
    "plt.ylabel('Temperature (K)')\n",
    "plt.legend()\n",
    "plt.title(\"Temperature evolution\")\n",
    "plt.yscale('linear')\n",
    "\n",
    "ax = plt.gca()\n",
    "ax.xaxis.set_major_formatter(formatter)\n",
    "ax.xaxis.set_major_locator(plt.MaxNLocator(12))\n",
    "for label in ax.get_xticklabels(which='major'):\n",
    "    label.set(rotation=30, horizontalalignment='right')    \n",
    "\n",
    "plt.savefig(os.path.join(graphs_folder,\"Temp.png\"),dpi=300,bbox_inches='tight')\n",
    "plt.show()"
   ]
  },
  {
   "cell_type": "code",
   "execution_count": 930,
   "metadata": {},
   "outputs": [],
   "source": [
    "# Helium level\n",
    "fig, ax = plt.subplots()\n",
    "ax.plot(x_val/3600, y_val, marker=\".\", markersize=5, label='inj volume pressure')\n",
    "ax.plot(x_fit/3600, y_fit, \"--\", color=\"red\", label=f\"Fitted line (mm/s): y = {a:.4f}*x+{b:.2f}\")\n",
    "ax.legend(loc=\"upper right\")\n",
    "ax.set_xlabel('Elapsed time (h)')\n",
    "ax.set_ylabel('LHe level (mm)')\n",
    "ax.set_yscale('linear')\n",
    "\n",
    "plt.title(\"Helium level drop and fit\")\n",
    "plt.savefig(os.path.join(graphs_folder, 'He_level.png'), dpi=300,bbox_inches='tight')\n",
    "plt.show()\n",
    "    "
   ]
  },
  {
   "cell_type": "code",
   "execution_count": 931,
   "metadata": {},
   "outputs": [],
   "source": [
    "#Plotting BA2, BA1 pressure w comments as seen\n",
    "plt.figure(figsize=(12,6))\n",
    "plt.plot(data[\".\\\\vaclog\"][\"Time\"],data[\".\\\\vaclog\"][\"Barion_2\"],marker=\".\", markersize=4,label='Barion 2')\n",
    "plt.plot(data[\".\\\\vaclog\"][\"Time\"],data[\".\\\\vaclog\"][\"Barion_1\"],marker=\".\", markersize=4,label='Barion 1')\n",
    "plt.plot(data[\".\\\\vaclog\"][\"Time\"],data[\".\\\\vaclog\"][\"DUAL experiment\"],marker=\".\", markersize=4,label='DUAL experiment')\n",
    "\n",
    "plt.xlabel('Timestamp')\n",
    "plt.ylabel('Pressure (mbar)')\n",
    "plt.legend(loc=\"lower right\")\n",
    "plt.title(\"Ads isotherm gauge readings as read\")\n",
    "plt.yscale('log')\n",
    "\n",
    "ax = plt.gca()\n",
    "ax.xaxis.set_major_formatter(formatter)\n",
    "ax.xaxis.set_major_locator(plt.MaxNLocator(12))\n",
    "for label in ax.get_xticklabels(which='major'):\n",
    "    label.set(rotation=30, horizontalalignment='right')    \n",
    "\n",
    "#Writing comments as plot annotations\n",
    "trans  = transforms.blended_transform_factory(\n",
    "    ax.transData, ax.transAxes)\n",
    "for i in vaclog_comments.index:\n",
    "    plt.text(vaclog_comments[\"Time\"][i],0.8,str(vaclog_comments[\"Live comments\"][i]),fontdict=font, transform=trans)      \n",
    "\n",
    "plt.savefig(os.path.join(graphs_folder, './H2 adsorption isotherm_N2 equiv pressures.png'), dpi=300, bbox_inches='tight')\n",
    "plt.show()"
   ]
  },
  {
   "cell_type": "code",
   "execution_count": 932,
   "metadata": {},
   "outputs": [],
   "source": [
    "#Plotting the thermal transpiration corrected H2 equiv. gauge readings against elapsed time\n",
    "plt.figure(figsize=(12,6))\n",
    "plt.plot(vaclog_new[\"Elapsed time\"],vaclog_new[\"Barion_1 corr\"],marker=\".\", markersize=4,label='Barion 1')\n",
    "plt.plot(vaclog_new[\"Elapsed time\"],vaclog_new[\"Barion_2 corr\"],marker=\".\", markersize=4,label='Barion 2')\n",
    "\n",
    "plt.xlabel('Elapsed time (s)')\n",
    "plt.ylabel('Pressure (mbar)')\n",
    "plt.legend(loc=\"lower right\")\n",
    "plt.title(\"Ads isotherm gauge readings H2 equiv vs elapsed time\")\n",
    "plt.yscale('log')\n",
    "\n",
    "plt.savefig(os.path.join(graphs_folder, 'H2 adsorption isotherm_h2 equiv Pressures vs elapsed time.png'), dpi=300, bbox_inches='tight')\n",
    "plt.show()"
   ]
  },
  {
   "cell_type": "code",
   "execution_count": 933,
   "metadata": {},
   "outputs": [],
   "source": [
    "#Plotting the thermal transpiration corrected H2 equiv. gauge readings\n",
    "plt.figure(figsize=(12,6))\n",
    "plt.plot(vaclog_new[\"Time\"],vaclog_new[\"Barion_1 corr\"],marker=\".\", markersize=4,label='Barion 1')\n",
    "plt.plot(vaclog_new[\"Time\"],vaclog_new[\"Barion_2 corr\"],marker=\".\", markersize=4,label='Barion 2')\n",
    "\n",
    "plt.xlabel('Timestamp')\n",
    "plt.ylabel('Pressure (mbar)')\n",
    "plt.legend(loc=\"lower right\")\n",
    "plt.title(\"Ads isotherm gauge readings H2 equiv\")\n",
    "plt.yscale('log')\n",
    "\n",
    "ax = plt.gca()\n",
    "ax.xaxis.set_major_formatter(formatter)\n",
    "ax.xaxis.set_major_locator(plt.MaxNLocator(12))\n",
    "for label in ax.get_xticklabels(which='major'):\n",
    "    label.set(rotation=30, horizontalalignment='right')    \n",
    "\n",
    "#Writing comments as plot annotations\n",
    "trans  = transforms.blended_transform_factory(\n",
    "    ax.transData, ax.transAxes)\n",
    "for i in vaclog_comments.index:\n",
    "    plt.text(vaclog_comments[\"Time\"][i],0.8,str(vaclog_comments[\"Live comments\"][i]),fontdict=font, transform=trans)      \n",
    "\n",
    "plt.savefig(os.path.join(graphs_folder, 'H2 adsorption isotherm_h2 equiv Pressures.png'), dpi=300, bbox_inches='tight')\n",
    "plt.show()"
   ]
  },
  {
   "cell_type": "code",
   "execution_count": 934,
   "metadata": {},
   "outputs": [],
   "source": [
    "#Plotting the corrected barion2 vs cov\n",
    "fig, ax = plt.subplots()\n",
    "\n",
    "ax.plot(vaclog_new[\"Coverage\"],vaclog_new[\"Barion_2 corr\"],marker=\".\", markersize=5,label='BA2 h2 equiv, thermal transp corrected')\n",
    "ax.legend(loc=\"upper left\")\n",
    "ax.set_xlabel('Coverage (M/cm2)')\n",
    "ax.set_ylabel('Pressure (mbar)')\n",
    "ax.set_yscale('log')\n",
    "plt.title(\"HiLumi h2, thermal transp correted BA2 vs coverage\")\n",
    "\n",
    "plt.savefig(os.path.join(graphs_folder, 'Cont inj barion2 corrected vs coverage.png'), dpi=300, bbox_inches='tight')\n",
    "plt.show()"
   ]
  },
  {
   "cell_type": "code",
   "execution_count": 935,
   "metadata": {},
   "outputs": [],
   "source": [
    "#Plotting the real adsorption isotherm (non cov)\n",
    "fig, ax = plt.subplots()\n",
    "\n",
    "ax.plot(vaclog_new[\"Coverage\"],vaclog_sample[\"sample pressure\"],marker=\".\", markersize=5,label='pressure on sample surface')\n",
    "ax.legend(loc=\"upper left\")\n",
    "ax.set_xlabel('Coverage (M/cm2)')\n",
    "ax.set_ylabel('Pressure (mbar)')\n",
    "ax.set_yscale('log')\n",
    "plt.title(\"HiLumi H2 isotherm cont. inj pressure corrected, non cov corrected\")\n",
    "\n",
    "plt.savefig(os.path.join(graphs_folder, 'HiLumi H2 isotherm cont. inj pressure corrected, non cov corrected.png'), dpi=300, bbox_inches='tight')\n",
    "plt.show()"
   ]
  },
  {
   "cell_type": "code",
   "execution_count": 936,
   "metadata": {},
   "outputs": [],
   "source": [
    "#Plotting the real adsorption isotherm (non cov)\n",
    "fig, ax = plt.subplots()\n",
    "\n",
    "ax.plot(coverage[\"Coverage, calculated from flux\"],coverage[\"sample pressure\"],marker=\".\", markersize=5,label='pressure on sample surface')\n",
    "ax.legend(loc=\"upper left\")\n",
    "ax.set_xlabel('Coverage (M/cm2)')\n",
    "ax.set_ylabel('Pressure (mbar)')\n",
    "ax.set_yscale('log')\n",
    "plt.title(\"cov corr HiLumi real H2 isotherm S2 continuous inj\")\n",
    "\n",
    "plt.savefig(os.path.join(graphs_folder, 'cov corr HiLumi real H2 isotherm S2 continuous inj.png'), dpi=300, bbox_inches='tight')\n",
    "plt.show()"
   ]
  },
  {
   "cell_type": "markdown",
   "metadata": {},
   "source": [
    "## Execute writing data to file"
   ]
  },
  {
   "cell_type": "code",
   "execution_count": 937,
   "metadata": {},
   "outputs": [],
   "source": [
    "write_to_excel(\"adsorption isotherms_Tiirinen.xlsx\")"
   ]
  }
 ],
 "metadata": {
  "kernelspec": {
   "display_name": "Python 3 (ipykernel)",
   "language": "python",
   "name": "python3"
  },
  "language_info": {
   "codemirror_mode": {
    "name": "ipython",
    "version": 3
   },
   "file_extension": ".py",
   "mimetype": "text/x-python",
   "name": "python",
   "nbconvert_exporter": "python",
   "pygments_lexer": "ipython3",
   "version": "3.9.12"
  }
 },
 "nbformat": 4,
 "nbformat_minor": 2
}
