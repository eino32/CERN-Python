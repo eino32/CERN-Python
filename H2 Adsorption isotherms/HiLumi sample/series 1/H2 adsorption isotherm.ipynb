{
 "cells": [
  {
   "cell_type": "code",
   "execution_count": 1,
   "id": "4422664c",
   "metadata": {},
   "outputs": [
    {
     "name": "stderr",
     "output_type": "stream",
     "text": [
      "C:\\Users\\etiirine\\Anaconda3\\lib\\site-packages\\scipy\\__init__.py:146: UserWarning: A NumPy version >=1.16.5 and <1.23.0 is required for this version of SciPy (detected version 1.23.2\n",
      "  warnings.warn(f\"A NumPy version >={np_minversion} and <{np_maxversion}\"\n"
     ]
    }
   ],
   "source": [
    "import pandas as pd\n",
    "from scipy.optimize import curve_fit\n",
    "import seaborn\n",
    "seaborn.set(style='whitegrid')\n",
    "import numpy as np\n",
    "import matplotlib.pyplot as plt\n",
    "import math\n",
    "%matplotlib qt\n",
    "# %matplotlib inline\n",
    "from datetime import datetime, date\n"
   ]
  },
  {
   "attachments": {},
   "cell_type": "markdown",
   "id": "c9ff2ecc",
   "metadata": {},
   "source": [
    "## S1 H2 adsorption isotherm"
   ]
  },
  {
   "cell_type": "code",
   "execution_count": 2,
   "id": "6ff563ff",
   "metadata": {},
   "outputs": [],
   "source": [
    "#read in the data\n",
    "df= pd.read_csv(\"vaclog\", sep='\\t', index_col=False)\n",
    "df.drop(columns=[\"I_emission\",\"I_grid\",\"T-platinum\"], inplace=True)\n"
   ]
  },
  {
   "cell_type": "code",
   "execution_count": 3,
   "id": "c901a424",
   "metadata": {},
   "outputs": [
    {
     "data": {
      "text/html": [
       "<div>\n",
       "<style scoped>\n",
       "    .dataframe tbody tr th:only-of-type {\n",
       "        vertical-align: middle;\n",
       "    }\n",
       "\n",
       "    .dataframe tbody tr th {\n",
       "        vertical-align: top;\n",
       "    }\n",
       "\n",
       "    .dataframe thead th {\n",
       "        text-align: right;\n",
       "    }\n",
       "</style>\n",
       "<table border=\"1\" class=\"dataframe\">\n",
       "  <thead>\n",
       "    <tr style=\"text-align: right;\">\n",
       "      <th></th>\n",
       "      <th>Live comments</th>\n",
       "      <th>Elapsed time</th>\n",
       "      <th>Time</th>\n",
       "      <th>injection 100mbar</th>\n",
       "      <th>Barion_2</th>\n",
       "      <th>Barion_1</th>\n",
       "      <th>DUAL experiment</th>\n",
       "      <th>DUAL insulation</th>\n",
       "      <th>injection 1mbar</th>\n",
       "      <th>helium</th>\n",
       "      <th>T-CERNOX</th>\n",
       "    </tr>\n",
       "  </thead>\n",
       "  <tbody>\n",
       "    <tr>\n",
       "      <th>0</th>\n",
       "      <td>NaN</td>\n",
       "      <td>0.0</td>\n",
       "      <td>05/12/2022 14:46:25</td>\n",
       "      <td>0.34736</td>\n",
       "      <td>9.250000e-08</td>\n",
       "      <td>9.190000e-08</td>\n",
       "      <td>5.192000e-08</td>\n",
       "      <td>4.779000e-07</td>\n",
       "      <td>0.000615</td>\n",
       "      <td>0.0</td>\n",
       "      <td>73.513</td>\n",
       "    </tr>\n",
       "    <tr>\n",
       "      <th>1</th>\n",
       "      <td>LHe transfer started</td>\n",
       "      <td>7.0</td>\n",
       "      <td>05/12/2022 14:46:32</td>\n",
       "      <td>0.34709</td>\n",
       "      <td>9.260000e-08</td>\n",
       "      <td>9.210000e-08</td>\n",
       "      <td>5.223000e-08</td>\n",
       "      <td>4.733000e-07</td>\n",
       "      <td>0.000598</td>\n",
       "      <td>0.0</td>\n",
       "      <td>74.074</td>\n",
       "    </tr>\n",
       "    <tr>\n",
       "      <th>2</th>\n",
       "      <td>NaN</td>\n",
       "      <td>15.0</td>\n",
       "      <td>05/12/2022 14:46:40</td>\n",
       "      <td>0.34679</td>\n",
       "      <td>9.260000e-08</td>\n",
       "      <td>9.210000e-08</td>\n",
       "      <td>5.235000e-08</td>\n",
       "      <td>4.688000e-07</td>\n",
       "      <td>0.000614</td>\n",
       "      <td>0.0</td>\n",
       "      <td>74.186</td>\n",
       "    </tr>\n",
       "    <tr>\n",
       "      <th>3</th>\n",
       "      <td>NaN</td>\n",
       "      <td>22.0</td>\n",
       "      <td>05/12/2022 14:46:47</td>\n",
       "      <td>0.34724</td>\n",
       "      <td>9.270000e-08</td>\n",
       "      <td>9.210000e-08</td>\n",
       "      <td>5.235000e-08</td>\n",
       "      <td>4.599000e-07</td>\n",
       "      <td>0.000605</td>\n",
       "      <td>0.0</td>\n",
       "      <td>74.523</td>\n",
       "    </tr>\n",
       "    <tr>\n",
       "      <th>4</th>\n",
       "      <td>NaN</td>\n",
       "      <td>29.0</td>\n",
       "      <td>05/12/2022 14:46:54</td>\n",
       "      <td>0.34758</td>\n",
       "      <td>9.280000e-08</td>\n",
       "      <td>9.230000e-08</td>\n",
       "      <td>5.235000e-08</td>\n",
       "      <td>4.582000e-07</td>\n",
       "      <td>0.000624</td>\n",
       "      <td>0.0</td>\n",
       "      <td>74.859</td>\n",
       "    </tr>\n",
       "  </tbody>\n",
       "</table>\n",
       "</div>"
      ],
      "text/plain": [
       "          Live comments  Elapsed time                 Time  injection 100mbar  \\\n",
       "0                   NaN           0.0  05/12/2022 14:46:25            0.34736   \n",
       "1  LHe transfer started           7.0  05/12/2022 14:46:32            0.34709   \n",
       "2                   NaN          15.0  05/12/2022 14:46:40            0.34679   \n",
       "3                   NaN          22.0  05/12/2022 14:46:47            0.34724   \n",
       "4                   NaN          29.0  05/12/2022 14:46:54            0.34758   \n",
       "\n",
       "       Barion_2      Barion_1  DUAL experiment  DUAL insulation  \\\n",
       "0  9.250000e-08  9.190000e-08     5.192000e-08     4.779000e-07   \n",
       "1  9.260000e-08  9.210000e-08     5.223000e-08     4.733000e-07   \n",
       "2  9.260000e-08  9.210000e-08     5.235000e-08     4.688000e-07   \n",
       "3  9.270000e-08  9.210000e-08     5.235000e-08     4.599000e-07   \n",
       "4  9.280000e-08  9.230000e-08     5.235000e-08     4.582000e-07   \n",
       "\n",
       "   injection 1mbar  helium  T-CERNOX  \n",
       "0         0.000615     0.0    73.513  \n",
       "1         0.000598     0.0    74.074  \n",
       "2         0.000614     0.0    74.186  \n",
       "3         0.000605     0.0    74.523  \n",
       "4         0.000624     0.0    74.859  "
      ]
     },
     "execution_count": 3,
     "metadata": {},
     "output_type": "execute_result"
    }
   ],
   "source": [
    "#add elapsed time\n",
    "\n",
    "timestamps=pd.to_datetime(df[\"Time\"],format=\"%d/%m/%Y %H:%M:%S\")\n",
    "runtime=(timestamps-timestamps[0]).dt.total_seconds()    \n",
    "df.insert(1,\"Elapsed time\",runtime)\n",
    "df.head()\n"
   ]
  },
  {
   "cell_type": "code",
   "execution_count": 4,
   "id": "d1301170",
   "metadata": {},
   "outputs": [],
   "source": [
    "#Temperature curve for CERNOX \n",
    "A=[230.317302,-6170.1513,71837.9529,-477946.76,2.003668910085786e+6,-5.488690193047771e+6,9.830475663897528e+6,-1.111226817786569e+7,7.202477878914065e+6,-2.04194551328507e+6]\n",
    "#specify fit parameters A, data (Resistance values)\n",
    "def polyfit(params,data):\n",
    "    total=[]\n",
    "    for j in data: \n",
    "        exp=0\n",
    "        for i in range(len(params)):\n",
    "            exp += (params[i]/(math.log10(j))**i)\n",
    "        total.append(10**exp)\n",
    "    return(total)    \n"
   ]
  },
  {
   "cell_type": "code",
   "execution_count": 5,
   "id": "59dbf578",
   "metadata": {},
   "outputs": [],
   "source": [
    "#Plotting the general pressure evolution for overview\n",
    "fig, ax = plt.subplots()\n",
    "\n",
    "ax.plot(df[\"Elapsed time\"]/3600, polyfit(A,df[\"T-CERNOX\"]),marker=\".\", markersize=5,label='Temperature')\n",
    "ax.set_ylabel('Temperature (K)')\n",
    "\n",
    "ax.set_xlabel('Elapsed time (h)')\n",
    "ax2=ax.twinx()\n",
    "\n",
    "ax2.plot((df[\"Elapsed time\"]/3600),df['Barion_1'],marker=\".\", markersize=5,label='BA1')\n",
    "ax2.plot((df[\"Elapsed time\"]/3600),df['Barion_2'],marker=\".\", markersize=5,label='BA2')\n",
    "ax2.plot((df[\"Elapsed time\"]/3600),df['injection 100mbar'],marker=\".\", markersize=5,label='100mbar F-R')\n",
    "ax2.set_ylabel('Pressure (mbar)')\n",
    "\n",
    "plt.legend(loc=\"upper right\")\n",
    "plt.title(\"H2 adsorption isotherm measurement\")\n",
    "ax2.set_yscale('log')\n"
   ]
  },
  {
   "cell_type": "code",
   "execution_count": 6,
   "id": "3adfdd3a",
   "metadata": {},
   "outputs": [
    {
     "name": "stdout",
     "output_type": "stream",
     "text": [
      "      Live comments  Elapsed time                 Time  injection 100mbar  \\\n",
      "927             NaN        6661.0  05/12/2022 16:37:26             80.558   \n",
      "928             NaN        6668.0  05/12/2022 16:37:33             80.558   \n",
      "929             NaN        6675.0  05/12/2022 16:37:40             80.559   \n",
      "930             NaN        6682.0  05/12/2022 16:37:47             80.558   \n",
      "931             NaN        6689.0  05/12/2022 16:37:54             80.559   \n",
      "...             ...           ...                  ...                ...   \n",
      "20028           NaN      143972.0  07/12/2022 06:45:57             78.276   \n",
      "20029           NaN      143979.0  07/12/2022 06:46:04             78.278   \n",
      "20030           NaN      143986.0  07/12/2022 06:46:11             78.279   \n",
      "20031           NaN      143993.0  07/12/2022 06:46:18             78.279   \n",
      "20032           NaN      144000.0  07/12/2022 06:46:25             78.280   \n",
      "\n",
      "           Barion_2      Barion_1  DUAL experiment  DUAL insulation  \\\n",
      "927    2.590000e-08  2.580000e-08     1.489000e-08     3.282000e-07   \n",
      "928    2.590000e-08  2.580000e-08     1.491000e-08     3.282000e-07   \n",
      "929    2.590000e-08  2.590000e-08     1.493000e-08     3.282000e-07   \n",
      "930    2.590000e-08  2.590000e-08     1.495000e-08     3.286000e-07   \n",
      "931    2.590000e-08  2.590000e-08     1.496000e-08     3.282000e-07   \n",
      "...             ...           ...              ...              ...   \n",
      "20028  3.760000e-07  3.690000e-07     2.475000e-07     4.452000e-07   \n",
      "20029  3.760000e-07  3.690000e-07     2.475000e-07     4.511000e-07   \n",
      "20030  3.760000e-07  3.690000e-07     2.475000e-07     4.495000e-07   \n",
      "20031  3.760000e-07  3.690000e-07     2.475000e-07     4.458000e-07   \n",
      "20032  3.760000e-07  3.700000e-07     2.478000e-07     4.452000e-07   \n",
      "\n",
      "       injection 1mbar  helium  T-CERNOX  \n",
      "927                1.1   424.0  4282.587  \n",
      "928                1.1   424.0  4282.699  \n",
      "929                1.1   425.0  4282.811  \n",
      "930                1.1   424.0  4282.811  \n",
      "931                1.1   424.0  4282.699  \n",
      "...                ...     ...       ...  \n",
      "20028              1.1    99.0  4257.334  \n",
      "20029              1.1    99.0  4256.998  \n",
      "20030              1.1    99.0  4257.110  \n",
      "20031              1.1    99.0  4256.998  \n",
      "20032              1.1    99.0  4256.773  \n",
      "\n",
      "[19106 rows x 11 columns]\n"
     ]
    }
   ],
   "source": [
    "#slicing the dataset\n",
    "start = df.iloc[list(df[\"Elapsed time\"]/3600<=1.85)]\n",
    "ramp = df.iloc[list((df[\"Elapsed time\"]/3600).between(1.85,40))]\n",
    "print(ramp)"
   ]
  },
  {
   "cell_type": "code",
   "execution_count": 7,
   "id": "5e03dad1",
   "metadata": {},
   "outputs": [
    {
     "data": {
      "text/plain": [
       "Text(0.5, 1.0, 'H2 adsorption isotherm close-up')"
      ]
     },
     "execution_count": 7,
     "metadata": {},
     "output_type": "execute_result"
    }
   ],
   "source": [
    "#plotting the sliced data\n",
    "#Plotting the general pressure evolution for overview\n",
    "fig, ax = plt.subplots()\n",
    "\n",
    "ax.plot((ramp[\"Elapsed time\"]/3600),ramp['Barion_1'],marker=\".\", markersize=5,label='BA1')\n",
    "ax.plot((ramp[\"Elapsed time\"]/3600),ramp['Barion_2'],marker=\".\", markersize=5,label='BA2')\n",
    "ax.plot((ramp[\"Elapsed time\"]/3600),ramp['DUAL experiment'],marker=\".\", markersize=5,label='DUAL gauge')\n",
    "plt.legend(loc=\"upper right\")\n",
    "\n",
    "ax.set_xlabel('Elapsed time (h)')\n",
    "ax.set_ylabel('Pressure (mbar)')\n",
    "ax.set_yscale('log')\n",
    "\n",
    "plt.legend(loc=\"upper right\")\n",
    "plt.title(\"H2 adsorption isotherm close-up\")\n"
   ]
  }
 ],
 "metadata": {
  "kernelspec": {
   "display_name": "Python 3 (ipykernel)",
   "language": "python",
   "name": "python3"
  },
  "language_info": {
   "codemirror_mode": {
    "name": "ipython",
    "version": 3
   },
   "file_extension": ".py",
   "mimetype": "text/x-python",
   "name": "python",
   "nbconvert_exporter": "python",
   "pygments_lexer": "ipython3",
   "version": "3.9.5"
  }
 },
 "nbformat": 4,
 "nbformat_minor": 5
}
