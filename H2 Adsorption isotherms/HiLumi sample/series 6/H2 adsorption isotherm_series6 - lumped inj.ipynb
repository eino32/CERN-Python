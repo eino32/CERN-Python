{
 "cells": [
  {
   "cell_type": "code",
   "execution_count": 11,
   "id": "66e3cff0",
   "metadata": {},
   "outputs": [],
   "source": [
    "import pandas as pd\n",
    "import scipy.constants\n",
    "from scipy.optimize import curve_fit\n",
    "from scipy.integrate import quad\n",
    "from sklearn.metrics import r2_score\n",
    "import numpy as np\n",
    "import math\n",
    "import matplotlib.pyplot as plt\n",
    "import matplotlib.dates as md\n",
    "import matplotlib.transforms as transforms\n",
    "from matplotlib.ticker import LogFormatter\n",
    "%matplotlib qt\n",
    "# %matplotlib inline\n",
    "import datetime as dt\n",
    "pd.set_option('display.max_rows', 100) "
   ]
  },
  {
   "attachments": {},
   "cell_type": "markdown",
   "id": "f94b1417",
   "metadata": {},
   "source": [
    "## S6 H2 adsorption isotherm, lumped injections"
   ]
  },
  {
   "attachments": {},
   "cell_type": "markdown",
   "id": "258c16cb",
   "metadata": {},
   "source": [
    "### Reading in the data and preparing DataFrames"
   ]
  },
  {
   "cell_type": "code",
   "execution_count": 12,
   "id": "fdf15039",
   "metadata": {},
   "outputs": [
    {
     "data": {
      "text/html": [
       "<div>\n",
       "<style scoped>\n",
       "    .dataframe tbody tr th:only-of-type {\n",
       "        vertical-align: middle;\n",
       "    }\n",
       "\n",
       "    .dataframe tbody tr th {\n",
       "        vertical-align: top;\n",
       "    }\n",
       "\n",
       "    .dataframe thead th {\n",
       "        text-align: right;\n",
       "    }\n",
       "</style>\n",
       "<table border=\"1\" class=\"dataframe\">\n",
       "  <thead>\n",
       "    <tr style=\"text-align: right;\">\n",
       "      <th></th>\n",
       "      <th>Live comments</th>\n",
       "      <th>Time</th>\n",
       "      <th>Elapsed time</th>\n",
       "      <th>injection 100mbar</th>\n",
       "      <th>Barion_2</th>\n",
       "      <th>Barion_1</th>\n",
       "      <th>DUAL experiment</th>\n",
       "      <th>DUAL insulation</th>\n",
       "      <th>injection 1mbar</th>\n",
       "      <th>helium</th>\n",
       "      <th>T-platinum</th>\n",
       "      <th>T-CERNOX</th>\n",
       "      <th>I_emission</th>\n",
       "      <th>I_grid</th>\n",
       "    </tr>\n",
       "  </thead>\n",
       "  <tbody>\n",
       "    <tr>\n",
       "      <th>0</th>\n",
       "      <td>NaN</td>\n",
       "      <td>2023-03-10 11:41:44</td>\n",
       "      <td>0.0</td>\n",
       "      <td>96.842</td>\n",
       "      <td>1.030000e-09</td>\n",
       "      <td>1.290000e-09</td>\n",
       "      <td>4.996000e-09</td>\n",
       "      <td>2.670000e-07</td>\n",
       "      <td>1.1</td>\n",
       "      <td>292.0</td>\n",
       "      <td>-5.050</td>\n",
       "      <td>4288.311</td>\n",
       "      <td>NaN</td>\n",
       "      <td>NaN</td>\n",
       "    </tr>\n",
       "    <tr>\n",
       "      <th>1</th>\n",
       "      <td>NaN</td>\n",
       "      <td>2023-03-10 11:41:51</td>\n",
       "      <td>7.0</td>\n",
       "      <td>96.846</td>\n",
       "      <td>1.030000e-09</td>\n",
       "      <td>1.290000e-09</td>\n",
       "      <td>4.996000e-09</td>\n",
       "      <td>2.673000e-07</td>\n",
       "      <td>1.1</td>\n",
       "      <td>292.0</td>\n",
       "      <td>-5.163</td>\n",
       "      <td>4288.984</td>\n",
       "      <td>NaN</td>\n",
       "      <td>NaN</td>\n",
       "    </tr>\n",
       "    <tr>\n",
       "      <th>2</th>\n",
       "      <td>NaN</td>\n",
       "      <td>2023-03-10 11:41:57</td>\n",
       "      <td>13.0</td>\n",
       "      <td>96.846</td>\n",
       "      <td>1.030000e-09</td>\n",
       "      <td>1.290000e-09</td>\n",
       "      <td>4.996000e-09</td>\n",
       "      <td>2.673000e-07</td>\n",
       "      <td>1.1</td>\n",
       "      <td>292.0</td>\n",
       "      <td>-4.938</td>\n",
       "      <td>4289.657</td>\n",
       "      <td>NaN</td>\n",
       "      <td>NaN</td>\n",
       "    </tr>\n",
       "    <tr>\n",
       "      <th>3</th>\n",
       "      <td>NaN</td>\n",
       "      <td>2023-03-10 11:42:04</td>\n",
       "      <td>20.0</td>\n",
       "      <td>96.847</td>\n",
       "      <td>1.030000e-09</td>\n",
       "      <td>1.280000e-09</td>\n",
       "      <td>4.996000e-09</td>\n",
       "      <td>2.676000e-07</td>\n",
       "      <td>1.1</td>\n",
       "      <td>292.0</td>\n",
       "      <td>-5.050</td>\n",
       "      <td>4290.555</td>\n",
       "      <td>NaN</td>\n",
       "      <td>NaN</td>\n",
       "    </tr>\n",
       "    <tr>\n",
       "      <th>4</th>\n",
       "      <td>NaN</td>\n",
       "      <td>2023-03-10 11:42:11</td>\n",
       "      <td>27.0</td>\n",
       "      <td>96.846</td>\n",
       "      <td>1.030000e-09</td>\n",
       "      <td>1.280000e-09</td>\n",
       "      <td>4.996000e-09</td>\n",
       "      <td>2.676000e-07</td>\n",
       "      <td>1.1</td>\n",
       "      <td>292.0</td>\n",
       "      <td>-5.163</td>\n",
       "      <td>4291.341</td>\n",
       "      <td>NaN</td>\n",
       "      <td>NaN</td>\n",
       "    </tr>\n",
       "  </tbody>\n",
       "</table>\n",
       "</div>"
      ],
      "text/plain": [
       "  Live comments                Time  Elapsed time  injection 100mbar  \\\n",
       "0           NaN 2023-03-10 11:41:44           0.0             96.842   \n",
       "1           NaN 2023-03-10 11:41:51           7.0             96.846   \n",
       "2           NaN 2023-03-10 11:41:57          13.0             96.846   \n",
       "3           NaN 2023-03-10 11:42:04          20.0             96.847   \n",
       "4           NaN 2023-03-10 11:42:11          27.0             96.846   \n",
       "\n",
       "       Barion_2      Barion_1  DUAL experiment  DUAL insulation  \\\n",
       "0  1.030000e-09  1.290000e-09     4.996000e-09     2.670000e-07   \n",
       "1  1.030000e-09  1.290000e-09     4.996000e-09     2.673000e-07   \n",
       "2  1.030000e-09  1.290000e-09     4.996000e-09     2.673000e-07   \n",
       "3  1.030000e-09  1.280000e-09     4.996000e-09     2.676000e-07   \n",
       "4  1.030000e-09  1.280000e-09     4.996000e-09     2.676000e-07   \n",
       "\n",
       "   injection 1mbar  helium  T-platinum  T-CERNOX  I_emission  I_grid  \n",
       "0              1.1   292.0      -5.050  4288.311         NaN     NaN  \n",
       "1              1.1   292.0      -5.163  4288.984         NaN     NaN  \n",
       "2              1.1   292.0      -4.938  4289.657         NaN     NaN  \n",
       "3              1.1   292.0      -5.050  4290.555         NaN     NaN  \n",
       "4              1.1   292.0      -5.163  4291.341         NaN     NaN  "
      ]
     },
     "execution_count": 12,
     "metadata": {},
     "output_type": "execute_result"
    }
   ],
   "source": [
    "#reading vaclogger measurement file\n",
    "vaclog=pd.read_csv(\"vaclog2\", sep=\"\\t\")\n",
    "vaclog.head()\n",
    "\n",
    "#adding an elapsed time column\n",
    "vac_timestamps=pd.to_datetime(vaclog[\"Time\"],format=\"%d/%m/%Y %H:%M:%S\")\n",
    "runtime=(vac_timestamps-vac_timestamps[0]).dt.total_seconds()    \n",
    "vaclog.insert(2,\"Elapsed time\",runtime)\n",
    "# vaclog.drop(index=vaclog.index[0], \n",
    "#         axis=0, \n",
    "#         inplace=True)\n",
    "vaclog[\"Time\"] = vac_timestamps.dt.strftime('%d-%m-%Y %H:%M:%S')\n",
    "vaclog[\"Time\"] = pd.to_datetime(vaclog[\"Time\"],format='%d-%m-%Y %H:%M:%S')\n",
    "\n",
    "vaclog.head()"
   ]
  },
  {
   "attachments": {},
   "cell_type": "markdown",
   "id": "4d4c7b06",
   "metadata": {},
   "source": [
    "### Data processing"
   ]
  },
  {
   "cell_type": "code",
   "execution_count": 13,
   "id": "ffc33161",
   "metadata": {},
   "outputs": [
    {
     "name": "stdout",
     "output_type": "stream",
     "text": [
      "[nan 'recovered from serial hub error' 'starting first injection'\n",
      " 'first injection complete' 'RGA filament on again'\n",
      " 'restarted first ESD cycle' 'end of first esd cycle'\n",
      " 'second injection complete' 'starting second esd cycle'\n",
      " 'second esd cycle end' 'started third injection'\n",
      " 'stopped third injection' 'LHe transfer' 'starting third esd cycle'\n",
      " 'no visible esd' 'ending third esd cycle'\n",
      " 'starting injection to reach sat vapor pressure' 'barion error']\n"
     ]
    }
   ],
   "source": [
    "#print vaclog comments\n",
    "print(pd.unique(vaclog[\"Live comments\"]))"
   ]
  },
  {
   "attachments": {},
   "cell_type": "markdown",
   "id": "fd2ead21",
   "metadata": {},
   "source": [
    "#### CernOx temperature R-T conversion"
   ]
  },
  {
   "cell_type": "code",
   "execution_count": 14,
   "id": "eac28b3d",
   "metadata": {},
   "outputs": [],
   "source": [
    "#Temperature curve for CERNOX \n",
    "A=[230.317302,-6170.1513,71837.9529,-477946.76,2.003668910085786e+6,-5.488690193047771e+6,9.830475663897528e+6,-1.111226817786569e+7,7.202477878914065e+6,-2.04194551328507e+6]\n",
    "#specify fit parameters A, data (Resistance values)\n",
    "def polyfit(params,data):\n",
    "    total=[]\n",
    "    for j in data: \n",
    "        exp=0\n",
    "        for i in range(len(params)):\n",
    "            exp += (params[i]/(math.log10(j))**i)\n",
    "        total.append(10**exp)\n",
    "    return(total)    \n"
   ]
  },
  {
   "attachments": {},
   "cell_type": "markdown",
   "id": "ccf99e63",
   "metadata": {},
   "source": [
    "## Ignore end of measurement"
   ]
  },
  {
   "cell_type": "code",
   "execution_count": 15,
   "id": "01babd98",
   "metadata": {},
   "outputs": [
    {
     "name": "stdout",
     "output_type": "stream",
     "text": [
      "     Live comments                Time  Elapsed time  injection 100mbar  \\\n",
      "0              NaN 2023-03-10 11:41:44           0.0             96.842   \n",
      "1              NaN 2023-03-10 11:41:51           7.0             96.846   \n",
      "2              NaN 2023-03-10 11:41:57          13.0             96.846   \n",
      "3              NaN 2023-03-10 11:42:04          20.0             96.847   \n",
      "4              NaN 2023-03-10 11:42:11          27.0             96.846   \n",
      "...            ...                 ...           ...                ...   \n",
      "1033           NaN 2023-03-10 13:41:13        7169.0             95.966   \n",
      "1034           NaN 2023-03-10 13:41:20        7176.0             95.967   \n",
      "1035           NaN 2023-03-10 13:41:27        7183.0             95.968   \n",
      "1036           NaN 2023-03-10 13:41:34        7190.0             95.964   \n",
      "1037           NaN 2023-03-10 13:41:41        7197.0             95.963   \n",
      "\n",
      "          Barion_2      Barion_1  DUAL experiment  DUAL insulation  \\\n",
      "0     1.030000e-09  1.290000e-09     4.996000e-09     2.670000e-07   \n",
      "1     1.030000e-09  1.290000e-09     4.996000e-09     2.673000e-07   \n",
      "2     1.030000e-09  1.290000e-09     4.996000e-09     2.673000e-07   \n",
      "3     1.030000e-09  1.280000e-09     4.996000e-09     2.676000e-07   \n",
      "4     1.030000e-09  1.280000e-09     4.996000e-09     2.676000e-07   \n",
      "...            ...           ...              ...              ...   \n",
      "1033  2.250000e-09  2.510000e-09     4.996000e-09     3.124000e-07   \n",
      "1034  2.250000e-09  2.520000e-09     4.996000e-09     3.124000e-07   \n",
      "1035  2.250000e-09  2.510000e-09     4.996000e-09     3.124000e-07   \n",
      "1036  2.250000e-09  2.510000e-09     4.996000e-09     3.128000e-07   \n",
      "1037  2.250000e-09  2.520000e-09     4.996000e-09     3.128000e-07   \n",
      "\n",
      "      injection 1mbar  helium  T-platinum  T-CERNOX  I_emission  I_grid  \n",
      "0                 1.1   292.0      -5.050  4288.311         NaN     NaN  \n",
      "1                 1.1   292.0      -5.163  4288.984         NaN     NaN  \n",
      "2                 1.1   292.0      -4.938  4289.657         NaN     NaN  \n",
      "3                 1.1   292.0      -5.050  4290.555         NaN     NaN  \n",
      "4                 1.1   292.0      -5.163  4291.341         NaN     NaN  \n",
      "...               ...     ...         ...       ...         ...     ...  \n",
      "1033              1.1   251.0      -5.275  4314.236         NaN     NaN  \n",
      "1034              1.1   251.0      -5.050  4314.349         NaN     NaN  \n",
      "1035              1.1   251.0      -5.050  4314.349         NaN     NaN  \n",
      "1036              1.1   251.0      -5.050  4314.349         NaN     NaN  \n",
      "1037              1.1   251.0      -5.163  4314.461         NaN     NaN  \n",
      "\n",
      "[1037 rows x 14 columns]\n"
     ]
    }
   ],
   "source": [
    "#slicing the dataset\n",
    "ramp = vaclog.iloc[list((vaclog[\"Elapsed time\"]/3600).between(0,2))]\n",
    "print(ramp)"
   ]
  },
  {
   "attachments": {},
   "cell_type": "markdown",
   "id": "f726b64e",
   "metadata": {},
   "source": [
    "## Subtracting baseline"
   ]
  },
  {
   "cell_type": "code",
   "execution_count": 16,
   "id": "0392dcce",
   "metadata": {},
   "outputs": [
    {
     "name": "stdout",
     "output_type": "stream",
     "text": [
      "                                       Live comments                Time  \\\n",
      "56                                               NaN 2023-03-10 11:48:10   \n",
      "57                                               NaN 2023-03-10 11:48:17   \n",
      "58                                               NaN 2023-03-10 11:48:24   \n",
      "59                                               NaN 2023-03-10 11:48:31   \n",
      "60                                               NaN 2023-03-10 11:48:38   \n",
      "...                                              ...                 ...   \n",
      "3465                                             NaN 2023-03-10 18:22:40   \n",
      "3466  starting injection to reach sat vapor pressure 2023-03-10 18:22:47   \n",
      "3467                                             NaN 2023-03-10 18:22:54   \n",
      "3468                                             NaN 2023-03-10 18:23:01   \n",
      "3469                                             NaN 2023-03-10 18:23:08   \n",
      "\n",
      "      injection 100mbar      Barion_2      Barion_1  DUAL experiment  \\\n",
      "56               96.846  1.270000e-07  1.330000e-07     2.102000e-07   \n",
      "57               96.842  3.150000e-07  2.920000e-07     2.373000e-07   \n",
      "58               96.843  3.680000e-07  3.450000e-07     2.551000e-07   \n",
      "59               96.838  3.720000e-07  3.490000e-07     2.563000e-07   \n",
      "60               96.838  3.740000e-07  3.500000e-07     2.572000e-07   \n",
      "...                 ...           ...           ...              ...   \n",
      "3465             93.836  1.580000e-06  1.440000e-06     9.161000e-07   \n",
      "3466             93.836  1.580000e-06  1.440000e-06     9.161000e-07   \n",
      "3467             93.836  1.580000e-06  1.430000e-06     9.161000e-07   \n",
      "3468             93.836  1.580000e-06  1.430000e-06     9.150000e-07   \n",
      "3469             93.832  1.170000e-05  1.220000e-05     1.237000e-04   \n",
      "\n",
      "      DUAL insulation  injection 1mbar  helium  T-platinum  T-CERNOX  \\\n",
      "56       2.754000e-07              1.1   289.0      -5.163  4309.523   \n",
      "57       2.754000e-07              1.1   289.0      -5.050  4309.523   \n",
      "58       2.758000e-07              1.1   288.0      -5.163  4309.859   \n",
      "59       2.758000e-07              1.1   289.0      -5.275  4309.971   \n",
      "60       2.758000e-07              1.1   289.0      -5.275  4309.859   \n",
      "...               ...              ...     ...         ...       ...   \n",
      "3465     3.039000e-07              1.1   242.0      -5.050  4304.135   \n",
      "3466     3.039000e-07              1.1   242.0      -5.050  4304.248   \n",
      "3467     3.039000e-07              1.1   242.0      -5.163  4304.472   \n",
      "3468     3.039000e-07              1.1   243.0      -5.050  4304.248   \n",
      "3469     3.039000e-07              1.1   242.0      -5.275  4304.472   \n",
      "\n",
      "      I_emission  I_grid  \n",
      "56           NaN     NaN  \n",
      "57           NaN     NaN  \n",
      "58           NaN     NaN  \n",
      "59           NaN     NaN  \n",
      "60           NaN     NaN  \n",
      "...          ...     ...  \n",
      "3465         NaN     NaN  \n",
      "3466         NaN     NaN  \n",
      "3467         NaN     NaN  \n",
      "3468         NaN     NaN  \n",
      "3469         NaN     NaN  \n",
      "\n",
      "[1920 rows x 13 columns]\n"
     ]
    },
    {
     "name": "stderr",
     "output_type": "stream",
     "text": [
      "C:\\Users\\etiirine\\AppData\\Local\\Temp\\ipykernel_9672\\522004775.py:6: SettingWithCopyWarning: \n",
      "A value is trying to be set on a copy of a slice from a DataFrame\n",
      "\n",
      "See the caveats in the documentation: https://pandas.pydata.org/pandas-docs/stable/user_guide/indexing.html#returning-a-view-versus-a-copy\n",
      "  inj.drop(columns=\"Elapsed time\", inplace=True)\n"
     ]
    },
    {
     "ename": "KeyError",
     "evalue": "633",
     "output_type": "error",
     "traceback": [
      "\u001b[1;31m---------------------------------------------------------------------------\u001b[0m",
      "\u001b[1;31mKeyError\u001b[0m                                  Traceback (most recent call last)",
      "File \u001b[1;32mc:\\Users\\etiirine\\Anaconda3\\lib\\site-packages\\pandas\\core\\indexes\\base.py:3621\u001b[0m, in \u001b[0;36mIndex.get_loc\u001b[1;34m(self, key, method, tolerance)\u001b[0m\n\u001b[0;32m   3620\u001b[0m \u001b[39mtry\u001b[39;00m:\n\u001b[1;32m-> 3621\u001b[0m     \u001b[39mreturn\u001b[39;00m \u001b[39mself\u001b[39;49m\u001b[39m.\u001b[39;49m_engine\u001b[39m.\u001b[39;49mget_loc(casted_key)\n\u001b[0;32m   3622\u001b[0m \u001b[39mexcept\u001b[39;00m \u001b[39mKeyError\u001b[39;00m \u001b[39mas\u001b[39;00m err:\n",
      "File \u001b[1;32mc:\\Users\\etiirine\\Anaconda3\\lib\\site-packages\\pandas\\_libs\\index.pyx:136\u001b[0m, in \u001b[0;36mpandas._libs.index.IndexEngine.get_loc\u001b[1;34m()\u001b[0m\n",
      "File \u001b[1;32mc:\\Users\\etiirine\\Anaconda3\\lib\\site-packages\\pandas\\_libs\\index.pyx:163\u001b[0m, in \u001b[0;36mpandas._libs.index.IndexEngine.get_loc\u001b[1;34m()\u001b[0m\n",
      "File \u001b[1;32mpandas\\_libs\\hashtable_class_helper.pxi:2131\u001b[0m, in \u001b[0;36mpandas._libs.hashtable.Int64HashTable.get_item\u001b[1;34m()\u001b[0m\n",
      "File \u001b[1;32mpandas\\_libs\\hashtable_class_helper.pxi:2140\u001b[0m, in \u001b[0;36mpandas._libs.hashtable.Int64HashTable.get_item\u001b[1;34m()\u001b[0m\n",
      "\u001b[1;31mKeyError\u001b[0m: 633",
      "\nThe above exception was the direct cause of the following exception:\n",
      "\u001b[1;31mKeyError\u001b[0m                                  Traceback (most recent call last)",
      "\u001b[1;32mc:\\Users\\etiirine\\cernbox\\Documents\\etiirinen\\Python\\H2 Adsorption isotherms\\HiLumi sample\\series 6\\H2 adsorption isotherm_series6 - lumped inj.ipynb Cell 12\u001b[0m in \u001b[0;36m<cell line: 9>\u001b[1;34m()\u001b[0m\n\u001b[0;32m      <a href='vscode-notebook-cell:/c%3A/Users/etiirine/cernbox/Documents/etiirinen/Python/H2%20Adsorption%20isotherms/HiLumi%20sample/series%206/H2%20adsorption%20isotherm_series6%20-%20lumped%20inj.ipynb#X15sZmlsZQ%3D%3D?line=6'>7</a>\u001b[0m \u001b[39mprint\u001b[39m(inj)\n\u001b[0;32m      <a href='vscode-notebook-cell:/c%3A/Users/etiirine/cernbox/Documents/etiirinen/Python/H2%20Adsorption%20isotherms/HiLumi%20sample/series%206/H2%20adsorption%20isotherm_series6%20-%20lumped%20inj.ipynb#X15sZmlsZQ%3D%3D?line=7'>8</a>\u001b[0m timestamps2 \u001b[39m=\u001b[39m pd\u001b[39m.\u001b[39mto_datetime(inj[\u001b[39m\"\u001b[39m\u001b[39mTime\u001b[39m\u001b[39m\"\u001b[39m],\u001b[39mformat\u001b[39m\u001b[39m=\u001b[39m\u001b[39m\"\u001b[39m\u001b[39m%d\u001b[39;00m\u001b[39m/\u001b[39m\u001b[39m%\u001b[39m\u001b[39mm/\u001b[39m\u001b[39m%\u001b[39m\u001b[39mY \u001b[39m\u001b[39m%\u001b[39m\u001b[39mH:\u001b[39m\u001b[39m%\u001b[39m\u001b[39mM:\u001b[39m\u001b[39m%\u001b[39m\u001b[39mS\u001b[39m\u001b[39m\"\u001b[39m)\n\u001b[1;32m----> <a href='vscode-notebook-cell:/c%3A/Users/etiirine/cernbox/Documents/etiirinen/Python/H2%20Adsorption%20isotherms/HiLumi%20sample/series%206/H2%20adsorption%20isotherm_series6%20-%20lumped%20inj.ipynb#X15sZmlsZQ%3D%3D?line=8'>9</a>\u001b[0m runtime2 \u001b[39m=\u001b[39m (timestamps2\u001b[39m-\u001b[39mtimestamps2[\u001b[39m633\u001b[39;49m])\u001b[39m.\u001b[39mdt\u001b[39m.\u001b[39mtotal_seconds()    \n\u001b[0;32m     <a href='vscode-notebook-cell:/c%3A/Users/etiirine/cernbox/Documents/etiirinen/Python/H2%20Adsorption%20isotherms/HiLumi%20sample/series%206/H2%20adsorption%20isotherm_series6%20-%20lumped%20inj.ipynb#X15sZmlsZQ%3D%3D?line=9'>10</a>\u001b[0m inj\u001b[39m.\u001b[39minsert(\u001b[39m1\u001b[39m,\u001b[39m\"\u001b[39m\u001b[39mElapsed time\u001b[39m\u001b[39m\"\u001b[39m,runtime2)\n",
      "File \u001b[1;32mc:\\Users\\etiirine\\Anaconda3\\lib\\site-packages\\pandas\\core\\series.py:958\u001b[0m, in \u001b[0;36mSeries.__getitem__\u001b[1;34m(self, key)\u001b[0m\n\u001b[0;32m    955\u001b[0m     \u001b[39mreturn\u001b[39;00m \u001b[39mself\u001b[39m\u001b[39m.\u001b[39m_values[key]\n\u001b[0;32m    957\u001b[0m \u001b[39melif\u001b[39;00m key_is_scalar:\n\u001b[1;32m--> 958\u001b[0m     \u001b[39mreturn\u001b[39;00m \u001b[39mself\u001b[39;49m\u001b[39m.\u001b[39;49m_get_value(key)\n\u001b[0;32m    960\u001b[0m \u001b[39mif\u001b[39;00m is_hashable(key):\n\u001b[0;32m    961\u001b[0m     \u001b[39m# Otherwise index.get_value will raise InvalidIndexError\u001b[39;00m\n\u001b[0;32m    962\u001b[0m     \u001b[39mtry\u001b[39;00m:\n\u001b[0;32m    963\u001b[0m         \u001b[39m# For labels that don't resolve as scalars like tuples and frozensets\u001b[39;00m\n",
      "File \u001b[1;32mc:\\Users\\etiirine\\Anaconda3\\lib\\site-packages\\pandas\\core\\series.py:1069\u001b[0m, in \u001b[0;36mSeries._get_value\u001b[1;34m(self, label, takeable)\u001b[0m\n\u001b[0;32m   1066\u001b[0m     \u001b[39mreturn\u001b[39;00m \u001b[39mself\u001b[39m\u001b[39m.\u001b[39m_values[label]\n\u001b[0;32m   1068\u001b[0m \u001b[39m# Similar to Index.get_value, but we do not fall back to positional\u001b[39;00m\n\u001b[1;32m-> 1069\u001b[0m loc \u001b[39m=\u001b[39m \u001b[39mself\u001b[39;49m\u001b[39m.\u001b[39;49mindex\u001b[39m.\u001b[39;49mget_loc(label)\n\u001b[0;32m   1070\u001b[0m \u001b[39mreturn\u001b[39;00m \u001b[39mself\u001b[39m\u001b[39m.\u001b[39mindex\u001b[39m.\u001b[39m_get_values_for_loc(\u001b[39mself\u001b[39m, loc, label)\n",
      "File \u001b[1;32mc:\\Users\\etiirine\\Anaconda3\\lib\\site-packages\\pandas\\core\\indexes\\base.py:3623\u001b[0m, in \u001b[0;36mIndex.get_loc\u001b[1;34m(self, key, method, tolerance)\u001b[0m\n\u001b[0;32m   3621\u001b[0m     \u001b[39mreturn\u001b[39;00m \u001b[39mself\u001b[39m\u001b[39m.\u001b[39m_engine\u001b[39m.\u001b[39mget_loc(casted_key)\n\u001b[0;32m   3622\u001b[0m \u001b[39mexcept\u001b[39;00m \u001b[39mKeyError\u001b[39;00m \u001b[39mas\u001b[39;00m err:\n\u001b[1;32m-> 3623\u001b[0m     \u001b[39mraise\u001b[39;00m \u001b[39mKeyError\u001b[39;00m(key) \u001b[39mfrom\u001b[39;00m \u001b[39merr\u001b[39;00m\n\u001b[0;32m   3624\u001b[0m \u001b[39mexcept\u001b[39;00m \u001b[39mTypeError\u001b[39;00m:\n\u001b[0;32m   3625\u001b[0m     \u001b[39m# If we have a listlike key, _check_indexing_error will raise\u001b[39;00m\n\u001b[0;32m   3626\u001b[0m     \u001b[39m#  InvalidIndexError. Otherwise we fall through and re-raise\u001b[39;00m\n\u001b[0;32m   3627\u001b[0m     \u001b[39m#  the TypeError.\u001b[39;00m\n\u001b[0;32m   3628\u001b[0m     \u001b[39mself\u001b[39m\u001b[39m.\u001b[39m_check_indexing_error(key)\n",
      "\u001b[1;31mKeyError\u001b[0m: 633"
     ]
    }
   ],
   "source": [
    "#TODO - calculating coverages for plotting pressure v coverage\n",
    "#in the first assumption coverage is assumed to be equivalent to the number of molecules injected\n",
    "#coverage at any given time point in [M/cm2] -> M/s * total injection time \n",
    "#First - Determine the inj start point, set elapsed time here to 0. \n",
    "inj = vaclog.loc[vaclog[\"Barion_2\"]/0.46 >= 9e-8]\n",
    "inj.drop(columns=\"Elapsed time\", inplace=True)\n",
    "print(inj)\n",
    "timestamps2 = pd.to_datetime(inj[\"Time\"],format=\"%d/%m/%Y %H:%M:%S\")\n",
    "runtime2 = (timestamps2-timestamps2[633]).dt.total_seconds()    \n",
    "inj.insert(1,\"Elapsed time\",runtime2)\n",
    "\n"
   ]
  },
  {
   "cell_type": "code",
   "execution_count": null,
   "id": "88fde74b",
   "metadata": {
    "scrolled": true
   },
   "outputs": [],
   "source": [
    "#TODO - subtract the baseline from graph 2 (linear pressure scale) and plot again\n",
    "#adding H2 equiv pressure readings\n",
    "inj.insert(3, \"corr BA2\", inj[\"Barion_2\"]/0.46)\n",
    "inj.insert(4, \"corr BA1\", inj[\"Barion_1\"]/0.46)\n"
   ]
  },
  {
   "attachments": {},
   "cell_type": "markdown",
   "id": "883ba6dc",
   "metadata": {},
   "source": [
    "### Thermal transpiration\n",
    "Applied for the gauge readings using the formula below:\n",
    "    $$\n",
    "    \\frac{p_2}{p_1}=\\sqrt \\frac{T_2}{T_1}\n",
    "    $$\n",
    "Here $p_2$ and $T_2$ are the pressure and temperature in the cold part and $p_1$, $T_1$ are the pressure, temperature the gauge is exposed to."
   ]
  },
  {
   "cell_type": "code",
   "execution_count": null,
   "id": "539db1f9",
   "metadata": {},
   "outputs": [],
   "source": [
    "#implementing the formula\n",
    "T2 = 4.2\n",
    "T1 = 293\n",
    "p_coef = np.sqrt(T2/T1)\n",
    "inj.insert(3, \"H2 4K BA2\", (inj[\"corr BA2\"]*p_coef))\n",
    "inj.insert(4, \"H2 4K BA1\", (inj[\"corr BA1\"]*p_coef))\n"
   ]
  },
  {
   "cell_type": "code",
   "execution_count": null,
   "id": "9a6f6efa",
   "metadata": {
    "scrolled": true
   },
   "outputs": [],
   "source": [
    "print(p_coef)\n",
    "inj.head()"
   ]
  },
  {
   "cell_type": "code",
   "execution_count": null,
   "id": "59397b73",
   "metadata": {},
   "outputs": [],
   "source": [
    "#define baseline\n",
    "base1 = inj[inj[\"corr BA1\"].between(4.6e-6,6e-6)]\n",
    "base2 = inj[inj[\"corr BA2\"].between(4.6e-6,6e-6)]\n",
    "\n",
    "#take the average of the baseline and apply thermal transpiration coef to these values\n",
    "avg2 = np.mean(base1[\"corr BA2\"])*p_coef\n",
    "avg1 = np.mean(base2[\"corr BA1\"])*p_coef\n",
    "print(avg1)\n",
    "print(avg2)\n"
   ]
  },
  {
   "cell_type": "code",
   "execution_count": null,
   "id": "61bacca0",
   "metadata": {
    "scrolled": true
   },
   "outputs": [],
   "source": [
    "#subtract the baseline from the graph to get the actual pressure evolution on the sample\n",
    "\n",
    "#Plotting the h2 equiv base pressure subtracted data\n",
    "fig, ax = plt.subplots()\n",
    "#subtract the baseline from the graph to get the actual pressure evolution on the sample\n",
    "\n",
    "ax.plot(inj[\"Time\"],inj['H2 4K BA1'].sub(avg1),marker=\".\", markersize=5,label='BA1')\n",
    "ax.plot(inj[\"Time\"],inj['H2 4K BA2'].sub(avg2),marker=\".\", markersize=5,label='BA2')\n",
    "plt.legend(loc=\"upper left\")\n",
    "\n",
    "ax.set_xlabel('Timestamp')\n",
    "ax.set_ylabel('Pressure (mbar)')\n",
    "ax.set_yscale('linear')\n",
    "\n",
    "ax = plt.gca()\n",
    "ax.xaxis.set_major_formatter(md.DateFormatter('%H:%M'))\n",
    "ax.xaxis.set_major_locator(plt.MaxNLocator(10))\n",
    "for label in ax.get_xticklabels(which='major'):\n",
    "    label.set(rotation=30, horizontalalignment='right')    \n",
    "       \n",
    "plt.legend(loc=\"upper right\")\n",
    "plt.title(\"Pressure evolution on the sample, p increase from inj flux subtracted. \\n Pressures H2 equivalent, thermal transp. corrected \")\n"
   ]
  },
  {
   "attachments": {},
   "cell_type": "markdown",
   "id": "093d8668",
   "metadata": {},
   "source": [
    "### Injection pressure linearity"
   ]
  },
  {
   "cell_type": "code",
   "execution_count": null,
   "id": "7bfdb716",
   "metadata": {},
   "outputs": [],
   "source": [
    "#defining a function for the straight line\n",
    "def func(x,a,b):\n",
    "    return a*x + b\n",
    "#curve fit for the data\n",
    "y = inj[\"injection 100mbar\"].values\n",
    "x = (inj[\"Elapsed time\"]/3600).values\n",
    "params, cov = curve_fit(func,x,y)\n",
    "#straight line parameters\n",
    "a, b = params\n",
    "print(f\"Fitted line: y = {a:.2f}*x+{b:.2f}\")"
   ]
  },
  {
   "attachments": {},
   "cell_type": "markdown",
   "id": "62d77a3b",
   "metadata": {},
   "source": [
    "### Formula for sum of the differential injection flux\n",
    "$$\n",
    "N=\\frac{\\Sigma dp\\cdot V_{inj}}{k_B\\cdot T}=\\frac{\\Sigma (p_{inj,t(x)}-p_{inj,t(x-1)})\\cdot V_{inj}}{k_B \\cdot T}   \\space \\left[{M}\\right]\n",
    "$$"
   ]
  },
  {
   "cell_type": "code",
   "execution_count": null,
   "id": "88244da9",
   "metadata": {
    "scrolled": false
   },
   "outputs": [],
   "source": [
    "#constants in SI units\n",
    "T = 293\n",
    "k_B = 1.38e-23\n",
    "V_inj = 6.515e-5\n",
    "S_sample= 276\n",
    "#implement the formula above\n",
    "dp = abs(np.diff(inj[\"injection 100mbar\"]*100))\n",
    "print(np.mean(dp))\n",
    "dp = np.insert(dp,0,0)\n",
    "N_x = (dp.cumsum())*V_inj/(k_B*T)\n",
    "print(N_x)\n",
    "N_cov = (N_x/S_sample)\n",
    "print(N_cov)\n"
   ]
  },
  {
   "cell_type": "code",
   "execution_count": null,
   "id": "88faa9b6",
   "metadata": {},
   "outputs": [],
   "source": [
    "inj.insert(2, \"Coverage\",N_cov)\n"
   ]
  },
  {
   "cell_type": "code",
   "execution_count": null,
   "id": "fa6b0151",
   "metadata": {
    "scrolled": true
   },
   "outputs": [],
   "source": [
    "inj.head()"
   ]
  },
  {
   "cell_type": "code",
   "execution_count": null,
   "id": "dbcca78f",
   "metadata": {},
   "outputs": [],
   "source": [
    "## dropping coverage values close to 0\n",
    "inj_new = inj.loc[inj['Coverage'] > 1e+13]\n",
    "inj_new.head()\n",
    "#inj_new[\"H2 4K BA2\"].sub(avg2).describe()"
   ]
  },
  {
   "attachments": {},
   "cell_type": "markdown",
   "id": "a8d7744e",
   "metadata": {},
   "source": [
    "# Plotting"
   ]
  },
  {
   "cell_type": "code",
   "execution_count": null,
   "id": "c94866b1",
   "metadata": {},
   "outputs": [],
   "source": [
    "font = {'family': 'arial',\n",
    "        'color':  'green',\n",
    "        'weight': 'normal',\n",
    "        'size': 10,\n",
    "        }"
   ]
  },
  {
   "cell_type": "code",
   "execution_count": null,
   "id": "67686097",
   "metadata": {},
   "outputs": [],
   "source": [
    "#Plotting the general pressure evolution for overview\n",
    "fig, ax = plt.subplots(figsize=(12,6))\n",
    "\n",
    "l5 = ax.plot(vaclog[\"Time\"], polyfit(A,vaclog[\"T-CERNOX\"]),marker=\".\", color=\"cyan\", markersize=5,label='Temperature')\n",
    "ax.set_ylabel('Temperature (K)')\n",
    "ax.set_xlabel('Timestamp')\n",
    "ax = plt.gca()\n",
    "ax.xaxis.set_major_formatter(md.DateFormatter('%H:%M'))\n",
    "ax.xaxis.set_major_locator(plt.MaxNLocator(12))\n",
    "for label in ax.get_xticklabels(which='major'):\n",
    "    label.set(rotation=30, horizontalalignment='right')    \n",
    "       \n",
    "ax2=ax.twinx()\n",
    "l1 = ax2.plot(vaclog[\"Time\"],vaclog[\"Barion_1\"],marker=\".\", markersize=4,label='Barion 1')\n",
    "l2 = ax2.plot(vaclog[\"Time\"],vaclog[\"Barion_2\"],marker=\".\", markersize=4,label='Barion 2')\n",
    "l3 = ax2.plot(vaclog[\"Time\"],vaclog['DUAL experiment'],marker=\".\", markersize=4,label='Dual gauge')\n",
    "l4 = ax2.plot(vaclog[\"Time\"],vaclog['injection 100mbar'],marker=\".\", markersize=4,label='100mbar F-R')\n",
    "ax2.set_ylabel('Pressure (mbar)')\n",
    "\n",
    "plt.text(14.8, 7.36e-6, 'Pressure rise due to LHe refill \\u2192 ', fontdict = font)\n",
    "plt.text(21, 1e-5, '~Saturated vapor pressure', fontdict = font)\n",
    "ax2.legend(handles = l1+l2+l3+l4+l5, loc=\"upper right\")\n",
    "plt.title(\"Pressure evolution + temperatures\")\n",
    "ax2.set_yscale('log')\n",
    "\n",
    "plt.savefig(r'./graphs/S6 a-C H2 adsorption isotherm_overview.png')\n",
    "plt.show()\n"
   ]
  },
  {
   "cell_type": "code",
   "execution_count": null,
   "id": "0232712f",
   "metadata": {},
   "outputs": [],
   "source": [
    "#Plotting BA2, BA1 pressure\n",
    "plt.figure(figsize=(12,6))\n",
    "plt.plot(vaclog[\"Time\"],vaclog[\"Barion_2\"],marker=\".\", markersize=4,label='Barion 2')\n",
    "plt.plot(vaclog[\"Time\"],vaclog[\"Barion_1\"],marker=\".\", markersize=4,label='Barion 1')\n",
    "plt.plot(vaclog[\"Time\"],vaclog[\"DUAL experiment\"],marker=\".\", markersize=4,label='DUAL experiment')\n",
    "plt.plot(vaclog[\"Time\"],vaclog['injection 100mbar'],marker=\".\", markersize=4,label='100mbar F-R')\n",
    "\n",
    "plt.xlabel('Timestamp')\n",
    "plt.ylabel('Pressure (mbar)')\n",
    "plt.legend()\n",
    "plt.title(\"S1 CU ESD sample out - Total pressure evolution\")\n",
    "plt.tick_params(axis=\"y\", which='minor')\n",
    "plt.grid(which='minor', axis='y')\n",
    "plt.yscale('log')\n",
    "\n",
    "ax = plt.gca()\n",
    "ax.xaxis.set_major_formatter(md.DateFormatter('%H:%M'))\n",
    "ax.xaxis.set_major_locator(plt.MaxNLocator(12))\n",
    "for label in ax.get_xticklabels(which='major'):\n",
    "    label.set(rotation=30, horizontalalignment='right')    \n",
    "       \n",
    "plt.savefig(r'./S6 a-C H2 adsorption isotherm_Pressures.png')\n",
    "plt.show()"
   ]
  },
  {
   "cell_type": "code",
   "execution_count": null,
   "id": "375c98f1",
   "metadata": {},
   "outputs": [],
   "source": [
    "#plotting the sliced data\n",
    "#Plotting the general pressure evolution for overview\n",
    "fig, ax = plt.subplots(figsize=(12,6))\n",
    "\n",
    "ax.plot(ramp[\"Time\"],ramp['Barion_1'],marker=\".\", markersize=4,label='BA1')\n",
    "ax.plot(ramp[\"Time\"],ramp['Barion_2'],marker=\".\", markersize=4,label='BA2')\n",
    "ax.plot(ramp[\"Time\"],ramp['DUAL experiment'],marker=\".\", markersize=4,label='DUAL gauge')\n",
    "\n",
    "plt.legend(loc=\"upper right\")\n",
    "\n",
    "ax.set_xlabel('Timestamp')\n",
    "ax.set_ylabel('Pressure (mbar)')\n",
    "ax.set_yscale('linear')\n",
    "\n",
    "plt.text(14.25, 6e-6, 'Pressure rise due to LHe refill \\u2192 ', fontdict = font)\n",
    "plt.text(13.02, 4.32e-6, 'Temperature fluctuation \\u2192', fontdict = font)\n",
    "plt.legend(loc=\"upper right\")\n",
    "plt.title(\"Pressure evolution during injection. Corrected for H2\")\n",
    "\n",
    "ax = plt.gca()\n",
    "ax.xaxis.set_major_formatter(md.DateFormatter('%H:%M'))\n",
    "ax.xaxis.set_major_locator(plt.MaxNLocator(12))\n",
    "for label in ax.get_xticklabels(which='major'):\n",
    "    label.set(rotation=30, horizontalalignment='right')    \n",
    "       \n",
    "plt.savefig(r'./S6 a-C H2 adsorption isotherm_Sliced df Pressures.png')\n",
    "plt.show()\n"
   ]
  },
  {
   "cell_type": "code",
   "execution_count": null,
   "id": "96a6a1bc",
   "metadata": {},
   "outputs": [],
   "source": [
    "#checking inj pressure linearity, graph\n",
    "fig, ax = plt.subplots(figsize=(12,6))\n",
    "y_fit = func(x,a,b)\n",
    "ax.plot(inj[\"Time\"],inj[\"injection 100mbar\"],marker=\".\", markersize=5,label='inj volume pressure')\n",
    "ax.legend(loc=\"upper right\")\n",
    "\n",
    "ax = plt.gca()\n",
    "ax.xaxis.set_major_formatter(md.DateFormatter('%H:%M'))\n",
    "ax.xaxis.set_major_locator(plt.MaxNLocator(12))\n",
    "for label in ax.get_xticklabels(which='major'):\n",
    "    label.set(rotation=30, horizontalalignment='right')    \n",
    "       \n",
    "ax.set_xlabel('Timestamp')\n",
    "ax.set_ylabel('Pressure (mbar)')\n",
    "ax.set_yscale('linear')\n",
    "plt.title(\"Injection pressure evolution 100mbar conductance gauge\")"
   ]
  },
  {
   "cell_type": "code",
   "execution_count": null,
   "id": "195c0501",
   "metadata": {},
   "outputs": [],
   "source": [
    "#plot coverage vs time\n",
    "fig, ax = plt.subplots(figsize=(12,6))\n",
    "\n",
    "ax.plot(inj[\"Time\"],inj[\"Coverage\"],marker=\".\", markersize=5,label='Coverage')\n",
    "ax.legend(loc=\"upper right\")\n",
    "\n",
    "ax.set_xlabel('Timestamp')\n",
    "ax.set_ylabel('Coverage (M/s*cm2)')\n",
    "ax.set_yscale('linear')\n",
    "plt.title(\"Coverage over time\")\n",
    "\n",
    "ax = plt.gca()\n",
    "ax.xaxis.set_major_formatter(md.DateFormatter('%H:%M'))\n",
    "ax.xaxis.set_major_locator(plt.MaxNLocator(12))\n",
    "for label in ax.get_xticklabels(which='major'):\n",
    "    label.set(rotation=30, horizontalalignment='right')   \n",
    "\n",
    "plt.savefig(r'./S6 a-C H2 adsorption isotherm_Coverage vs time.png')\n",
    "plt.show()\n"
   ]
  },
  {
   "cell_type": "code",
   "execution_count": null,
   "id": "c0207e33",
   "metadata": {},
   "outputs": [],
   "source": [
    "#plotting pressure vs coverage\n",
    "fig, ax = plt.subplots()\n",
    "\n",
    "ax.plot((inj_new[\"Coverage\"]),inj_new[\"H2 4K BA2\"].sub(avg2),marker=\".\", markersize=5,label='isotherm')\n",
    "ax.legend(loc=\"upper left\")\n",
    "xrange = np.arange(min(inj_new[\"Coverage\"]),max(inj_new[\"Coverage\"]),5e+15)\n",
    "print(xrange)\n",
    "ax.set_xticks(xrange)\n",
    "#ax.set_xlim(left = 3e+15,right = 9.20e15)\n",
    "#ax.set_xlim(right= 9.23e+15)\n",
    "#ax.set_xlim(2.9e+12,9.23e+15)\n",
    "#ax.set_ylim(1e-10,1.5e-6)\n",
    "\n",
    "\n",
    "ax.set_xlabel('Coverage (M/cm2)')\n",
    "ax.set_ylabel('Pressure (mbar)')\n",
    "ax.set_yscale('log')\n",
    "plt.title(\"H2 adsorption isotherm\")\n",
    "\n",
    "ax = plt.gca()\n",
    "ax.xaxis.set_major_formatter(md.DateFormatter('%H:%M'))\n",
    "ax.xaxis.set_major_locator(plt.MaxNLocator(12))\n",
    "for label in ax.get_xticklabels(which='major'):\n",
    "    label.set(rotation=30, horizontalalignment='right')   \n",
    "\n",
    "plt.savefig(r'./S6 a-C H2 adsorption isotherm.png')\n",
    "plt.show()"
   ]
  }
 ],
 "metadata": {
  "kernelspec": {
   "display_name": "Python 3 (ipykernel)",
   "language": "python",
   "name": "python3"
  },
  "language_info": {
   "codemirror_mode": {
    "name": "ipython",
    "version": 3
   },
   "file_extension": ".py",
   "mimetype": "text/x-python",
   "name": "python",
   "nbconvert_exporter": "python",
   "pygments_lexer": "ipython3",
   "version": "3.9.12"
  }
 },
 "nbformat": 4,
 "nbformat_minor": 5
}
