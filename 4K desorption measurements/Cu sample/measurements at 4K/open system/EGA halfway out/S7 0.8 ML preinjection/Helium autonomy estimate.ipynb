{
 "cells": [
  {
   "cell_type": "code",
   "execution_count": 9,
   "id": "0a7644f4",
   "metadata": {
    "scrolled": true
   },
   "outputs": [],
   "source": [
    "import pandas as pd\n",
    "import scipy.constants\n",
    "from scipy.optimize import curve_fit\n",
    "from scipy.integrate import quad\n",
    "from sklearn.metrics import r2_score\n",
    "#import seaborn\n",
    "#seaborn.set(style='whitegrid')\n",
    "import numpy as np\n",
    "import math\n",
    "import matplotlib.pyplot as plt\n",
    "import matplotlib.dates as md\n",
    "import matplotlib.transforms as transforms\n",
    "import matplotlib.ticker\n",
    "%matplotlib qt\n",
    "# %matplotlib inline\n",
    "import datetime as dt\n",
    "pd.set_option('display.max_rows', 100) "
   ]
  },
  {
   "cell_type": "markdown",
   "id": "cf10fa7c",
   "metadata": {},
   "source": [
    "## Reading in the data"
   ]
  },
  {
   "cell_type": "code",
   "execution_count": 10,
   "id": "111df2e2",
   "metadata": {},
   "outputs": [
    {
     "data": {
      "text/html": [
       "<div>\n",
       "<style scoped>\n",
       "    .dataframe tbody tr th:only-of-type {\n",
       "        vertical-align: middle;\n",
       "    }\n",
       "\n",
       "    .dataframe tbody tr th {\n",
       "        vertical-align: top;\n",
       "    }\n",
       "\n",
       "    .dataframe thead th {\n",
       "        text-align: right;\n",
       "    }\n",
       "</style>\n",
       "<table border=\"1\" class=\"dataframe\">\n",
       "  <thead>\n",
       "    <tr style=\"text-align: right;\">\n",
       "      <th></th>\n",
       "      <th>Live comments</th>\n",
       "      <th>Time</th>\n",
       "      <th>Elapsed time</th>\n",
       "      <th>100mbar inj</th>\n",
       "      <th>Barion_2</th>\n",
       "      <th>Barion_1</th>\n",
       "      <th>DUAL experiment</th>\n",
       "      <th>DUAL insulation</th>\n",
       "      <th>1mbar inj</th>\n",
       "      <th>helium</th>\n",
       "      <th>T-platinum</th>\n",
       "      <th>T-CERNOX</th>\n",
       "      <th>V_heater</th>\n",
       "      <th>DUAL inj line</th>\n",
       "      <th>I_emission</th>\n",
       "      <th>I_grid</th>\n",
       "    </tr>\n",
       "  </thead>\n",
       "  <tbody>\n",
       "    <tr>\n",
       "      <th>0</th>\n",
       "      <td>NaN</td>\n",
       "      <td>2023-05-16 16:49:26</td>\n",
       "      <td>0.0</td>\n",
       "      <td>-0.002089</td>\n",
       "      <td>4.290000e-09</td>\n",
       "      <td>1.760000e-09</td>\n",
       "      <td>4.996000e-09</td>\n",
       "      <td>4.990000e-07</td>\n",
       "      <td>0.39827</td>\n",
       "      <td>273.0</td>\n",
       "      <td>-1.796</td>\n",
       "      <td>4302.115</td>\n",
       "      <td>0.000011</td>\n",
       "      <td>0.000011</td>\n",
       "      <td>-7.359000e-10</td>\n",
       "      <td>NaN</td>\n",
       "    </tr>\n",
       "    <tr>\n",
       "      <th>1</th>\n",
       "      <td>NaN</td>\n",
       "      <td>2023-05-16 16:49:35</td>\n",
       "      <td>9.0</td>\n",
       "      <td>-0.004998</td>\n",
       "      <td>4.260000e-09</td>\n",
       "      <td>1.750000e-09</td>\n",
       "      <td>4.996000e-09</td>\n",
       "      <td>4.990000e-07</td>\n",
       "      <td>0.39827</td>\n",
       "      <td>273.0</td>\n",
       "      <td>-1.683</td>\n",
       "      <td>4302.003</td>\n",
       "      <td>0.000010</td>\n",
       "      <td>0.000011</td>\n",
       "      <td>-5.575700e-10</td>\n",
       "      <td>NaN</td>\n",
       "    </tr>\n",
       "    <tr>\n",
       "      <th>2</th>\n",
       "      <td>NaN</td>\n",
       "      <td>2023-05-16 16:49:43</td>\n",
       "      <td>17.0</td>\n",
       "      <td>-0.001693</td>\n",
       "      <td>4.280000e-09</td>\n",
       "      <td>1.750000e-09</td>\n",
       "      <td>4.996000e-09</td>\n",
       "      <td>4.990000e-07</td>\n",
       "      <td>0.39832</td>\n",
       "      <td>273.0</td>\n",
       "      <td>-1.683</td>\n",
       "      <td>4302.115</td>\n",
       "      <td>0.000010</td>\n",
       "      <td>0.000011</td>\n",
       "      <td>-6.757400e-10</td>\n",
       "      <td>NaN</td>\n",
       "    </tr>\n",
       "    <tr>\n",
       "      <th>3</th>\n",
       "      <td>NaN</td>\n",
       "      <td>2023-05-16 16:49:52</td>\n",
       "      <td>26.0</td>\n",
       "      <td>-0.001669</td>\n",
       "      <td>4.260000e-09</td>\n",
       "      <td>1.750000e-09</td>\n",
       "      <td>4.996000e-09</td>\n",
       "      <td>4.990000e-07</td>\n",
       "      <td>0.39832</td>\n",
       "      <td>273.0</td>\n",
       "      <td>-1.908</td>\n",
       "      <td>4301.778</td>\n",
       "      <td>0.000010</td>\n",
       "      <td>0.000011</td>\n",
       "      <td>-7.143400e-10</td>\n",
       "      <td>NaN</td>\n",
       "    </tr>\n",
       "    <tr>\n",
       "      <th>4</th>\n",
       "      <td>NaN</td>\n",
       "      <td>2023-05-16 16:50:00</td>\n",
       "      <td>34.0</td>\n",
       "      <td>-0.001323</td>\n",
       "      <td>4.280000e-09</td>\n",
       "      <td>1.740000e-09</td>\n",
       "      <td>4.996000e-09</td>\n",
       "      <td>4.990000e-07</td>\n",
       "      <td>0.39831</td>\n",
       "      <td>272.0</td>\n",
       "      <td>-1.796</td>\n",
       "      <td>4302.227</td>\n",
       "      <td>0.000011</td>\n",
       "      <td>0.000011</td>\n",
       "      <td>-7.058600e-10</td>\n",
       "      <td>NaN</td>\n",
       "    </tr>\n",
       "  </tbody>\n",
       "</table>\n",
       "</div>"
      ],
      "text/plain": [
       "  Live comments                Time  Elapsed time  100mbar inj      Barion_2  \\\n",
       "0           NaN 2023-05-16 16:49:26           0.0    -0.002089  4.290000e-09   \n",
       "1           NaN 2023-05-16 16:49:35           9.0    -0.004998  4.260000e-09   \n",
       "2           NaN 2023-05-16 16:49:43          17.0    -0.001693  4.280000e-09   \n",
       "3           NaN 2023-05-16 16:49:52          26.0    -0.001669  4.260000e-09   \n",
       "4           NaN 2023-05-16 16:50:00          34.0    -0.001323  4.280000e-09   \n",
       "\n",
       "       Barion_1  DUAL experiment  DUAL insulation  1mbar inj  helium  \\\n",
       "0  1.760000e-09     4.996000e-09     4.990000e-07    0.39827   273.0   \n",
       "1  1.750000e-09     4.996000e-09     4.990000e-07    0.39827   273.0   \n",
       "2  1.750000e-09     4.996000e-09     4.990000e-07    0.39832   273.0   \n",
       "3  1.750000e-09     4.996000e-09     4.990000e-07    0.39832   273.0   \n",
       "4  1.740000e-09     4.996000e-09     4.990000e-07    0.39831   272.0   \n",
       "\n",
       "   T-platinum  T-CERNOX  V_heater  DUAL inj line    I_emission  I_grid  \n",
       "0      -1.796  4302.115  0.000011       0.000011 -7.359000e-10     NaN  \n",
       "1      -1.683  4302.003  0.000010       0.000011 -5.575700e-10     NaN  \n",
       "2      -1.683  4302.115  0.000010       0.000011 -6.757400e-10     NaN  \n",
       "3      -1.908  4301.778  0.000010       0.000011 -7.143400e-10     NaN  \n",
       "4      -1.796  4302.227  0.000011       0.000011 -7.058600e-10     NaN  "
      ]
     },
     "execution_count": 10,
     "metadata": {},
     "output_type": "execute_result"
    }
   ],
   "source": [
    "#reading vaclogger measurement file\n",
    "vaclog=pd.read_csv(\"vaclog\", sep=\"\\t\")\n",
    "vaclog.head()\n",
    "\n",
    "#adding an elapsed time column\n",
    "vac_timestamps=pd.to_datetime(vaclog[\"Time\"],format=\"%d/%m/%Y %H:%M:%S\")\n",
    "runtime=(vac_timestamps-vac_timestamps[0]).dt.total_seconds()    \n",
    "vaclog.insert(2,\"Elapsed time\",runtime)\n",
    "# vaclog.drop(index=vaclog.index[0], \n",
    "#         axis=0, \n",
    "#         inplace=True)\n",
    "vaclog[\"Time\"] = vac_timestamps.dt.strftime('%d-%m-%Y %H:%M:%S')\n",
    "vaclog[\"Time\"] = pd.to_datetime(vaclog[\"Time\"],format='%d-%m-%Y %H:%M:%S')\n",
    "\n",
    "vaclog.head()"
   ]
  },
  {
   "cell_type": "code",
   "execution_count": 11,
   "id": "61818956",
   "metadata": {},
   "outputs": [
    {
     "name": "stdout",
     "output_type": "stream",
     "text": [
      "[nan 'starting ESD measurement' 'ending ESD measurement']\n"
     ]
    }
   ],
   "source": [
    "#print vaclog comments\n",
    "print(pd.unique(vaclog[\"Live comments\"]))"
   ]
  },
  {
   "cell_type": "code",
   "execution_count": 12,
   "id": "d60a212c",
   "metadata": {},
   "outputs": [
    {
     "name": "stdout",
     "output_type": "stream",
     "text": [
      "[nan 'starting ESD measurement' 'ending ESD measurement']\n"
     ]
    }
   ],
   "source": [
    "#Cut data from \"transfer complete\"\n",
    "# Finding the index where the comment \"transfer complete\" was written\n",
    "start_index = vaclog.index[0]\n",
    "\n",
    "# Cutting the dataset from the start_index onwards\n",
    "vaclog_cut = vaclog[start_index:].reset_index(drop=True)\n",
    "\n",
    "# Printing unique comments in the \"Live comments\" column\n",
    "print(pd.unique(vaclog_cut[\"Live comments\"]))"
   ]
  },
  {
   "cell_type": "markdown",
   "id": "fd5d1ee2",
   "metadata": {},
   "source": [
    "### Temperature conversion \n"
   ]
  },
  {
   "cell_type": "code",
   "execution_count": 13,
   "id": "445d6444",
   "metadata": {},
   "outputs": [],
   "source": [
    "#Temperature curve for CERNOX - for temp stability\n",
    "A=[230.317302,-6170.1513,71837.9529,-477946.76,2.003668910085786e+6,-5.488690193047771e+6,9.830475663897528e+6,-1.111226817786569e+7,7.202477878914065e+6,-2.04194551328507e+6]\n",
    "#specify fit parameters A, data (Resistance values)\n",
    "def polyfit(params,data):\n",
    "    total=[]\n",
    "    for j in data: \n",
    "        exp=0\n",
    "        for i in range(len(params)):\n",
    "            exp += (params[i]/(math.log10(j))**i)\n",
    "        total.append(10**exp)\n",
    "    return(total)    \n"
   ]
  },
  {
   "cell_type": "markdown",
   "id": "79e8665c",
   "metadata": {},
   "source": [
    "### Trendline"
   ]
  },
  {
   "cell_type": "code",
   "execution_count": 14,
   "id": "0bbc981f",
   "metadata": {},
   "outputs": [
    {
     "name": "stdout",
     "output_type": "stream",
     "text": [
      "Fitted line: y = -0.00*x+272.53\n",
      "[0.00000000e+00 9.00090278e+00 1.80018056e+01 ... 7.61656393e+04\n",
      " 7.61746402e+04 7.61836411e+04]\n",
      "[0.00000000e+00 9.00029530e+00 1.80005906e+01 ... 1.45345769e+05\n",
      " 1.45354769e+05 1.45363769e+05]\n"
     ]
    }
   ],
   "source": [
    "## Checking helium level drop linearity\n",
    "#defining a function for the straight line\n",
    "def fit(x,a,b):\n",
    "    return a*x + b\n",
    "\n",
    "#curve fit for the data\n",
    "y_val = vaclog_cut[\"helium\"].values\n",
    "x_val = (vaclog_cut[\"Elapsed time\"]).values\n",
    "params, cov = curve_fit(fit,x_val,y_val)\n",
    "\n",
    "#straight line parameters\n",
    "a, b = params\n",
    "print(f\"Fitted line: y = {a:.2f}*x+{b:.2f}\")\n",
    "y_fit = fit(x_val, a, b)\n",
    "\n",
    "b_second = 520\n",
    "# Calculate the number of data points needed to reach b/a condition\n",
    "num_points = int(abs(b / a) / (x_val[1] - x_val[0])) + 1\n",
    "num_points2 = int(abs(b_second / a) / (x_val[1] - x_val[0])) + 1\n",
    "\n",
    "# Extend the fitted line to y_fit = 0\n",
    "x_fit_extended = np.linspace(x_val[0], (-b/a), num_points)\n",
    "x_fit_extended2 = np.linspace(x_val[0], (-b_second/a), num_points2)\n",
    "\n",
    "y_fit_extended = fit(x_fit_extended, a, b)\n",
    "y_fit_extended2 = fit(x_fit_extended2, a, b_second)\n",
    "\n",
    "print(x_fit_extended)\n",
    "print(x_fit_extended2)\n"
   ]
  },
  {
   "cell_type": "markdown",
   "id": "de44efbb",
   "metadata": {},
   "source": [
    "### Plotting"
   ]
  },
  {
   "cell_type": "code",
   "execution_count": 15,
   "id": "a0b37e84",
   "metadata": {},
   "outputs": [],
   "source": [
    "#define parameters for plotting\n",
    "#annotation params\n",
    "font = dict(size = \"x-small\", color =\"green\", style =\"italic\",rotation=\"vertical\")\n",
    "\n",
    "plt.rcParams[\"figure.figsize\"] = [8,5]\n",
    "plt.rcParams[\"axes.edgecolor\"] = \"black\"\n",
    "plt.rcParams[\"axes.grid\"] = True\n",
    "plt.rcParams[\"grid.color\"] = \"black\"\n",
    "plt.rcParams[\"grid.linewidth\"] = 0.35"
   ]
  },
  {
   "cell_type": "code",
   "execution_count": 16,
   "id": "890dfb97",
   "metadata": {},
   "outputs": [],
   "source": [
    "# Helium level\n",
    "fig, ax = plt.subplots()\n",
    "ax.plot((vaclog_cut[\"Time\"]), vaclog_cut[\"helium\"], marker=\".\", markersize=5, label='inj volume pressure')\n",
    "ax.plot((vaclog_cut[\"Time\"]), y_fit, \"--\", color=\"red\", label=f\"Fitted line: y = {a:.2f}*x+{b:.2f}\")\n",
    "ax.legend(loc=\"upper right\")\n",
    "ax.set_xlabel('Timestamp')\n",
    "ax.set_ylabel('LHe level (mm)')\n",
    "ax.set_yscale('linear')\n",
    "ax.get_yaxis().get_major_formatter().set_useOffset(False)\n",
    "ax.xaxis.set_major_formatter(md.DateFormatter('%H:%M'))\n",
    "ax.xaxis.set_major_locator(plt.MaxNLocator(10))\n",
    "for label in ax.get_xticklabels(which='major'):\n",
    "    label.set(rotation=30, horizontalalignment='right')\n",
    "\n",
    "plt.title(\"Helium level drop and fit\")\n",
    "plt.savefig(r'./graphs/He_org_level.png', dpi=300,bbox_inches='tight')\n",
    "plt.show()\n",
    "    "
   ]
  },
  {
   "cell_type": "code",
   "execution_count": 17,
   "id": "dbeda98c",
   "metadata": {},
   "outputs": [],
   "source": [
    "#Fits\n",
    "fig, ax = plt.subplots()\n",
    "ax.plot(x_fit_extended/3600, y_fit_extended, \"--\", color=\"green\", label=f\"y = {a:.2f}*x+{b:.2f} extended fit\")\n",
    "\n",
    "ax.legend(loc=\"lower left\")\n",
    "ax.set_xlabel('Elapsed time (h)')\n",
    "ax.set_ylabel('LHe level (mm)')\n",
    "ax.set_yscale('linear')\n",
    "# Set the number of major y ticks for ax\n",
    "ax.yaxis.set_major_locator(plt.MaxNLocator(8))\n",
    "\n",
    "ax.plot(x_fit_extended2/3600, y_fit_extended2, \"--\", color=\"orange\", label=f\"y = {a:.2f}*x+{b_second:.2f} extended fit\")\n",
    "ax.legend(loc=\"upper right\")\n",
    "ax.set_xlabel('Elapsed time (h)')\n",
    "ax.set_ylabel('LHe level (mm)')\n",
    "ax.set_yscale('linear')\n",
    "\n",
    "# Set the number of major y ticks for ax2\n",
    "ax.set_ylim(top=b_second)\n",
    "\n",
    "\n",
    "plt.title(\"Helium level drop fit extrapolated to y=0\")\n",
    "plt.savefig(r'./graphs/He_fit_level.png', dpi=300,bbox_inches='tight')\n",
    "plt.show()\n"
   ]
  },
  {
   "cell_type": "code",
   "execution_count": 18,
   "id": "f21f3e49",
   "metadata": {},
   "outputs": [
    {
     "data": {
      "text/plain": [
       "' #Helium level\\nfig, ax = plt.subplots()\\ny_fit = fit(x_val,a,b)\\nax.plot((vaclog_cut[\"Time\"]),vaclog_cut[\"helium\"],marker=\".\", markersize=5,label=\\'inj volume pressure\\')\\nax.legend(loc=\"upper right\")\\nax.set_xlabel(\\'Timestamp\\')\\nax.set_ylabel(\\'He-level (mm)\\')\\nax.set_yscale(\\'linear\\')\\nax.get_yaxis().get_major_formatter().set_useOffset(False)\\nax.xaxis.set_major_formatter(md.DateFormatter(\\'%H:%M\\'))\\nax.xaxis.set_major_locator(plt.MaxNLocator(10))\\nfor label in ax.get_xticklabels(which=\\'major\\'):\\n    label.set(rotation=30, horizontalalignment=\\'right\\')\\n\\n# Creating x values for prediction\\nx_pred = np.linspace(x_val[0], x_val[-1], num=100)\\n\\n# Plotting the predicted line\\ny_pred = fit(x_pred, a, b)\\n\\nax2 = ax.twiny()\\nax2.plot(vaclog_cut[\"Time\"], y_pred, \"--\", color=\"red\", label=\"Y = -ax + b fit\")\\nax2.legend(loc=\"lower left\")\\nax2.set_xlabel(\\'Timestamp\\')\\nax2.set_ylabel(\\'He-level (mm)\\')\\nax2.set_yscale(\\'linear\\')\\nax2.get_yaxis().get_major_formatter().set_useOffset(False)\\n\\nplt.tight_layout()  # Ensure all elements are properly placed within the figure\\nplt.title(\"S1 Injection pressure evolution 1mbar conductance gauge\")\\nplt.savefig(r\\'./graphs/He_level.png\\',dpi=300)\\nplt.show() '"
      ]
     },
     "execution_count": 18,
     "metadata": {},
     "output_type": "execute_result"
    }
   ],
   "source": [
    "\"\"\" #Helium level\n",
    "fig, ax = plt.subplots()\n",
    "y_fit = fit(x_val,a,b)\n",
    "ax.plot((vaclog_cut[\"Time\"]),vaclog_cut[\"helium\"],marker=\".\", markersize=5,label='inj volume pressure')\n",
    "ax.legend(loc=\"upper right\")\n",
    "ax.set_xlabel('Timestamp')\n",
    "ax.set_ylabel('He-level (mm)')\n",
    "ax.set_yscale('linear')\n",
    "ax.get_yaxis().get_major_formatter().set_useOffset(False)\n",
    "ax.xaxis.set_major_formatter(md.DateFormatter('%H:%M'))\n",
    "ax.xaxis.set_major_locator(plt.MaxNLocator(10))\n",
    "for label in ax.get_xticklabels(which='major'):\n",
    "    label.set(rotation=30, horizontalalignment='right')\n",
    "\n",
    "# Creating x values for prediction\n",
    "x_pred = np.linspace(x_val[0], x_val[-1], num=100)\n",
    "\n",
    "# Plotting the predicted line\n",
    "y_pred = fit(x_pred, a, b)\n",
    "\n",
    "ax2 = ax.twiny()\n",
    "ax2.plot(vaclog_cut[\"Time\"], y_pred, \"--\", color=\"red\", label=\"Y = -ax + b fit\")\n",
    "ax2.legend(loc=\"lower left\")\n",
    "ax2.set_xlabel('Timestamp')\n",
    "ax2.set_ylabel('He-level (mm)')\n",
    "ax2.set_yscale('linear')\n",
    "ax2.get_yaxis().get_major_formatter().set_useOffset(False)\n",
    "\n",
    "plt.tight_layout()  # Ensure all elements are properly placed within the figure\n",
    "plt.title(\"S1 Injection pressure evolution 1mbar conductance gauge\")\n",
    "plt.savefig(r'./graphs/He_level.png',dpi=300)\n",
    "plt.show() \"\"\""
   ]
  },
  {
   "cell_type": "code",
   "execution_count": 19,
   "id": "9b2c3a2f",
   "metadata": {},
   "outputs": [],
   "source": [
    "## Plotting the temp evolution\n",
    "plt.figure()\n",
    "plt.plot((vaclog_cut[\"Time\"]),polyfit(A,vaclog_cut[\"T-CERNOX\"]),marker=\".\", markersize=5,label='T-CERNOX')          \n",
    "plt.xlabel('Timestamp')\n",
    "plt.ylabel('Temperature (K)')\n",
    "plt.legend()\n",
    "plt.title(\"S1 Temperature evolution\")\n",
    "plt.yscale('linear')\n",
    "plt.tick_params(axis=\"y\", which='minor')\n",
    "plt.grid(which='minor', axis='y')\n",
    "\n",
    "ax = plt.gca()\n",
    "ax.xaxis.set_major_formatter(md.DateFormatter('%H:%M'))\n",
    "ax.xaxis.set_major_locator(plt.MaxNLocator(10))\n",
    "for label in ax.get_xticklabels(which='major'):\n",
    "    label.set(rotation=30, horizontalalignment='right')\n",
    "    \n",
    "plt.savefig(r'./graphs/He_aut_Temp.png',dpi=300,bbox_inches='tight')\n",
    "plt.show()"
   ]
  }
 ],
 "metadata": {
  "kernelspec": {
   "display_name": "Python 3 (ipykernel)",
   "language": "python",
   "name": "python3"
  },
  "language_info": {
   "codemirror_mode": {
    "name": "ipython",
    "version": 3
   },
   "file_extension": ".py",
   "mimetype": "text/x-python",
   "name": "python",
   "nbconvert_exporter": "python",
   "pygments_lexer": "ipython3",
   "version": "3.9.12"
  }
 },
 "nbformat": 4,
 "nbformat_minor": 5
}
