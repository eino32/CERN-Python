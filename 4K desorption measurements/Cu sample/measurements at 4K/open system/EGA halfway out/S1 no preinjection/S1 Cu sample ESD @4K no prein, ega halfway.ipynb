{
 "cells": [
  {
   "cell_type": "code",
   "execution_count": null,
   "metadata": {},
   "outputs": [],
   "source": [
    "import pandas as pd\n",
    "import scipy.constants\n",
    "from scipy.optimize import curve_fit\n",
    "from scipy.integrate import quad\n",
    "from sklearn.metrics import r2_score\n",
    "import seaborn\n",
    "seaborn.set(style='whitegrid')\n",
    "import numpy as np\n",
    "import math\n",
    "import matplotlib.pyplot as plt\n",
    "import matplotlib.dates as md\n",
    "import matplotlib.transforms as transforms\n",
    "from matplotlib.ticker import LogFormatter\n",
    "%matplotlib qt\n",
    "# %matplotlib inline\n",
    "import datetime as dt\n",
    "pd.set_option('display.max_rows', 100) "
   ]
  },
  {
   "cell_type": "markdown",
   "metadata": {},
   "source": [
    "## Reading in the data and preparing DataFrames"
   ]
  },
  {
   "cell_type": "markdown",
   "metadata": {},
   "source": [
    "#### MID"
   ]
  },
  {
   "cell_type": "code",
   "execution_count": null,
   "metadata": {},
   "outputs": [],
   "source": [
    "#read in the data\n",
    "mid = pd.read_csv(\"MID.tsv\", sep=\"\\t\", skiprows=lambda x: x <=11,  on_bad_lines=\"skip\")\n",
    "#print(mid.describe())\n",
    "# #bring the time data into a new df:\n",
    "time = pd.DataFrame(mid.iloc[:,0::2]) #- get every second column\n",
    "masses = [2,4,12,15,16,18,28,32,40,44]\n",
    "\n",
    "#add elapsed time columns\n",
    "def elapsed_time(df):\n",
    "    counter = len(df.columns)\n",
    "    for idx, col in enumerate(df):\n",
    "        timestamp = pd.to_datetime(df[col], format=\"%Y/%m/%d %H:%M:%S.%f\")\n",
    "        runtime = (timestamp - timestamp[0]).dt.total_seconds()\n",
    "        colname = \"Elapsed time, mass {}\".format(masses[idx]) \n",
    "        df.insert(counter, colname, runtime)\n",
    "        counter += 1\n",
    "    return df\n",
    "print(elapsed_time(time))\n",
    "#print(time)\n",
    "#print(elapsed_time)\n",
    "time_sliced = time.iloc[:,10:].fillna(0) #select the time columns\n",
    "print(time_sliced)\n",
    "\n",
    "#convert elapsed times in time-dataframe back to a timestamp\n",
    "def h2_time(df1,df2):\n",
    "    startdate = pd.to_datetime(df1.iloc[2,0],format=\"%Y/%m/%d %H:%M:%S.%f\")\n",
    "    dic= {}\n",
    "    for idx, mass in enumerate(masses):\n",
    "        key = \"Timestamp, mass {}\".format(mass)\n",
    "        content = df2.iloc[:, idx].dropna().values\n",
    "        for row in content:\n",
    "            dic.setdefault(key,[]).append((startdate+dt.timedelta(milliseconds=row*1000)))\n",
    "    new_df = pd.DataFrame.from_dict(dic)\n",
    "    return(new_df)\n",
    "\n",
    "new_df = h2_time(time,time_sliced)\n",
    "new_df.columns"
   ]
  },
  {
   "cell_type": "markdown",
   "metadata": {},
   "source": [
    "#### Vaclogger"
   ]
  },
  {
   "cell_type": "code",
   "execution_count": null,
   "metadata": {},
   "outputs": [],
   "source": [
    "#reading vaclogger measurement file\n",
    "vaclog=pd.read_csv(\"vaclog\", sep=\"\\t\")\n",
    "vaclog.head()\n",
    "\n",
    "#adding an elapsed time column\n",
    "vac_timestamps=pd.to_datetime(vaclog[\"Time\"],format=\"%d/%m/%Y %H:%M:%S\")\n",
    "runtime=(vac_timestamps-vac_timestamps[0]).dt.total_seconds()    \n",
    "vaclog.insert(2,\"Elapsed time\",runtime)\n",
    "# vaclog.drop(index=vaclog.index[0], \n",
    "#         axis=0, \n",
    "#         inplace=True)\n",
    "vaclog[\"Time\"] = vac_timestamps.dt.strftime('%d-%m-%Y %H:%M:%S')\n",
    "vaclog[\"Time\"] = pd.to_datetime(vaclog[\"Time\"],format='%d-%m-%Y %H:%M:%S')\n",
    "\n",
    "vaclog.head()"
   ]
  },
  {
   "cell_type": "markdown",
   "metadata": {},
   "source": [
    "## Data processing"
   ]
  },
  {
   "cell_type": "markdown",
   "metadata": {},
   "source": [
    "#### Comments"
   ]
  },
  {
   "cell_type": "code",
   "execution_count": null,
   "metadata": {},
   "outputs": [],
   "source": [
    "#print vaclog comments\n",
    "print(pd.unique(vaclog[\"Live comments\"]))"
   ]
  },
  {
   "cell_type": "markdown",
   "metadata": {},
   "source": [
    "#### CernOx temperature R-T conversion"
   ]
  },
  {
   "cell_type": "code",
   "execution_count": null,
   "metadata": {},
   "outputs": [],
   "source": [
    "#Temperature curve for CERNOX - for temp stability\n",
    "A=[230.317302,-6170.1513,71837.9529,-477946.76,2.003668910085786e+6,-5.488690193047771e+6,9.830475663897528e+6,-1.111226817786569e+7,7.202477878914065e+6,-2.04194551328507e+6]\n",
    "\n",
    "#specify fit parameters A, data (Resistance values)\n",
    "def polyfit(params,data):\n",
    "    total=[]\n",
    "    for j in data: \n",
    "        exp=0\n",
    "        for i in range(len(params)):\n",
    "            exp += (params[i]/(math.log10(j))**i)\n",
    "        total.append(10**exp)\n",
    "    return(total)    \n"
   ]
  },
  {
   "cell_type": "markdown",
   "metadata": {},
   "source": [
    "## Plotting"
   ]
  },
  {
   "cell_type": "code",
   "execution_count": null,
   "metadata": {},
   "outputs": [],
   "source": [
    "#define parameters for plotting\n",
    "#annotation params\n",
    "font = dict(size = \"x-small\", color =\"green\", style =\"italic\",rotation=\"vertical\")\n"
   ]
  },
  {
   "cell_type": "code",
   "execution_count": null,
   "metadata": {},
   "outputs": [],
   "source": [
    "#Plotting the all the relevant MID spectrums\n",
    "plt.figure(figsize=(14,8))\n",
    "\n",
    "plt.plot(new_df[\"Timestamp, mass 2\"],mid[\"mass 2.0_value\"],marker=\".\", markersize=4,label='M2')\n",
    "plt.plot(new_df[\"Timestamp, mass 4\"],mid[\"mass 4.0_value\"],marker=\".\", markersize=4,label='M4')\n",
    "plt.plot(new_df[\"Timestamp, mass 12\"],mid[\"mass 12.0_value\"],marker=\".\", markersize=4,label='M12')\n",
    "plt.plot(new_df[\"Timestamp, mass 15\"],mid[\"mass 15.0_value\"],marker=\".\", markersize=4,label='M16')\n",
    "plt.plot(new_df[\"Timestamp, mass 16\"],mid[\"mass 16.0_value\"],marker=\".\", markersize=4,label='M15')\n",
    "plt.plot(new_df[\"Timestamp, mass 18\"],mid[\"mass 18.0_value\"],marker=\".\", markersize=4,label='M18')\n",
    "plt.plot(new_df[\"Timestamp, mass 28\"],mid[\"mass 28.0_value\"],marker=\".\", markersize=4,label='M28')\n",
    "plt.plot(new_df[\"Timestamp, mass 32\"],mid[\"mass 32.0_value\"],marker=\".\", markersize=4,label='M32')\n",
    "plt.plot(new_df[\"Timestamp, mass 40\"],mid[\"mass 40.0_value\"],marker=\".\", markersize=4,label='M40')\n",
    "plt.plot(new_df[\"Timestamp, mass 44\"],mid[\"mass 44.0_value\"],marker=\".\", markersize=4,label='M44')\n",
    "\n",
    "plt.xlabel('Timestamp')\n",
    "plt.ylabel('Ion current (A)')\n",
    "plt.legend(title=\"Mol masses\", loc=\"upper right\")\n",
    "plt.title(\"S1 CU ESD sample halfway - MID scan\")\n",
    "plt.tick_params(axis=\"y\", which='minor')\n",
    "plt.grid(which='minor', axis='y')\n",
    "plt.yscale('log')\n",
    "\n",
    "ax = plt.gca()\n",
    "ax.xaxis.set_major_formatter(md.DateFormatter('%H:%M'))\n",
    "ax.xaxis.set_major_locator(plt.MaxNLocator(14))\n",
    "for label in ax.get_xticklabels(which='major'):\n",
    "    label.set(rotation=30, horizontalalignment='right')\n",
    "\"\"\" \n",
    "#write comments\n",
    "trans  = transforms.blended_transform_factory(\n",
    "    ax.transData, ax.transAxes)\n",
    "for i in hv_comm.index:\n",
    "    plt.text(hv_comm[\"datetime\"][i],0.95,str(hv_comm[\"Comment\"][i]),fontdict=font, transform=trans)\n",
    "\n",
    " \"\"\"\n",
    "plt.savefig(r'./graphs/MID.png')\n",
    "plt.show()\n"
   ]
  },
  {
   "cell_type": "code",
   "execution_count": null,
   "metadata": {},
   "outputs": [],
   "source": [
    "#Plotting BA2, BA1 pressure\n",
    "plt.figure(figsize=(12,6))\n",
    "plt.plot(vaclog[\"Time\"],vaclog[\"Barion_2\"],marker=\".\", markersize=4,label='Barion 2')\n",
    "plt.plot(vaclog[\"Time\"],vaclog[\"Barion_1\"],marker=\".\", markersize=4,label='Barion 1')\n",
    "plt.plot(vaclog[\"Time\"],vaclog[\"DUAL experiment\"],marker=\".\", markersize=4,label='DUAL experiment')\n",
    "\n",
    "plt.xlabel('Timestamp')\n",
    "plt.ylabel('Pressure (mbar)')\n",
    "plt.legend()\n",
    "plt.title(\"S1 CU ESD sample halfway - Total pressure evolution\")\n",
    "plt.tick_params(axis=\"y\", which='minor')\n",
    "plt.grid(which='minor', axis='y')\n",
    "plt.yscale('log')\n",
    "\n",
    "ax = plt.gca()\n",
    "ax.xaxis.set_major_formatter(md.DateFormatter('%H:%M'))\n",
    "ax.xaxis.set_major_locator(plt.MaxNLocator(10))\n",
    "for label in ax.get_xticklabels(which='major'):\n",
    "    label.set(rotation=30, horizontalalignment='right')    \n",
    "       \n",
    "plt.savefig(r'./graphs/Barions.png')\n",
    "plt.show()"
   ]
  },
  {
   "cell_type": "code",
   "execution_count": null,
   "metadata": {},
   "outputs": [],
   "source": [
    "## Plotting the temp evolution\n",
    "plt.figure(figsize=(10,6))\n",
    "plt.plot((vaclog[\"Time\"]),polyfit(A,vaclog[\"T-CERNOX\"]),marker=\".\", markersize=5,label='T-CERNOX')          \n",
    "plt.xlabel('Timestamp')\n",
    "plt.ylabel('Temperature (K)')\n",
    "plt.legend()\n",
    "plt.title(\"S1 CU ESD sample halfway - Temperature evolution\")\n",
    "plt.yscale('linear')\n",
    "plt.tick_params(axis=\"y\", which='minor')\n",
    "plt.grid(which='minor', axis='y')\n",
    "\n",
    "ax = plt.gca()\n",
    "ax.xaxis.set_major_formatter(md.DateFormatter('%H:%M'))\n",
    "ax.xaxis.set_major_locator(plt.MaxNLocator(10))\n",
    "for label in ax.get_xticklabels(which='major'):\n",
    "    label.set(rotation=30, horizontalalignment='right')\n",
    "    \n",
    "plt.savefig(r'./graphs/Temp.png')\n",
    "plt.show()"
   ]
  },
  {
   "cell_type": "code",
   "execution_count": null,
   "metadata": {},
   "outputs": [],
   "source": []
  }
 ],
 "metadata": {
  "kernelspec": {
   "display_name": "base",
   "language": "python",
   "name": "python3"
  },
  "language_info": {
   "codemirror_mode": {
    "name": "ipython",
    "version": 3
   },
   "file_extension": ".py",
   "mimetype": "text/x-python",
   "name": "python",
   "nbconvert_exporter": "python",
   "pygments_lexer": "ipython3",
   "version": "3.9.12"
  },
  "orig_nbformat": 4
 },
 "nbformat": 4,
 "nbformat_minor": 2
}
