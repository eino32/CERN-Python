{
 "cells": [
  {
   "cell_type": "code",
   "execution_count": 10,
   "id": "0a7644f4",
   "metadata": {
    "scrolled": true
   },
   "outputs": [],
   "source": [
    "import pandas as pd\n",
    "import scipy.constants\n",
    "from scipy.optimize import curve_fit\n",
    "from scipy.integrate import quad\n",
    "from sklearn.metrics import r2_score\n",
    "#import seaborn\n",
    "#seaborn.set(style='whitegrid')\n",
    "import numpy as np\n",
    "import math\n",
    "import matplotlib.pyplot as plt\n",
    "import matplotlib.dates as md\n",
    "import matplotlib.transforms as transforms\n",
    "import matplotlib.ticker\n",
    "%matplotlib qt\n",
    "# %matplotlib inline\n",
    "import datetime as dt\n",
    "pd.set_option('display.max_rows', 100) "
   ]
  },
  {
   "cell_type": "markdown",
   "id": "cf10fa7c",
   "metadata": {},
   "source": [
    "## Reading in the data"
   ]
  },
  {
   "cell_type": "code",
   "execution_count": 11,
   "id": "111df2e2",
   "metadata": {},
   "outputs": [
    {
     "data": {
      "text/html": [
       "<div>\n",
       "<style scoped>\n",
       "    .dataframe tbody tr th:only-of-type {\n",
       "        vertical-align: middle;\n",
       "    }\n",
       "\n",
       "    .dataframe tbody tr th {\n",
       "        vertical-align: top;\n",
       "    }\n",
       "\n",
       "    .dataframe thead th {\n",
       "        text-align: right;\n",
       "    }\n",
       "</style>\n",
       "<table border=\"1\" class=\"dataframe\">\n",
       "  <thead>\n",
       "    <tr style=\"text-align: right;\">\n",
       "      <th></th>\n",
       "      <th>Live comments</th>\n",
       "      <th>Time</th>\n",
       "      <th>Elapsed time</th>\n",
       "      <th>100mbar inj</th>\n",
       "      <th>Barion_2</th>\n",
       "      <th>Barion_1</th>\n",
       "      <th>DUAL experiment</th>\n",
       "      <th>DUAL insulation</th>\n",
       "      <th>1mbar inj</th>\n",
       "      <th>helium</th>\n",
       "      <th>T-platinum</th>\n",
       "      <th>T-CERNOX</th>\n",
       "      <th>V_heater</th>\n",
       "      <th>DUAL inj line</th>\n",
       "      <th>I_emission</th>\n",
       "      <th>I_grid</th>\n",
       "    </tr>\n",
       "  </thead>\n",
       "  <tbody>\n",
       "    <tr>\n",
       "      <th>0</th>\n",
       "      <td>NaN</td>\n",
       "      <td>2023-05-04 10:56:50</td>\n",
       "      <td>0.0</td>\n",
       "      <td>-0.026053</td>\n",
       "      <td>2.270000e-09</td>\n",
       "      <td>2.500000e-09</td>\n",
       "      <td>4.996000e-09</td>\n",
       "      <td>4.452000e-07</td>\n",
       "      <td>-0.001018</td>\n",
       "      <td>317.0</td>\n",
       "      <td>-1.908</td>\n",
       "      <td>4266.874</td>\n",
       "      <td>-0.000458</td>\n",
       "      <td>7.340000e-07</td>\n",
       "      <td>NaN</td>\n",
       "      <td>NaN</td>\n",
       "    </tr>\n",
       "    <tr>\n",
       "      <th>1</th>\n",
       "      <td>NaN</td>\n",
       "      <td>2023-05-04 10:56:58</td>\n",
       "      <td>8.0</td>\n",
       "      <td>-0.023711</td>\n",
       "      <td>2.300000e-09</td>\n",
       "      <td>2.520000e-09</td>\n",
       "      <td>4.996000e-09</td>\n",
       "      <td>4.452000e-07</td>\n",
       "      <td>-0.001017</td>\n",
       "      <td>317.0</td>\n",
       "      <td>-1.908</td>\n",
       "      <td>4266.986</td>\n",
       "      <td>-0.000055</td>\n",
       "      <td>7.290000e-07</td>\n",
       "      <td>NaN</td>\n",
       "      <td>NaN</td>\n",
       "    </tr>\n",
       "    <tr>\n",
       "      <th>2</th>\n",
       "      <td>NaN</td>\n",
       "      <td>2023-05-04 10:57:07</td>\n",
       "      <td>17.0</td>\n",
       "      <td>-0.022131</td>\n",
       "      <td>2.290000e-09</td>\n",
       "      <td>2.510000e-09</td>\n",
       "      <td>4.996000e-09</td>\n",
       "      <td>4.452000e-07</td>\n",
       "      <td>-0.001024</td>\n",
       "      <td>317.0</td>\n",
       "      <td>-1.796</td>\n",
       "      <td>4267.211</td>\n",
       "      <td>-0.001293</td>\n",
       "      <td>7.240000e-07</td>\n",
       "      <td>NaN</td>\n",
       "      <td>NaN</td>\n",
       "    </tr>\n",
       "    <tr>\n",
       "      <th>3</th>\n",
       "      <td>NaN</td>\n",
       "      <td>2023-05-04 10:57:16</td>\n",
       "      <td>26.0</td>\n",
       "      <td>-0.021860</td>\n",
       "      <td>2.280000e-09</td>\n",
       "      <td>2.500000e-09</td>\n",
       "      <td>4.996000e-09</td>\n",
       "      <td>4.452000e-07</td>\n",
       "      <td>-0.001024</td>\n",
       "      <td>316.0</td>\n",
       "      <td>-1.683</td>\n",
       "      <td>4266.537</td>\n",
       "      <td>-0.001426</td>\n",
       "      <td>7.160000e-07</td>\n",
       "      <td>NaN</td>\n",
       "      <td>NaN</td>\n",
       "    </tr>\n",
       "    <tr>\n",
       "      <th>4</th>\n",
       "      <td>NaN</td>\n",
       "      <td>2023-05-04 10:57:24</td>\n",
       "      <td>34.0</td>\n",
       "      <td>-0.021860</td>\n",
       "      <td>2.280000e-09</td>\n",
       "      <td>2.510000e-09</td>\n",
       "      <td>4.996000e-09</td>\n",
       "      <td>4.452000e-07</td>\n",
       "      <td>-0.001027</td>\n",
       "      <td>316.0</td>\n",
       "      <td>-1.908</td>\n",
       "      <td>4267.099</td>\n",
       "      <td>-0.000834</td>\n",
       "      <td>7.150000e-07</td>\n",
       "      <td>NaN</td>\n",
       "      <td>NaN</td>\n",
       "    </tr>\n",
       "  </tbody>\n",
       "</table>\n",
       "</div>"
      ],
      "text/plain": [
       "  Live comments                Time  Elapsed time  100mbar inj      Barion_2  \\\n",
       "0           NaN 2023-05-04 10:56:50           0.0    -0.026053  2.270000e-09   \n",
       "1           NaN 2023-05-04 10:56:58           8.0    -0.023711  2.300000e-09   \n",
       "2           NaN 2023-05-04 10:57:07          17.0    -0.022131  2.290000e-09   \n",
       "3           NaN 2023-05-04 10:57:16          26.0    -0.021860  2.280000e-09   \n",
       "4           NaN 2023-05-04 10:57:24          34.0    -0.021860  2.280000e-09   \n",
       "\n",
       "       Barion_1  DUAL experiment  DUAL insulation  1mbar inj  helium  \\\n",
       "0  2.500000e-09     4.996000e-09     4.452000e-07  -0.001018   317.0   \n",
       "1  2.520000e-09     4.996000e-09     4.452000e-07  -0.001017   317.0   \n",
       "2  2.510000e-09     4.996000e-09     4.452000e-07  -0.001024   317.0   \n",
       "3  2.500000e-09     4.996000e-09     4.452000e-07  -0.001024   316.0   \n",
       "4  2.510000e-09     4.996000e-09     4.452000e-07  -0.001027   316.0   \n",
       "\n",
       "   T-platinum  T-CERNOX  V_heater  DUAL inj line  I_emission  I_grid  \n",
       "0      -1.908  4266.874 -0.000458   7.340000e-07         NaN     NaN  \n",
       "1      -1.908  4266.986 -0.000055   7.290000e-07         NaN     NaN  \n",
       "2      -1.796  4267.211 -0.001293   7.240000e-07         NaN     NaN  \n",
       "3      -1.683  4266.537 -0.001426   7.160000e-07         NaN     NaN  \n",
       "4      -1.908  4267.099 -0.000834   7.150000e-07         NaN     NaN  "
      ]
     },
     "execution_count": 11,
     "metadata": {},
     "output_type": "execute_result"
    }
   ],
   "source": [
    "#reading vaclogger measurement file\n",
    "vaclog=pd.read_csv(\"vaclog\", sep=\"\\t\")\n",
    "vaclog.head()\n",
    "\n",
    "#adding an elapsed time column\n",
    "vac_timestamps=pd.to_datetime(vaclog[\"Time\"],format=\"%d/%m/%Y %H:%M:%S\")\n",
    "runtime=(vac_timestamps-vac_timestamps[0]).dt.total_seconds()    \n",
    "vaclog.insert(2,\"Elapsed time\",runtime)\n",
    "# vaclog.drop(index=vaclog.index[0], \n",
    "#         axis=0, \n",
    "#         inplace=True)\n",
    "vaclog[\"Time\"] = vac_timestamps.dt.strftime('%d-%m-%Y %H:%M:%S')\n",
    "vaclog[\"Time\"] = pd.to_datetime(vaclog[\"Time\"],format='%d-%m-%Y %H:%M:%S')\n",
    "\n",
    "vaclog.head()"
   ]
  },
  {
   "cell_type": "code",
   "execution_count": 12,
   "id": "61818956",
   "metadata": {},
   "outputs": [
    {
     "name": "stdout",
     "output_type": "stream",
     "text": [
      "[nan 'closed turbo valve' 'injection volume prepared' 'injection complete'\n",
      " 'emergency shutdown of instruments due to LHe refill pressure spike'\n",
      " 'turning instruments on' 'refill complete' 'started ESD measurement'\n",
      " 'esd measurement complete']\n"
     ]
    }
   ],
   "source": [
    "#print vaclog comments\n",
    "print(pd.unique(vaclog[\"Live comments\"]))"
   ]
  },
  {
   "cell_type": "code",
   "execution_count": 13,
   "id": "d60a212c",
   "metadata": {},
   "outputs": [
    {
     "name": "stdout",
     "output_type": "stream",
     "text": [
      "['refill complete' nan 'started ESD measurement'\n",
      " 'esd measurement complete']\n"
     ]
    }
   ],
   "source": [
    "#Cut data from \"transfer complete\"\n",
    "# Finding the index where the comment \"transfer complete\" was written\n",
    "start_index = vaclog[vaclog[\"Live comments\"] == 'refill complete'].index[0]\n",
    "\n",
    "# Cutting the dataset from the start_index onwards\n",
    "vaclog_cut = vaclog[start_index:].reset_index(drop=True)\n",
    "\n",
    "# Printing unique comments in the \"Live comments\" column\n",
    "print(pd.unique(vaclog_cut[\"Live comments\"]))"
   ]
  },
  {
   "cell_type": "markdown",
   "id": "fd5d1ee2",
   "metadata": {},
   "source": [
    "### Temperature conversion \n"
   ]
  },
  {
   "cell_type": "code",
   "execution_count": 14,
   "id": "445d6444",
   "metadata": {},
   "outputs": [],
   "source": [
    "#Temperature curve for CERNOX - for temp stability\n",
    "A=[230.317302,-6170.1513,71837.9529,-477946.76,2.003668910085786e+6,-5.488690193047771e+6,9.830475663897528e+6,-1.111226817786569e+7,7.202477878914065e+6,-2.04194551328507e+6]\n",
    "#specify fit parameters A, data (Resistance values)\n",
    "def polyfit(params,data):\n",
    "    total=[]\n",
    "    for j in data: \n",
    "        exp=0\n",
    "        for i in range(len(params)):\n",
    "            exp += (params[i]/(math.log10(j))**i)\n",
    "        total.append(10**exp)\n",
    "    return(total)    \n"
   ]
  },
  {
   "cell_type": "markdown",
   "id": "79e8665c",
   "metadata": {},
   "source": [
    "### Trendline"
   ]
  },
  {
   "cell_type": "code",
   "execution_count": 15,
   "id": "0bbc981f",
   "metadata": {},
   "outputs": [
    {
     "name": "stdout",
     "output_type": "stream",
     "text": [
      "Fitted line: y = -0.0057*x+399.98\n",
      "[16342.         16348.13554801 16354.27109602 ... 70089.40055935\n",
      " 70095.53610736 70101.67165537]\n",
      "[16342.         16348.56562381 16355.13124762 ... 91124.45518791\n",
      " 91131.02081172 91137.58643553]\n"
     ]
    }
   ],
   "source": [
    "## Checking helium level drop linearity\n",
    "#defining a function for the straight line\n",
    "def fit(x,a,b):\n",
    "    return a*x + b\n",
    "\n",
    "#curve fit for the data\n",
    "y_val = vaclog_cut[\"helium\"].values\n",
    "x_val = (vaclog_cut[\"Elapsed time\"]).values\n",
    "params, cov = curve_fit(fit,x_val,y_val)\n",
    "\n",
    "#straight line parameters\n",
    "a, b = params\n",
    "print(f\"Fitted line: y = {a:.4f}*x+{b:.2f}\")\n",
    "y_fit = fit(x_val, a, b)\n",
    "\n",
    "b_second = 520\n",
    "# Calculate the number of data points needed to reach b/a condition\n",
    "num_points = int(abs(b / a) / (x_val[1] - x_val[0])) + 1\n",
    "num_points2 = int(abs(b_second / a) / (x_val[1] - x_val[0])) + 1\n",
    "\n",
    "# Extend the fitted line to y_fit = 0\n",
    "x_fit_extended = np.linspace(x_val[0], (-b/a), num_points)\n",
    "x_fit_extended2 = np.linspace(x_val[0], (-b_second/a), num_points2)\n",
    "\n",
    "y_fit_extended = fit(x_fit_extended, a, b)\n",
    "y_fit_extended2 = fit(x_fit_extended2, a, b_second)\n",
    "\n",
    "print(x_fit_extended)\n",
    "print(x_fit_extended2)\n"
   ]
  },
  {
   "cell_type": "markdown",
   "id": "592be7d7",
   "metadata": {},
   "source": [
    "## Heat load    "
   ]
  },
  {
   "cell_type": "code",
   "execution_count": 26,
   "id": "ed89ead7",
   "metadata": {},
   "outputs": [
    {
     "name": "stdout",
     "output_type": "stream",
     "text": [
      "reduction in LHe level per second 0.000005706 m/s\n",
      "Reduction of LHe volume per second 0.000000703 m3/s\n",
      "\n",
      "The cryogenic heat load based on the LHe level reduction is 1.844468 W\n"
     ]
    }
   ],
   "source": [
    "L = 21 #J/g\n",
    "rho = 125 #kg/m3\n",
    "\n",
    "#reduction of LHe volume per second\n",
    "r = 0.14 #m radius of LHe bath at full diam\n",
    "l = abs(a)/1000 # reduction in LHe level per second\n",
    "print(f\"reduction in LHe level per second {l:.9f} m/s\")\n",
    "V  = 2*np.pi*r**2 *l #m3/s\n",
    "print(f\"Reduction of LHe volume per second {V:.9f} m3/s\")\n",
    "m = V*rho*1000 #g/s\n",
    "print()\n",
    "Q = L*m\n",
    "print(f\"The cryogenic heat load based on the LHe level reduction is {Q:.6f} W\")\n"
   ]
  },
  {
   "cell_type": "markdown",
   "id": "de44efbb",
   "metadata": {},
   "source": [
    "### Plotting"
   ]
  },
  {
   "cell_type": "code",
   "execution_count": 17,
   "id": "a0b37e84",
   "metadata": {},
   "outputs": [],
   "source": [
    "#define parameters for plotting\n",
    "#annotation params\n",
    "font = dict(size = \"x-small\", color =\"green\", style =\"italic\",rotation=\"vertical\")\n",
    "\n",
    "plt.rcParams[\"figure.figsize\"] = [8,5]\n",
    "plt.rcParams[\"axes.edgecolor\"] = \"black\"\n",
    "plt.rcParams[\"axes.grid\"] = True\n",
    "plt.rcParams[\"grid.color\"] = \"black\"\n",
    "plt.rcParams[\"grid.linewidth\"] = 0.35"
   ]
  },
  {
   "cell_type": "code",
   "execution_count": 18,
   "id": "890dfb97",
   "metadata": {},
   "outputs": [],
   "source": [
    "# Helium level\n",
    "fig, ax = plt.subplots()\n",
    "ax.plot((vaclog_cut[\"Time\"]), vaclog_cut[\"helium\"], marker=\".\", markersize=5, label='inj volume pressure')\n",
    "ax.plot((vaclog_cut[\"Time\"]), y_fit, \"--\", color=\"red\", label=f\"Fitted line: y = {a:.4f}*x+{b:.2f}\")\n",
    "ax.legend(loc=\"upper right\")\n",
    "ax.set_xlabel('Timestamp')\n",
    "ax.set_ylabel('LHe level (mm)')\n",
    "ax.set_yscale('linear')\n",
    "ax.get_yaxis().get_major_formatter().set_useOffset(False)\n",
    "ax.xaxis.set_major_formatter(md.DateFormatter('%H:%M'))\n",
    "ax.xaxis.set_major_locator(plt.MaxNLocator(10))\n",
    "for label in ax.get_xticklabels(which='major'):\n",
    "    label.set(rotation=30, horizontalalignment='right')\n",
    "\n",
    "plt.title(\"Helium level drop and fit\")\n",
    "plt.savefig(r'./graphs/He_org_level.png', dpi=300,bbox_inches='tight')\n",
    "plt.show()\n",
    "    "
   ]
  },
  {
   "cell_type": "code",
   "execution_count": 19,
   "id": "dbeda98c",
   "metadata": {},
   "outputs": [],
   "source": [
    "#Fits\n",
    "fig, ax = plt.subplots()\n",
    "ax.plot(x_fit_extended/3600, y_fit_extended, \"--\", color=\"green\", label=f\"y = {a:.2f}*x+{b:.2f} extended fit\")\n",
    "\n",
    "ax.legend(loc=\"lower left\")\n",
    "ax.set_xlabel('Elapsed time (h)')\n",
    "ax.set_ylabel('LHe level (mm)')\n",
    "ax.set_yscale('linear')\n",
    "# Set the number of major y ticks for ax\n",
    "ax.yaxis.set_major_locator(plt.MaxNLocator(8))\n",
    "\n",
    "ax.plot(x_fit_extended2/3600, y_fit_extended2, \"--\", color=\"orange\", label=f\"y = {a:.2f}*x+{b_second:.2f} extended fit\")\n",
    "ax.legend(loc=\"upper right\")\n",
    "ax.set_xlabel('Elapsed time (h)')\n",
    "ax.set_ylabel('LHe level (mm)')\n",
    "ax.set_yscale('linear')\n",
    "\n",
    "# Set the number of major y ticks for ax2\n",
    "ax.set_ylim(top=b_second)\n",
    "\n",
    "\n",
    "plt.title(\"Helium level drop fit extrapolated to y=0\")\n",
    "plt.savefig(r'./graphs/He_fit_level.png', dpi=300,bbox_inches='tight')\n",
    "plt.show()\n"
   ]
  },
  {
   "cell_type": "code",
   "execution_count": 20,
   "id": "f21f3e49",
   "metadata": {},
   "outputs": [
    {
     "data": {
      "text/plain": [
       "' #Helium level\\nfig, ax = plt.subplots()\\ny_fit = fit(x_val,a,b)\\nax.plot((vaclog_cut[\"Time\"]),vaclog_cut[\"helium\"],marker=\".\", markersize=5,label=\\'inj volume pressure\\')\\nax.legend(loc=\"upper right\")\\nax.set_xlabel(\\'Timestamp\\')\\nax.set_ylabel(\\'He-level (mm)\\')\\nax.set_yscale(\\'linear\\')\\nax.get_yaxis().get_major_formatter().set_useOffset(False)\\nax.xaxis.set_major_formatter(md.DateFormatter(\\'%H:%M\\'))\\nax.xaxis.set_major_locator(plt.MaxNLocator(10))\\nfor label in ax.get_xticklabels(which=\\'major\\'):\\n    label.set(rotation=30, horizontalalignment=\\'right\\')\\n\\n# Creating x values for prediction\\nx_pred = np.linspace(x_val[0], x_val[-1], num=100)\\n\\n# Plotting the predicted line\\ny_pred = fit(x_pred, a, b)\\n\\nax2 = ax.twiny()\\nax2.plot(vaclog_cut[\"Time\"], y_pred, \"--\", color=\"red\", label=\"Y = -ax + b fit\")\\nax2.legend(loc=\"lower left\")\\nax2.set_xlabel(\\'Timestamp\\')\\nax2.set_ylabel(\\'He-level (mm)\\')\\nax2.set_yscale(\\'linear\\')\\nax2.get_yaxis().get_major_formatter().set_useOffset(False)\\n\\nplt.tight_layout()  # Ensure all elements are properly placed within the figure\\nplt.title(\"S1 Injection pressure evolution 1mbar conductance gauge\")\\nplt.savefig(r\\'./graphs/He_level.png\\',dpi=300)\\nplt.show() '"
      ]
     },
     "execution_count": 20,
     "metadata": {},
     "output_type": "execute_result"
    }
   ],
   "source": [
    "\"\"\" #Helium level\n",
    "fig, ax = plt.subplots()\n",
    "y_fit = fit(x_val,a,b)\n",
    "ax.plot((vaclog_cut[\"Time\"]),vaclog_cut[\"helium\"],marker=\".\", markersize=5,label='inj volume pressure')\n",
    "ax.legend(loc=\"upper right\")\n",
    "ax.set_xlabel('Timestamp')\n",
    "ax.set_ylabel('He-level (mm)')\n",
    "ax.set_yscale('linear')\n",
    "ax.get_yaxis().get_major_formatter().set_useOffset(False)\n",
    "ax.xaxis.set_major_formatter(md.DateFormatter('%H:%M'))\n",
    "ax.xaxis.set_major_locator(plt.MaxNLocator(10))\n",
    "for label in ax.get_xticklabels(which='major'):\n",
    "    label.set(rotation=30, horizontalalignment='right')\n",
    "\n",
    "# Creating x values for prediction\n",
    "x_pred = np.linspace(x_val[0], x_val[-1], num=100)\n",
    "\n",
    "# Plotting the predicted line\n",
    "y_pred = fit(x_pred, a, b)\n",
    "\n",
    "ax2 = ax.twiny()\n",
    "ax2.plot(vaclog_cut[\"Time\"], y_pred, \"--\", color=\"red\", label=\"Y = -ax + b fit\")\n",
    "ax2.legend(loc=\"lower left\")\n",
    "ax2.set_xlabel('Timestamp')\n",
    "ax2.set_ylabel('He-level (mm)')\n",
    "ax2.set_yscale('linear')\n",
    "ax2.get_yaxis().get_major_formatter().set_useOffset(False)\n",
    "\n",
    "plt.tight_layout()  # Ensure all elements are properly placed within the figure\n",
    "plt.title(\"S1 Injection pressure evolution 1mbar conductance gauge\")\n",
    "plt.savefig(r'./graphs/He_level.png',dpi=300)\n",
    "plt.show() \"\"\""
   ]
  },
  {
   "cell_type": "code",
   "execution_count": 21,
   "id": "9b2c3a2f",
   "metadata": {},
   "outputs": [],
   "source": [
    "## Plotting the temp evolution\n",
    "plt.figure()\n",
    "plt.plot((vaclog_cut[\"Time\"]),polyfit(A,vaclog_cut[\"T-CERNOX\"]),marker=\".\", markersize=5,label='T-CERNOX')          \n",
    "plt.xlabel('Timestamp')\n",
    "plt.ylabel('Temperature (K)')\n",
    "plt.legend()\n",
    "plt.title(\"S1 Temperature evolution\")\n",
    "plt.yscale('linear')\n",
    "plt.tick_params(axis=\"y\", which='minor')\n",
    "plt.grid(which='minor', axis='y')\n",
    "\n",
    "ax = plt.gca()\n",
    "ax.xaxis.set_major_formatter(md.DateFormatter('%H:%M'))\n",
    "ax.xaxis.set_major_locator(plt.MaxNLocator(10))\n",
    "for label in ax.get_xticklabels(which='major'):\n",
    "    label.set(rotation=30, horizontalalignment='right')\n",
    "    \n",
    "plt.savefig(r'./graphs/He_aut_Temp.png',dpi=300,bbox_inches='tight')\n",
    "plt.show()"
   ]
  }
 ],
 "metadata": {
  "kernelspec": {
   "display_name": "Python 3 (ipykernel)",
   "language": "python",
   "name": "python3"
  },
  "language_info": {
   "codemirror_mode": {
    "name": "ipython",
    "version": 3
   },
   "file_extension": ".py",
   "mimetype": "text/x-python",
   "name": "python",
   "nbconvert_exporter": "python",
   "pygments_lexer": "ipython3",
   "version": "3.9.12"
  }
 },
 "nbformat": 4,
 "nbformat_minor": 5
}
