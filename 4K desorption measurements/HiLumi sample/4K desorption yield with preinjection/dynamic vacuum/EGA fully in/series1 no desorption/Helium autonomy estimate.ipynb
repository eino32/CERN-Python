{
 "cells": [
  {
   "cell_type": "code",
   "execution_count": 1,
   "id": "0a7644f4",
   "metadata": {
    "scrolled": true
   },
   "outputs": [],
   "source": [
    "import pandas as pd\n",
    "import scipy.constants\n",
    "from scipy.optimize import curve_fit\n",
    "from scipy.integrate import quad\n",
    "from sklearn.metrics import r2_score\n",
    "#import seaborn\n",
    "#seaborn.set(style='whitegrid')\n",
    "import numpy as np\n",
    "import math\n",
    "import matplotlib.pyplot as plt\n",
    "import matplotlib.dates as md\n",
    "import matplotlib.transforms as transforms\n",
    "import matplotlib.ticker\n",
    "%matplotlib qt\n",
    "# %matplotlib inline\n",
    "import datetime as dt\n",
    "pd.set_option('display.max_rows', 100) "
   ]
  },
  {
   "cell_type": "markdown",
   "id": "cf10fa7c",
   "metadata": {},
   "source": [
    "## Reading in the data"
   ]
  },
  {
   "cell_type": "code",
   "execution_count": 2,
   "id": "111df2e2",
   "metadata": {},
   "outputs": [
    {
     "data": {
      "text/html": [
       "<div>\n",
       "<style scoped>\n",
       "    .dataframe tbody tr th:only-of-type {\n",
       "        vertical-align: middle;\n",
       "    }\n",
       "\n",
       "    .dataframe tbody tr th {\n",
       "        vertical-align: top;\n",
       "    }\n",
       "\n",
       "    .dataframe thead th {\n",
       "        text-align: right;\n",
       "    }\n",
       "</style>\n",
       "<table border=\"1\" class=\"dataframe\">\n",
       "  <thead>\n",
       "    <tr style=\"text-align: right;\">\n",
       "      <th></th>\n",
       "      <th>Live comments</th>\n",
       "      <th>Time</th>\n",
       "      <th>Elapsed time</th>\n",
       "      <th>injection 100mbar</th>\n",
       "      <th>Barion_2</th>\n",
       "      <th>Barion_1</th>\n",
       "      <th>DUAL experiment</th>\n",
       "      <th>DUAL insulation</th>\n",
       "      <th>injection 1mbar</th>\n",
       "      <th>helium</th>\n",
       "      <th>T-platinum</th>\n",
       "      <th>T-CERNOX</th>\n",
       "      <th>I_emission</th>\n",
       "      <th>I_grid</th>\n",
       "    </tr>\n",
       "  </thead>\n",
       "  <tbody>\n",
       "    <tr>\n",
       "      <th>0</th>\n",
       "      <td>NaN</td>\n",
       "      <td>2022-12-13 17:31:14</td>\n",
       "      <td>0.0</td>\n",
       "      <td>-0.046295</td>\n",
       "      <td>2.540000e-09</td>\n",
       "      <td>1.640000e-09</td>\n",
       "      <td>4.996000e-09</td>\n",
       "      <td>4.919000e-07</td>\n",
       "      <td>0.35246</td>\n",
       "      <td>197.0</td>\n",
       "      <td>-5.163</td>\n",
       "      <td>4288.086</td>\n",
       "      <td>NaN</td>\n",
       "      <td>NaN</td>\n",
       "    </tr>\n",
       "    <tr>\n",
       "      <th>1</th>\n",
       "      <td>NaN</td>\n",
       "      <td>2022-12-13 17:31:21</td>\n",
       "      <td>7.0</td>\n",
       "      <td>-0.047451</td>\n",
       "      <td>2.900000e-09</td>\n",
       "      <td>1.680000e-09</td>\n",
       "      <td>4.996000e-09</td>\n",
       "      <td>4.919000e-07</td>\n",
       "      <td>0.35245</td>\n",
       "      <td>197.0</td>\n",
       "      <td>-5.275</td>\n",
       "      <td>4288.198</td>\n",
       "      <td>NaN</td>\n",
       "      <td>NaN</td>\n",
       "    </tr>\n",
       "    <tr>\n",
       "      <th>2</th>\n",
       "      <td>NaN</td>\n",
       "      <td>2022-12-13 17:31:28</td>\n",
       "      <td>14.0</td>\n",
       "      <td>-0.046614</td>\n",
       "      <td>2.900000e-09</td>\n",
       "      <td>1.640000e-09</td>\n",
       "      <td>4.996000e-09</td>\n",
       "      <td>4.919000e-07</td>\n",
       "      <td>0.35244</td>\n",
       "      <td>197.0</td>\n",
       "      <td>-5.050</td>\n",
       "      <td>4286.403</td>\n",
       "      <td>NaN</td>\n",
       "      <td>NaN</td>\n",
       "    </tr>\n",
       "    <tr>\n",
       "      <th>3</th>\n",
       "      <td>NaN</td>\n",
       "      <td>2022-12-13 17:31:35</td>\n",
       "      <td>21.0</td>\n",
       "      <td>-0.050953</td>\n",
       "      <td>2.400000e-09</td>\n",
       "      <td>1.860000e-09</td>\n",
       "      <td>4.996000e-09</td>\n",
       "      <td>4.733000e-07</td>\n",
       "      <td>0.35245</td>\n",
       "      <td>196.0</td>\n",
       "      <td>-5.275</td>\n",
       "      <td>4286.739</td>\n",
       "      <td>NaN</td>\n",
       "      <td>NaN</td>\n",
       "    </tr>\n",
       "    <tr>\n",
       "      <th>4</th>\n",
       "      <td>NaN</td>\n",
       "      <td>2022-12-13 17:31:42</td>\n",
       "      <td>28.0</td>\n",
       "      <td>-0.046468</td>\n",
       "      <td>1.140000e-09</td>\n",
       "      <td>6.030000e-10</td>\n",
       "      <td>4.996000e-09</td>\n",
       "      <td>4.688000e-07</td>\n",
       "      <td>0.35244</td>\n",
       "      <td>196.0</td>\n",
       "      <td>-5.163</td>\n",
       "      <td>4286.515</td>\n",
       "      <td>NaN</td>\n",
       "      <td>NaN</td>\n",
       "    </tr>\n",
       "  </tbody>\n",
       "</table>\n",
       "</div>"
      ],
      "text/plain": [
       "   Live comments                Time  Elapsed time  injection 100mbar  \\\n",
       "0            NaN 2022-12-13 17:31:14           0.0          -0.046295   \n",
       "1            NaN 2022-12-13 17:31:21           7.0          -0.047451   \n",
       "2            NaN 2022-12-13 17:31:28          14.0          -0.046614   \n",
       "3            NaN 2022-12-13 17:31:35          21.0          -0.050953   \n",
       "4            NaN 2022-12-13 17:31:42          28.0          -0.046468   \n",
       "\n",
       "       Barion_2      Barion_1  DUAL experiment  DUAL insulation  \\\n",
       "0  2.540000e-09  1.640000e-09     4.996000e-09     4.919000e-07   \n",
       "1  2.900000e-09  1.680000e-09     4.996000e-09     4.919000e-07   \n",
       "2  2.900000e-09  1.640000e-09     4.996000e-09     4.919000e-07   \n",
       "3  2.400000e-09  1.860000e-09     4.996000e-09     4.733000e-07   \n",
       "4  1.140000e-09  6.030000e-10     4.996000e-09     4.688000e-07   \n",
       "\n",
       "   injection 1mbar  helium  T-platinum  T-CERNOX  I_emission  I_grid  \n",
       "0          0.35246   197.0      -5.163  4288.086         NaN     NaN  \n",
       "1          0.35245   197.0      -5.275  4288.198         NaN     NaN  \n",
       "2          0.35244   197.0      -5.050  4286.403         NaN     NaN  \n",
       "3          0.35245   196.0      -5.275  4286.739         NaN     NaN  \n",
       "4          0.35244   196.0      -5.163  4286.515         NaN     NaN  "
      ]
     },
     "execution_count": 2,
     "metadata": {},
     "output_type": "execute_result"
    }
   ],
   "source": [
    "#reading vaclogger measurement file\n",
    "vaclog=pd.read_csv(\"vaclog\", sep=\"\\t\")\n",
    "vaclog.head()\n",
    "\n",
    "#adding an elapsed time column\n",
    "vac_timestamps=pd.to_datetime(vaclog[\"Time\"],format=\"%d/%m/%Y %H:%M:%S\")\n",
    "runtime=(vac_timestamps-vac_timestamps[0]).dt.total_seconds()    \n",
    "vaclog.insert(2,\"Elapsed time\",runtime)\n",
    "# vaclog.drop(index=vaclog.index[0], \n",
    "#         axis=0, \n",
    "#         inplace=True)\n",
    "vaclog[\"Time\"] = vac_timestamps.dt.strftime('%d-%m-%Y %H:%M:%S')\n",
    "vaclog[\"Time\"] = pd.to_datetime(vaclog[\"Time\"],format='%d-%m-%Y %H:%M:%S')\n",
    "\n",
    "vaclog.head()"
   ]
  },
  {
   "cell_type": "code",
   "execution_count": 3,
   "id": "61818956",
   "metadata": {},
   "outputs": [
    {
     "name": "stdout",
     "output_type": "stream",
     "text": [
      "[nan]\n"
     ]
    }
   ],
   "source": [
    "#print vaclog comments\n",
    "print(pd.unique(vaclog[\"Live comments\"]))"
   ]
  },
  {
   "cell_type": "code",
   "execution_count": 4,
   "id": "d60a212c",
   "metadata": {},
   "outputs": [
    {
     "ename": "IndexError",
     "evalue": "index 0 is out of bounds for axis 0 with size 0",
     "output_type": "error",
     "traceback": [
      "\u001b[1;31m---------------------------------------------------------------------------\u001b[0m",
      "\u001b[1;31mIndexError\u001b[0m                                Traceback (most recent call last)",
      "\u001b[1;32mc:\\Users\\etiirine\\cernbox\\Documents\\etiirinen\\Python\\4K desorption measurements\\HiLumi sample\\4K desorption yield with preinjection\\dynamic vacuum\\EGA fully in\\series1 no desorption\\Helium autonomy estimate.ipynb Cell 5\u001b[0m in \u001b[0;36m<cell line: 3>\u001b[1;34m()\u001b[0m\n\u001b[0;32m      <a href='vscode-notebook-cell:/c%3A/Users/etiirine/cernbox/Documents/etiirinen/Python/4K%20desorption%20measurements/HiLumi%20sample/4K%20desorption%20yield%20with%20preinjection/dynamic%20vacuum/EGA%20fully%20in/series1%20no%20desorption/Helium%20autonomy%20estimate.ipynb#W4sZmlsZQ%3D%3D?line=0'>1</a>\u001b[0m \u001b[39m#Cut data from \"transfer complete\"\u001b[39;00m\n\u001b[0;32m      <a href='vscode-notebook-cell:/c%3A/Users/etiirine/cernbox/Documents/etiirinen/Python/4K%20desorption%20measurements/HiLumi%20sample/4K%20desorption%20yield%20with%20preinjection/dynamic%20vacuum/EGA%20fully%20in/series1%20no%20desorption/Helium%20autonomy%20estimate.ipynb#W4sZmlsZQ%3D%3D?line=1'>2</a>\u001b[0m \u001b[39m# Finding the index where the comment \"transfer complete\" was written\u001b[39;00m\n\u001b[1;32m----> <a href='vscode-notebook-cell:/c%3A/Users/etiirine/cernbox/Documents/etiirinen/Python/4K%20desorption%20measurements/HiLumi%20sample/4K%20desorption%20yield%20with%20preinjection/dynamic%20vacuum/EGA%20fully%20in/series1%20no%20desorption/Helium%20autonomy%20estimate.ipynb#W4sZmlsZQ%3D%3D?line=2'>3</a>\u001b[0m start_index \u001b[39m=\u001b[39m vaclog[vaclog[\u001b[39m\"\u001b[39;49m\u001b[39mLive comments\u001b[39;49m\u001b[39m\"\u001b[39;49m] \u001b[39m==\u001b[39;49m \u001b[39m\"\u001b[39;49m\u001b[39mLHe refill complete &restarting experiment\u001b[39;49m\u001b[39m\"\u001b[39;49m]\u001b[39m.\u001b[39;49mindex[\u001b[39m0\u001b[39;49m]\n\u001b[0;32m      <a href='vscode-notebook-cell:/c%3A/Users/etiirine/cernbox/Documents/etiirinen/Python/4K%20desorption%20measurements/HiLumi%20sample/4K%20desorption%20yield%20with%20preinjection/dynamic%20vacuum/EGA%20fully%20in/series1%20no%20desorption/Helium%20autonomy%20estimate.ipynb#W4sZmlsZQ%3D%3D?line=4'>5</a>\u001b[0m \u001b[39m# Cutting the dataset from the start_index onwards\u001b[39;00m\n\u001b[0;32m      <a href='vscode-notebook-cell:/c%3A/Users/etiirine/cernbox/Documents/etiirinen/Python/4K%20desorption%20measurements/HiLumi%20sample/4K%20desorption%20yield%20with%20preinjection/dynamic%20vacuum/EGA%20fully%20in/series1%20no%20desorption/Helium%20autonomy%20estimate.ipynb#W4sZmlsZQ%3D%3D?line=5'>6</a>\u001b[0m vaclog_cut \u001b[39m=\u001b[39m vaclog[start_index:]\u001b[39m.\u001b[39mreset_index(drop\u001b[39m=\u001b[39m\u001b[39mTrue\u001b[39;00m)\n",
      "File \u001b[1;32mc:\\Users\\etiirine\\Anaconda3\\lib\\site-packages\\pandas\\core\\indexes\\base.py:5039\u001b[0m, in \u001b[0;36mIndex.__getitem__\u001b[1;34m(self, key)\u001b[0m\n\u001b[0;32m   5036\u001b[0m \u001b[39mif\u001b[39;00m is_integer(key) \u001b[39mor\u001b[39;00m is_float(key):\n\u001b[0;32m   5037\u001b[0m     \u001b[39m# GH#44051 exclude bool, which would return a 2d ndarray\u001b[39;00m\n\u001b[0;32m   5038\u001b[0m     key \u001b[39m=\u001b[39m com\u001b[39m.\u001b[39mcast_scalar_indexer(key, warn_float\u001b[39m=\u001b[39m\u001b[39mTrue\u001b[39;00m)\n\u001b[1;32m-> 5039\u001b[0m     \u001b[39mreturn\u001b[39;00m getitem(key)\n\u001b[0;32m   5041\u001b[0m \u001b[39mif\u001b[39;00m \u001b[39misinstance\u001b[39m(key, \u001b[39mslice\u001b[39m):\n\u001b[0;32m   5042\u001b[0m     \u001b[39m# This case is separated from the conditional above to avoid\u001b[39;00m\n\u001b[0;32m   5043\u001b[0m     \u001b[39m# pessimization com.is_bool_indexer and ndim checks.\u001b[39;00m\n\u001b[0;32m   5044\u001b[0m     result \u001b[39m=\u001b[39m getitem(key)\n",
      "\u001b[1;31mIndexError\u001b[0m: index 0 is out of bounds for axis 0 with size 0"
     ]
    }
   ],
   "source": [
    "#Cut data from \"transfer complete\"\n",
    "# Finding the index where the comment \"transfer complete\" was written\n",
    "start_index = vaclog.index[0]\n",
    "\n",
    "# Cutting the dataset from the start_index onwards\n",
    "vaclog_cut = vaclog[start_index:].reset_index(drop=True)\n",
    "\n",
    "# Printing unique comments in the \"Live comments\" column\n",
    "print(pd.unique(vaclog_cut[\"Live comments\"]))"
   ]
  },
  {
   "cell_type": "markdown",
   "id": "fd5d1ee2",
   "metadata": {},
   "source": [
    "### Temperature conversion \n"
   ]
  },
  {
   "cell_type": "code",
   "execution_count": null,
   "id": "445d6444",
   "metadata": {},
   "outputs": [],
   "source": [
    "#Temperature curve for CERNOX - for temp stability\n",
    "A=[230.317302,-6170.1513,71837.9529,-477946.76,2.003668910085786e+6,-5.488690193047771e+6,9.830475663897528e+6,-1.111226817786569e+7,7.202477878914065e+6,-2.04194551328507e+6]\n",
    "#specify fit parameters A, data (Resistance values)\n",
    "def polyfit(params,data):\n",
    "    total=[]\n",
    "    for j in data: \n",
    "        exp=0\n",
    "        for i in range(len(params)):\n",
    "            exp += (params[i]/(math.log10(j))**i)\n",
    "        total.append(10**exp)\n",
    "    return(total)    \n"
   ]
  },
  {
   "cell_type": "markdown",
   "id": "79e8665c",
   "metadata": {},
   "source": [
    "### Trendline"
   ]
  },
  {
   "cell_type": "code",
   "execution_count": null,
   "id": "0bbc981f",
   "metadata": {},
   "outputs": [
    {
     "name": "stdout",
     "output_type": "stream",
     "text": [
      "Fitted line: y = -0.01*x+397.74\n",
      "[  182.           190.97334562   199.94669124 ... 59809.88163951\n",
      " 59818.85498513 59827.82833075]\n",
      "[  182.           190.98005507   199.96011013 ... 78200.71841141\n",
      " 78209.69846647 78218.67852154]\n"
     ]
    }
   ],
   "source": [
    "## Checking helium level drop linearity\n",
    "#defining a function for the straight line\n",
    "def fit(x,a,b):\n",
    "    return a*x + b\n",
    "\n",
    "#curve fit for the data\n",
    "y_val = vaclog_cut[\"helium\"].values\n",
    "x_val = (vaclog_cut[\"Elapsed time\"]).values\n",
    "params, cov = curve_fit(fit,x_val,y_val)\n",
    "\n",
    "#straight line parameters\n",
    "a, b = params\n",
    "print(f\"Fitted line: y = {a:.2f}*x+{b:.2f}\")\n",
    "y_fit = fit(x_val, a, b)\n",
    "\n",
    "b_second = 520\n",
    "# Calculate the number of data points needed to reach b/a condition\n",
    "num_points = int(abs(b / a) / (x_val[1] - x_val[0])) + 1\n",
    "num_points2 = int(abs(b_second / a) / (x_val[1] - x_val[0])) + 1\n",
    "\n",
    "# Extend the fitted line to y_fit = 0\n",
    "x_fit_extended = np.linspace(x_val[0], (-b/a), num_points)\n",
    "x_fit_extended2 = np.linspace(x_val[0], (-b_second/a), num_points2)\n",
    "\n",
    "y_fit_extended = fit(x_fit_extended, a, b)\n",
    "y_fit_extended2 = fit(x_fit_extended2, a, b_second)\n",
    "\n",
    "print(x_fit_extended)\n",
    "print(x_fit_extended2)\n"
   ]
  },
  {
   "cell_type": "markdown",
   "id": "de44efbb",
   "metadata": {},
   "source": [
    "### Plotting"
   ]
  },
  {
   "cell_type": "code",
   "execution_count": null,
   "id": "a0b37e84",
   "metadata": {},
   "outputs": [],
   "source": [
    "#define parameters for plotting\n",
    "#annotation params\n",
    "font = dict(size = \"x-small\", color =\"green\", style =\"italic\",rotation=\"vertical\")\n",
    "\n",
    "plt.rcParams[\"figure.figsize\"] = [8,5]\n",
    "plt.rcParams[\"axes.edgecolor\"] = \"black\"\n",
    "plt.rcParams[\"axes.grid\"] = True\n",
    "plt.rcParams[\"grid.color\"] = \"black\"\n",
    "plt.rcParams[\"grid.linewidth\"] = 0.35"
   ]
  },
  {
   "cell_type": "code",
   "execution_count": null,
   "id": "890dfb97",
   "metadata": {},
   "outputs": [],
   "source": [
    "# Helium level\n",
    "fig, ax = plt.subplots()\n",
    "ax.plot((vaclog_cut[\"Time\"]), vaclog_cut[\"helium\"], marker=\".\", markersize=5, label='inj volume pressure')\n",
    "ax.plot((vaclog_cut[\"Time\"]), y_fit, \"--\", color=\"red\", label=f\"Fitted line: y = {a:.2f}*x+{b:.2f}\")\n",
    "ax.legend(loc=\"upper right\")\n",
    "ax.set_xlabel('Timestamp')\n",
    "ax.set_ylabel('LHe level (mm)')\n",
    "ax.set_yscale('linear')\n",
    "ax.get_yaxis().get_major_formatter().set_useOffset(False)\n",
    "ax.xaxis.set_major_formatter(md.DateFormatter('%H:%M'))\n",
    "ax.xaxis.set_major_locator(plt.MaxNLocator(10))\n",
    "for label in ax.get_xticklabels(which='major'):\n",
    "    label.set(rotation=30, horizontalalignment='right')\n",
    "\n",
    "plt.title(\"Helium level drop and fit\")\n",
    "plt.savefig(r'./graphs/He_org_level.png', dpi=300,bbox_inches='tight')\n",
    "plt.show()\n",
    "    "
   ]
  },
  {
   "cell_type": "code",
   "execution_count": null,
   "id": "dbeda98c",
   "metadata": {},
   "outputs": [],
   "source": [
    "#Fits\n",
    "fig, ax = plt.subplots()\n",
    "ax.plot(x_fit_extended/3600, y_fit_extended, \"--\", color=\"green\", label=f\"y = {a:.2f}*x+{b:.2f} extended fit\")\n",
    "\n",
    "ax.legend(loc=\"lower left\")\n",
    "ax.set_xlabel('Elapsed time (h)')\n",
    "ax.set_ylabel('LHe level (mm)')\n",
    "ax.set_yscale('linear')\n",
    "# Set the number of major y ticks for ax\n",
    "ax.yaxis.set_major_locator(plt.MaxNLocator(8))\n",
    "\n",
    "ax.plot(x_fit_extended2/3600, y_fit_extended2, \"--\", color=\"orange\", label=f\"y = {a:.2f}*x+{b_second:.2f} extended fit\")\n",
    "ax.legend(loc=\"upper right\")\n",
    "ax.set_xlabel('Elapsed time (h)')\n",
    "ax.set_ylabel('LHe level (mm)')\n",
    "ax.set_yscale('linear')\n",
    "\n",
    "# Set the number of major y ticks for ax2\n",
    "ax.set_ylim(top=b_second)\n",
    "\n",
    "\n",
    "plt.title(\"Helium level drop fit extrapolated to y=0\")\n",
    "plt.savefig(r'./graphs/He_fit_level.png', dpi=300,bbox_inches='tight')\n",
    "plt.show()\n"
   ]
  },
  {
   "cell_type": "code",
   "execution_count": null,
   "id": "f21f3e49",
   "metadata": {},
   "outputs": [
    {
     "data": {
      "text/plain": [
       "' #Helium level\\nfig, ax = plt.subplots()\\ny_fit = fit(x_val,a,b)\\nax.plot((vaclog_cut[\"Time\"]),vaclog_cut[\"helium\"],marker=\".\", markersize=5,label=\\'inj volume pressure\\')\\nax.legend(loc=\"upper right\")\\nax.set_xlabel(\\'Timestamp\\')\\nax.set_ylabel(\\'He-level (mm)\\')\\nax.set_yscale(\\'linear\\')\\nax.get_yaxis().get_major_formatter().set_useOffset(False)\\nax.xaxis.set_major_formatter(md.DateFormatter(\\'%H:%M\\'))\\nax.xaxis.set_major_locator(plt.MaxNLocator(10))\\nfor label in ax.get_xticklabels(which=\\'major\\'):\\n    label.set(rotation=30, horizontalalignment=\\'right\\')\\n\\n# Creating x values for prediction\\nx_pred = np.linspace(x_val[0], x_val[-1], num=100)\\n\\n# Plotting the predicted line\\ny_pred = fit(x_pred, a, b)\\n\\nax2 = ax.twiny()\\nax2.plot(vaclog_cut[\"Time\"], y_pred, \"--\", color=\"red\", label=\"Y = -ax + b fit\")\\nax2.legend(loc=\"lower left\")\\nax2.set_xlabel(\\'Timestamp\\')\\nax2.set_ylabel(\\'He-level (mm)\\')\\nax2.set_yscale(\\'linear\\')\\nax2.get_yaxis().get_major_formatter().set_useOffset(False)\\n\\nplt.tight_layout()  # Ensure all elements are properly placed within the figure\\nplt.title(\"S1 Injection pressure evolution 1mbar conductance gauge\")\\nplt.savefig(r\\'./graphs/He_level.png\\',dpi=300)\\nplt.show() '"
      ]
     },
     "execution_count": 22,
     "metadata": {},
     "output_type": "execute_result"
    }
   ],
   "source": [
    "\"\"\" #Helium level\n",
    "fig, ax = plt.subplots()\n",
    "y_fit = fit(x_val,a,b)\n",
    "ax.plot((vaclog_cut[\"Time\"]),vaclog_cut[\"helium\"],marker=\".\", markersize=5,label='inj volume pressure')\n",
    "ax.legend(loc=\"upper right\")\n",
    "ax.set_xlabel('Timestamp')\n",
    "ax.set_ylabel('He-level (mm)')\n",
    "ax.set_yscale('linear')\n",
    "ax.get_yaxis().get_major_formatter().set_useOffset(False)\n",
    "ax.xaxis.set_major_formatter(md.DateFormatter('%H:%M'))\n",
    "ax.xaxis.set_major_locator(plt.MaxNLocator(10))\n",
    "for label in ax.get_xticklabels(which='major'):\n",
    "    label.set(rotation=30, horizontalalignment='right')\n",
    "\n",
    "# Creating x values for prediction\n",
    "x_pred = np.linspace(x_val[0], x_val[-1], num=100)\n",
    "\n",
    "# Plotting the predicted line\n",
    "y_pred = fit(x_pred, a, b)\n",
    "\n",
    "ax2 = ax.twiny()\n",
    "ax2.plot(vaclog_cut[\"Time\"], y_pred, \"--\", color=\"red\", label=\"Y = -ax + b fit\")\n",
    "ax2.legend(loc=\"lower left\")\n",
    "ax2.set_xlabel('Timestamp')\n",
    "ax2.set_ylabel('He-level (mm)')\n",
    "ax2.set_yscale('linear')\n",
    "ax2.get_yaxis().get_major_formatter().set_useOffset(False)\n",
    "\n",
    "plt.tight_layout()  # Ensure all elements are properly placed within the figure\n",
    "plt.title(\"S1 Injection pressure evolution 1mbar conductance gauge\")\n",
    "plt.savefig(r'./graphs/He_level.png',dpi=300)\n",
    "plt.show() \"\"\""
   ]
  },
  {
   "cell_type": "code",
   "execution_count": null,
   "id": "9b2c3a2f",
   "metadata": {},
   "outputs": [],
   "source": [
    "## Plotting the temp evolution\n",
    "plt.figure()\n",
    "plt.plot((vaclog_cut[\"Time\"]),polyfit(A,vaclog_cut[\"T-CERNOX\"]),marker=\".\", markersize=5,label='T-CERNOX')          \n",
    "plt.xlabel('Timestamp')\n",
    "plt.ylabel('Temperature (K)')\n",
    "plt.legend()\n",
    "plt.title(\"S1 Temperature evolution\")\n",
    "plt.yscale('linear')\n",
    "plt.tick_params(axis=\"y\", which='minor')\n",
    "plt.grid(which='minor', axis='y')\n",
    "\n",
    "ax = plt.gca()\n",
    "ax.xaxis.set_major_formatter(md.DateFormatter('%H:%M'))\n",
    "ax.xaxis.set_major_locator(plt.MaxNLocator(10))\n",
    "for label in ax.get_xticklabels(which='major'):\n",
    "    label.set(rotation=30, horizontalalignment='right')\n",
    "    \n",
    "plt.savefig(r'./graphs/He_aut_Temp.png',dpi=300,bbox_inches='tight')\n",
    "plt.show()"
   ]
  }
 ],
 "metadata": {
  "kernelspec": {
   "display_name": "Python 3 (ipykernel)",
   "language": "python",
   "name": "python3"
  },
  "language_info": {
   "codemirror_mode": {
    "name": "ipython",
    "version": 3
   },
   "file_extension": ".py",
   "mimetype": "text/x-python",
   "name": "python",
   "nbconvert_exporter": "python",
   "pygments_lexer": "ipython3",
   "version": "3.9.12"
  }
 },
 "nbformat": 4,
 "nbformat_minor": 5
}
