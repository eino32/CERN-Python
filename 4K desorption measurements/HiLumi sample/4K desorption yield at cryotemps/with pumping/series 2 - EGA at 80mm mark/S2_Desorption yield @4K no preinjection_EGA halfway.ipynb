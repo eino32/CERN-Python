{
 "cells": [
  {
   "cell_type": "code",
   "execution_count": 1,
   "id": "d56437be",
   "metadata": {},
   "outputs": [],
   "source": [
    "import pandas as pd\n",
    "import scipy.constants\n",
    "from scipy.optimize import curve_fit\n",
    "from scipy.integrate import quad\n",
    "from sklearn.metrics import r2_score\n",
    "import numpy as np\n",
    "import math\n",
    "import matplotlib.pyplot as plt\n",
    "import matplotlib.dates as md\n",
    "import matplotlib.transforms as transforms\n",
    "from matplotlib.ticker import LogFormatter\n",
    "import os\n",
    "import fnmatch\n",
    "%matplotlib qt\n",
    "# %matplotlib inline\n",
    "import datetime as dt\n",
    "pd.set_option('display.max_rows', 100) "
   ]
  },
  {
   "cell_type": "markdown",
   "id": "0382adf5",
   "metadata": {},
   "source": [
    "## Reading in the data and preparing DataFrames"
   ]
  },
  {
   "cell_type": "markdown",
   "id": "fc790c8c",
   "metadata": {},
   "source": [
    "#### MID"
   ]
  },
  {
   "cell_type": "code",
   "execution_count": 2,
   "id": "4b6afd9a",
   "metadata": {},
   "outputs": [
    {
     "name": "stdout",
     "output_type": "stream",
     "text": [
      "C:\\Users\\etiirine\\cernbox\\Documents\n"
     ]
    }
   ],
   "source": [
    "print(os.getcwd())"
   ]
  },
  {
   "cell_type": "code",
   "execution_count": 3,
   "id": "7d4fc79b",
   "metadata": {},
   "outputs": [
    {
     "name": "stdout",
     "output_type": "stream",
     "text": [
      "             mass 2.0_time  mass 2.0_value            mass 4.0_time  \\\n",
      "2  2022/11/15 15:30:14.401    6.995500e-12  2022/11/15 15:30:14.651   \n",
      "3  2022/11/15 15:30:16.724    6.943800e-12  2022/11/15 15:30:16.974   \n",
      "4  2022/11/15 15:30:19.047    6.888700e-12  2022/11/15 15:30:19.297   \n",
      "5  2022/11/15 15:30:21.370    6.900000e-12  2022/11/15 15:30:21.620   \n",
      "6  2022/11/15 15:30:23.692    6.908800e-12  2022/11/15 15:30:23.942   \n",
      "\n",
      "   mass 4.0_value           mass 12.0_time  mass 12.0_value  \\\n",
      "2    3.294000e-13  2022/11/15 15:30:14.901     1.225000e-13   \n",
      "3    3.428000e-13  2022/11/15 15:30:17.224     8.400000e-14   \n",
      "4    2.891000e-13  2022/11/15 15:30:19.547     7.410000e-14   \n",
      "5    3.097000e-13  2022/11/15 15:30:22.120     2.614000e-13   \n",
      "6    2.960000e-13  2022/11/15 15:30:24.443     2.444000e-13   \n",
      "\n",
      "            mass 16.0_time  mass 16.0_value           mass 18.0_time  \\\n",
      "2  2022/11/15 15:30:15.151     2.424000e-13  2022/11/15 15:30:15.401   \n",
      "3  2022/11/15 15:30:17.475     2.591000e-13  2022/11/15 15:30:17.725   \n",
      "4  2022/11/15 15:30:19.798     2.511000e-13  2022/11/15 15:30:20.048   \n",
      "5  2022/11/15 15:30:22.370     5.697000e-13  2022/11/15 15:30:22.621   \n",
      "6  2022/11/15 15:30:24.693     5.613000e-13  2022/11/15 15:30:24.943   \n",
      "\n",
      "   mass 18.0_value           mass 28.0_time  mass 28.0_value  \\\n",
      "2     5.729000e-13  2022/11/15 15:30:15.651     4.891000e-13   \n",
      "3     5.513000e-13  2022/11/15 15:30:17.975     4.489000e-13   \n",
      "4     5.727000e-13  2022/11/15 15:30:20.298     4.481000e-13   \n",
      "5     4.532000e-13  2022/11/15 15:30:23.371     2.069000e-13   \n",
      "6     4.424000e-13  2022/11/15 15:30:25.694     2.628000e-13   \n",
      "\n",
      "            mass 32.0_time  mass 32.0_value           mass 40.0_time  \\\n",
      "2  2022/11/15 15:30:15.902     3.440000e-14  2022/11/15 15:30:16.152   \n",
      "3  2022/11/15 15:30:18.225     1.900000e-14  2022/11/15 15:30:18.726   \n",
      "4  2022/11/15 15:30:20.548     3.310000e-14  2022/11/15 15:30:21.049   \n",
      "5                      NaN              NaN                      NaN   \n",
      "6                      NaN              NaN                      NaN   \n",
      "\n",
      "   mass 40.0_value           mass 44.0_time  mass 44.0_value  \n",
      "2     3.760000e-14  2022/11/15 15:30:16.402     2.273000e-13  \n",
      "3     2.182000e-13                      NaN              NaN  \n",
      "4     2.147000e-13                      NaN              NaN  \n",
      "5              NaN                      NaN              NaN  \n",
      "6              NaN                      NaN              NaN  \n",
      "                  mass 2.0_time            mass 4.0_time  \\\n",
      "count                      1726                     1726   \n",
      "unique                     1726                     1726   \n",
      "top     2022/11/15 15:30:14.401  2022/11/15 15:30:14.651   \n",
      "freq                          1                        1   \n",
      "\n",
      "                 mass 12.0_time           mass 16.0_time  \\\n",
      "count                      1726                     1726   \n",
      "unique                     1726                     1726   \n",
      "top     2022/11/15 15:30:14.901  2022/11/15 15:30:15.151   \n",
      "freq                          1                        1   \n",
      "\n",
      "                 mass 18.0_time           mass 28.0_time  \\\n",
      "count                      1726                     1724   \n",
      "unique                     1726                     1724   \n",
      "top     2022/11/15 15:30:15.401  2022/11/15 15:30:15.651   \n",
      "freq                          1                        1   \n",
      "\n",
      "                 mass 32.0_time           mass 40.0_time  \\\n",
      "count                        58                       11   \n",
      "unique                       58                       11   \n",
      "top     2022/11/15 15:30:15.902  2022/11/15 15:30:16.152   \n",
      "freq                          1                        1   \n",
      "\n",
      "                 mass 44.0_time  \n",
      "count                         4  \n",
      "unique                        4  \n",
      "top     2022/11/15 15:30:16.402  \n",
      "freq                          1  \n"
     ]
    }
   ],
   "source": [
    "#read in the data\n",
    "mid = pd.read_csv(r\"C:\\Users\\etiirine\\cernbox\\Documents\\etiirinen\\Python\\4K desorption measurements\\HiLumi sample\\4K desorption yield at cryotemps\\with pumping\\series 2 - EGA at 80mm mark\\EGA 80mm.tsv\", sep=\"\\t\", skiprows=lambda x: x <=11,  on_bad_lines=\"skip\")\n",
    "mid.drop([0,1], inplace=True)\n",
    "print(mid.head())\n",
    "#bring the time data into a new df\n",
    "time = pd.DataFrame(mid.iloc[:,0::2]) #- get every second column\n",
    "print(time.describe())\n",
    "#add elapsed time columns\n",
    "def elapsed_time(df):\n",
    "    itr = 0\n",
    "    counter = len(df.columns)\n",
    "    masses = [2,4,5.5,12,15,16,18,28,32,40,44]\n",
    "    for i in df:\n",
    "        timestamp = pd.to_datetime(df[i], format=\"%Y/%m/%d %H:%M:%S.%f\")\n",
    "        runtime = (timestamp-timestamp[2]).dt.total_seconds()\n",
    "        colname = \"Elapsed time, mass {}\".format(masses[itr]) \n",
    "        df.insert(counter, colname, runtime)\n",
    "        itr += 1\n",
    "        counter += 1\n",
    "    return(df)\n",
    "elapsed_time(time)\n",
    "\n",
    "time_sliced = time.iloc[:,11:].fillna(0)\n",
    "\n",
    "#convert elapsed times in time-dataframe back to a timestamp\n",
    "def h2_time(df1,df2):\n",
    "    startdate = pd.to_datetime(df1.iloc[2,0],format=\"%Y/%m/%d %H:%M:%S.%f\")\n",
    "    dic= {}\n",
    "    itr = 0\n",
    "    masses = [2,4,12,16,18,28,32,40,44]\n",
    "    key = \"Timestamp, mass {}\".format(masses[itr])\n",
    "    for label,content in df2.items():\n",
    "        key = \"Timestamp, mass {}\".format(masses[itr])\n",
    "        #.strftime('%d-%m-%Y %H:%M:%S') not used\n",
    "        for row in content:\n",
    "            dic.setdefault(key,[]).append((startdate+dt.timedelta(milliseconds=row*1000)))\n",
    "        itr += 1\n",
    "    new_df = pd.DataFrame.from_dict(dic)\n",
    "    return(new_df)\n",
    "\n",
    "new_df = h2_time(time,time_sliced)\n",
    "new_df\n",
    "\n",
    "#Write to excel\n",
    "%xl_set mid --cell Sheet1!A2"
   ]
  },
  {
   "cell_type": "markdown",
   "id": "eaea8bec",
   "metadata": {},
   "source": [
    "#### Vaclogger"
   ]
  },
  {
   "cell_type": "code",
   "execution_count": 4,
   "id": "a62c750b",
   "metadata": {},
   "outputs": [],
   "source": [
    "#reading the Emission current, pressures\n",
    "vaclog=pd.read_csv(r\"C:\\Users\\etiirine\\cernbox\\Documents\\etiirinen\\Python\\4K desorption measurements\\HiLumi sample\\4K desorption yield at cryotemps\\with pumping\\series 2 - EGA at 80mm mark\\vaclog\", sep=\"\\t\")\n",
    "vaclog.head()\n",
    "#adding an elapsed time column\n",
    "#making the column into a datetime object\n",
    "vac_timestamps=pd.to_datetime(vaclog[\"Time\"],format=\"%d/%m/%Y %H:%M:%S\")\n",
    "runtime=(vac_timestamps-vac_timestamps[0]).dt.total_seconds()    \n",
    "vaclog.insert(2,\"Elapsed time\",runtime)\n",
    "#drop index column (not necessary)\n",
    "# vaclog.drop(index=vaclog.index[0], \n",
    "#         axis=0, \n",
    "#         inplace=True)\n",
    "vaclog[\"Time\"] = vac_timestamps.dt.strftime('%d-%m-%Y %H:%M:%S')\n",
    "vaclog[\"Time\"] = pd.to_datetime(vaclog[\"Time\"],format='%d-%m-%Y %H:%M:%S')\n",
    "\n",
    "vaclog.head()\n",
    "#Write to file\n",
    "%xl_set vaclog --cell Sheet1!W2"
   ]
  },
  {
   "cell_type": "markdown",
   "id": "896a0a99",
   "metadata": {},
   "source": [
    "#### HiVolta log"
   ]
  },
  {
   "cell_type": "code",
   "execution_count": 5,
   "id": "767ced95",
   "metadata": {
    "scrolled": true
   },
   "outputs": [],
   "source": [
    "#Reading in the HiVolta measurement file \n",
    "hv = pd.read_csv(r\"C:\\Users\\etiirine\\cernbox\\Documents\\etiirinen\\Python\\4K desorption measurements\\HiLumi sample\\4K desorption yield at cryotemps\\with pumping\\series 2 - EGA at 80mm mark\\hv log\", sep=\",\")\n",
    "#hv.drop(columns=[\"Vmon1\",\"Vmon2\",\"Vmon3\",\"Vmon4\",\"Vmon5\",\"Vmon6\",\"Vmon7\",\"Vmon8\",\"Imon3\",\"Imon4\",\"Imon5\",\"Imon6\",\"Imon7\",\"Imon8\",\"Comments1\"], inplace=True)\n",
    "hv[\"hv_grid\"]=[element * 1e-6 for element in hv[\"IMon1\"]]\n",
    "hv[\"em\"]=[element * 1e-6 for element in hv[\"IMon2\"]]\n",
    "hv.drop(hv.columns[hv.columns.str.contains('Unnamed',case = False)],axis = 1, inplace = True)\n",
    "hv[\"em\"]=abs(hv[\"em\"])\n",
    "hv[\"hv_grid\"]=abs(hv[\"hv_grid\"])\n",
    "\n",
    "#adding a datetime column\n",
    "datetime = pd.to_datetime(hv['Date'] + ' ' + hv['Time'],format=\"%d/%m/%Y %H:%M:%S.%f\")\n",
    "datetime = datetime.dt.strftime('%d-%m-%Y %H:%M:%S')\n",
    "datetime = pd.to_datetime(datetime, format='%d-%m-%Y %H:%M:%S')\n",
    "hv.insert(0,\"datetime\",datetime)\n",
    "    \n",
    "#making the column into a datetime object\n",
    "hv_timestamps=pd.to_datetime(hv[\"Time\"],format=\"%H:%M:%S.%f\")\n",
    "runtime=(hv_timestamps-hv_timestamps[0]).dt.total_seconds()    \n",
    "hv.insert(2,\"Elapsed time\",runtime)\n",
    "\n",
    "hv.head()\n",
    "%xl_set hv --cell Sheet1!AM2\n"
   ]
  },
  {
   "cell_type": "markdown",
   "id": "880c4230",
   "metadata": {},
   "source": [
    "## Data processing"
   ]
  },
  {
   "cell_type": "code",
   "execution_count": 6,
   "id": "cc8bd883",
   "metadata": {},
   "outputs": [
    {
     "name": "stdout",
     "output_type": "stream",
     "text": [
      "[nan]\n"
     ]
    }
   ],
   "source": [
    "#print vaclog comments\n",
    "print(pd.unique(vaclog[\"Live comments\"]))"
   ]
  },
  {
   "cell_type": "code",
   "execution_count": 7,
   "id": "524205f5",
   "metadata": {},
   "outputs": [
    {
     "name": "stdout",
     "output_type": "stream",
     "text": [
      "['no emission' nan 'emission on' 'bias current stabilized'\n",
      " 'grid repelling' 'grid transparent' 'ega turned' 'grid transparent again']\n",
      "                datetime                  Comment\n",
      "0    2022-11-15 15:29:38              no emission\n",
      "1    2022-11-15 15:29:39              no emission\n",
      "2    2022-11-15 15:29:40              no emission\n",
      "3    2022-11-15 15:29:41              no emission\n",
      "78   2022-11-15 15:31:13              emission on\n",
      "79   2022-11-15 15:31:14              emission on\n",
      "80   2022-11-15 15:31:16              emission on\n",
      "81   2022-11-15 15:31:17              emission on\n",
      "705  2022-11-15 15:43:43  bias current stabilized\n",
      "706  2022-11-15 15:43:44  bias current stabilized\n",
      "707  2022-11-15 15:43:45  bias current stabilized\n",
      "708  2022-11-15 15:43:47  bias current stabilized\n",
      "729  2022-11-15 15:44:12           grid repelling\n",
      "730  2022-11-15 15:44:14           grid repelling\n",
      "731  2022-11-15 15:44:15           grid repelling\n",
      "732  2022-11-15 15:44:16           grid repelling\n",
      "1693 2022-11-15 16:03:28         grid transparent\n",
      "1694 2022-11-15 16:03:29         grid transparent\n",
      "1695 2022-11-15 16:03:30         grid transparent\n",
      "1696 2022-11-15 16:03:32         grid transparent\n",
      "2299 2022-11-15 16:15:33           grid repelling\n",
      "2300 2022-11-15 16:15:34           grid repelling\n",
      "2301 2022-11-15 16:15:36           grid repelling\n",
      "2302 2022-11-15 16:15:37           grid repelling\n",
      "2470 2022-11-15 16:18:58               ega turned\n",
      "2471 2022-11-15 16:19:00               ega turned\n",
      "2472 2022-11-15 16:19:01               ega turned\n",
      "2473 2022-11-15 16:19:02               ega turned\n",
      "2974 2022-11-15 16:29:03   grid transparent again\n",
      "2975 2022-11-15 16:29:04   grid transparent again\n",
      "2976 2022-11-15 16:29:05   grid transparent again\n",
      "2977 2022-11-15 16:29:06   grid transparent again\n"
     ]
    },
    {
     "data": {
      "text/plain": [
       "Int64Index([   0,    1,    2,    3,   78,   79,   80,   81,  705,  706,  707,\n",
       "             708,  729,  730,  731,  732, 1693, 1694, 1695, 1696, 2299, 2300,\n",
       "            2301, 2302, 2470, 2471, 2472, 2473, 2974, 2975, 2976, 2977],\n",
       "           dtype='int64')"
      ]
     },
     "execution_count": 7,
     "metadata": {},
     "output_type": "execute_result"
    }
   ],
   "source": [
    "#print hv comments\n",
    "print(pd.unique(hv[\"Comment\"]))\n",
    "hv_comm = hv.loc[:,[\"datetime\",\"Comment\"]]\n",
    "hv_comm.dropna(inplace=True)\n",
    "print(hv_comm)\n",
    "hv_comm.index"
   ]
  },
  {
   "cell_type": "markdown",
   "id": "c4914c5e",
   "metadata": {},
   "source": [
    "#### CernOx temperature R-T conversion"
   ]
  },
  {
   "cell_type": "code",
   "execution_count": 8,
   "id": "bb90a2e2",
   "metadata": {},
   "outputs": [],
   "source": [
    "#Temperature curve for CERNOX - for temp stability\n",
    "A=[230.317302,-6170.1513,71837.9529,-477946.76,2.003668910085786e+6,-5.488690193047771e+6,9.830475663897528e+6,-1.111226817786569e+7,7.202477878914065e+6,-2.04194551328507e+6]\n",
    "\n",
    "#specify fit parameters A, data (Resistance values)\n",
    "def polyfit(params,data):\n",
    "    total=[]\n",
    "    for j in data: \n",
    "        exp=0\n",
    "        for i in range(len(params)):\n",
    "            exp += (params[i]/(math.log10(j))**i)\n",
    "        total.append(10**exp)\n",
    "    return(total)    \n"
   ]
  },
  {
   "cell_type": "markdown",
   "id": "8f3558be",
   "metadata": {},
   "source": [
    "## Checking injection volume pressure drop linearity"
   ]
  },
  {
   "cell_type": "code",
   "execution_count": 9,
   "id": "353cfb20",
   "metadata": {},
   "outputs": [
    {
     "name": "stdout",
     "output_type": "stream",
     "text": [
      "Fitted line: y = 0.00*x+0.00\n"
     ]
    }
   ],
   "source": [
    "#defining a function for the straight line\n",
    "def fit(x,a,b):\n",
    "    return a*x + b\n",
    "#curve fit for the data\n",
    "y_val = vaclog[\"injection 1mbar\"].values\n",
    "x_val = (vaclog[\"Elapsed time\"]/3600).values\n",
    "params, cov = curve_fit(fit,x_val,y_val)\n",
    "#straight line parameters\n",
    "a, b = params\n",
    "print(f\"Fitted line: y = {a:.2f}*x+{b:.2f}\")"
   ]
  },
  {
   "cell_type": "markdown",
   "id": "c636db03",
   "metadata": {},
   "source": [
    "#### Data preparation for calculating max desorption yield (w/o recycling)"
   ]
  },
  {
   "cell_type": "code",
   "execution_count": 10,
   "id": "04cbb92a",
   "metadata": {
    "scrolled": true
   },
   "outputs": [],
   "source": [
    "#Filtering background signal\n",
    "\n",
    "#Find the timestamp where emission was turned on and off\n",
    "#print(\"Result 1:\",hv.loc[hv[\"Comment\"]==\"grid transparent\"])\n",
    "#print(\"Result 2:\", hv.loc[hv[\"Comment\"]==\"grid repelling\"])\n",
    "#print(\"Result 3:\", hv.loc[hv[\"Comment\"]==\"electron activity grid repelling\"])\n",
    "\n",
    "x=pd.Timestamp(2023, 1, 12, 17 ,23, 58)\n",
    "y=pd.Timestamp(2023, 1, 12, 17, 28, 43)\n",
    "z=pd.Timestamp(2023, 1, 12, 17, 20, 13)\n",
    "\n",
    "#then find the time value closest to it in the MID scan file \n",
    "#print(\"\\n\",\"Result 4:\",mid.iloc[(pd.to_datetime(mid['mass 2.0_time'],format=\"%Y/%m/%d %H:%M:%S\") - x).abs().argsort(),:])\n",
    "#print(\"\\n\",\"Result 5:\",mid.iloc[(pd.to_datetime(mid['mass 2.0_time'],format=\"%Y/%m/%d %H:%M:%S\") - y).abs().argsort(),:])\n",
    "#print(\"\\n\",\"Result 6:\",mid.iloc[(pd.to_datetime(mid['mass 2.0_time'],format=\"%Y/%m/%d %H:%M:%S\") - z).abs().argsort(),:])\n",
    "\n",
    "#take a mass with a signal known to be in the electronics background\n",
    "elec_bck = 0\n",
    "\n",
    "#apply elec background correction to h2 data\n",
    "mid[\"mass 2, corr\"] = mid[\"mass 2.0_value\"] - elec_bck\n",
    "\n",
    "##apply base pressure correction to mass 2.0 data\n",
    "#dyn_bck = np.mean(mid[\"mass 2, corr\"][12:56])\n",
    "#print(\"dyn_ bck\",f\"{dyn_bck}\")\n",
    "\n",
    "#subtracting dyn bck like this deletes useful data\n",
    "#mid[\"mass 2, corr\"] = mid[\"mass 2, corr\"] - dyn_bck\n",
    "\n",
    "#remove values below 0:\n",
    "#mid[\"mass 2, corr\"].clip(0, inplace=True) \n",
    "\n",
    "#From the signal, get the partial pressures \n",
    "h2_sens = 2.13e-2 #A/mbar\n",
    "h2_equiv = 2.49 #H2 equivalent pressures from N2 reading\n",
    "\n",
    "#account for the thermal transpiration factor\n",
    "T2 = 294\n",
    "T1 = 4.2\n",
    "T_coef = np.sqrt(T2/T1)\n",
    "\n",
    "#apply correction factors \n",
    "#p_h2 = (mid[\"mass 2, corr\"][91:136]*h2_equiv)/(h2_sens*T_coef) \n",
    "#mid.insert(22,\"p_h2\",p_h2)\n",
    "#print(p_h2)\n",
    "\n",
    "#baseline and emission pp for partial pressure delta\n",
    "#em_h2 = mid[\"p_h2\"][91:136] #hardcoded values for \"esd on\"\n",
    "#base_h2 = mid[\"p_h2\"][12:56] #hardcoded values for \"esd off\"\n",
    "#print(base_h2)"
   ]
  },
  {
   "cell_type": "code",
   "execution_count": 11,
   "id": "4fa4cbae",
   "metadata": {},
   "outputs": [],
   "source": [
    "#NOT USED!\n",
    "\n",
    "# #non hard coded values for \"esd on/off\"\n",
    "# #find the local maxima\n",
    "# print(mid.p_h2.values)\n",
    "# mid['ESD max'] = mid.iloc[argrelextrema(mid.p_h2.values, np.greater_equal, order=5)[0]]['p_h2']\n",
    "# mid['ESD min'] = mid.iloc[argrelextrema(mid.p_h2.values, np.less_equal, order=5)[0]]['p_h2']\n",
    "\n",
    "# print(mid[\"ESD max\"])\n",
    "# print(mid[\"ESD min\"])\n",
    "# #take the 10 next values from max - define as \"em on\"\n",
    "\n",
    "\n",
    "# #take the 10 next values from min - define as \"em off\""
   ]
  },
  {
   "cell_type": "markdown",
   "id": "4bee212c",
   "metadata": {},
   "source": [
    "# Apparent desorption yield calculation for H2\n",
    "### Formula for the cryo setup\n",
    "\n",
    "$$\n",
    "\\eta_{app}=\\frac{C_{comb}\\cdot (p_{n,EM} - \\overline{p}_{base}) \\cdot q_e}{k_B\\cdot T \\cdot I_{n}}\n",
    "$$\n",
    "\n",
    "T here is @RT and therefore thermal transpiration compensation should be applied afterwards to $\\Delta p$.\n",
    "\n",
    "$C_{comb}$ takes into account the conductance from the sample via the copper tube for H2 and the pumping speed for turbo pump"
   ]
  },
  {
   "cell_type": "code",
   "execution_count": 12,
   "id": "6c37c7c7",
   "metadata": {},
   "outputs": [
    {
     "name": "stdout",
     "output_type": "stream",
     "text": [
      "0.01992516581153798\n",
      "1.5738300000000003e-06\n"
     ]
    }
   ],
   "source": [
    "#calculation of delta_p-s\n",
    "#dp1 = (np.mean(p_h2)-np.mean(base_h2))*100\n",
    "#print(dp1)\n",
    "\n",
    "#Constants\n",
    "k_B = scipy.constants.value(\"Boltzmann constant\")\n",
    "T = 4.2\n",
    "q_e = scipy.constants.value(\"elementary charge\")\n",
    "c_h2 = 37.91/1000\n",
    "s_h2 = 42/1000\n",
    "x_h2 = 1/((1/c_h2)+(1/s_h2))\n",
    "print(x_h2)\n",
    "\n",
    "#Emission current\n",
    "I_em = np.nanmean(hv[\"em\"].nlargest(30))\n",
    "print(I_em)\n"
   ]
  },
  {
   "cell_type": "code",
   "execution_count": 13,
   "id": "e46c04b2",
   "metadata": {},
   "outputs": [],
   "source": [
    "#Desorption yield\n",
    "#eta_h2 = (x_h2*dp1*q_e)/(k_B*T*I_em)\n",
    "#eta_co = (c_co*(dp1-dp2)*q_e)/(k_B*T*I_em)\n",
    "#print(\"The desorption yield for H2 [mol/el]:\",eta_h2,\"\\n\",)#\"\"The desorption yield for CO2 [mol/el]:\",eta_co2)"
   ]
  },
  {
   "cell_type": "markdown",
   "id": "fe01bbc3",
   "metadata": {},
   "source": [
    "#### Data manipulation for point-by-point ESD"
   ]
  },
  {
   "cell_type": "code",
   "execution_count": 14,
   "id": "0178b246",
   "metadata": {},
   "outputs": [
    {
     "name": "stdout",
     "output_type": "stream",
     "text": [
      "                     datetime   Ion current\n",
      "0     2022/11/15 15:30:14.401  6.995500e-12\n",
      "1     2022/11/15 15:30:16.724  6.943800e-12\n",
      "2     2022/11/15 15:30:19.047  6.888700e-12\n",
      "3     2022/11/15 15:30:21.370  6.900000e-12\n",
      "4     2022/11/15 15:30:23.692  6.908800e-12\n",
      "...                       ...           ...\n",
      "1721  2022/11/15 16:36:51.425  7.266200e-12\n",
      "1722  2022/11/15 16:36:53.747  7.157600e-12\n",
      "1723  2022/11/15 16:36:56.070  7.294000e-12\n",
      "1724  2022/11/15 16:36:58.392  7.184700e-12\n",
      "1725  2022/11/15 16:37:00.715  7.237100e-12\n",
      "\n",
      "[1726 rows x 2 columns]\n"
     ]
    }
   ],
   "source": [
    "#make a sub-df from mid that includes only mass 2 data\n",
    "h2 = mid.loc[:, [\"mass 2.0_time\", \"mass 2.0_value\"]]\n",
    "#rename columns\n",
    "h2 = h2.rename(columns={\"mass 2.0_time\": \"datetime\",\"mass 2.0_value\": \"Ion current\"}).reset_index(drop=True)\n",
    "%xl_set h2 --cell Sheet1!BM2\n",
    "print(h2)"
   ]
  },
  {
   "cell_type": "code",
   "execution_count": 15,
   "id": "5be5af61",
   "metadata": {},
   "outputs": [
    {
     "name": "stdout",
     "output_type": "stream",
     "text": [
      "hv                            Date  Elapsed time          Time  VMon1   VMon2  \\\n",
      "datetime                                                                     \n",
      "2022-11-15 16:36:48  15/11/2022      4030.382  16:36:48.824    0.1  100.06   \n",
      "2022-11-15 16:36:50  15/11/2022      4031.580  16:36:50.022    0.1  100.06   \n",
      "2022-11-15 16:36:51  15/11/2022      4032.779  16:36:51.221    0.1  100.06   \n",
      "\n",
      "                      VMon3    VMon4    VMon5  VMon6  VMon7  ...   IMon2  \\\n",
      "datetime                                                     ...           \n",
      "2022-11-15 16:36:48  999.96  1000.06  1000.06    0.0    0.0  ...  1.0003   \n",
      "2022-11-15 16:36:50  999.96  1000.06  1000.06    0.0    0.0  ...  1.0003   \n",
      "2022-11-15 16:36:51  999.96  1000.06  1000.06    0.0    0.0  ...  1.0003   \n",
      "\n",
      "                       IMon3    IMon4    IMon5   IMon6   IMon7   IMon8  \\\n",
      "datetime                                                                 \n",
      "2022-11-15 16:36:48  12.6253  12.6481  12.6300 -0.0086 -0.0171 -0.0126   \n",
      "2022-11-15 16:36:50  12.6233  12.6473  12.6272 -0.0086 -0.0171 -0.0126   \n",
      "2022-11-15 16:36:51  12.6232  12.6459  12.6270 -0.0086 -0.0171 -0.0126   \n",
      "\n",
      "                     Comment       hv_grid        em  \n",
      "datetime                                              \n",
      "2022-11-15 16:36:48      NaN  1.387000e-07  0.000001  \n",
      "2022-11-15 16:36:50      NaN  1.400000e-07  0.000001  \n",
      "2022-11-15 16:36:51      NaN  1.390000e-07  0.000001  \n",
      "\n",
      "[3 rows x 22 columns]\n",
      "aligned                            Date  Elapsed time          Time  VMon1   VMon2  \\\n",
      "datetime                                                                     \n",
      "2022-11-15 15:30:14  15/11/2022        36.626  15:30:15.068   0.04    0.06   \n",
      "2022-11-15 15:30:17  15/11/2022        38.984  15:30:17.426   0.04    0.06   \n",
      "2022-11-15 15:30:19  15/11/2022        41.313  15:30:19.755   0.04    0.06   \n",
      "2022-11-15 15:30:21  15/11/2022        43.668  15:30:22.110   0.04    0.06   \n",
      "2022-11-15 15:30:24  15/11/2022        46.025  15:30:24.467   0.04    0.06   \n",
      "...                         ...           ...           ...    ...     ...   \n",
      "2022-11-15 16:36:51  15/11/2022      4032.779  16:36:51.221   0.10  100.06   \n",
      "2022-11-15 16:36:54  15/11/2022      4032.779  16:36:51.221   0.10  100.06   \n",
      "2022-11-15 16:36:56         NaN           NaN           NaN    NaN     NaN   \n",
      "2022-11-15 16:36:58         NaN           NaN           NaN    NaN     NaN   \n",
      "2022-11-15 16:37:01         NaN           NaN           NaN    NaN     NaN   \n",
      "\n",
      "                      VMon3    VMon4    VMon5  VMon6  VMon7  ...    IMon3  \\\n",
      "datetime                                                     ...            \n",
      "2022-11-15 15:30:14    0.04     0.10     0.00    0.0    0.0  ...   0.0096   \n",
      "2022-11-15 15:30:17    0.04     0.10     0.00    0.0    0.0  ...   0.0096   \n",
      "2022-11-15 15:30:19    0.04     0.10     0.00    0.0    0.0  ...   0.0096   \n",
      "2022-11-15 15:30:21    0.04     0.10     0.00    0.0    0.0  ...   0.0096   \n",
      "2022-11-15 15:30:24    0.04     0.10     0.00    0.0    0.0  ...   0.0096   \n",
      "...                     ...      ...      ...    ...    ...  ...      ...   \n",
      "2022-11-15 16:36:51  999.96  1000.06  1000.06    0.0    0.0  ...  12.6232   \n",
      "2022-11-15 16:36:54  999.96  1000.06  1000.06    0.0    0.0  ...  12.6232   \n",
      "2022-11-15 16:36:56     NaN      NaN      NaN    NaN    NaN  ...      NaN   \n",
      "2022-11-15 16:36:58     NaN      NaN      NaN    NaN    NaN  ...      NaN   \n",
      "2022-11-15 16:37:01     NaN      NaN      NaN    NaN    NaN  ...      NaN   \n",
      "\n",
      "                       IMon4    IMon5   IMon6   IMon7   IMon8  Comment  \\\n",
      "datetime                                                                 \n",
      "2022-11-15 15:30:14   0.0090   0.0132 -0.0144 -0.0182 -0.0109      NaN   \n",
      "2022-11-15 15:30:17   0.0089   0.0127 -0.0144 -0.0182 -0.0109      NaN   \n",
      "2022-11-15 15:30:19   0.0088   0.0127 -0.0144 -0.0182 -0.0109      NaN   \n",
      "2022-11-15 15:30:21   0.0083   0.0127 -0.0144 -0.0182 -0.0109      NaN   \n",
      "2022-11-15 15:30:24   0.0082   0.0121 -0.0144 -0.0182 -0.0109      NaN   \n",
      "...                      ...      ...     ...     ...     ...      ...   \n",
      "2022-11-15 16:36:51  12.6459  12.6270 -0.0086 -0.0171 -0.0126      NaN   \n",
      "2022-11-15 16:36:54  12.6459  12.6270 -0.0086 -0.0171 -0.0126      NaN   \n",
      "2022-11-15 16:36:56      NaN      NaN     NaN     NaN     NaN      NaN   \n",
      "2022-11-15 16:36:58      NaN      NaN     NaN     NaN     NaN      NaN   \n",
      "2022-11-15 16:37:01      NaN      NaN     NaN     NaN     NaN      NaN   \n",
      "\n",
      "                          hv_grid            em   Ion current  \n",
      "datetime                                                       \n",
      "2022-11-15 15:30:14  4.000000e-10  6.500000e-09  6.995500e-12  \n",
      "2022-11-15 15:30:17  4.000000e-10  6.500000e-09  6.943800e-12  \n",
      "2022-11-15 15:30:19  4.000000e-10  6.500000e-09  6.888700e-12  \n",
      "2022-11-15 15:30:21  4.000000e-10  6.500000e-09  6.900000e-12  \n",
      "2022-11-15 15:30:24  4.000000e-10  6.500000e-09  6.908800e-12  \n",
      "...                           ...           ...           ...  \n",
      "2022-11-15 16:36:51  1.390000e-07  1.000300e-06  7.266200e-12  \n",
      "2022-11-15 16:36:54  1.390000e-07  1.000300e-06  7.157600e-12  \n",
      "2022-11-15 16:36:56           NaN           NaN  7.294000e-12  \n",
      "2022-11-15 16:36:58           NaN           NaN  7.184700e-12  \n",
      "2022-11-15 16:37:01           NaN           NaN  7.237100e-12  \n",
      "\n",
      "[1726 rows x 23 columns]\n",
      "       Elapsed time        VMon1        VMon2        VMon3        VMon4  \\\n",
      "count   1723.000000  1723.000000  1723.000000  1723.000000  1723.000000   \n",
      "mean    2036.230952   245.030157    98.945781   986.379164   985.978421   \n",
      "std     1155.511404   249.513120    10.455649   113.914054   115.985862   \n",
      "min       36.626000     0.040000     0.060000     0.000000     0.000000   \n",
      "25%     1036.438500     0.100000   100.060000   999.960000  1000.060000   \n",
      "50%     2036.071000     0.140000   100.060000   999.980000  1000.060000   \n",
      "75%     3035.965000   499.920000   100.060000   999.980000  1000.080000   \n",
      "max     4032.779000   499.920000   100.120000   999.980000  1000.080000   \n",
      "\n",
      "             VMon5   VMon6   VMon7         VMon8        IMon1        IMon2  \\\n",
      "count  1723.000000  1723.0  1723.0  1.723000e+03  1723.000000  1723.000000   \n",
      "mean    985.496773     0.0     0.0  2.000000e-02    -0.059137     0.538737   \n",
      "std     118.076035     0.0     0.0  1.249364e-16     0.086047     0.532035   \n",
      "min       0.000000     0.0     0.0  2.000000e-02    -0.484000     0.006500   \n",
      "25%    1000.060000     0.0     0.0  2.000000e-02    -0.139800     0.019400   \n",
      "50%    1000.060000     0.0     0.0  2.000000e-02    -0.000500     0.039300   \n",
      "75%    1000.080000     0.0     0.0  2.000000e-02     0.019400     1.027600   \n",
      "max    1000.080000     0.0     0.0  2.000000e-02     0.534500     3.303100   \n",
      "\n",
      "             IMon3        IMon4        IMon5        IMon6        IMon7  \\\n",
      "count  1723.000000  1723.000000  1723.000000  1723.000000  1723.000000   \n",
      "mean     12.173116    12.190676    12.173198    -0.009299    -0.016970   \n",
      "std       1.437703     1.448747     1.459719     0.001646     0.001222   \n",
      "min       0.009400     0.008000     0.011100    -0.014400    -0.019400   \n",
      "25%      12.317550    12.340150    12.324550    -0.010100    -0.017800   \n",
      "50%      12.446000    12.466200    12.449600    -0.009000    -0.016900   \n",
      "75%      12.533950    12.552500    12.540000    -0.008100    -0.015900   \n",
      "max      12.634500    12.656400    12.641500    -0.006500    -0.014400   \n",
      "\n",
      "             IMon8       hv_grid            em   Ion current  \n",
      "count  1723.000000  1.723000e+03  1.723000e+03  1.726000e+03  \n",
      "mean     -0.011668  8.033407e-08  5.387371e-07  7.115570e-12  \n",
      "std       0.000770  6.667758e-08  5.320352e-07  1.361107e-13  \n",
      "min      -0.013600  0.000000e+00  6.500000e-09  6.429800e-12  \n",
      "25%      -0.012200  1.940000e-08  1.940000e-08  7.039125e-12  \n",
      "50%      -0.011700  2.970000e-08  3.930000e-08  7.118550e-12  \n",
      "75%      -0.010900  1.399000e-07  1.027600e-06  7.186275e-12  \n",
      "max      -0.010200  5.345000e-07  3.303100e-06  1.067000e-11  \n"
     ]
    }
   ],
   "source": [
    "# Convert the 'time' column to datetime index for both dataframes\n",
    "hv.index = (pd.to_datetime(hv['datetime']).dt.round(freq=\"S\"))\n",
    "h2.index = (pd.to_datetime(h2['datetime']).dt.round(freq=\"S\"))\n",
    "\n",
    "# Drop the original \"datetime\" columns since they are no longer needed\n",
    "hv.drop('datetime', axis=1, inplace=True)\n",
    "h2.drop('datetime', axis=1, inplace=True)\n",
    "\n",
    "# Ensure the index of hv DataFrame is unique and sorted\n",
    "hv = hv[~hv.index.duplicated(keep='first')]\n",
    "hv = hv.sort_index()\n",
    "hv = hv.iloc[:-1]\n",
    "# Ensure the index of h2 DataFrame is unique and sorted\n",
    "h2 = h2[~h2.index.duplicated(keep='first')]\n",
    "h2 = h2.sort_index()\n",
    "\n",
    "print(\"hv\", hv[-3:])\n",
    "#print(\"h2\",h2)\n",
    "\n",
    "# Reindex hv DataFrame to match the datetime index of h2 DataFrame\n",
    "hv = hv.reindex(h2.index, method='nearest', limit=1)\n",
    "\n",
    "\n",
    "# Now hv and h2 have the same datetime index and can be joined or aligned\n",
    "# by joining on the index\n",
    "hv_aligned = hv.merge(h2, left_index=True, right_index=True, how=\"inner\")\n",
    "\n",
    "print(\"aligned\", hv_aligned)\n",
    "print(hv_aligned.describe())\n"
   ]
  },
  {
   "cell_type": "code",
   "execution_count": 16,
   "id": "37e345ff",
   "metadata": {},
   "outputs": [],
   "source": [
    "#Filtering background signal for interpolated datasets\n",
    "\n",
    "\n",
    "#From the signal, get the partial pressures \n",
    "h2_sens = 2.13e-2 #A/mbar\n",
    "p_h2_ip = hv_aligned[\"Ion current\"]/(h2_sens) \n",
    "\n",
    "#account for the thermal transpiration factor\n",
    "T2 = 4.2\n",
    "T1 = 293\n",
    "T_coef = np.sqrt(T2/T1)\n",
    "p_h2_ip = p_h2_ip*T_coef \n",
    "\n",
    "#insert partial pressures into the dataframe\n",
    "hv_aligned.insert(19,\"hydrogen pp\",p_h2_ip)\n"
   ]
  },
  {
   "cell_type": "code",
   "execution_count": 17,
   "id": "d4872844",
   "metadata": {},
   "outputs": [
    {
     "name": "stdout",
     "output_type": "stream",
     "text": [
      "count    1.726000e+03\n",
      "mean     3.999640e-11\n",
      "std      7.650740e-13\n",
      "min      3.614171e-11\n",
      "25%      3.956671e-11\n",
      "50%      4.001315e-11\n",
      "75%      4.039383e-11\n",
      "max      5.997574e-11\n",
      "Name: hydrogen pp, dtype: float64\n"
     ]
    }
   ],
   "source": [
    "hv_aligned.fillna(0,inplace=True)\n",
    "#hv_aligned[\"hydrogen pp\"].mask(hv_aligned[\"hydrogen pp\"].ge(6.05e-11), inplace=True)\n",
    "print(hv_aligned[\"hydrogen pp\"].describe())\n",
    "hv_aligned[\"Elapsed time\"].describe()\n",
    "%xl_set hv_aligned --cell Sheet1!BS2\n"
   ]
  },
  {
   "cell_type": "markdown",
   "id": "245f888f",
   "metadata": {},
   "source": [
    "#### Using polynomial regression, remove the pressure decrease from pumping"
   ]
  },
  {
   "cell_type": "code",
   "execution_count": 18,
   "id": "975c666d",
   "metadata": {},
   "outputs": [
    {
     "data": {
      "text/plain": [
       "' # Load the data\\nt = time[\"Elapsed time, mass 2\"]\\nprint(t.describe())\\nI_ion = mid[\"Ion current\"]\\nprint(I_ion.describe())\\n#The function for the ion current-time relationship is not known. \\n#numpy method for creating a polynomial model    \\nmodel = np.poly1d(np.polyfit(t, I_ion, 8))\\nprint(model(t))\\n\\nrsquared = r2_score(I_ion,model(t))\\nprint(rsquared)\\n\\n# Print the original function\\nplt.figure(figsize=(12,6))\\nplt.plot(t, I_ion)\\n\\n# Add labels and title\\nplt.xlabel(\\'time (s)\\')\\nplt.ylabel(\\'Ion current\\')\\nplt.title(\\'Ion current vs time\\')\\n\\nplt.yscale(\"log\")\\nplt.show()\\n '"
      ]
     },
     "execution_count": 18,
     "metadata": {},
     "output_type": "execute_result"
    }
   ],
   "source": [
    "\"\"\" # Load the data\n",
    "t = time[\"Elapsed time, mass 2\"]\n",
    "print(t.describe())\n",
    "I_ion = mid[\"Ion current\"]\n",
    "print(I_ion.describe())\n",
    "#The function for the ion current-time relationship is not known. \n",
    "#numpy method for creating a polynomial model    \n",
    "model = np.poly1d(np.polyfit(t, I_ion, 8))\n",
    "print(model(t))\n",
    "\n",
    "rsquared = r2_score(I_ion,model(t))\n",
    "print(rsquared)\n",
    "\n",
    "# Print the original function\n",
    "plt.figure(figsize=(12,6))\n",
    "plt.plot(t, I_ion)\n",
    "\n",
    "# Add labels and title\n",
    "plt.xlabel('time (s)')\n",
    "plt.ylabel('Ion current')\n",
    "plt.title('Ion current vs time')\n",
    "\n",
    "plt.yscale(\"log\")\n",
    "plt.show()\n",
    " \"\"\""
   ]
  },
  {
   "cell_type": "code",
   "execution_count": 19,
   "id": "dd4700f5",
   "metadata": {},
   "outputs": [
    {
     "data": {
      "text/plain": [
       "' #normalise measured data to fit\\nx = np.linspace(5095.951000, 19700, 3095)\\nI_norm = I_ion/model(x)\\n\\n# Plot the normalised ion current\\nplt.figure(figsize=(12,6))\\nplt.plot(t, I_norm)\\n\\n# Add labels and title\\nplt.xlabel(\\'time (s)\\')\\nplt.ylabel(\\'normalised ion current (a.u.)\\')\\nplt.title(\\'Ion current vs time\\')\\n\\nplt.yscale(\"linear\")\\nplt.show()\\n\\n#now we have  '"
      ]
     },
     "execution_count": 19,
     "metadata": {},
     "output_type": "execute_result"
    }
   ],
   "source": [
    "\"\"\" #normalise measured data to fit\n",
    "x = np.linspace(5095.951000, 19700, 3095)\n",
    "I_norm = I_ion/model(x)\n",
    "\n",
    "# Plot the normalised ion current\n",
    "plt.figure(figsize=(12,6))\n",
    "plt.plot(t, I_norm)\n",
    "\n",
    "# Add labels and title\n",
    "plt.xlabel('time (s)')\n",
    "plt.ylabel('normalised ion current (a.u.)')\n",
    "plt.title('Ion current vs time')\n",
    "\n",
    "plt.yscale(\"linear\")\n",
    "plt.show()\n",
    "\n",
    "#now we have  \"\"\""
   ]
  },
  {
   "cell_type": "markdown",
   "id": "c9f9da59",
   "metadata": {},
   "source": [
    "#### Checking injection volume pressure drop linearity"
   ]
  },
  {
   "cell_type": "code",
   "execution_count": 20,
   "id": "f5e14aa3",
   "metadata": {},
   "outputs": [
    {
     "name": "stdout",
     "output_type": "stream",
     "text": [
      "Fitted line: y = 0.00*x+0.00\n"
     ]
    }
   ],
   "source": [
    "#defining a function for the straight line\n",
    "def fit(x,a,b):\n",
    "    return a*x + b\n",
    "#curve fit for the data\n",
    "y_val = vaclog[\"injection 1mbar\"].values\n",
    "x_val = (vaclog[\"Elapsed time\"]/3600).values\n",
    "params, cov = curve_fit(fit,x_val,y_val)\n",
    "#straight line parameters\n",
    "a, b = params\n",
    "print(f\"Fitted line: y = {a:.2f}*x+{b:.2f}\")"
   ]
  },
  {
   "cell_type": "markdown",
   "id": "4ed499f5",
   "metadata": {},
   "source": [
    "## Desorption yield point-by-point"
   ]
  },
  {
   "cell_type": "markdown",
   "id": "d3862ba9",
   "metadata": {},
   "source": [
    "$$\n",
    "\\eta_{app}=\\frac{C_{comb}\\cdot (p_{n,EM} - \\overline{p}_{base}) \\cdot q_e}{k_B\\cdot T \\cdot I_{n}}\n",
    "$$"
   ]
  },
  {
   "cell_type": "code",
   "execution_count": 21,
   "id": "a373867d",
   "metadata": {
    "scrolled": true
   },
   "outputs": [
    {
     "data": {
      "text/plain": [
       "' #partial pressure delta\\n#wrong methodology\\np_delta = \\np_delta = p_delta.clip(lower=0)\\nprint(p_delta)\\n#hv_shifted = hv_aligned.shift(periods=1)\\n#print(hv_shifted)\\n#p_delta = hv_aligned[\"hydrogen pp\"] - hv_shifted[\"hydrogen pp\"]\\n#print(hv_aligned[\"hydrogen pp\"].describe())\\n#print(hv_shifted[\"hydrogen pp\"].describe())\\nprint(p_delta.describe()) '"
      ]
     },
     "execution_count": 21,
     "metadata": {},
     "output_type": "execute_result"
    }
   ],
   "source": [
    "\"\"\" #partial pressure delta\n",
    "#wrong methodology\n",
    "p_delta = \n",
    "p_delta = p_delta.clip(lower=0)\n",
    "print(p_delta)\n",
    "#hv_shifted = hv_aligned.shift(periods=1)\n",
    "#print(hv_shifted)\n",
    "#p_delta = hv_aligned[\"hydrogen pp\"] - hv_shifted[\"hydrogen pp\"]\n",
    "#print(hv_aligned[\"hydrogen pp\"].describe())\n",
    "#print(hv_shifted[\"hydrogen pp\"].describe())\n",
    "print(p_delta.describe()) \"\"\""
   ]
  },
  {
   "cell_type": "code",
   "execution_count": 22,
   "id": "aaf622b4",
   "metadata": {},
   "outputs": [
    {
     "data": {
      "text/plain": [
       "' #constants are already defined\\n#emission current and H2 partial pressures are now available at the same sampling rates\\nprint(hv_aligned.describe())\\nI_n = hv_aligned[\"em\"].replace(0, np.nan).dropna()\\n\\nI_n.where(hv_aligned[\"em\"] >= 5e-7, np.nan, inplace=True)\\n#pd.df.where(cond= \"Where cond is True, keep the original value. Otherwise, replace with NaN\")\\nprint(I_n.describe())\\n\\neta = ((x_h2*p_delta*q_e)/(k_B*T*I_n)).dropna()\\neta = eta.loc[eta.index[1]:]\\nprint(\"desorption yields point-by-point:\",\"\\n\", eta) '"
      ]
     },
     "execution_count": 22,
     "metadata": {},
     "output_type": "execute_result"
    }
   ],
   "source": [
    "\"\"\" #constants are already defined\n",
    "#emission current and H2 partial pressures are now available at the same sampling rates\n",
    "print(hv_aligned.describe())\n",
    "I_n = hv_aligned[\"em\"].replace(0, np.nan).dropna()\n",
    "\n",
    "I_n.where(hv_aligned[\"em\"] >= 5e-7, np.nan, inplace=True)\n",
    "#pd.df.where(cond= \"Where cond is True, keep the original value. Otherwise, replace with NaN\")\n",
    "print(I_n.describe())\n",
    "\n",
    "eta = ((x_h2*p_delta*q_e)/(k_B*T*I_n)).dropna()\n",
    "eta = eta.loc[eta.index[1]:]\n",
    "print(\"desorption yields point-by-point:\",\"\\n\", eta) \"\"\""
   ]
  },
  {
   "cell_type": "code",
   "execution_count": 23,
   "id": "39dfaee5",
   "metadata": {},
   "outputs": [
    {
     "data": {
      "text/plain": [
       "' #slicing eta to match hv_aligned[\"Elapsed time\"]:\\n# Slice x using the index of y\\nhv_downsampled = hv_aligned.loc[eta.index, :] '"
      ]
     },
     "execution_count": 23,
     "metadata": {},
     "output_type": "execute_result"
    }
   ],
   "source": [
    "\"\"\" #slicing eta to match hv_aligned[\"Elapsed time\"]:\n",
    "# Slice x using the index of y\n",
    "hv_downsampled = hv_aligned.loc[eta.index, :] \"\"\""
   ]
  },
  {
   "cell_type": "markdown",
   "id": "d17df221",
   "metadata": {},
   "source": [
    "## Electron dose\n"
   ]
  },
  {
   "cell_type": "markdown",
   "id": "ab6353bb",
   "metadata": {},
   "source": [
    "Find:\n",
    "\n",
    "$$\n",
    "Q = \\int_{t_1}^{t_2} I \\,dt\n",
    "$$\n",
    "\n",
    "Where $t_2$ and $t_1$ are the timestamps at which an emission current reading was taken\n"
   ]
  },
  {
   "cell_type": "code",
   "execution_count": 24,
   "id": "4b798531",
   "metadata": {},
   "outputs": [
    {
     "data": {
      "text/plain": [
       "' #Integrating the emission current\\ndef integrand(t, i):\\n    return i*t\\n\\ni = I_n.dropna().reset_index() \\n\\n#for testing:\\n#t2_2 = (hv_aligned[\"Elapsed time\"].diff(periods=1).fillna(0))\\n\\n#adding an elapsed time column\\ntimestamp3=[]\\nfor j in hv[\"Time\"]:\\n    timestamp3.append(j)\\n    \\n#making the column into a datetime object\\ntimestamps3=pd.to_datetime(i[\"datetime\"],format=\"%H:%M:%S\")\\nruntime3=(timestamps3-timestamps3[0]).dt.total_seconds()    \\ni.insert(2,\"Elapsed time\",runtime3)\\n\\n#define the n, n-1 difference in a variable \"t2\"\\nt2 = (i[\"Elapsed time\"].diff(periods=1).fillna(0))\\n\\n#replace all values from t2 that are further away than 50% of the median of the sampling rate (.. > 9) with the median value\\nt2.where(t2 <= 12,6,inplace=True)\\nprint(t2)\\n\\n#integration\\nar = []\\nfor x in t2:\\n    itr = 0\\n    I = quad(integrand, 0, x, args=(i[\"em\"][itr]))\\n    ar.append(I[0])\\n    itr += 1\\n    #if previous value was not NaN, replace the value with the median of elapsed time\\n    #if \\n     '"
      ]
     },
     "execution_count": 24,
     "metadata": {},
     "output_type": "execute_result"
    }
   ],
   "source": [
    "\"\"\" #Integrating the emission current\n",
    "def integrand(t, i):\n",
    "    return i*t\n",
    "\n",
    "i = I_n.dropna().reset_index() \n",
    "\n",
    "#for testing:\n",
    "#t2_2 = (hv_aligned[\"Elapsed time\"].diff(periods=1).fillna(0))\n",
    "\n",
    "#adding an elapsed time column\n",
    "timestamp3=[]\n",
    "for j in hv[\"Time\"]:\n",
    "    timestamp3.append(j)\n",
    "    \n",
    "#making the column into a datetime object\n",
    "timestamps3=pd.to_datetime(i[\"datetime\"],format=\"%H:%M:%S\")\n",
    "runtime3=(timestamps3-timestamps3[0]).dt.total_seconds()    \n",
    "i.insert(2,\"Elapsed time\",runtime3)\n",
    "\n",
    "#define the n, n-1 difference in a variable \"t2\"\n",
    "t2 = (i[\"Elapsed time\"].diff(periods=1).fillna(0))\n",
    "\n",
    "#replace all values from t2 that are further away than 50% of the median of the sampling rate (.. > 9) with the median value\n",
    "t2.where(t2 <= 12,6,inplace=True)\n",
    "print(t2)\n",
    "\n",
    "#integration\n",
    "ar = []\n",
    "for x in t2:\n",
    "    itr = 0\n",
    "    I = quad(integrand, 0, x, args=(i[\"em\"][itr]))\n",
    "    ar.append(I[0])\n",
    "    itr += 1\n",
    "    #if previous value was not NaN, replace the value with the median of elapsed time\n",
    "    #if \n",
    "     \"\"\""
   ]
  },
  {
   "cell_type": "code",
   "execution_count": 25,
   "id": "5df76ac1",
   "metadata": {},
   "outputs": [
    {
     "data": {
      "text/plain": [
       "' #calculate the cumulative charge\\nQ_cumul = np.cumsum(ar)\\nQ_sum = sum(ar)\\nprint(\"Total charge emitted from EGA during ~5000 seconds:\", f\"{Q_sum:.4E}\", \"C\")\\n\\n#cumulative nr of electrons emitted\\nN_e = Q_sum/q_e\\nNe_cumul = Q_cumul/q_e\\nprint(\"Total number of electron emitted during ~5000 seconds:\", f\"{N_e:.4E}\", \"e\")\\n      \\n#To get the electron dose, divide n of electrons by sample surface area of 276 cm2, multiply by grid transmittance of 0.9\\ntot_dose = (N_e/276)*0.9\\ncumul_dose = (Ne_cumul/276)*0.9\\nprint(\"Total electron dose on the sample ~5000 seconds:\", f\"{tot_dose:.4E}\", \"e-/cm^2\")\\n      \\n#add these to the \"i\" dataframe:\\ni.insert(3,\"Cumulative charge\", Q_cumul)\\ni.insert(4,\"Cumulative n. of electrons emitted from EGA\", Ne_cumul)\\ni.insert(5,\"Cumulative electron dose on the HL sample\", cumul_dose)\\ni.set_index(\"datetime\", drop=True, inplace=True)\\n\\n#Ignore the first value, also, match the shape of eta\\ni = i.loc[i.index[1]:]\\nprint(i)\\n '"
      ]
     },
     "execution_count": 25,
     "metadata": {},
     "output_type": "execute_result"
    }
   ],
   "source": [
    "\"\"\" #calculate the cumulative charge\n",
    "Q_cumul = np.cumsum(ar)\n",
    "Q_sum = sum(ar)\n",
    "print(\"Total charge emitted from EGA during ~5000 seconds:\", f\"{Q_sum:.4E}\", \"C\")\n",
    "\n",
    "#cumulative nr of electrons emitted\n",
    "N_e = Q_sum/q_e\n",
    "Ne_cumul = Q_cumul/q_e\n",
    "print(\"Total number of electron emitted during ~5000 seconds:\", f\"{N_e:.4E}\", \"e\")\n",
    "      \n",
    "#To get the electron dose, divide n of electrons by sample surface area of 276 cm2, multiply by grid transmittance of 0.9\n",
    "tot_dose = (N_e/276)*0.9\n",
    "cumul_dose = (Ne_cumul/276)*0.9\n",
    "print(\"Total electron dose on the sample ~5000 seconds:\", f\"{tot_dose:.4E}\", \"e-/cm^2\")\n",
    "      \n",
    "#add these to the \"i\" dataframe:\n",
    "i.insert(3,\"Cumulative charge\", Q_cumul)\n",
    "i.insert(4,\"Cumulative n. of electrons emitted from EGA\", Ne_cumul)\n",
    "i.insert(5,\"Cumulative electron dose on the HL sample\", cumul_dose)\n",
    "i.set_index(\"datetime\", drop=True, inplace=True)\n",
    "\n",
    "#Ignore the first value, also, match the shape of eta\n",
    "i = i.loc[i.index[1]:]\n",
    "print(i)\n",
    " \"\"\""
   ]
  },
  {
   "cell_type": "markdown",
   "id": "f693a3ea",
   "metadata": {},
   "source": [
    "# Plotting"
   ]
  },
  {
   "cell_type": "code",
   "execution_count": 26,
   "id": "67ec0061",
   "metadata": {},
   "outputs": [],
   "source": [
    "#define parameters for plotting\n",
    "#annotation params\n",
    "font = dict(size = \"x-small\", color =\"green\", style =\"italic\",rotation=\"vertical\")\n",
    "\n",
    "plt.rcParams[\"figure.figsize\"] = [8,5]\n",
    "plt.rcParams[\"axes.edgecolor\"] = \"black\"\n",
    "plt.rcParams[\"axes.grid\"] = True\n",
    "plt.rcParams[\"grid.color\"] = \"black\"\n",
    "plt.rcParams[\"grid.linewidth\"] = 0.35\n",
    "\n",
    "formatter = md.DateFormatter('%H:%M')\n",
    "\n",
    "# Create the \"graphs\" folder path\n",
    "graphs_folder = os.path.join(os.getcwd(), 'graphs')\n",
    "\n",
    "# Ensure the \"graphs\" folder exists, if not create it\n",
    "if not os.path.exists(graphs_folder):\n",
    "    os.makedirs(graphs_folder)\n",
    "    "
   ]
  },
  {
   "cell_type": "code",
   "execution_count": 27,
   "id": "04038e6b",
   "metadata": {},
   "outputs": [],
   "source": [
    "#plot the aligned dataframe results\n",
    "plt.figure(figsize=(12,6))\n",
    "plt.plot(hv_aligned[\"Elapsed time\"],hv_aligned[\"Ion current\"],linestyle=\"-\",marker=\".\", markersize=4,label='H2 ion current')\n",
    "plt.plot(hv_aligned[\"Elapsed time\"],hv_aligned[\"em\"],linestyle=\"-\",marker=\".\", markersize=4,label='Emission current')\n",
    "plt.xlabel('Elapsed time (s)')\n",
    "plt.ylabel('Current (A)')\n",
    "plt.yscale('log')\n",
    "\n",
    "plt.legend(loc=\"upper right\")\n",
    "plt.title(\"Current evolution 1 ML tech. surface pre-injection, EGA fully in, dynamic vacuum\")\n",
    "\n",
    "\n",
    "plt.yscale('log')\n"
   ]
  },
  {
   "cell_type": "code",
   "execution_count": 28,
   "id": "6825ee46",
   "metadata": {},
   "outputs": [],
   "source": [
    "#plot the h2 mid \n",
    "#seems to be too little rows?\n",
    "plt.figure(figsize=(12,6))\n",
    "plt.plot(hv_aligned[\"Elapsed time\"],hv_aligned[\"Ion current\"],linestyle=\"-\",marker=\".\", markersize=4,label='H2 ion current')\n",
    "plt.xlabel('Elapsed time (s)')\n",
    "plt.ylabel('Ion current (A)')\n",
    "plt.legend(loc=\"upper right\")\n",
    "plt.title(\"Ion current evolution of H2, 1 ML tech. surface pre-injection, EGA fully in, dynamic vacuum\")\n",
    "\n",
    "\n",
    "plt.yscale('linear')\n"
   ]
  },
  {
   "cell_type": "code",
   "execution_count": 29,
   "id": "650b349a",
   "metadata": {},
   "outputs": [
    {
     "name": "stdout",
     "output_type": "stream",
     "text": [
      "                           Date  Elapsed time          Time  VMon1   VMon2  \\\n",
      "datetime                                                                     \n",
      "2022-11-15 15:30:26  15/11/2022        48.400  15:30:26.842   0.04    0.06   \n",
      "2022-11-15 15:30:28  15/11/2022        49.588  15:30:28.030   0.04    0.06   \n",
      "2022-11-15 15:30:31  15/11/2022        53.147  15:30:31.589   0.04    0.06   \n",
      "2022-11-15 15:30:33  15/11/2022        55.523  15:30:33.965   0.04    0.06   \n",
      "2022-11-15 15:30:35  15/11/2022        56.710  15:30:35.152   0.04    0.06   \n",
      "...                         ...           ...           ...    ...     ...   \n",
      "2022-11-15 16:36:40  15/11/2022      4021.983  16:36:40.425   0.10  100.06   \n",
      "2022-11-15 16:36:42  15/11/2022      4024.375  16:36:42.817   0.10  100.06   \n",
      "2022-11-15 16:36:44  15/11/2022      4025.573  16:36:44.015   0.10  100.06   \n",
      "2022-11-15 16:36:47  15/11/2022      4029.186  16:36:47.628   0.10  100.06   \n",
      "2022-11-15 16:36:49  15/11/2022      4031.580  16:36:50.022   0.10  100.06   \n",
      "\n",
      "                      VMon3    VMon4    VMon5  VMon6  VMon7  ...    IMon4  \\\n",
      "datetime                                                     ...            \n",
      "2022-11-15 15:30:26    0.04     0.10     0.00    0.0    0.0  ...   0.0082   \n",
      "2022-11-15 15:30:28    0.04     0.10     0.00    0.0    0.0  ...   0.0082   \n",
      "2022-11-15 15:30:31    0.04     0.10     0.00    0.0    0.0  ...   0.0080   \n",
      "2022-11-15 15:30:33    0.04     0.10     0.00    0.0    0.0  ...   0.0080   \n",
      "2022-11-15 15:30:35    0.04     0.10     0.00    0.0    0.0  ...   0.0080   \n",
      "...                     ...      ...      ...    ...    ...  ...      ...   \n",
      "2022-11-15 16:36:40  999.96  1000.06  1000.06    0.0    0.0  ...  12.6510   \n",
      "2022-11-15 16:36:42  999.96  1000.06  1000.06    0.0    0.0  ...  12.6506   \n",
      "2022-11-15 16:36:44  999.96  1000.06  1000.06    0.0    0.0  ...  12.6493   \n",
      "2022-11-15 16:36:47  999.96  1000.06  1000.06    0.0    0.0  ...  12.6481   \n",
      "2022-11-15 16:36:49  999.96  1000.06  1000.06    0.0    0.0  ...  12.6473   \n",
      "\n",
      "                       IMon5   IMon6   IMon7   IMon8   hydrogen pp  Comment  \\\n",
      "datetime                                                                      \n",
      "2022-11-15 15:30:26   0.0119 -0.0144 -0.0182 -0.0109  3.902864e-11        0   \n",
      "2022-11-15 15:30:28   0.0119 -0.0144 -0.0182 -0.0109  3.905000e-11        0   \n",
      "2022-11-15 15:30:31   0.0113 -0.0144 -0.0182 -0.0109  3.876839e-11        0   \n",
      "2022-11-15 15:30:33   0.0111 -0.0144 -0.0182 -0.0109  3.906068e-11        0   \n",
      "2022-11-15 15:30:35   0.0111 -0.0144 -0.0182 -0.0109  3.884371e-11        0   \n",
      "...                      ...     ...     ...     ...           ...      ...   \n",
      "2022-11-15 16:36:40  12.6326 -0.0086 -0.0171 -0.0126  4.070762e-11        0   \n",
      "2022-11-15 16:36:42  12.6313 -0.0086 -0.0171 -0.0126  4.074247e-11        0   \n",
      "2022-11-15 16:36:44  12.6300 -0.0086 -0.0171 -0.0126  4.096338e-11        0   \n",
      "2022-11-15 16:36:47  12.6300 -0.0086 -0.0171 -0.0126  4.056598e-11        0   \n",
      "2022-11-15 16:36:49  12.6272 -0.0086 -0.0171 -0.0126  4.045524e-11        0   \n",
      "\n",
      "                          hv_grid            em   Ion current  \n",
      "datetime                                                       \n",
      "2022-11-15 15:30:26  4.000000e-10  6.500000e-09  6.943400e-12  \n",
      "2022-11-15 15:30:28  4.000000e-10  6.500000e-09  6.947200e-12  \n",
      "2022-11-15 15:30:31  4.000000e-10  6.500000e-09  6.897100e-12  \n",
      "2022-11-15 15:30:33  4.000000e-10  6.500000e-09  6.949100e-12  \n",
      "2022-11-15 15:30:35  4.000000e-10  6.500000e-09  6.910500e-12  \n",
      "...                           ...           ...           ...  \n",
      "2022-11-15 16:36:40  1.401000e-07  1.009200e-06  7.242100e-12  \n",
      "2022-11-15 16:36:42  1.346000e-07  1.006700e-06  7.248300e-12  \n",
      "2022-11-15 16:36:44  1.382000e-07  1.006100e-06  7.287600e-12  \n",
      "2022-11-15 16:36:47  1.348000e-07  1.000300e-06  7.216900e-12  \n",
      "2022-11-15 16:36:49  1.400000e-07  1.000300e-06  7.197200e-12  \n",
      "\n",
      "[1716 rows x 24 columns]\n"
     ]
    },
    {
     "data": {
      "text/plain": [
       "Text(0.5, 1.0, 'HiLumi sample no signal, EGA middle @4K no pre-coverage')"
      ]
     },
     "execution_count": 29,
     "metadata": {},
     "output_type": "execute_result"
    }
   ],
   "source": [
    "#plot the aligned dataframe results\n",
    "hv_aligned= hv_aligned.iloc[5:-5,]\n",
    "print(hv_aligned)\n",
    "fig, ax = plt.subplots()\n",
    "y_fit = fit(x_val,a,b)\n",
    "ax.plot(hv_aligned[\"Elapsed time\"],hv_aligned[\"em\"],linestyle=\"-\",marker=\".\",c=\"r\", markersize=4,label='I_EM')\n",
    "#ax.set_xlim(left=140,right=2950)\n",
    "\n",
    "ax.set_xlabel('Elapsed time (s)')\n",
    "ax.set_ylabel('Current (A)')\n",
    "ax.set_yscale('linear')\n",
    "ax.legend(loc=\"upper right\")\n",
    "ax.axes.grid(visible=None,axis=\"y\")\n",
    "ax2 = ax.twinx()\n",
    "ax2.plot(hv_aligned[\"Elapsed time\"],hv_aligned[\"hydrogen pp\"],linestyle=\"-\",marker=\".\", c=\"b\",markersize=4,label='H2 partial pressure')\n",
    "ax2.set_ylabel('Pressure (mbar)')\n",
    "ax2.set_yscale('linear')\n",
    "ax2.legend(loc=\"upper left\")\n",
    "\n",
    "plt.title(\"HiLumi sample no signal, EGA middle @4K no pre-coverage\")"
   ]
  },
  {
   "cell_type": "code",
   "execution_count": 30,
   "id": "d7a2fa57",
   "metadata": {},
   "outputs": [],
   "source": [
    "#Plotting the all the relevant MID spectrums\n",
    "plt.figure(figsize=(14,8))\n",
    "\n",
    "plt.plot(new_df[\"Timestamp, mass 2\"],mid[\"mass 2.0_value\"]/2.13e-2,marker=\".\", markersize=4,label='M2')# MBAR\n",
    "# plt.plot(new_df[\"Timestamp, mass 44\"],mid[\"mass 44.0_value\"],marker=\".\", markersize=4,label='M44')\n",
    "\n",
    "plt.xlabel('Timestamp')\n",
    "plt.ylabel('Pressure (mbar)')\n",
    "plt.legend(title=\"Mol masses\", loc=\"upper right\")\n",
    "plt.title(\"S1 pressure from MID scan\")\n",
    "plt.tick_params(axis=\"y\", which='minor')\n",
    "plt.grid(which='minor', axis='y')\n",
    "plt.yscale('log')\n",
    "\n",
    "ax = plt.gca()\n",
    "ax.xaxis.set_major_formatter(md.DateFormatter('%H:%M'))\n",
    "ax.xaxis.set_major_locator(plt.MaxNLocator(14))\n",
    "for label in ax.get_xticklabels(which='major'):\n",
    "    label.set(rotation=30, horizontalalignment='right')\n",
    "\n",
    "#write comments\n",
    "trans  = transforms.blended_transform_factory(\n",
    "    ax.transData, ax.transAxes)\n",
    "for i in hv_comm.index:\n",
    "    plt.text(hv_comm[\"datetime\"][i],0.95,str(hv_comm[\"Comment\"][i]),fontdict=font, transform=trans)\n",
    "\n",
    "\n",
    "plt.savefig(r'./graphs/pressure from mid.png')\n",
    "plt.show()"
   ]
  },
  {
   "cell_type": "code",
   "execution_count": 31,
   "id": "bb54772a",
   "metadata": {},
   "outputs": [],
   "source": [
    "#plotting HiVolta log\n",
    "plt.figure(figsize=(12,6))\n",
    "plt.plot(hv[\"Elapsed time\"],hv[\"hv_grid\"],marker=\".\", markersize=4,label='Grid current')\n",
    "plt.plot(hv[\"Elapsed time\"],hv[\"em\"],marker=\".\", markersize=4,label='Emission current')\n",
    "plt.xlabel('Elapsed time (s)')\n",
    "plt.ylabel('Current (A)')\n",
    "plt.legend(loc=\"upper right\")\n",
    "plt.title(\"Current evolution 1 ML tech. surface pre-injection, EGA fully in, dynamic vacuum\")\n",
    "\n",
    "\n",
    "plt.yscale('log')\n"
   ]
  },
  {
   "cell_type": "code",
   "execution_count": 32,
   "id": "7ed695dd",
   "metadata": {},
   "outputs": [],
   "source": [
    "#Plotting BA2, BA1 pressure\n",
    "plt.figure(figsize=(12,6))\n",
    "plt.plot(vaclog[\"Time\"],vaclog[\"Barion_2\"],marker=\".\", markersize=4,label='Barion 2')\n",
    "plt.plot(vaclog[\"Time\"],vaclog[\"Barion_1\"],marker=\".\", markersize=4,label='Barion 1')\n",
    "plt.xlabel('Timestamp')\n",
    "plt.ylabel('Pressure (mbar)')\n",
    "plt.legend()\n",
    "plt.title(\"S1 Total pressure evolution\")\n",
    "plt.tick_params(axis=\"y\", which='minor')\n",
    "plt.grid(which='minor', axis='y')\n",
    "plt.yscale('log')\n",
    "\n",
    "ax = plt.gca()\n",
    "ax.xaxis.set_major_formatter(md.DateFormatter('%H:%M'))\n",
    "ax.xaxis.set_major_locator(plt.MaxNLocator(10))\n",
    "for label in ax.get_xticklabels(which='major'):\n",
    "    label.set(rotation=30, horizontalalignment='right')    \n",
    "       \n",
    "plt.savefig(r'./graphs/Barions.png')\n",
    "plt.show()"
   ]
  },
  {
   "cell_type": "code",
   "execution_count": 33,
   "id": "0e344f03",
   "metadata": {},
   "outputs": [],
   "source": [
    "## Plotting the temp evolution\n",
    "plt.figure(figsize=(10,6))\n",
    "plt.plot((vaclog[\"Time\"]),polyfit(A,vaclog[\"T-CERNOX\"]),marker=\".\", markersize=5,label='T-CERNOX')          \n",
    "plt.xlabel('Timestamp')\n",
    "plt.ylabel('Temperature (K)')\n",
    "plt.legend()\n",
    "plt.title(\"S1 Temperature evolution\")\n",
    "plt.yscale('linear')\n",
    "plt.tick_params(axis=\"y\", which='minor')\n",
    "plt.grid(which='minor', axis='y')\n",
    "\n",
    "ax = plt.gca()\n",
    "ax.xaxis.set_major_formatter(md.DateFormatter('%H:%M'))\n",
    "ax.xaxis.set_major_locator(plt.MaxNLocator(10))\n",
    "for label in ax.get_xticklabels(which='major'):\n",
    "    label.set(rotation=30, horizontalalignment='right')\n",
    "    \n",
    "plt.savefig(r'./graphs/Temp.png')\n",
    "plt.show()"
   ]
  },
  {
   "cell_type": "code",
   "execution_count": 34,
   "id": "f040f323",
   "metadata": {},
   "outputs": [
    {
     "data": {
      "text/plain": [
       "Text(0.5, 1.0, 'Injection pressure evolution 1mbar conductance gauge')"
      ]
     },
     "execution_count": 34,
     "metadata": {},
     "output_type": "execute_result"
    }
   ],
   "source": [
    "#checking inj pressure linearity, graph\n",
    "fig, ax = plt.subplots()\n",
    "y_fit = fit(x_val,a,b)\n",
    "ax.plot((vaclog[\"Elapsed time\"]/3600),vaclog[\"injection 1mbar\"],marker=\".\", markersize=5,label='inj volume pressure')\n",
    "ax.plot((vaclog[\"Elapsed time\"]/3600),y_fit, \"--\",color=\"red\", label=\"Y= -ax + b fit\") \n",
    "ax.legend(loc=\"upper right\")\n",
    "\n",
    "ax.set_xlabel('Elapsed time (h)')\n",
    "ax.set_ylabel('Pressure (mbar)')\n",
    "ax.set_yscale('linear')\n",
    "plt.title(\"Injection pressure evolution 1mbar conductance gauge\")"
   ]
  }
 ],
 "metadata": {
  "kernelspec": {
   "display_name": "Python 3 (ipykernel)",
   "language": "python",
   "name": "python3"
  },
  "language_info": {
   "codemirror_mode": {
    "name": "ipython",
    "version": 3
   },
   "file_extension": ".py",
   "mimetype": "text/x-python",
   "name": "python",
   "nbconvert_exporter": "python",
   "pygments_lexer": "ipython3",
   "version": "3.9.12"
  }
 },
 "nbformat": 4,
 "nbformat_minor": 5
}
