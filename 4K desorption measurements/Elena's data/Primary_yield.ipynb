{
 "cells": [
  {
   "cell_type": "code",
   "execution_count": 25,
   "metadata": {},
   "outputs": [],
   "source": [
    "import pandas as pd\n",
    "import scipy.constants\n",
    "from scipy.optimize import curve_fit\n",
    "from scipy.integrate import quad\n",
    "from sklearn.metrics import r2_score\n",
    "import numpy as np\n",
    "import math\n",
    "import matplotlib.pyplot as plt\n",
    "import matplotlib.dates as md\n",
    "import matplotlib.transforms as transforms\n",
    "from matplotlib.ticker import LogFormatter\n",
    "import os\n",
    "import fnmatch\n",
    "from pyxll import xl_func\n",
    "%matplotlib qt\n",
    "# %matplotlib inline\n",
    "import datetime as dt\n",
    "pd.set_option('display.max_rows', 100) "
   ]
  },
  {
   "cell_type": "markdown",
   "metadata": {},
   "source": [
    "## Reading in the data and preparing DataFrames"
   ]
  },
  {
   "cell_type": "markdown",
   "metadata": {},
   "source": [
    "#### MID"
   ]
  },
  {
   "cell_type": "code",
   "execution_count": 26,
   "metadata": {},
   "outputs": [],
   "source": [
    "#read in the file and create dataframe\n",
    "#excplicitly state the part\n",
    "#path = r'C:\\Users\\einot\\OneDrive\\Documents\\CERN VScode\\CERN-Python\\4K desorption measurements\\Cu sample\\EGA fully in\\S1 no preinjection at cold temps'\n",
    "#mid = pd.read_csv(os.path.join(path, \"MID.tsv\"), sep=\"\\t\", skiprows=lambda x: x<=11, on_bad_lines=\"skip\")\n",
    "\n",
    "#List molecule masses used in MID scan\n",
    "\n",
    "#masslist = [2,4,12,15,16,18,28,32,40,44]\n",
    "\n",
    "#Define datetime format\n",
    "#MID_datetime = \"%Y/%m/%d %H:%M:%S.%f\"\n",
    "\n",
    "#Reformat time values\n",
    "def timeformat(df,format):\n",
    "    new_df = df.copy()\n",
    "    for idx, col in enumerate(df):\n",
    "        if idx % 2 == 0:  # Check if the column index is even (every other column)\n",
    "            pandas_timestamp = pd.to_datetime(df[col], format=format)\n",
    "            timestamp = pandas_timestamp.dt.strftime('%d-%m-%Y %H:%M:%S')\n",
    "            new_df[col] = timestamp  # Replace the time column in the new dataframe\n",
    "    return new_df\n",
    "\n",
    "#call the function with correct parameters to modify MID dataframe\n",
    "#mid = timeformat(mid,MID_datetime)"
   ]
  },
  {
   "cell_type": "markdown",
   "metadata": {},
   "source": [
    "#### Vaclogger"
   ]
  },
  {
   "cell_type": "code",
   "execution_count": 27,
   "metadata": {},
   "outputs": [
    {
     "data": {
      "text/plain": [
       "' \\n#call the function with correct parameters to modify vaclogger dataframe\\nvaclog = elapsed_time(vaclog,\"Time\",vaclog_datetime) '"
      ]
     },
     "execution_count": 27,
     "metadata": {},
     "output_type": "execute_result"
    }
   ],
   "source": [
    "\"\"\" #Reading in the file\n",
    "vaclog = pd.read_csv(os.path.join(path, \"vaclog\"), sep=\"\\t\")\n",
    "\n",
    "#Define original datetime format\n",
    "vaclog_datetime = \"%d/%m/%Y %H:%M:%S\"\n",
    " \"\"\"\n",
    "#Adding an elapsed time column for temperature fits\n",
    "def elapsed_time(df,timecol,format):\n",
    "    new_df = df.copy()\n",
    "    pandas_timestamp = pd.to_datetime(new_df[timecol],format=format)\n",
    "    runtime = (pandas_timestamp-pandas_timestamp[0]).dt.total_seconds()\n",
    "    insert_idx = df.columns.get_loc(timecol) + 1  # Get the index to insert the new column\n",
    "    new_df.insert(insert_idx,\"Elapsed time\", runtime)\n",
    "    reformat = pandas_timestamp.dt.strftime('%d-%m-%Y %H:%M:%S') #New timestamp format for plotting\n",
    "    new_df[timecol] = reformat\n",
    "    new_df[timecol] = pd.to_datetime(new_df[timecol],format='%d-%m-%Y %H:%M:%S') #convert to pd datetime\n",
    "    return new_df\n",
    "\"\"\" \n",
    "#call the function with correct parameters to modify vaclogger dataframe\n",
    "vaclog = elapsed_time(vaclog,\"Time\",vaclog_datetime) \"\"\""
   ]
  },
  {
   "cell_type": "code",
   "execution_count": 28,
   "metadata": {},
   "outputs": [],
   "source": [
    "def process_data(root):\n",
    "    #Define datetime formats\n",
    "    MID_datetime = \"%Y/%m/%d %H:%M:%S.%f\"\n",
    "    vaclog_datetime = \"%d/%m/%Y %H:%M:%S\"\n",
    "    hv_datetime = \"%d/%m/%Y %H:%M:%S.%f\"\n",
    "    \n",
    "    #Create an empty dictionary to store processed dataframes\n",
    "    dataframes = {}\n",
    "\n",
    "    # Iterate over the subdirectories starting from the specified directory\n",
    "    for dirpath, dirs, files in os.walk(root):\n",
    "        for filename in files:\n",
    "            filepath = os.path.join(dirpath,filename)\n",
    "            #print(filepath)\n",
    "            # Create a variable name using the relative path\n",
    "            relative_path = os.path.relpath(root, dirpath)\n",
    "            #print(relative_path)\n",
    "            variable_name = os.path.join(relative_path, os.path.splitext(filename)[0])\n",
    "            #print(variable_name)\n",
    "            #Read in the MID file\n",
    "            if fnmatch.fnmatch(filename,\"*MID*.tsv\"):\n",
    "                mid = pd.read_csv(filepath, sep=\"\\t\", skiprows=lambda x: x<=11, on_bad_lines=\"skip\")\n",
    "                mid = timeformat(mid, MID_datetime)\n",
    "\n",
    "                # Create a variable name using the base name of the MID filename\n",
    "                #variable_name = os.path.splitext(filename)[0]\n",
    "\n",
    "                # Store the MID dataframe using the variable name\n",
    "                dataframes[variable_name] = mid\n",
    "\n",
    "            #Read in the vaclog file\n",
    "            elif fnmatch.fnmatch(filename,\"recycling*.csv\"):\n",
    "                vaclog = elapsed_time(pd.read_csv(filepath, sep=\"\\t\",header= 0), \"Time\", vaclog_datetime)                \n",
    "                # Create a variable name using the base name of the MID filename\n",
    "                #variable_name = os.path.splitext(filename)[0]\n",
    "\n",
    "                # Store the vaclog dataframe using the variable name\n",
    "                dataframes[variable_name] = vaclog\n",
    "\n",
    "            #Read in the hivolta file\n",
    "            elif fnmatch.fnmatch(filename,\"*hv log*\"):\n",
    "                hv = pd.read_csv(filepath, sep=\",\")\n",
    "                hv[\"hv_grid\"] = [abs(element) * 1e-6 for element in hv[\"IMon1\"]]\n",
    "                hv[\"I_em\"] = [abs(element) * 1e-6 for element in hv[\"IMon2\"]]\n",
    "                hv[\"datetime\"] = hv['Date'] + ' ' + hv['Time']\n",
    "                hv = elapsed_time(hv, \"datetime\", hv_datetime)\n",
    "\n",
    "                # Create a variable name using the base name of the MID filename\n",
    "                #variable_name = os.path.splitext(filename)[0]\n",
    "                \n",
    "                # Store the hv dataframe using the variable name\n",
    "                dataframes[variable_name] = hv   \n",
    "            \n",
    "    return dataframes\n",
    "\n",
    "\n"
   ]
  },
  {
   "cell_type": "markdown",
   "metadata": {},
   "source": [
    "## Data processing"
   ]
  },
  {
   "cell_type": "code",
   "execution_count": 29,
   "metadata": {},
   "outputs": [
    {
     "name": "stdout",
     "output_type": "stream",
     "text": [
      ".\\recycling-and-warm-up-10-03-2020\n",
      "      Live comments                Time  Elapsed time          DUAL  \\\n",
      "0               NaN 2020-03-10 11:47:16           0.0  1.010000e-09   \n",
      "1               NaN 2020-03-10 11:47:25           9.0  1.010000e-09   \n",
      "2               NaN 2020-03-10 11:47:35          19.0  1.010000e-09   \n",
      "3               NaN 2020-03-10 11:47:45          29.0  1.010000e-09   \n",
      "4               NaN 2020-03-10 11:47:55          39.0  1.010000e-09   \n",
      "...             ...                 ...           ...           ...   \n",
      "29838           NaN 2020-03-13 08:44:21      248225.0  1.740000e-08   \n",
      "29839           NaN 2020-03-13 08:44:30      248234.0  1.920000e-08   \n",
      "29840           NaN 2020-03-13 08:44:40      248244.0  1.620000e-08   \n",
      "29841           NaN 2020-03-13 08:44:50      248254.0  1.640000e-08   \n",
      "29842           NaN 2020-03-13 08:45:00      248264.0  1.590000e-08   \n",
      "\n",
      "           Barion_2      Barion_1        DUAL.1  helium  I_emission  I_grid  \\\n",
      "0      1.720000e-09  6.880000e-10  5.068000e-07     0.0         0.0     0.0   \n",
      "1      1.710000e-09  6.790000e-10  4.996000e-07     0.0         0.0     0.0   \n",
      "2      1.690000e-09  6.860000e-10  4.722000e-07     0.0         0.0     0.0   \n",
      "3      1.680000e-09  6.880000e-10  4.779000e-07     0.0         0.0     0.0   \n",
      "4      1.660000e-09  6.780000e-10  4.643000e-07     0.0         0.0     0.0   \n",
      "...             ...           ...           ...     ...         ...     ...   \n",
      "29838  2.610000e-08  6.920000e-09  6.061000e-07     8.0         0.0     0.0   \n",
      "29839  2.600000e-08  6.900000e-09  6.054000e-07     8.0         0.0     0.0   \n",
      "29840  2.600000e-08  6.900000e-09  6.054000e-07     8.0         0.0     0.0   \n",
      "29841  2.600000e-08  6.870000e-09  6.054000e-07     8.0         0.0     0.0   \n",
      "29842  2.600000e-08  6.900000e-09  6.054000e-07     8.0         0.0     0.0   \n",
      "\n",
      "       I-injection  T-platinum  T-CERNOX  \n",
      "0         0.000073     -26.824   187.317  \n",
      "1         0.000098     -26.711   187.429  \n",
      "2         0.000064     -26.711   187.990  \n",
      "3         0.000066     -26.487   188.102  \n",
      "4         0.000059     -26.375   188.888  \n",
      "...            ...         ...       ...  \n",
      "29838     0.000066     -12.233   318.629  \n",
      "29839     0.000074     -12.233   318.517  \n",
      "29840     0.000066     -12.346   318.517  \n",
      "29841     0.000061     -12.346   318.517  \n",
      "29842     0.000062     -12.458   318.405  \n",
      "\n",
      "[29843 rows x 13 columns]\n",
      "-----------------\n",
      ".\\recycling-measurement-10-03-2020\n",
      "      Live comments                Time  Elapsed time          DUAL  \\\n",
      "0               NaN 2020-03-10 11:47:16           0.0  1.010000e-09   \n",
      "1               NaN 2020-03-10 11:47:25           9.0  1.010000e-09   \n",
      "2               NaN 2020-03-10 11:47:35          19.0  1.010000e-09   \n",
      "3               NaN 2020-03-10 11:47:45          29.0  1.010000e-09   \n",
      "4               NaN 2020-03-10 11:47:55          39.0  1.010000e-09   \n",
      "...             ...                 ...           ...           ...   \n",
      "29838           NaN 2020-03-13 08:44:21      248225.0  1.740000e-08   \n",
      "29839           NaN 2020-03-13 08:44:30      248234.0  1.920000e-08   \n",
      "29840           NaN 2020-03-13 08:44:40      248244.0  1.620000e-08   \n",
      "29841           NaN 2020-03-13 08:44:50      248254.0  1.640000e-08   \n",
      "29842           NaN 2020-03-13 08:45:00      248264.0  1.590000e-08   \n",
      "\n",
      "           Barion_2      Barion_1        DUAL.1  helium  I_emission  I_grid  \\\n",
      "0      1.720000e-09  6.880000e-10  5.068000e-07     0.0         0.0     0.0   \n",
      "1      1.710000e-09  6.790000e-10  4.996000e-07     0.0         0.0     0.0   \n",
      "2      1.690000e-09  6.860000e-10  4.722000e-07     0.0         0.0     0.0   \n",
      "3      1.680000e-09  6.880000e-10  4.779000e-07     0.0         0.0     0.0   \n",
      "4      1.660000e-09  6.780000e-10  4.643000e-07     0.0         0.0     0.0   \n",
      "...             ...           ...           ...     ...         ...     ...   \n",
      "29838  2.610000e-08  6.920000e-09  6.061000e-07     8.0         0.0     0.0   \n",
      "29839  2.600000e-08  6.900000e-09  6.054000e-07     8.0         0.0     0.0   \n",
      "29840  2.600000e-08  6.900000e-09  6.054000e-07     8.0         0.0     0.0   \n",
      "29841  2.600000e-08  6.870000e-09  6.054000e-07     8.0         0.0     0.0   \n",
      "29842  2.600000e-08  6.900000e-09  6.054000e-07     8.0         0.0     0.0   \n",
      "\n",
      "       I-injection  T-platinum  T-CERNOX  \n",
      "0         0.000073     -26.824   187.317  \n",
      "1         0.000098     -26.711   187.429  \n",
      "2         0.000064     -26.711   187.990  \n",
      "3         0.000066     -26.487   188.102  \n",
      "4         0.000059     -26.375   188.888  \n",
      "...            ...         ...       ...  \n",
      "29838     0.000066     -12.233   318.629  \n",
      "29839     0.000074     -12.233   318.517  \n",
      "29840     0.000066     -12.346   318.517  \n",
      "29841     0.000061     -12.346   318.517  \n",
      "29842     0.000062     -12.458   318.405  \n",
      "\n",
      "[29843 rows x 13 columns]\n",
      "-----------------\n"
     ]
    }
   ],
   "source": [
    "#Accessing the files\n",
    "root = r\"C:\\Users\\etiirine\\cernbox\\Documents\\etiirinen\\Python\\4K desorption measurements\\Elena's data\"\n",
    "data = process_data(root)\n",
    "\n",
    "# Access the processed dataframes using the variable names\n",
    "for variable_name, dataframe in data.items():\n",
    "    print(variable_name)\n",
    "    print(dataframe)\n",
    "    print(\"-----------------\")"
   ]
  },
  {
   "cell_type": "markdown",
   "metadata": {},
   "source": [
    "#### CernOx R-T conversion "
   ]
  },
  {
   "cell_type": "code",
   "execution_count": 30,
   "metadata": {},
   "outputs": [],
   "source": [
    "def tempconvert(df):\n",
    "    new_df = df.copy()\n",
    "    #Temperatzure curve for CERNOX - for temp stability\n",
    "    A=[230.317302,-6170.1513,71837.9529,-477946.76,2.003668910085786e+6,-5.488690193047771e+6,9.830475663897528e+6,-1.111226817786569e+7,7.202477878914065e+6,-2.04194551328507e+6]\n",
    "\n",
    "    #specify fit parameters A, data (Resistance values)\n",
    "    def polyfit(param,data):\n",
    "        total=[]\n",
    "        for j in data: \n",
    "            exp=0\n",
    "            for i in range(len(param)):\n",
    "                exp += (param[i]/(math.log10(j))**i)\n",
    "            total.append(10**exp)\n",
    "        return(total)\n",
    "    col_loc = int(df.columns.get_loc(\"T-CERNOX\") + 1)    \n",
    "    new_df.insert(col_loc, \"CernOx Temp\", polyfit(A, new_df[\"T-CERNOX\"]))\n",
    "    return new_df\n"
   ]
  },
  {
   "cell_type": "markdown",
   "metadata": {},
   "source": [
    "#### Coefficients for gauge readings\n",
    "Applied for the gauge readings using the formula below:\n",
    "    $$\n",
    "    \\frac{p_2}{p_1}=\\sqrt \\frac{T_2}{T_1}\n",
    "    $$\n",
    "Here $p_2$ and $T_2$ are the pressure and temperature in the cold part and $p_1$, $T_1$ are the pressure, temperature the gauge is exposed to."
   ]
  },
  {
   "cell_type": "code",
   "execution_count": 31,
   "metadata": {},
   "outputs": [
    {
     "name": "stdout",
     "output_type": "stream",
     "text": [
      "1\n"
     ]
    }
   ],
   "source": [
    "#Thermal transpiration\n",
    "T2 = 4.2\n",
    "T1 = 293\n",
    "p_coef = 1#np.sqrt(T1/T2)\n",
    "print(p_coef)\n",
    "#N2 to H2 equivalent conversion\n",
    "CF_h2 = 2.49\n",
    "def gauge_correction(df):\n",
    "    new_df = df.copy()\n",
    "    #apply correction factors\n",
    "    ba1 = df[\"Barion_1\"]*CF_h2\n",
    "    ba2 = df[\"Barion_2\"]*CF_h2\n",
    "    new_df[\"Barion_1\"] = ba1\n",
    "    new_df[\"Barion_2\"] = ba2\n",
    "    new_df.rename(columns={\"Barion_1\": \"Barion_1 corr\", \"Barion_2\": \"Barion_2 corr\"},inplace=True)\n",
    "    return new_df"
   ]
  },
  {
   "cell_type": "markdown",
   "metadata": {},
   "source": [
    "#### Comments for annotations"
   ]
  },
  {
   "cell_type": "code",
   "execution_count": 32,
   "metadata": {},
   "outputs": [],
   "source": [
    "def comments(dataframe,timecol,commentcol):\n",
    "    #print hv comments\n",
    "    #print(pd.unique(dataframe[colname]))\n",
    "    new_dataframe = dataframe.loc[:,[timecol,commentcol]]\n",
    "    #delete excess comments (hv log program writes each comment 4x)\n",
    "\n",
    "    # Find the indices of the first occurrence of each unique event\n",
    "    first_unique_indices = new_dataframe.drop_duplicates(subset=commentcol, keep=\"first\").index\n",
    "\n",
    "    #replace the comments in rows that are not the first occurrence of each unique event with NaN values\n",
    "    new_dataframe.loc[~new_dataframe.index.isin(first_unique_indices), commentcol] = np.nan\n",
    "\n",
    "    #drop NaN values\n",
    "    new_dataframe.dropna(inplace=True)\n",
    "    print(new_dataframe.index)\n",
    "    return new_dataframe"
   ]
  },
  {
   "cell_type": "markdown",
   "metadata": {},
   "source": [
    "### Primary desorption yield"
   ]
  },
  {
   "cell_type": "markdown",
   "metadata": {},
   "source": [
    "$$\n",
    "\\eta_{app}=\\frac{C_{H_2}\\cdot \\Delta(p_{2} - {p}_{1}) \\cdot q_e}{k_B\\cdot T \\cdot I_{EM}}\\\\\n",
    "    \\eta_{app} = \\frac{C_{H_2}\\cdot \\bigl[\\left(p_{2.EM}-p_{2.base}\\right)-\\left(p_{1.EM}-p_{1.base}\\right)\\bigr] \\cdot q_e}{k_B\\cdot T \\cdot I_{EM}}\n",
    "$$"
   ]
  },
  {
   "cell_type": "code",
   "execution_count": 33,
   "metadata": {},
   "outputs": [],
   "source": [
    "#Subset data depending on emission condition\n",
    "def emission_data(df, comment, select='before'):\n",
    "    new_df = df.copy()\n",
    "    cutoff = new_df.loc[new_df[\"Live comments\"] == f\"{comment}\"].index[0]  # Get the index of the first occurrence of the comment\n",
    "\n",
    "    if select == 'before':\n",
    "        # Subset the DataFrame from the beginning until the cutoff\n",
    "        new_df = new_df.iloc[:cutoff+1]\n",
    "        after_cutoff = False\n",
    "    elif select == 'after':\n",
    "        # Subset the DataFrame starting from the cutoff until the end\n",
    "        new_df = new_df.iloc[cutoff:]\n",
    "        after_cutoff = True\n",
    "    else:\n",
    "        raise ValueError(\"Invalid value for 'select' parameter. Use 'before' or 'after'.\")\n",
    "\n",
    "    return new_df\n",
    "\n"
   ]
  },
  {
   "cell_type": "code",
   "execution_count": 34,
   "metadata": {},
   "outputs": [],
   "source": [
    "#Constants for ESD yield\n",
    "c_chimney = 65.77 / 1000 #l to m3\n",
    "c_orif = 37.91 #H2 equiv\n",
    "c_tot=c_orif/1000 #l to m3\n",
    "#Calculate the desorption yield using the formula\n",
    "def eta_prime(no_em,emission):\n",
    "\n",
    "    # Remove background from outgassing\n",
    "    # For this, calculate the flux going into the sample through the chimney conductance, assuming negligible downstream pressure\n",
    "    pV_bck = c_chimney * np.mean(no_em[\"Barion_2 corr\"])*100#mbar to Pa\n",
    "    # Calculate delta p\n",
    "    deltap_ba1 = (emission[\"Barion_1 corr\"]-np.mean(no_em[\"Barion_1 corr\"]))*100#mbar to Pa\n",
    "    #print(*(emission[\"Barion_1 corr\"]-(no_em[\"Barion_1 corr\"]))*100)\n",
    "    deltap_ba2 = (emission[\"Barion_2 corr\"]-np.mean(no_em[\"Barion_2 corr\"]))*100#mbar to Pa\n",
    "    eta = ((c_tot*(deltap_ba2-deltap_ba1))-pV_bck)/(scipy.constants.Boltzmann*T1)*(scipy.constants.elementary_charge/emission[\"I_emission\"])\n",
    "    print((pV_bck-(c_tot*(deltap_ba2-deltap_ba1)))/(scipy.constants.Boltzmann*T1))\n",
    "    # Filter out negative and inf values from eta\n",
    "    eta_filtered = eta#[(eta >= 0) & (eta <= 0.3) & np.isfinite(eta)]\n",
    "    \n",
    "    # Create a new DataFrame with filtered eta and corresponding Elapsed time\n",
    "    emission_filtered = pd.DataFrame({\n",
    "        \"Elapsed time\": emission[\"Elapsed time\"].values[:len(eta_filtered)],\n",
    "        \"eta_filtered\": eta_filtered\n",
    "    })\n",
    "    print(emission[\"Elapsed time\"].values[:len(eta_filtered)])\n",
    "    return emission_filtered\n"
   ]
  },
  {
   "cell_type": "markdown",
   "metadata": {},
   "source": [
    "## Calling the data analysis functions and writing to file"
   ]
  },
  {
   "cell_type": "markdown",
   "metadata": {},
   "source": [
    "#### Defining variables to the called functions"
   ]
  },
  {
   "cell_type": "code",
   "execution_count": 35,
   "metadata": {
    "scrolled": true
   },
   "outputs": [],
   "source": [
    "# Defining a variable for original measurement data\n",
    "vaclog1 = data[\".\\\\recycling-and-warm-up-10-03-2020\"]\n",
    "vaclog2 = data[\".\\\\recycling-measurement-10-03-2020\"]\n"
   ]
  },
  {
   "cell_type": "code",
   "execution_count": 36,
   "metadata": {
    "scrolled": true
   },
   "outputs": [
    {
     "name": "stderr",
     "output_type": "stream",
     "text": [
      "UsageError: Line magic function `%xl_set` not found.\n"
     ]
    }
   ],
   "source": [
    "#Write to excel\n",
    "%xl_set vaclog1 --cell Sheet1!A2"
   ]
  },
  {
   "cell_type": "code",
   "execution_count": 37,
   "metadata": {},
   "outputs": [],
   "source": [
    "#Cut values before injection start\n",
    "\n",
    "def rows_from_started_comment(df, start_comment):\n",
    "    # Find the index where the comment \"started injection\" is first found\n",
    "    start_index = dataframe.loc[df[\"Live comments\"] == start_comment].index.min()\n",
    "\n",
    "    # Extract all rows from the start_index to the end of the DataFrame\n",
    "    extracted_rows = df.loc[start_index:]\n",
    "\n",
    "    return extracted_rows\n"
   ]
  },
  {
   "cell_type": "code",
   "execution_count": 38,
   "metadata": {},
   "outputs": [
    {
     "name": "stdout",
     "output_type": "stream",
     "text": [
      "359      3.849441e+12\n",
      "360      3.665096e+12\n",
      "361      3.667430e+12\n",
      "362      3.597426e+12\n",
      "363      3.562424e+12\n",
      "             ...     \n",
      "29838   -3.987979e+13\n",
      "29839   -3.969311e+13\n",
      "29840   -3.969311e+13\n",
      "29841   -3.976311e+13\n",
      "29842   -3.969311e+13\n",
      "Length: 29484, dtype: float64\n",
      "359      3.340643e+13\n",
      "360      2.846815e+13\n",
      "361      2.711062e+13\n",
      "362      4.042064e+13\n",
      "363      4.078077e+13\n",
      "             ...     \n",
      "29838    0.000000e+00\n",
      "29839    0.000000e+00\n",
      "29840    0.000000e+00\n",
      "29841    0.000000e+00\n",
      "29842    0.000000e+00\n",
      "Name: I_emission, Length: 29484, dtype: float64\n",
      "[  3517.   3525.   3533. ... 248244. 248254. 248264.]\n",
      "       Elapsed time  eta_filtered\n",
      "359          3517.0     -0.115231\n",
      "360          3525.0     -0.128744\n",
      "361          3533.0     -0.135277\n",
      "362          3541.0     -0.089000\n",
      "363          3549.0     -0.087355\n",
      "...             ...           ...\n",
      "29838      248225.0           inf\n",
      "29839      248234.0           inf\n",
      "29840      248244.0           inf\n",
      "29841      248254.0           inf\n",
      "29842      248264.0           inf\n",
      "\n",
      "[29484 rows x 2 columns]\n",
      "Int64Index([359, 2055, 3606], dtype='int64')\n",
      "Int64Index([359, 2055, 3606], dtype='int64')\n"
     ]
    }
   ],
   "source": [
    "#Calculate Number of molecules and coverage, CernOx temperature, apply gauge correction\n",
    "vaclog_new1 = (gauge_correction(tempconvert(vaclog1)))\n",
    "vaclog_new2 = (gauge_correction(tempconvert(vaclog2)))\n",
    "\n",
    "#Pre and post-em data\n",
    "pre_em = emission_data(vaclog_new2, \"ega on\", select=\"before\")\n",
    "em = emission_data(vaclog_new2, \"ega on\", select=\"after\")\n",
    "\n",
    "#calculate apparent primary desorption yields:\n",
    "eta = eta_prime(pre_em,em)\n",
    "print(eta)\n",
    "#Comments\n",
    "vaclog_comments1 = comments(vaclog1,\"Time\", \"Live comments\")\n",
    "vaclog_comments2 = comments(vaclog2,\"Time\", \"Live comments\")\n",
    "    "
   ]
  },
  {
   "cell_type": "code",
   "execution_count": 39,
   "metadata": {},
   "outputs": [
    {
     "name": "stderr",
     "output_type": "stream",
     "text": [
      "UsageError: Line magic function `%xl_set` not found.\n"
     ]
    }
   ],
   "source": [
    "# Write em, eta to file\n",
    "%xl_set em --cell Sheet1!O2\n",
    "# Write pre-em to file\n",
    "%xl_set pre_em --cell Sheet1!AE2\n",
    "# Write eta\n",
    "%xl_set eta --cell Sheet1!AT2"
   ]
  },
  {
   "cell_type": "markdown",
   "metadata": {},
   "source": [
    "## Electron dose\n"
   ]
  },
  {
   "cell_type": "markdown",
   "metadata": {},
   "source": [
    "Find:\n",
    "\n",
    "$$\n",
    "Q = \\int_{t_1}^{t_2} I \\,dt\n",
    "$$\n",
    "\n",
    "Where $t_2$ and $t_1$ are the timestamps at which an emission current reading was taken\n"
   ]
  },
  {
   "cell_type": "code",
   "execution_count": 40,
   "metadata": {},
   "outputs": [],
   "source": [
    "def e_dose(df):\n",
    "    i = df[\"I_emission\"] \n",
    "    t = df[\"Elapsed time\"].diff(periods=1).fillna(0)\n",
    "    integrand = i*t\n",
    "    integral = np.sum(integrand)/400 #divide by emission area 400 mm2\n",
    "    print(integral)\n",
    "    cumulative_charge = np.cumsum(integrand)/400 #divide by emission area 400 mm2\n",
    "    return cumulative_charge\n",
    "\n"
   ]
  },
  {
   "cell_type": "code",
   "execution_count": 41,
   "metadata": {},
   "outputs": [
    {
     "name": "stdout",
     "output_type": "stream",
     "text": [
      "0.00198598738152005\n"
     ]
    },
    {
     "name": "stderr",
     "output_type": "stream",
     "text": [
      "UsageError: Line magic function `%xl_set` not found.\n"
     ]
    }
   ],
   "source": [
    "electron_charge = e_dose(em)\n",
    "# Create a new DataFrame with filtered eta and corresponding Elapsed time\n",
    "e_dose_results = pd.DataFrame({\n",
    "    \"Elapsed time\": em[\"Elapsed time\"].values,\n",
    "    \"Charge emitted per mm2\": electron_charge})\n",
    "# Write to file\n",
    "%xl_set e_dose_results --cell Sheet1!BE2"
   ]
  },
  {
   "cell_type": "code",
   "execution_count": 42,
   "metadata": {},
   "outputs": [],
   "source": [
    "#### Writing to excel file\n",
    "def write_to_excel(filename):\n",
    "    #Write to excel file 1\n",
    "    writer = pd.ExcelWriter(os.path.join(os.getcwd(),filename),engine=\"xlsxwriter\")\n",
    "    vaclog1.to_excel(writer,sheet_name='recycling-and-warm-up-10-03-2020')\n",
    "    vaclog_new1.to_excel(writer, sheet_name='Analysed data recycling-and-warm-up-10-03-2020')\n",
    "    #file 2\n",
    "    vaclog2.to_excel(writer,sheet_name='recycling-measurement-10-03-2020')\n",
    "    vaclog_new2.to_excel(writer, sheet_name='Analysed data recycling-measurement-10-03-2020')\n",
    "\n",
    "    writer.save()\n",
    "    return\n",
    "\n"
   ]
  },
  {
   "cell_type": "markdown",
   "metadata": {},
   "source": [
    "## Plotting"
   ]
  },
  {
   "cell_type": "code",
   "execution_count": 43,
   "metadata": {},
   "outputs": [],
   "source": [
    "#define parameters for plotting\n",
    "#annotation params\n",
    "font = dict(size = \"x-small\", color =\"green\", style =\"italic\",rotation=\"vertical\")\n",
    "\n",
    "plt.rcParams[\"figure.figsize\"] = [8,5]\n",
    "plt.rcParams[\"axes.edgecolor\"] = \"black\"\n",
    "plt.rcParams[\"axes.grid\"] = True\n",
    "plt.rcParams[\"grid.color\"] = \"black\"\n",
    "plt.rcParams[\"grid.linewidth\"] = 0.35\n",
    "\n",
    "formatter = md.DateFormatter('%H:%M')\n",
    "\n",
    "# Create the \"graphs\" folder path\n",
    "graphs_folder = os.path.join(root, 'graphs')\n",
    "\n",
    "# Ensure the \"graphs\" folder exists, if not create it\n",
    "if not os.path.exists(graphs_folder):\n",
    "    os.makedirs(graphs_folder)\n",
    "    "
   ]
  },
  {
   "cell_type": "code",
   "execution_count": 44,
   "metadata": {},
   "outputs": [],
   "source": [
    "#Plotting the lumped injection adsorption isotherms up to 1e16 M/cm2\n",
    "fig, ax = plt.subplots()\n",
    "\n",
    "#file1 \n",
    "ax.plot(vaclog_new1[\"Time\"],vaclog_new1[\"Barion_1 corr\"],marker=\".\", markersize=5,label='BA1 h2 equiv')\n",
    "ax.plot(vaclog_new1[\"Time\"],vaclog_new1[\"Barion_2 corr\"],marker=\".\", markersize=5,label='BA2 h2 equiv')\n",
    "\n",
    "ax.legend(loc=\"lower right\")\n",
    "ax.set_xlabel('Timestamp')\n",
    "ax.set_ylabel('Pressure (mbar)')\n",
    "ax.set_yscale('log')\n",
    "plt.title(\"recycling-and-warm-up-10-03-2020 barions\")\n",
    "\n",
    "ax.xaxis.set_major_formatter(formatter)\n",
    "ax.xaxis.set_major_locator(plt.MaxNLocator(12))\n",
    "for label in ax.get_xticklabels(which='major'):\n",
    "    label.set(rotation=30, horizontalalignment='right')    \n",
    "     \n",
    "#Writing comments as plot annotations\n",
    "trans  = transforms.blended_transform_factory(\n",
    "    ax.transData, ax.transAxes)\n",
    "for i in vaclog_comments1.index:\n",
    "    plt.text(vaclog_comments1[\"Time\"][i],0.8,str(vaclog_comments1[\"Live comments\"][i]),fontdict=font, transform=trans)      \n",
    "\n",
    "plt.savefig(os.path.join(graphs_folder, 'recycling-and-warm-up-10-03-2020 barions.png'), dpi=300, bbox_inches='tight')\n",
    "plt.show()"
   ]
  },
  {
   "cell_type": "code",
   "execution_count": null,
   "metadata": {},
   "outputs": [],
   "source": []
  },
  {
   "cell_type": "code",
   "execution_count": 45,
   "metadata": {},
   "outputs": [],
   "source": [
    "# same graph, cut values\n",
    "fig, ax = plt.subplots()\n",
    "#file2\n",
    "ax.plot(vaclog_new2[\"Elapsed time\"]/3600,vaclog_new2[\"Barion_1 corr\"],marker=\".\", markersize=5,label='BA1 h2 equiv')\n",
    "ax.plot(vaclog_new2[\"Elapsed time\"]/3600,vaclog_new2[\"Barion_2 corr\"],marker=\".\", markersize=5,label='BA2 h2 equiv')\n",
    "\n",
    "ax.legend(loc=\"lower right\")\n",
    "ax.set_xlabel('Elapsed time (h)')\n",
    "ax.set_ylabel('Pressure (mbar)')\n",
    "ax.set_yscale('log')\n",
    "ax.set_xlim(0, 22)\n",
    "\n",
    "plt.title(\"recycling-measurement-10-03-2020 barions\")\n",
    "plt.savefig(os.path.join(graphs_folder, 'recycling-measurement-10-03-2020 barions.png'), bbox_inches='tight')\n",
    "plt.show()"
   ]
  },
  {
   "cell_type": "code",
   "execution_count": 52,
   "metadata": {},
   "outputs": [],
   "source": [
    "#Plotting apparent primary desorption yield vs time\n",
    "fig, ax = plt.subplots()\n",
    "#file2\n",
    "ax.plot(electron_charge,eta[\"eta_filtered\"],marker=\".\", markersize=5,label='eta_prime')\n",
    "ax.set_xlim(0, 0.001)\n",
    "ax.set_ylim(bottom=0, top=0.3)\n",
    "ax.legend(loc=\"upper right\")\n",
    "ax.set_xlabel('C/mm2')\n",
    "ax.set_ylabel('Desorption yield (molecules/electron)')\n",
    "ax.set_yscale('linear')\n",
    "\n",
    "\"\"\" charge to dose for plotting\n",
    "def charge_to_dose(val):\n",
    "    return val/scipy.constants.elementary_charge\n",
    "\n",
    "#inverse function of dose -> charge for plotting\n",
    "def dose_to_charge(val):\n",
    "    return scipy.constants.elementary_charge/val\n",
    "\n",
    "secax=ax.secondary_xaxis(\"top\", functions=(charge_to_dose(electron_charge),dose_to_charge))\n",
    "secax.set_xlabel('electrons/mm^2') \"\"\"\n",
    "plt.title(\"E. Bez - apparent primary desorption yield vs charge\")\n",
    "plt.savefig(os.path.join(graphs_folder, 'E. Bez apparent primary desorption yield vs dose_recycling-measurement-10-03-2020 barions.png'), bbox_inches='tight')\n",
    "plt.ticklabel_format(axis=\"x\",style=\"sci\")\n",
    "plt.show()"
   ]
  },
  {
   "cell_type": "code",
   "execution_count": 47,
   "metadata": {},
   "outputs": [],
   "source": [
    "#Plotting apparent primary desorption yield vs time up to 22h\n",
    "fig, ax = plt.subplots()\n",
    "#file2\n",
    "ax.plot(eta[\"Elapsed time\"]/3600,eta[\"eta_filtered\"],marker=\".\", markersize=5,label='eta_prime')\n",
    "ax.set_xlim(0, 22)\n",
    "\n",
    "#ax.set_ylim(bottom=0,top=0.02)\n",
    "ax.legend(loc=\"upper right\")\n",
    "ax.set_xlabel('Elapsed time (h)')\n",
    "ax.set_ylabel('Desorption yield (molecules/electron)')\n",
    "ax.set_yscale('linear')\n",
    "plt.title(\"recycling-measurement-10-03-2020 barions - apparent primary desorption yield vs time 0-22h\")\n",
    "plt.savefig(os.path.join(graphs_folder, '0-22 h apparent primary desorption yield vs time_recycling-measurement-10-03-2020 barions.png'), bbox_inches='tight')\n",
    "plt.show()"
   ]
  },
  {
   "cell_type": "code",
   "execution_count": 48,
   "metadata": {},
   "outputs": [],
   "source": [
    "#emission stability\n",
    "fig, ax = plt.subplots()\n",
    "#file2\n",
    "ax.plot(em[\"Elapsed time\"]/3600,em[\"I_emission\"],marker=\".\", markersize=5,label='eta_prime')\n",
    "ax.set_xlim(0, 60)\n",
    "#ax.set_ylim(bottom=0,top=0.02)\n",
    "ax.legend(loc=\"upper right\")\n",
    "ax.set_xlabel('Elapsed time (h)')\n",
    "ax.set_ylabel('Emission current (A)')\n",
    "ax.set_yscale('log')\n",
    "\n",
    "plt.title(\"recycling-measurement-10-03-2020 emission current\")\n",
    "plt.savefig(os.path.join(graphs_folder, 'emission current recycling-measurement-10-03-2020 barions.png'), bbox_inches='tight')\n",
    "plt.show()"
   ]
  }
 ],
 "metadata": {
  "kernelspec": {
   "display_name": "Python 3 (ipykernel)",
   "language": "python",
   "name": "python3"
  },
  "language_info": {
   "codemirror_mode": {
    "name": "ipython",
    "version": 3
   },
   "file_extension": ".py",
   "mimetype": "text/x-python",
   "name": "python",
   "nbconvert_exporter": "python",
   "pygments_lexer": "ipython3",
   "version": "3.9.12"
  }
 },
 "nbformat": 4,
 "nbformat_minor": 2
}
