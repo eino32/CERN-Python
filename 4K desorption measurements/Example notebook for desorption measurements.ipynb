{
 "cells": [
  {
   "cell_type": "code",
   "execution_count": 15,
   "metadata": {},
   "outputs": [],
   "source": [
    "import pandas as pd\n",
    "import scipy.constants\n",
    "from scipy.optimize import curve_fit\n",
    "from scipy.integrate import quad\n",
    "from sklearn.metrics import r2_score\n",
    "import numpy as np\n",
    "import math\n",
    "import matplotlib.pyplot as plt\n",
    "import matplotlib.dates as md\n",
    "import matplotlib.transforms as transforms\n",
    "from matplotlib.ticker import LogFormatter\n",
    "import os\n",
    "%matplotlib qt\n",
    "# %matplotlib inline\n",
    "import datetime as dt\n",
    "pd.set_option('display.max_rows', 100) "
   ]
  },
  {
   "cell_type": "markdown",
   "metadata": {},
   "source": [
    "## Reading in the data and preparing DataFrames"
   ]
  },
  {
   "attachments": {},
   "cell_type": "markdown",
   "metadata": {},
   "source": [
    "#### MID"
   ]
  },
  {
   "cell_type": "code",
   "execution_count": 16,
   "metadata": {},
   "outputs": [],
   "source": [
    "#read in the file and create dataframe\n",
    "#excplicitly state the part\n",
    "#path = r'C:\\Users\\einot\\OneDrive\\Documents\\CERN VScode\\CERN-Python\\4K desorption measurements\\Cu sample\\EGA fully in\\S1 no preinjection at cold temps'\n",
    "#mid = pd.read_csv(os.path.join(path, \"MID.tsv\"), sep=\"\\t\", skiprows=lambda x: x<=11, on_bad_lines=\"skip\")\n",
    "\n",
    "#List molecule masses used in MID scan\n",
    "\n",
    "#masslist = [2,4,12,15,16,18,28,32,40,44]\n",
    "\n",
    "#Define datetime format\n",
    "#MID_datetime = \"%Y/%m/%d %H:%M:%S.%f\"\n",
    "\n",
    "#Reformat time values\n",
    "def timeformat(df,format):\n",
    "    new_df = df.copy()\n",
    "    for idx, col in enumerate(df):\n",
    "        if idx % 2 == 0:  # Check if the column index is even (every other column)\n",
    "            pandas_timestamp = pd.to_datetime(df[col], format=format)\n",
    "            timestamp = pandas_timestamp.dt.strftime('%d-%m-%Y %H:%M:%S')\n",
    "            new_df[col] = timestamp  # Replace the time column in the new dataframe\n",
    "    return new_df\n",
    "\n",
    "#call the function with correct parameters to modify MID dataframe\n",
    "#mid = timeformat(mid,MID_datetime)"
   ]
  },
  {
   "cell_type": "markdown",
   "metadata": {},
   "source": [
    "#### Vaclogger"
   ]
  },
  {
   "cell_type": "code",
   "execution_count": 17,
   "metadata": {},
   "outputs": [
    {
     "data": {
      "text/plain": [
       "' \\n#call the function with correct parameters to modify vaclogger dataframe\\nvaclog = elapsed_time(vaclog,\"Time\",vaclog_datetime) '"
      ]
     },
     "execution_count": 17,
     "metadata": {},
     "output_type": "execute_result"
    }
   ],
   "source": [
    "\"\"\" #Reading in the file\n",
    "vaclog = pd.read_csv(os.path.join(path, \"vaclog\"), sep=\"\\t\")\n",
    "\n",
    "#Define original datetime format\n",
    "vaclog_datetime = \"%d/%m/%Y %H:%M:%S\"\n",
    " \"\"\"\n",
    "#Adding an elapsed time column for temperature fits\n",
    "def elapsed_time(df,timecol,format):\n",
    "    new_df = df.copy()\n",
    "    pandas_timestamp = pd.to_datetime(df[timecol],format=format)\n",
    "    runtime = (pandas_timestamp-pandas_timestamp[0]).dt.total_seconds()\n",
    "    insert_idx = df.columns.get_loc(timecol) + 1  # Get the index to insert the new column\n",
    "    df.insert(insert_idx,\"Elapsed time\", runtime)\n",
    "    reformat = pandas_timestamp.dt.strftime('%d-%m-%Y %H:%M:%S') #New timestamp format for plotting\n",
    "    new_df[timecol] = reformat\n",
    "    return new_df\n",
    "\"\"\" \n",
    "#call the function with correct parameters to modify vaclogger dataframe\n",
    "vaclog = elapsed_time(vaclog,\"Time\",vaclog_datetime) \"\"\""
   ]
  },
  {
   "attachments": {},
   "cell_type": "markdown",
   "metadata": {},
   "source": [
    "#### HiVolta log"
   ]
  },
  {
   "cell_type": "code",
   "execution_count": 18,
   "metadata": {},
   "outputs": [
    {
     "data": {
      "text/plain": [
       "' #Reading in the file\\nhv = pd.read_csv(os.path.join(path,\"hv log\"), sep=\",\")\\n\\n#Define grid and emission current parameters in [A]\\nhv[\"hv_grid\"]=[abs(element) * 1e-6 for element in hv[\"IMon1\"]]\\nhv[\"I_em\"]=[abs(element) * 1e-6 for element in hv[\"IMon2\"]]\\n\\n#Define datetime format for Hv log\\nhv[\"datetime\"] = hv[\\'Date\\'] + \\' \\' + hv[\\'Time\\'] #combine date and time columns\\nhv_datetime = \"%d/%m/%Y %H:%M:%S.%f\"\\n\\n#Call the \\'elapsed time\\' function with hv parameters\\nhv = elapsed_time(hv,\"datetime\" ,hv_datetime)\\n\\nhv.head() '"
      ]
     },
     "execution_count": 18,
     "metadata": {},
     "output_type": "execute_result"
    }
   ],
   "source": [
    "\"\"\" #Reading in the file\n",
    "hv = pd.read_csv(os.path.join(path,\"hv log\"), sep=\",\")\n",
    "\n",
    "#Define grid and emission current parameters in [A]\n",
    "hv[\"hv_grid\"]=[abs(element) * 1e-6 for element in hv[\"IMon1\"]]\n",
    "hv[\"I_em\"]=[abs(element) * 1e-6 for element in hv[\"IMon2\"]]\n",
    "\n",
    "#Define datetime format for Hv log\n",
    "hv[\"datetime\"] = hv['Date'] + ' ' + hv['Time'] #combine date and time columns\n",
    "hv_datetime = \"%d/%m/%Y %H:%M:%S.%f\"\n",
    "\n",
    "#Call the 'elapsed time' function with hv parameters\n",
    "hv = elapsed_time(hv,\"datetime\" ,hv_datetime)\n",
    "\n",
    "hv.head() \"\"\""
   ]
  },
  {
   "attachments": {},
   "cell_type": "markdown",
   "metadata": {},
   "source": [
    "#### Function for reading in all data files for one measurement"
   ]
  },
  {
   "cell_type": "code",
   "execution_count": 19,
   "metadata": {},
   "outputs": [],
   "source": [
    "def process_data(directory):\n",
    "    #Define datetime formats\n",
    "    MID_datetime = \"%Y/%m/%d %H:%M:%S.%f\"\n",
    "    vaclog_datetime = \"%d/%m/%Y %H:%M:%S\"\n",
    "    hv_datetime = \"%d/%m/%Y %H:%M:%S.%f\"\n",
    "    \n",
    "    #Create an empty dictionary to store processed dataframes\n",
    "    dataframes = {}\n",
    "\n",
    "    # Iterate over the subdirectories starting from the specified directory\n",
    "    for root, dirs, files in os.walk(directory):\n",
    "        for filename in files:\n",
    "            filepath = os.path.join(directory,filename)\n",
    "            \n",
    "            # Create a variable name using the relative path\n",
    "            relative_path = os.path.relpath(root, directory)\n",
    "            variable_name = os.path.join(relative_path, os.path.splitext(filename)[0])\n",
    "            try:\n",
    "                #Read in the MID file\n",
    "                if filename == \"MID.tsv\":\n",
    "                    mid = pd.read_csv(filepath, sep=\"\\t\", skiprows=lambda x: x<=11, on_bad_lines=\"skip\")\n",
    "                    mid = timeformat(mid, MID_datetime)\n",
    "\n",
    "                    # Create a variable name using the base name of the MID filename\n",
    "                    variable_name = os.path.splitext(filename)[0]\n",
    "\n",
    "                    # Store the MID dataframe using the variable name\n",
    "                    dataframes[variable_name] = mid\n",
    "\n",
    "                #Read in the vaclog file\n",
    "                elif filename == \"vaclog\":\n",
    "                    vaclog = pd.read_csv(filepath, sep=\"\\t\")\n",
    "                    vaclog = elapsed_time(vaclog, \"Time\", vaclog_datetime)\n",
    "\n",
    "                    # Create a variable name using the base name of the MID filename\n",
    "                    variable_name = os.path.splitext(filename)[0]\n",
    "\n",
    "                    # Store the vaclog dataframe using the variable name\n",
    "                    dataframes[variable_name] = vaclog\n",
    "\n",
    "                #Read in the hivolta file\n",
    "                elif filename == \"hv log\":\n",
    "                    hv = pd.read_csv(filepath, sep=\",\")\n",
    "                    hv[\"hv_grid\"] = [abs(element) * 1e-6 for element in hv[\"IMon1\"]]\n",
    "                    hv[\"I_em\"] = [abs(element) * 1e-6 for element in hv[\"IMon2\"]]\n",
    "                    hv[\"datetime\"] = hv['Date'] + ' ' + hv['Time']\n",
    "                    hv = elapsed_time(hv, \"datetime\", hv_datetime)\n",
    "\n",
    "                    # Create a variable name using the base name of the MID filename\n",
    "                    variable_name = os.path.splitext(filename)[0]\n",
    "                    \n",
    "                    # Store the hv dataframe using the variable name\n",
    "                    dataframes[variable_name] = hv   \n",
    "            except FileNotFoundError:\n",
    "                continue\n",
    "    return dataframes\n",
    "\n",
    "\n"
   ]
  },
  {
   "cell_type": "code",
   "execution_count": 25,
   "metadata": {},
   "outputs": [
    {
     "name": "stdout",
     "output_type": "stream",
     "text": [
      "{}\n"
     ]
    }
   ],
   "source": [
    "#Accessing the files\n",
    "directory = r'C:\\Users\\einot\\cernbox\\Documents\\etiirinen\\Python\\4K desorption measurements\\HiLumi sample\\4K desorption yield with preinjection'#\\dynamic vacuum\\EGA fully in\\series1 no desorption'\n",
    "processed_data = process_data(directory)\n",
    "\n",
    "# Access the processed dataframes using the variable names\n",
    "#mid_df, vaclog_df, hv_df = processed_data['MID', 'vaclog', 'hv log']\n",
    "#mid = processed_data['MID']\n",
    "#vaclog = processed_data['vaclog']\n",
    "#hv = processed_data['hv log']\n",
    "print(processed_data)\n",
    "#print(mid, vaclog, hv)\n",
    "for variable_name, dataframe in processed_data.items():\n",
    "    print(\"series1 no desorption/vaclog\")\n",
    "    print(\"mid\")\n",
    "    print(\"-----------------\")\n"
   ]
  },
  {
   "cell_type": "markdown",
   "metadata": {},
   "source": [
    "## Data processing"
   ]
  },
  {
   "cell_type": "markdown",
   "metadata": {},
   "source": [
    "#### CernOx R-T conversion"
   ]
  },
  {
   "cell_type": "code",
   "execution_count": 21,
   "metadata": {},
   "outputs": [],
   "source": [
    "#Temperature curve for CERNOX - for temp stability\n",
    "A=[230.317302,-6170.1513,71837.9529,-477946.76,2.003668910085786e+6,-5.488690193047771e+6,9.830475663897528e+6,-1.111226817786569e+7,7.202477878914065e+6,-2.04194551328507e+6]\n",
    "\n",
    "#specify fit parameters A, data (Resistance values)\n",
    "def polyfit(params,data):\n",
    "    total=[]\n",
    "    for j in data: \n",
    "        exp=0\n",
    "        for i in range(len(params)):\n",
    "            exp += (params[i]/(math.log10(j))**i)\n",
    "        total.append(10**exp)\n",
    "    return(total)    \n"
   ]
  },
  {
   "cell_type": "markdown",
   "metadata": {},
   "source": [
    "#### Comments for annotations"
   ]
  },
  {
   "cell_type": "code",
   "execution_count": 22,
   "metadata": {},
   "outputs": [
    {
     "ename": "NameError",
     "evalue": "name 'vaclog' is not defined",
     "output_type": "error",
     "traceback": [
      "\u001b[1;31m---------------------------------------------------------------------------\u001b[0m",
      "\u001b[1;31mNameError\u001b[0m                                 Traceback (most recent call last)",
      "\u001b[1;32mc:\\Users\\einot\\OneDrive\\Documents\\CERN VScode\\CERN-Python\\4K desorption measurements\\Example notebook for desorption measurements.ipynb Cell 16\u001b[0m in \u001b[0;36m<module>\u001b[1;34m\u001b[0m\n\u001b[0;32m      <a href='vscode-notebook-cell:/c%3A/Users/einot/OneDrive/Documents/CERN%20VScode/CERN-Python/4K%20desorption%20measurements/Example%20notebook%20for%20desorption%20measurements.ipynb#X21sZmlsZQ%3D%3D?line=0'>1</a>\u001b[0m \u001b[39m#print vaclog comments\u001b[39;00m\n\u001b[1;32m----> <a href='vscode-notebook-cell:/c%3A/Users/einot/OneDrive/Documents/CERN%20VScode/CERN-Python/4K%20desorption%20measurements/Example%20notebook%20for%20desorption%20measurements.ipynb#X21sZmlsZQ%3D%3D?line=1'>2</a>\u001b[0m \u001b[39mprint\u001b[39m(pd\u001b[39m.\u001b[39munique(vaclog[\u001b[39m\"\u001b[39m\u001b[39mLive comments\u001b[39m\u001b[39m\"\u001b[39m]))\n",
      "\u001b[1;31mNameError\u001b[0m: name 'vaclog' is not defined"
     ]
    }
   ],
   "source": [
    "#print vaclog comments\n",
    "print(pd.unique(vaclog[\"Live comments\"]))"
   ]
  },
  {
   "cell_type": "code",
   "execution_count": null,
   "metadata": {},
   "outputs": [
    {
     "name": "stdout",
     "output_type": "stream",
     "text": [
      "[nan 'no emission' 'emission on' 'minimal emission current'\n",
      " 'grid repelling' 'grid transparent' 'ega turned' 'grid repelling again'\n",
      " 'no electron activity']\n",
      "Int64Index([0, 17, 339, 652, 660, 776, 834, 1359, 1857], dtype='int64')\n"
     ]
    }
   ],
   "source": [
    "#print hv comments\n",
    "print(pd.unique(hv[\"Comment\"]))\n",
    "\n",
    "#delete excess comments (hv log program writes each comment 4x)\n",
    "\n",
    "# Find the indices of the first occurrence of each unique event\n",
    "first_unique_indices = hv.drop_duplicates(subset=\"Comment\", keep=\"first\").index\n",
    "print(first_unique_indices)\n",
    "\n",
    "#replace the comments in rows that are not the first occurrence of each unique event with NaN values\n",
    "hv.loc[~hv.index.isin(first_unique_indices), \"Comment\"] = np.nan\n"
   ]
  },
  {
   "attachments": {},
   "cell_type": "markdown",
   "metadata": {},
   "source": [
    "#### Electron dose calculations"
   ]
  },
  {
   "attachments": {},
   "cell_type": "markdown",
   "metadata": {},
   "source": [
    "Find:\n",
    "\n",
    "$$\n",
    "Q = \\int_{t_1}^{t_2} I \\,dt\n",
    "$$\n",
    "\n",
    "Where $t_2$ and $t_1$ are the timestamps at which an emission current reading was taken\n"
   ]
  },
  {
   "cell_type": "code",
   "execution_count": null,
   "metadata": {},
   "outputs": [],
   "source": []
  },
  {
   "cell_type": "code",
   "execution_count": null,
   "metadata": {},
   "outputs": [],
   "source": []
  },
  {
   "cell_type": "markdown",
   "metadata": {},
   "source": [
    "#### Fitting"
   ]
  },
  {
   "attachments": {},
   "cell_type": "markdown",
   "metadata": {},
   "source": [
    "Fitting the mathematical model PSD (ESD) dose dependence according to Malyshev:\n",
    "\n",
    "\n",
    "$$\\eta(D) = \\eta_0 \\cdot \\left(\\frac{D+D_1}{D_0+D_1} \\right)^{-a}$$\n",
    "\n",
    "Where parameters $D_0$ and $D_1$ are added to extend the applicability towards low doses in a way that the curve asymptotically approaches the constant initial ESD yield $eta_0$ as $D \\rarr 0$. $D_0$ represents the dose imparted at the lowest measurable data point and $D_1$ is used to position the end of the initial plateau. The exponent α determines the steepness, here referred to as the conditioning rate."
   ]
  },
  {
   "cell_type": "code",
   "execution_count": null,
   "metadata": {},
   "outputs": [],
   "source": []
  },
  {
   "cell_type": "code",
   "execution_count": null,
   "metadata": {},
   "outputs": [],
   "source": [
    "#Define function for ESD dose dependence\n",
    "def esd_fit(eta_0,D,D_0,D_1,a):\n",
    "    return eta_0*((D+D_1)/(D_0+D_1))^(-a)\n",
    "\n",
    "#Use curve_fit for dependent variable D\n",
    "D_0 = 0\n"
   ]
  },
  {
   "cell_type": "markdown",
   "metadata": {},
   "source": []
  },
  {
   "cell_type": "code",
   "execution_count": null,
   "metadata": {},
   "outputs": [],
   "source": []
  },
  {
   "cell_type": "markdown",
   "metadata": {},
   "source": [
    "## Plotting"
   ]
  }
 ],
 "metadata": {
  "kernelspec": {
   "display_name": "Python 3",
   "language": "python",
   "name": "python3"
  },
  "language_info": {
   "codemirror_mode": {
    "name": "ipython",
    "version": 3
   },
   "file_extension": ".py",
   "mimetype": "text/x-python",
   "name": "python",
   "nbconvert_exporter": "python",
   "pygments_lexer": "ipython3",
   "version": "3.9.5"
  },
  "orig_nbformat": 4
 },
 "nbformat": 4,
 "nbformat_minor": 2
}
