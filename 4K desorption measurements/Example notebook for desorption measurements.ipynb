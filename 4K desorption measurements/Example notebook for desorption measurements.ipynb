{
 "cells": [
  {
   "cell_type": "code",
   "execution_count": 27,
   "metadata": {},
   "outputs": [],
   "source": [
    "import pandas as pd\n",
    "import scipy.constants\n",
    "from scipy.optimize import curve_fit\n",
    "from scipy.integrate import quad\n",
    "from sklearn.metrics import r2_score\n",
    "import numpy as np\n",
    "import math\n",
    "import matplotlib.pyplot as plt\n",
    "import matplotlib.dates as md\n",
    "import matplotlib.transforms as transforms\n",
    "from matplotlib.ticker import LogFormatter\n",
    "import os\n",
    "%matplotlib qt\n",
    "# %matplotlib inline\n",
    "import datetime as dt\n",
    "pd.set_option('display.max_rows', 100) "
   ]
  },
  {
   "attachments": {},
   "cell_type": "markdown",
   "metadata": {},
   "source": [
    "## Reading in the data and preparing DataFrames"
   ]
  },
  {
   "attachments": {},
   "cell_type": "markdown",
   "metadata": {},
   "source": [
    "#### MID"
   ]
  },
  {
   "cell_type": "code",
   "execution_count": 28,
   "metadata": {},
   "outputs": [],
   "source": [
    "#read in the file and create dataframe\n",
    "#excplicitly state the part\n",
    "#path = r'C:\\Users\\einot\\OneDrive\\Documents\\CERN VScode\\CERN-Python\\4K desorption measurements\\Cu sample\\EGA fully in\\S1 no preinjection at cold temps'\n",
    "#mid = pd.read_csv(os.path.join(path, \"MID.tsv\"), sep=\"\\t\", skiprows=lambda x: x<=11, on_bad_lines=\"skip\")\n",
    "\n",
    "#List molecule masses used in MID scan\n",
    "\n",
    "#masslist = [2,4,12,15,16,18,28,32,40,44]\n",
    "\n",
    "#Define datetime format\n",
    "#MID_datetime = \"%Y/%m/%d %H:%M:%S.%f\"\n",
    "\n",
    "#Reformat time values\n",
    "def timeformat(df,format):\n",
    "    new_df = df.copy()\n",
    "    for idx, col in enumerate(df):\n",
    "        if idx % 2 == 0:  # Check if the column index is even (every other column)\n",
    "            pandas_timestamp = pd.to_datetime(df[col], format=format)\n",
    "            timestamp = pandas_timestamp.dt.strftime('%d-%m-%Y %H:%M:%S')\n",
    "            new_df[col] = timestamp  # Replace the time column in the new dataframe\n",
    "    return new_df\n",
    "\n",
    "#call the function with correct parameters to modify MID dataframe\n",
    "#mid = timeformat(mid,MID_datetime)"
   ]
  },
  {
   "attachments": {},
   "cell_type": "markdown",
   "metadata": {},
   "source": [
    "#### Vaclogger"
   ]
  },
  {
   "cell_type": "code",
   "execution_count": 29,
   "metadata": {},
   "outputs": [
    {
     "data": {
      "text/plain": [
       "' \\n#call the function with correct parameters to modify vaclogger dataframe\\nvaclog = elapsed_time(vaclog,\"Time\",vaclog_datetime) '"
      ]
     },
     "execution_count": 29,
     "metadata": {},
     "output_type": "execute_result"
    }
   ],
   "source": [
    "\"\"\" #Reading in the file\n",
    "vaclog = pd.read_csv(os.path.join(path, \"vaclog\"), sep=\"\\t\")\n",
    "\n",
    "#Define original datetime format\n",
    "vaclog_datetime = \"%d/%m/%Y %H:%M:%S\"\n",
    " \"\"\"\n",
    "#Adding an elapsed time column for temperature fits\n",
    "def elapsed_time(df,timecol,format):\n",
    "    new_df = df.copy()\n",
    "    pandas_timestamp = pd.to_datetime(df[timecol],format=format)\n",
    "    runtime = (pandas_timestamp-pandas_timestamp[0]).dt.total_seconds()\n",
    "    insert_idx = df.columns.get_loc(timecol) + 1  # Get the index to insert the new column\n",
    "    df.insert(insert_idx,\"Elapsed time\", runtime)\n",
    "    reformat = pandas_timestamp.dt.strftime('%d-%m-%Y %H:%M:%S') #New timestamp format for plotting\n",
    "    new_df[timecol] = reformat\n",
    "    return new_df\n",
    "\"\"\" \n",
    "#call the function with correct parameters to modify vaclogger dataframe\n",
    "vaclog = elapsed_time(vaclog,\"Time\",vaclog_datetime) \"\"\""
   ]
  },
  {
   "attachments": {},
   "cell_type": "markdown",
   "metadata": {},
   "source": [
    "#### HiVolta log"
   ]
  },
  {
   "cell_type": "code",
   "execution_count": 30,
   "metadata": {},
   "outputs": [
    {
     "data": {
      "text/plain": [
       "' #Reading in the file\\nhv = pd.read_csv(os.path.join(path,\"hv log\"), sep=\",\")\\n\\n#Define grid and emission current parameters in [A]\\nhv[\"hv_grid\"]=[abs(element) * 1e-6 for element in hv[\"IMon1\"]]\\nhv[\"I_em\"]=[abs(element) * 1e-6 for element in hv[\"IMon2\"]]\\n\\n#Define datetime format for Hv log\\nhv[\"datetime\"] = hv[\\'Date\\'] + \\' \\' + hv[\\'Time\\'] #combine date and time columns\\nhv_datetime = \"%d/%m/%Y %H:%M:%S.%f\"\\n\\n#Call the \\'elapsed time\\' function with hv parameters\\nhv = elapsed_time(hv,\"datetime\" ,hv_datetime)\\n\\nhv.head() '"
      ]
     },
     "execution_count": 30,
     "metadata": {},
     "output_type": "execute_result"
    }
   ],
   "source": [
    "\"\"\" #Reading in the file\n",
    "hv = pd.read_csv(os.path.join(path,\"hv log\"), sep=\",\")\n",
    "\n",
    "#Define grid and emission current parameters in [A]\n",
    "hv[\"hv_grid\"]=[abs(element) * 1e-6 for element in hv[\"IMon1\"]]\n",
    "hv[\"I_em\"]=[abs(element) * 1e-6 for element in hv[\"IMon2\"]]\n",
    "\n",
    "#Define datetime format for Hv log\n",
    "hv[\"datetime\"] = hv['Date'] + ' ' + hv['Time'] #combine date and time columns\n",
    "hv_datetime = \"%d/%m/%Y %H:%M:%S.%f\"\n",
    "\n",
    "#Call the 'elapsed time' function with hv parameters\n",
    "hv = elapsed_time(hv,\"datetime\" ,hv_datetime)\n",
    "\n",
    "hv.head() \"\"\""
   ]
  },
  {
   "attachments": {},
   "cell_type": "markdown",
   "metadata": {},
   "source": [
    "#### Function for reading in all data files for one measurement"
   ]
  },
  {
   "cell_type": "code",
   "execution_count": 31,
   "metadata": {},
   "outputs": [],
   "source": [
    "def process_data(root):\n",
    "    #Define datetime formats\n",
    "    MID_datetime = \"%Y/%m/%d %H:%M:%S.%f\"\n",
    "    vaclog_datetime = \"%d/%m/%Y %H:%M:%S\"\n",
    "    hv_datetime = \"%d/%m/%Y %H:%M:%S.%f\"\n",
    "    \n",
    "    #Create an empty dictionary to store processed dataframes\n",
    "    dataframes = {}\n",
    "\n",
    "    # Iterate over the subdirectories starting from the specified directory\n",
    "    for dirpath, dirs, files in os.walk(root):\n",
    "        for filename in files:\n",
    "            filepath = os.path.join(dirpath,filename)\n",
    "            #print(filepath)\n",
    "            # Create a variable name using the relative path\n",
    "            relative_path = os.path.relpath(root, dirpath)\n",
    "            #print(relative_path)\n",
    "            variable_name = os.path.join(relative_path, os.path.splitext(filename)[0])\n",
    "            #print(variable_name)\n",
    "            try:\n",
    "                #Read in the MID file\n",
    "                if filename == \"MID.tsv\":\n",
    "                    mid = pd.read_csv(filepath, sep=\"\\t\", skiprows=lambda x: x<=11, on_bad_lines=\"skip\")\n",
    "                    mid = timeformat(mid, MID_datetime)\n",
    "\n",
    "                    # Create a variable name using the base name of the MID filename\n",
    "                    variable_name = os.path.splitext(filename)[0]\n",
    "\n",
    "                    # Store the MID dataframe using the variable name\n",
    "                    dataframes[variable_name] = mid\n",
    "\n",
    "                #Read in the vaclog file\n",
    "                elif filename == \"vaclog\":\n",
    "                    vaclog = pd.read_csv(filepath, sep=\"\\t\")\n",
    "                    vaclog = elapsed_time(vaclog, \"Time\", vaclog_datetime)\n",
    "\n",
    "                    # Create a variable name using the base name of the MID filename\n",
    "                    variable_name = os.path.splitext(filename)[0]\n",
    "\n",
    "                    # Store the vaclog dataframe using the variable name\n",
    "                    dataframes[variable_name] = vaclog\n",
    "\n",
    "                #Read in the hivolta file\n",
    "                elif filename == \"hv log\":\n",
    "                    hv = pd.read_csv(filepath, sep=\",\")\n",
    "                    hv[\"hv_grid\"] = [abs(element) * 1e-6 for element in hv[\"IMon1\"]]\n",
    "                    hv[\"I_em\"] = [abs(element) * 1e-6 for element in hv[\"IMon2\"]]\n",
    "                    hv[\"datetime\"] = hv['Date'] + ' ' + hv['Time']\n",
    "                    hv = elapsed_time(hv, \"datetime\", hv_datetime)\n",
    "\n",
    "                    # Create a variable name using the base name of the MID filename\n",
    "                    variable_name = os.path.splitext(filename)[0]\n",
    "                    \n",
    "                    # Store the hv dataframe using the variable name\n",
    "                    dataframes[variable_name] = hv   \n",
    "            except Exception as e:\n",
    "                print(f\"Error processing file: {filepath}\\nError message: {str(e)}\")\n",
    "            \n",
    "            \n",
    "    return dataframes\n",
    "\n",
    "\n"
   ]
  },
  {
   "cell_type": "code",
   "execution_count": 32,
   "metadata": {},
   "outputs": [
    {
     "name": "stderr",
     "output_type": "stream",
     "text": [
      "c:\\Users\\etiirine\\Anaconda3\\lib\\site-packages\\pandas\\core\\indexes\\extension.py:101: FutureWarning: In a future version, the Index constructor will not infer numeric dtypes when passed object-dtype sequences (matching Series behavior)\n",
      "  return Index(result, name=self.name)\n",
      "c:\\Users\\etiirine\\Anaconda3\\lib\\site-packages\\pandas\\core\\indexes\\extension.py:101: FutureWarning: In a future version, the Index constructor will not infer numeric dtypes when passed object-dtype sequences (matching Series behavior)\n",
      "  return Index(result, name=self.name)\n",
      "c:\\Users\\etiirine\\Anaconda3\\lib\\site-packages\\pandas\\core\\indexes\\extension.py:101: FutureWarning: In a future version, the Index constructor will not infer numeric dtypes when passed object-dtype sequences (matching Series behavior)\n",
      "  return Index(result, name=self.name)\n",
      "c:\\Users\\etiirine\\Anaconda3\\lib\\site-packages\\pandas\\core\\indexes\\extension.py:101: FutureWarning: In a future version, the Index constructor will not infer numeric dtypes when passed object-dtype sequences (matching Series behavior)\n",
      "  return Index(result, name=self.name)\n"
     ]
    },
    {
     "name": "stdout",
     "output_type": "stream",
     "text": [
      "dict_items([('hv log',             Date          Time  VMon1   VMon2  VMon3  VMon4  VMon5  VMon6  \\\n",
      "0     12/12/2022  17:26:24.335   0.04    0.06   0.04   0.10    0.0    0.0   \n",
      "1     12/12/2022  17:26:25.524   0.04    0.06   0.04   0.10    0.0    0.0   \n",
      "2     12/12/2022  17:26:26.708   0.04    0.06   0.04   0.10    0.0    0.0   \n",
      "3     12/12/2022  17:26:27.894   0.04    0.06   0.04   0.10    0.0    0.0   \n",
      "4     12/12/2022  17:26:29.079   0.04    0.06   0.04   0.10    0.0    0.0   \n",
      "...          ...           ...    ...     ...    ...    ...    ...    ...   \n",
      "3577  12/12/2022  18:37:48.635   0.04  100.10   0.22   0.20    0.0    0.0   \n",
      "3578  12/12/2022  18:37:49.819   0.04  100.10   0.18   0.24    0.0    0.0   \n",
      "3579  12/12/2022  18:37:51.009   0.04  100.10   0.18   0.18    0.0    0.0   \n",
      "3580  12/12/2022  18:37:52.196   0.04  100.10   0.20   0.22    0.0    0.0   \n",
      "3581  12/12/2022  18:37:53.376   0.04  100.10   0.22   0.24    0.0    0.0   \n",
      "\n",
      "      VMon7  VMon8  ...   IMon4   IMon5   IMon6   IMon7   IMon8  Comment  \\\n",
      "0       0.0   0.02  ...  0.1024  0.0294 -0.0144 -0.0296 -0.0131      NaN   \n",
      "1       0.0   0.02  ...  0.1024  0.0294 -0.0144 -0.0296 -0.0131      NaN   \n",
      "2       0.0   0.02  ...  0.1024  0.0294 -0.0144 -0.0296 -0.0131      NaN   \n",
      "3       0.0   0.02  ...  0.1024  0.0294 -0.0144 -0.0296 -0.0131      NaN   \n",
      "4       0.0   0.02  ...  0.1024  0.0294 -0.0144 -0.0296 -0.0131      NaN   \n",
      "...     ...    ...  ...     ...     ...     ...     ...     ...      ...   \n",
      "3577    0.0   0.02  ...  0.0177  0.0390 -0.0138 -0.0288 -0.0128      NaN   \n",
      "3578    0.0   0.02  ... -0.0427  0.0274 -0.0138 -0.0288 -0.0130      NaN   \n",
      "3579    0.0   0.02  ...  0.0241 -0.0257 -0.0138 -0.0288 -0.0141      NaN   \n",
      "3580    0.0   0.02  ...  0.0167 -0.0006 -0.0138 -0.0288 -0.0141      NaN   \n",
      "3581    0.0   0.02  ... -0.0460  0.0078 -0.0138 -0.0288 -0.0141      NaN   \n",
      "\n",
      "      Unnamed: 19       hv_grid          I_em             datetime  \n",
      "0             NaN  4.520000e-08  7.110000e-08  12-12-2022 17:26:24  \n",
      "1             NaN  4.520000e-08  7.060000e-08  12-12-2022 17:26:25  \n",
      "2             NaN  4.520000e-08  7.060000e-08  12-12-2022 17:26:26  \n",
      "3             NaN  4.520000e-08  7.060000e-08  12-12-2022 17:26:27  \n",
      "4             NaN  4.520000e-08  7.050000e-08  12-12-2022 17:26:29  \n",
      "...           ...           ...           ...                  ...  \n",
      "3577          NaN  0.000000e+00  9.700000e-09  12-12-2022 18:37:48  \n",
      "3578          NaN  0.000000e+00  9.300000e-09  12-12-2022 18:37:49  \n",
      "3579          NaN  0.000000e+00  9.300000e-09  12-12-2022 18:37:51  \n",
      "3580          NaN  0.000000e+00  9.300000e-09  12-12-2022 18:37:52  \n",
      "3581          NaN  0.000000e+00  9.300000e-09  12-12-2022 18:37:53  \n",
      "\n",
      "[3582 rows x 23 columns]), ('MID',            mass 2.0_time  mass 2.0_value        mass 4.0_time  mass 4.0_value  \\\n",
      "0    12-01-2023 17:14:25    8.944000e-11  12-01-2023 17:14:25    2.461750e-11   \n",
      "1    12-01-2023 17:14:28    9.509990e-11  12-01-2023 17:14:28    3.352920e-11   \n",
      "2    12-01-2023 17:14:31    9.361100e-11  12-01-2023 17:14:34    2.580000e-14   \n",
      "3    12-01-2023 17:14:37    9.281010e-11  12-01-2023 17:14:40    9.940000e-14   \n",
      "4    12-01-2023 17:14:44    9.198780e-11  12-01-2023 17:14:47    9.850000e-14   \n",
      "..                   ...             ...                  ...             ...   \n",
      "472  12-01-2023 18:04:07    5.774840e-11  12-01-2023 18:04:07    7.664000e-13   \n",
      "473  12-01-2023 18:04:13    5.801880e-11  12-01-2023 18:04:13    7.606000e-13   \n",
      "474  12-01-2023 18:04:19    5.815160e-11  12-01-2023 18:04:20    7.773000e-13   \n",
      "475  12-01-2023 18:04:26    5.772000e-11  12-01-2023 18:04:26    7.746000e-13   \n",
      "476  12-01-2023 18:04:32    5.771570e-11  12-01-2023 18:04:32    7.544000e-13   \n",
      "\n",
      "           mass 5.5_time  mass 5.5_value       mass 12.0_time  \\\n",
      "0    12-01-2023 17:14:26    2.467120e-11  12-01-2023 17:14:26   \n",
      "1    12-01-2023 17:14:29    3.354530e-11  12-01-2023 17:14:29   \n",
      "2    12-01-2023 17:14:34    4.800000e-15  12-01-2023 17:14:35   \n",
      "3    12-01-2023 17:14:41    7.600000e-14  12-01-2023 17:14:41   \n",
      "4    12-01-2023 17:14:47    1.124000e-13  12-01-2023 17:14:47   \n",
      "..                   ...             ...                  ...   \n",
      "472  12-01-2023 18:04:07    2.350000e-14  12-01-2023 18:04:07   \n",
      "473  12-01-2023 18:04:13    4.130000e-14  12-01-2023 18:04:14   \n",
      "474  12-01-2023 18:04:20    4.130000e-14  12-01-2023 18:04:20   \n",
      "475  12-01-2023 18:04:26    3.290000e-14  12-01-2023 18:04:26   \n",
      "476  12-01-2023 18:04:32    3.750000e-14  12-01-2023 18:04:33   \n",
      "\n",
      "     mass 12.0_value       mass 15.0_time  mass 15.0_value  ...  \\\n",
      "0       2.488620e-11  12-01-2023 17:14:26     2.483250e-11  ...   \n",
      "1       3.350230e-11  12-01-2023 17:14:29     3.329270e-11  ...   \n",
      "2       2.494000e-13  12-01-2023 17:14:35     1.021000e-13  ...   \n",
      "3       2.917000e-13  12-01-2023 17:14:41     1.806000e-13  ...   \n",
      "4       3.042000e-13  12-01-2023 17:14:48     1.725000e-13  ...   \n",
      "..               ...                  ...              ...  ...   \n",
      "472     3.176000e-13  12-01-2023 18:04:08     1.873000e-13  ...   \n",
      "473     3.087000e-13  12-01-2023 18:04:14     1.828000e-13  ...   \n",
      "474     3.251000e-13  12-01-2023 18:04:20     1.855000e-13  ...   \n",
      "475     3.404000e-13  12-01-2023 18:04:27     1.715000e-13  ...   \n",
      "476     3.206000e-13  12-01-2023 18:04:33     1.906000e-13  ...   \n",
      "\n",
      "          mass 18.0_time  mass 18.0_value       mass 28.0_time  \\\n",
      "0    12-01-2023 17:14:27     2.590750e-11  12-01-2023 17:14:27   \n",
      "1    12-01-2023 17:14:30     3.471710e-11  12-01-2023 17:14:30   \n",
      "2    12-01-2023 17:14:35     1.224400e-12  12-01-2023 17:14:36   \n",
      "3    12-01-2023 17:14:42     1.284000e-12  12-01-2023 17:14:42   \n",
      "4    12-01-2023 17:14:48     1.293700e-12  12-01-2023 17:14:48   \n",
      "..                   ...              ...                  ...   \n",
      "472  12-01-2023 18:04:08     1.381600e-12  12-01-2023 18:04:08   \n",
      "473  12-01-2023 18:04:14     1.366800e-12  12-01-2023 18:04:15   \n",
      "474  12-01-2023 18:04:21     1.368600e-12  12-01-2023 18:04:21   \n",
      "475  12-01-2023 18:04:27     1.350700e-12  12-01-2023 18:04:27   \n",
      "476  12-01-2023 18:04:33     1.333500e-12  12-01-2023 18:04:34   \n",
      "\n",
      "     mass 28.0_value       mass 32.0_time  mass 32.0_value  \\\n",
      "0       2.682120e-11  12-01-2023 17:14:27     2.477870e-11   \n",
      "1       3.527610e-11  12-01-2023 17:14:30     3.329810e-11   \n",
      "2       1.907000e-12  12-01-2023 17:14:36     1.101000e-13   \n",
      "3       2.014100e-12  12-01-2023 17:14:42     1.894000e-13   \n",
      "4       1.997900e-12  12-01-2023 17:14:49     2.121000e-13   \n",
      "..               ...                  ...              ...   \n",
      "472     1.750400e-12  12-01-2023 18:04:09     1.648000e-13   \n",
      "473     1.780400e-12  12-01-2023 18:04:15     1.933000e-13   \n",
      "474     1.822100e-12  12-01-2023 18:04:21     1.914000e-13   \n",
      "475     1.793100e-12  12-01-2023 18:04:28     1.890000e-13   \n",
      "476     1.827300e-12  12-01-2023 18:04:34     1.995000e-13   \n",
      "\n",
      "          mass 40.0_time  mass 40.0_value       mass 44.0_time  \\\n",
      "0    12-01-2023 17:14:27     2.456370e-11  12-01-2023 17:14:28   \n",
      "1    12-01-2023 17:14:30     3.342710e-11  12-01-2023 17:14:31   \n",
      "2    12-01-2023 17:14:37     2.504750e-11                  NaN   \n",
      "3    12-01-2023 17:14:42     1.029000e-13  12-01-2023 17:14:43   \n",
      "4    12-01-2023 17:14:49     9.210000e-14  12-01-2023 17:14:50   \n",
      "..                   ...              ...                  ...   \n",
      "472  12-01-2023 18:04:09     3.140000e-14  12-01-2023 18:04:10   \n",
      "473  12-01-2023 18:04:15     2.890000e-14  12-01-2023 18:04:16   \n",
      "474  12-01-2023 18:04:22     2.360000e-14  12-01-2023 18:04:22   \n",
      "475  12-01-2023 18:04:28     2.760000e-14  12-01-2023 18:04:29   \n",
      "476  12-01-2023 18:04:34     2.510000e-14  12-01-2023 18:04:35   \n",
      "\n",
      "     mass 44.0_value  \n",
      "0       2.499370e-11  \n",
      "1       2.515500e-11  \n",
      "2                NaN  \n",
      "3       2.499370e-11  \n",
      "4       2.434870e-11  \n",
      "..               ...  \n",
      "472     2.365000e-11  \n",
      "473     2.375750e-11  \n",
      "474     2.370370e-11  \n",
      "475     2.413370e-11  \n",
      "476     2.375750e-11  \n",
      "\n",
      "[477 rows x 22 columns]), ('vaclog',      Live comments                 Time  injection 100mbar      Barion_2  \\\n",
      "0              NaN  12-12-2022 15:34:08          87.013000  1.740000e-09   \n",
      "1              NaN  12-12-2022 15:34:15          87.013000  1.740000e-09   \n",
      "2              NaN  12-12-2022 15:34:23          87.012000  1.740000e-09   \n",
      "3              NaN  12-12-2022 15:34:30          87.013000  1.740000e-09   \n",
      "4              NaN  12-12-2022 15:34:37          87.013000  3.580000e-08   \n",
      "...            ...                  ...                ...           ...   \n",
      "1544           NaN  12-12-2022 18:38:53          -0.049868  4.720000e-09   \n",
      "1545           NaN  12-12-2022 18:39:01          -0.050560  4.720000e-09   \n",
      "1546           NaN  12-12-2022 18:39:08          -0.050312  4.720000e-09   \n",
      "1547           NaN  12-12-2022 18:39:15          -0.046071  4.720000e-09   \n",
      "1548           NaN  12-12-2022 18:39:22          -0.046664  4.710000e-09   \n",
      "\n",
      "          Barion_1  DUAL experiment  DUAL insulation  injection 1mbar  helium  \\\n",
      "0     6.960000e-10     4.996000e-09     7.205000e-07          1.10000     0.0   \n",
      "1     6.960000e-10     4.996000e-09     7.205000e-07          1.10000     0.0   \n",
      "2     7.020000e-10     4.996000e-09     7.205000e-07          1.10000     0.0   \n",
      "3     3.350000e-08     8.183000e-08     7.196000e-07          1.10000     0.0   \n",
      "4     8.330000e-09     2.003000e-08     7.205000e-07          1.10000     0.0   \n",
      "...            ...              ...              ...              ...     ...   \n",
      "1544  4.920000e-09     4.996000e-09     4.500000e-07          0.44920   137.0   \n",
      "1545  4.920000e-09     4.996000e-09     4.500000e-07          0.44920   137.0   \n",
      "1546  4.910000e-09     4.996000e-09     4.500000e-07          0.44921   137.0   \n",
      "1547  4.910000e-09     4.996000e-09     4.500000e-07          0.44921   137.0   \n",
      "1548  4.900000e-09     4.996000e-09     4.500000e-07          0.44921   137.0   \n",
      "\n",
      "      T-platinum  T-CERNOX  I_emission  I_grid  \n",
      "0        -78.226    77.665         NaN     NaN  \n",
      "1        -78.563    77.553         NaN     NaN  \n",
      "2        -78.451    77.553         NaN     NaN  \n",
      "3        -78.339    77.665         NaN     NaN  \n",
      "4        -78.339    77.553         NaN     NaN  \n",
      "...          ...       ...         ...     ...  \n",
      "1544      -5.050  4304.472         NaN     NaN  \n",
      "1545      -5.387  4304.584         NaN     NaN  \n",
      "1546      -5.163  4304.472         NaN     NaN  \n",
      "1547      -5.163  4304.584         NaN     NaN  \n",
      "1548      -5.050  4304.584         NaN     NaN  \n",
      "\n",
      "[1549 rows x 13 columns])])\n"
     ]
    }
   ],
   "source": [
    "#Accessing the files\n",
    "root = r'G:\\Departments\\TE\\Groups\\VSC\\VSM\\etiirinen\\Python\\4K desorption measurements\\HiLumi sample\\4K desorption yield with preinjection\\dynamic vacuum'\n",
    "processed_data = process_data(root)\n",
    "# Access the processed dataframes using the variable names\n",
    "#mid_df, vaclog_df, hv_df = processed_data['MID', 'vaclog', 'hv log']\n",
    "#mid = processed_data['MID']\n",
    "#vaclog = processed_data['vaclog']\n",
    "#hv = processed_data['hv log']\n",
    "#print(mid, vaclog, hv)\n",
    "#for variable_name, dataframe in processed_data.items():\n",
    "  #  print(\"series1 no desorption/vaclog\")\n",
    "  #  print(\"mid\")\n",
    "  #  print(\"-----------------\")\n",
    "print(process_data(root).items())\n",
    "# Access the processed dataframes using the variable names\n",
    "#folder_name = \"series1 no desorption\"\n",
    "#relative_path = os.path.relpath(root, folder_name)\n",
    "#variable_name = os.path.join(relative_path, \"MID\")\n",
    "\n",
    "#mid_data = processed_data[variable_name]"
   ]
  },
  {
   "attachments": {},
   "cell_type": "markdown",
   "metadata": {},
   "source": [
    "## Data processing"
   ]
  },
  {
   "attachments": {},
   "cell_type": "markdown",
   "metadata": {},
   "source": [
    "#### CernOx R-T conversion"
   ]
  },
  {
   "cell_type": "code",
   "execution_count": 33,
   "metadata": {},
   "outputs": [],
   "source": [
    "#Temperature curve for CERNOX - for temp stability\n",
    "A=[230.317302,-6170.1513,71837.9529,-477946.76,2.003668910085786e+6,-5.488690193047771e+6,9.830475663897528e+6,-1.111226817786569e+7,7.202477878914065e+6,-2.04194551328507e+6]\n",
    "\n",
    "#specify fit parameters A, data (Resistance values)\n",
    "def polyfit(params,data):\n",
    "    total=[]\n",
    "    for j in data: \n",
    "        exp=0\n",
    "        for i in range(len(params)):\n",
    "            exp += (params[i]/(math.log10(j))**i)\n",
    "        total.append(10**exp)\n",
    "    return(total)    \n"
   ]
  },
  {
   "attachments": {},
   "cell_type": "markdown",
   "metadata": {},
   "source": [
    "#### Comments for annotations"
   ]
  },
  {
   "cell_type": "code",
   "execution_count": 34,
   "metadata": {},
   "outputs": [
    {
     "ename": "NameError",
     "evalue": "name 'vaclog' is not defined",
     "output_type": "error",
     "traceback": [
      "\u001b[1;31m---------------------------------------------------------------------------\u001b[0m",
      "\u001b[1;31mNameError\u001b[0m                                 Traceback (most recent call last)",
      "\u001b[1;32mc:\\Users\\etiirine\\cernbox\\Documents\\etiirinen\\Python\\4K desorption measurements\\Example notebook for desorption measurements.ipynb Cell 16\u001b[0m in \u001b[0;36m<cell line: 2>\u001b[1;34m()\u001b[0m\n\u001b[0;32m      <a href='vscode-notebook-cell:/c%3A/Users/etiirine/cernbox/Documents/etiirinen/Python/4K%20desorption%20measurements/Example%20notebook%20for%20desorption%20measurements.ipynb#X21sZmlsZQ%3D%3D?line=0'>1</a>\u001b[0m \u001b[39m#print vaclog comments\u001b[39;00m\n\u001b[1;32m----> <a href='vscode-notebook-cell:/c%3A/Users/etiirine/cernbox/Documents/etiirinen/Python/4K%20desorption%20measurements/Example%20notebook%20for%20desorption%20measurements.ipynb#X21sZmlsZQ%3D%3D?line=1'>2</a>\u001b[0m \u001b[39mprint\u001b[39m(pd\u001b[39m.\u001b[39munique(vaclog[\u001b[39m\"\u001b[39m\u001b[39mLive comments\u001b[39m\u001b[39m\"\u001b[39m]))\n",
      "\u001b[1;31mNameError\u001b[0m: name 'vaclog' is not defined"
     ]
    }
   ],
   "source": [
    "#print vaclog comments\n",
    "print(pd.unique(vaclog[\"Live comments\"]))"
   ]
  },
  {
   "cell_type": "code",
   "execution_count": null,
   "metadata": {},
   "outputs": [
    {
     "name": "stdout",
     "output_type": "stream",
     "text": [
      "[nan 'no emission' 'emission on' 'minimal emission current'\n",
      " 'grid repelling' 'grid transparent' 'ega turned' 'grid repelling again'\n",
      " 'no electron activity']\n",
      "Int64Index([0, 17, 339, 652, 660, 776, 834, 1359, 1857], dtype='int64')\n"
     ]
    }
   ],
   "source": [
    "#print hv comments\n",
    "print(pd.unique(hv[\"Comment\"]))\n",
    "\n",
    "#delete excess comments (hv log program writes each comment 4x)\n",
    "\n",
    "# Find the indices of the first occurrence of each unique event\n",
    "first_unique_indices = hv.drop_duplicates(subset=\"Comment\", keep=\"first\").index\n",
    "print(first_unique_indices)\n",
    "\n",
    "#replace the comments in rows that are not the first occurrence of each unique event with NaN values\n",
    "hv.loc[~hv.index.isin(first_unique_indices), \"Comment\"] = np.nan\n"
   ]
  },
  {
   "attachments": {},
   "cell_type": "markdown",
   "metadata": {},
   "source": [
    "#### Electron dose calculations"
   ]
  },
  {
   "attachments": {},
   "cell_type": "markdown",
   "metadata": {},
   "source": [
    "Find:\n",
    "\n",
    "$$\n",
    "Q = \\int_{t_1}^{t_2} I \\,dt\n",
    "$$\n",
    "\n",
    "Where $t_2$ and $t_1$ are the timestamps at which an emission current reading was taken\n"
   ]
  },
  {
   "cell_type": "code",
   "execution_count": null,
   "metadata": {},
   "outputs": [],
   "source": []
  },
  {
   "cell_type": "code",
   "execution_count": null,
   "metadata": {},
   "outputs": [],
   "source": []
  },
  {
   "attachments": {},
   "cell_type": "markdown",
   "metadata": {},
   "source": [
    "#### Fitting"
   ]
  },
  {
   "attachments": {},
   "cell_type": "markdown",
   "metadata": {},
   "source": [
    "Fitting the mathematical model PSD (ESD) dose dependence according to Malyshev:\n",
    "\n",
    "\n",
    "$$\\eta(D) = \\eta_0 \\cdot \\left(\\frac{D+D_1}{D_0+D_1} \\right)^{-a}$$\n",
    "\n",
    "Where parameters $D_0$ and $D_1$ are added to extend the applicability towards low doses in a way that the curve asymptotically approaches the constant initial ESD yield $eta_0$ as $D \\rarr 0$. $D_0$ represents the dose imparted at the lowest measurable data point and $D_1$ is used to position the end of the initial plateau. The exponent α determines the steepness, here referred to as the conditioning rate."
   ]
  },
  {
   "cell_type": "code",
   "execution_count": null,
   "metadata": {},
   "outputs": [],
   "source": []
  },
  {
   "cell_type": "code",
   "execution_count": null,
   "metadata": {},
   "outputs": [],
   "source": [
    "#Define function for ESD dose dependence\n",
    "def esd_fit(eta_0,D,D_0,D_1,a):\n",
    "    return eta_0*((D+D_1)/(D_0+D_1))^(-a)\n",
    "\n",
    "#Use curve_fit for dependent variable D\n",
    "D_0 = 0\n"
   ]
  },
  {
   "attachments": {},
   "cell_type": "markdown",
   "metadata": {},
   "source": []
  },
  {
   "cell_type": "code",
   "execution_count": null,
   "metadata": {},
   "outputs": [],
   "source": []
  },
  {
   "attachments": {},
   "cell_type": "markdown",
   "metadata": {},
   "source": [
    "## Plotting"
   ]
  }
 ],
 "metadata": {
  "kernelspec": {
   "display_name": "Python 3",
   "language": "python",
   "name": "python3"
  },
  "language_info": {
   "codemirror_mode": {
    "name": "ipython",
    "version": 3
   },
   "file_extension": ".py",
   "mimetype": "text/x-python",
   "name": "python",
   "nbconvert_exporter": "python",
   "pygments_lexer": "ipython3",
   "version": "3.9.12"
  },
  "orig_nbformat": 4
 },
 "nbformat": 4,
 "nbformat_minor": 2
}
