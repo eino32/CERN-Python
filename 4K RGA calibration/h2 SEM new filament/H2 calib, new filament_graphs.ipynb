{
 "cells": [
  {
   "cell_type": "code",
   "execution_count": 59,
   "metadata": {},
   "outputs": [],
   "source": [
    "import pandas as pd\n",
    "import scipy.constants\n",
    "from scipy.optimize import curve_fit\n",
    "from scipy.integrate import quad\n",
    "from sklearn.metrics import r2_score\n",
    "import seaborn\n",
    "seaborn.set(style='whitegrid')\n",
    "import numpy as np\n",
    "import math\n",
    "import matplotlib.pyplot as plt\n",
    "import matplotlib.dates as md\n",
    "import matplotlib.transforms as transforms\n",
    "from matplotlib.ticker import LogFormatter\n",
    "%matplotlib qt\n",
    "# %matplotlib inline\n",
    "import datetime as dt\n",
    "pd.set_option('display.max_rows', 100) "
   ]
  },
  {
   "cell_type": "code",
   "execution_count": 60,
   "metadata": {},
   "outputs": [
    {
     "data": {
      "text/html": [
       "<div>\n",
       "<style scoped>\n",
       "    .dataframe tbody tr th:only-of-type {\n",
       "        vertical-align: middle;\n",
       "    }\n",
       "\n",
       "    .dataframe tbody tr th {\n",
       "        vertical-align: top;\n",
       "    }\n",
       "\n",
       "    .dataframe thead th {\n",
       "        text-align: right;\n",
       "    }\n",
       "</style>\n",
       "<table border=\"1\" class=\"dataframe\">\n",
       "  <thead>\n",
       "    <tr style=\"text-align: right;\">\n",
       "      <th></th>\n",
       "      <th>Live comments</th>\n",
       "      <th>Time</th>\n",
       "      <th>Elapsed time</th>\n",
       "      <th>100mbar inj</th>\n",
       "      <th>Barion_2</th>\n",
       "      <th>Barion_1</th>\n",
       "      <th>DUAL experiment</th>\n",
       "      <th>DUAL insulation</th>\n",
       "      <th>1mbar inj</th>\n",
       "      <th>helium</th>\n",
       "      <th>T-platinum</th>\n",
       "      <th>T-CERNOX</th>\n",
       "      <th>V_heater</th>\n",
       "      <th>DUAL inj line</th>\n",
       "      <th>I_emission</th>\n",
       "      <th>I_grid</th>\n",
       "    </tr>\n",
       "  </thead>\n",
       "  <tbody>\n",
       "    <tr>\n",
       "      <th>0</th>\n",
       "      <td>NaN</td>\n",
       "      <td>2023-04-28 09:07:31</td>\n",
       "      <td>0.0</td>\n",
       "      <td>-0.058448</td>\n",
       "      <td>2.370000e-09</td>\n",
       "      <td>1.050000e-09</td>\n",
       "      <td>4.996000e-09</td>\n",
       "      <td>6.208000e-07</td>\n",
       "      <td>1.0754</td>\n",
       "      <td>2.0</td>\n",
       "      <td>11.111</td>\n",
       "      <td>252.524</td>\n",
       "      <td>0.000025</td>\n",
       "      <td>0.000002</td>\n",
       "      <td>NaN</td>\n",
       "      <td>NaN</td>\n",
       "    </tr>\n",
       "    <tr>\n",
       "      <th>1</th>\n",
       "      <td>NaN</td>\n",
       "      <td>2023-04-28 09:07:39</td>\n",
       "      <td>8.0</td>\n",
       "      <td>-0.058523</td>\n",
       "      <td>2.350000e-09</td>\n",
       "      <td>1.050000e-09</td>\n",
       "      <td>4.996000e-09</td>\n",
       "      <td>6.216000e-07</td>\n",
       "      <td>1.0754</td>\n",
       "      <td>2.0</td>\n",
       "      <td>10.999</td>\n",
       "      <td>252.412</td>\n",
       "      <td>0.000036</td>\n",
       "      <td>0.000002</td>\n",
       "      <td>NaN</td>\n",
       "      <td>NaN</td>\n",
       "    </tr>\n",
       "    <tr>\n",
       "      <th>2</th>\n",
       "      <td>NaN</td>\n",
       "      <td>2023-04-28 09:07:48</td>\n",
       "      <td>17.0</td>\n",
       "      <td>-0.058374</td>\n",
       "      <td>2.380000e-09</td>\n",
       "      <td>1.050000e-09</td>\n",
       "      <td>4.996000e-09</td>\n",
       "      <td>6.224000e-07</td>\n",
       "      <td>1.0754</td>\n",
       "      <td>2.0</td>\n",
       "      <td>11.111</td>\n",
       "      <td>252.300</td>\n",
       "      <td>0.000037</td>\n",
       "      <td>0.000002</td>\n",
       "      <td>NaN</td>\n",
       "      <td>NaN</td>\n",
       "    </tr>\n",
       "    <tr>\n",
       "      <th>3</th>\n",
       "      <td>NaN</td>\n",
       "      <td>2023-04-28 09:07:56</td>\n",
       "      <td>25.0</td>\n",
       "      <td>-0.058055</td>\n",
       "      <td>2.380000e-09</td>\n",
       "      <td>1.040000e-09</td>\n",
       "      <td>4.996000e-09</td>\n",
       "      <td>6.231000e-07</td>\n",
       "      <td>1.0754</td>\n",
       "      <td>2.0</td>\n",
       "      <td>10.999</td>\n",
       "      <td>252.412</td>\n",
       "      <td>0.000035</td>\n",
       "      <td>0.000002</td>\n",
       "      <td>NaN</td>\n",
       "      <td>NaN</td>\n",
       "    </tr>\n",
       "    <tr>\n",
       "      <th>4</th>\n",
       "      <td>NaN</td>\n",
       "      <td>2023-04-28 09:08:05</td>\n",
       "      <td>34.0</td>\n",
       "      <td>-0.058201</td>\n",
       "      <td>2.360000e-09</td>\n",
       "      <td>1.050000e-09</td>\n",
       "      <td>4.996000e-09</td>\n",
       "      <td>6.238000e-07</td>\n",
       "      <td>1.0754</td>\n",
       "      <td>2.0</td>\n",
       "      <td>10.887</td>\n",
       "      <td>252.412</td>\n",
       "      <td>0.000023</td>\n",
       "      <td>0.000002</td>\n",
       "      <td>NaN</td>\n",
       "      <td>NaN</td>\n",
       "    </tr>\n",
       "  </tbody>\n",
       "</table>\n",
       "</div>"
      ],
      "text/plain": [
       "  Live comments                Time  Elapsed time  100mbar inj      Barion_2  \\\n",
       "0           NaN 2023-04-28 09:07:31           0.0    -0.058448  2.370000e-09   \n",
       "1           NaN 2023-04-28 09:07:39           8.0    -0.058523  2.350000e-09   \n",
       "2           NaN 2023-04-28 09:07:48          17.0    -0.058374  2.380000e-09   \n",
       "3           NaN 2023-04-28 09:07:56          25.0    -0.058055  2.380000e-09   \n",
       "4           NaN 2023-04-28 09:08:05          34.0    -0.058201  2.360000e-09   \n",
       "\n",
       "       Barion_1  DUAL experiment  DUAL insulation  1mbar inj  helium  \\\n",
       "0  1.050000e-09     4.996000e-09     6.208000e-07     1.0754     2.0   \n",
       "1  1.050000e-09     4.996000e-09     6.216000e-07     1.0754     2.0   \n",
       "2  1.050000e-09     4.996000e-09     6.224000e-07     1.0754     2.0   \n",
       "3  1.040000e-09     4.996000e-09     6.231000e-07     1.0754     2.0   \n",
       "4  1.050000e-09     4.996000e-09     6.238000e-07     1.0754     2.0   \n",
       "\n",
       "   T-platinum  T-CERNOX  V_heater  DUAL inj line  I_emission  I_grid  \n",
       "0      11.111   252.524  0.000025       0.000002         NaN     NaN  \n",
       "1      10.999   252.412  0.000036       0.000002         NaN     NaN  \n",
       "2      11.111   252.300  0.000037       0.000002         NaN     NaN  \n",
       "3      10.999   252.412  0.000035       0.000002         NaN     NaN  \n",
       "4      10.887   252.412  0.000023       0.000002         NaN     NaN  "
      ]
     },
     "execution_count": 60,
     "metadata": {},
     "output_type": "execute_result"
    }
   ],
   "source": [
    "#reading vaclogger measurement file\n",
    "vaclog=pd.read_csv(\"vaclog\", sep=\"\\t\")\n",
    "vaclog.head()\n",
    "\n",
    "#adding an elapsed time column\n",
    "vac_timestamps=pd.to_datetime(vaclog[\"Time\"],format=\"%d/%m/%Y %H:%M:%S\")\n",
    "runtime=(vac_timestamps-vac_timestamps[0]).dt.total_seconds()    \n",
    "vaclog.insert(2,\"Elapsed time\",runtime)\n",
    "# vaclog.drop(index=vaclog.index[0], \n",
    "#         axis=0, \n",
    "#         inplace=True)\n",
    "vaclog[\"Time\"] = vac_timestamps.dt.strftime('%d-%m-%Y %H:%M:%S')\n",
    "vaclog[\"Time\"] = pd.to_datetime(vaclog[\"Time\"],format='%d-%m-%Y %H:%M:%S')\n",
    "\n",
    "vaclog.head()"
   ]
  },
  {
   "cell_type": "code",
   "execution_count": 61,
   "metadata": {},
   "outputs": [
    {
     "name": "stdout",
     "output_type": "stream",
     "text": [
      "Fitted line: y = -0.10*x+0.39\n"
     ]
    }
   ],
   "source": [
    "#defining a function for the straight line\n",
    "def func(x,a,b):\n",
    "    return a*x + b\n",
    "#curve fit for the data\n",
    "y = vaclog[\"1mbar inj\"].values\n",
    "x = (vaclog[\"Elapsed time\"]/3600).values\n",
    "params, cov = curve_fit(func,x,y)\n",
    "#straight line parameters\n",
    "a, b = params\n",
    "print(f\"Fitted line: y = {a:.2f}*x+{b:.2f}\")"
   ]
  },
  {
   "cell_type": "code",
   "execution_count": 62,
   "metadata": {},
   "outputs": [
    {
     "data": {
      "text/plain": [
       "Text(0.5, 1.0, 'Injection pressure evolution 100mbar conductance gauge')"
      ]
     },
     "execution_count": 62,
     "metadata": {},
     "output_type": "execute_result"
    }
   ],
   "source": [
    "#checking inj pressure linearity, graph\n",
    "fig, ax = plt.subplots()\n",
    "y_fit = func(x,a,b)\n",
    "ax.plot((vaclog[\"Elapsed time\"]/3600),vaclog[\"1mbar inj\"],marker=\".\", markersize=5,label='inj volume pressure')\n",
    "ax.plot((vaclog[\"Elapsed time\"]/3600),y_fit, \"--\",color=\"red\", label=\"Y= -ax + b fit\") \n",
    "ax.legend(loc=\"upper right\")\n",
    "\n",
    "ax.set_xlabel('Elapsed time (h)')\n",
    "ax.set_ylabel('Pressure (mbar)')\n",
    "ax.set_yscale('linear')\n",
    "plt.title(\"Injection pressure evolution 100mbar conductance gauge\")"
   ]
  },
  {
   "cell_type": "code",
   "execution_count": 63,
   "metadata": {},
   "outputs": [],
   "source": [
    "#Temperature curve for CERNOX - for temp stability\n",
    "A=[230.317302,-6170.1513,71837.9529,-477946.76,2.003668910085786e+6,-5.488690193047771e+6,9.830475663897528e+6,-1.111226817786569e+7,7.202477878914065e+6,-2.04194551328507e+6]\n",
    "#specify fit parameters A, data (Resistance values)\n",
    "def polyfit(params,data):\n",
    "    total=[]\n",
    "    for j in data: \n",
    "        exp=0\n",
    "        for i in range(len(params)):\n",
    "            exp += (params[i]/(math.log10(j))**i)\n",
    "        total.append(10**exp)\n",
    "    return(total)    \n"
   ]
  },
  {
   "cell_type": "code",
   "execution_count": 64,
   "metadata": {},
   "outputs": [
    {
     "name": "stdout",
     "output_type": "stream",
     "text": [
      "[nan 'closed turbo valve' 'turbo valve open, pressure rise too quick'\n",
      " 'starting lhe transfer' 'closed turbo' 'injection complete'\n",
      " 'turbo valve opened']\n",
      "                   Time                              Live comments\n",
      "68  2023-04-28 09:17:15                         closed turbo valve\n",
      "77  2023-04-28 09:18:33  turbo valve open, pressure rise too quick\n",
      "79  2023-04-28 09:18:50                      starting lhe transfer\n",
      "218 2023-04-28 09:38:45                               closed turbo\n",
      "236 2023-04-28 09:41:24                         injection complete\n",
      "850 2023-04-28 11:10:06                         turbo valve opened\n"
     ]
    },
    {
     "data": {
      "text/plain": [
       "Int64Index([68, 77, 79, 218, 236, 850], dtype='int64')"
      ]
     },
     "execution_count": 64,
     "metadata": {},
     "output_type": "execute_result"
    }
   ],
   "source": [
    "\n",
    "#print hv comments\n",
    "print(pd.unique(vaclog[\"Live comments\"]))\n",
    "vaclog_comm = vaclog.loc[:,[\"Time\",\"Live comments\"]]\n",
    "vaclog_comm.dropna(inplace=True)\n",
    "print(vaclog_comm)\n",
    "vaclog_comm.index"
   ]
  },
  {
   "attachments": {},
   "cell_type": "markdown",
   "metadata": {},
   "source": [
    "### Plotting"
   ]
  },
  {
   "cell_type": "code",
   "execution_count": 65,
   "metadata": {},
   "outputs": [],
   "source": [
    "#define parameters for plotting\n",
    "#annotation params\n",
    "font = dict(size = \"x-small\", color =\"green\", style =\"italic\",rotation=\"vertical\")\n"
   ]
  },
  {
   "cell_type": "code",
   "execution_count": 66,
   "metadata": {},
   "outputs": [],
   "source": [
    "#Plotting BA2, BA1 pressure\n",
    "plt.figure(figsize=(12,6))\n",
    "plt.plot(vaclog[\"Time\"],vaclog[\"Barion_2\"],marker=\".\", markersize=4,label='Barion 2')\n",
    "plt.plot(vaclog[\"Time\"],vaclog[\"Barion_1\"],marker=\".\", markersize=4,label='Barion 1')\n",
    "plt.xlabel('Timestamp')\n",
    "plt.ylabel('Pressure (mbar)')\n",
    "plt.legend()\n",
    "plt.title(\"Total pressure evolution during RGA calibration\")\n",
    "plt.tick_params(axis=\"y\", which='minor')\n",
    "plt.grid(which='minor', axis='y')\n",
    "plt.yscale('log')\n",
    "\n",
    "ax = plt.gca()\n",
    "ax.xaxis.set_major_formatter(md.DateFormatter('%H:%M'))\n",
    "ax.xaxis.set_major_locator(plt.MaxNLocator(10))\n",
    "for label in ax.get_xticklabels(which='major'):\n",
    "    label.set(rotation=30, horizontalalignment='right')  \n",
    "\n",
    "#comments\n",
    "trans  = transforms.blended_transform_factory(\n",
    "    ax.transData, ax.transAxes)\n",
    "for i in vaclog_comm.index:\n",
    "    plt.text(vaclog_comm[\"Time\"][i],0.8,str(vaclog_comm[\"Live comments\"][i]),fontdict=font, transform=trans)\n",
    "    \n",
    "plt.savefig(r'./graphs/Baryons.png')\n",
    "plt.show()"
   ]
  },
  {
   "cell_type": "code",
   "execution_count": 67,
   "metadata": {},
   "outputs": [],
   "source": [
    "## Plotting the temp evolution\n",
    "plt.figure(figsize=(10,6))\n",
    "plt.plot((vaclog[\"Time\"]),polyfit(A,vaclog[\"T-CERNOX\"]),marker=\".\", markersize=5,label='T-CERNOX')          \n",
    "plt.xlabel('Timestamp')\n",
    "plt.ylabel('Temperature (K)')\n",
    "plt.legend()\n",
    "plt.title(\"Temperature evolution during RGA calibration\")\n",
    "plt.yscale('linear')\n",
    "plt.tick_params(axis=\"y\", which='minor')\n",
    "plt.grid(which='minor', axis='y')\n",
    "\n",
    "ax = plt.gca()\n",
    "ax.xaxis.set_major_formatter(md.DateFormatter('%H:%M'))\n",
    "ax.xaxis.set_major_locator(plt.MaxNLocator(10))\n",
    "for label in ax.get_xticklabels(which='major'):\n",
    "    label.set(rotation=30, horizontalalignment='right')\n",
    "    \n",
    "plt.savefig(r'./graphs/Temp.png')\n",
    "plt.show()"
   ]
  },
  {
   "cell_type": "code",
   "execution_count": null,
   "metadata": {},
   "outputs": [],
   "source": []
  }
 ],
 "metadata": {
  "kernelspec": {
   "display_name": "base",
   "language": "python",
   "name": "python3"
  },
  "language_info": {
   "codemirror_mode": {
    "name": "ipython",
    "version": 3
   },
   "file_extension": ".py",
   "mimetype": "text/x-python",
   "name": "python",
   "nbconvert_exporter": "python",
   "pygments_lexer": "ipython3",
   "version": "3.9.12"
  },
  "orig_nbformat": 4,
  "vscode": {
   "interpreter": {
    "hash": "c39450d2642aa9c12baeda48953fee199be1189547f55759d05d9104650fddce"
   }
  }
 },
 "nbformat": 4,
 "nbformat_minor": 2
}
