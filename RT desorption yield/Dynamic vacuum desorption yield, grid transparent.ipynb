{
 "cells": [
  {
   "cell_type": "code",
   "execution_count": 8,
   "id": "e16e2e4b",
   "metadata": {
    "scrolled": true
   },
   "outputs": [],
   "source": [
    "import pandas as pd\n",
    "from scipy.optimize import curve_fit\n",
    "import seaborn\n",
    "seaborn.set(style='whitegrid')\n",
    "import numpy as np\n",
    "import matplotlib.pyplot as plt\n",
    "%matplotlib qt\n",
    "# %matplotlib inline\n",
    "from datetime import datetime, date\n"
   ]
  },
  {
   "cell_type": "code",
   "execution_count": 9,
   "id": "dea72e37",
   "metadata": {
    "scrolled": true
   },
   "outputs": [
    {
     "data": {
      "text/html": [
       "<div>\n",
       "<style scoped>\n",
       "    .dataframe tbody tr th:only-of-type {\n",
       "        vertical-align: middle;\n",
       "    }\n",
       "\n",
       "    .dataframe tbody tr th {\n",
       "        vertical-align: top;\n",
       "    }\n",
       "\n",
       "    .dataframe thead th {\n",
       "        text-align: right;\n",
       "    }\n",
       "</style>\n",
       "<table border=\"1\" class=\"dataframe\">\n",
       "  <thead>\n",
       "    <tr style=\"text-align: right;\">\n",
       "      <th></th>\n",
       "      <th>Time</th>\n",
       "      <th>Penning_1</th>\n",
       "      <th>Penning_2</th>\n",
       "      <th>I_Em</th>\n",
       "      <th>Live comments</th>\n",
       "    </tr>\n",
       "  </thead>\n",
       "  <tbody>\n",
       "    <tr>\n",
       "      <th>2</th>\n",
       "      <td>10/10/2022 11:08:04</td>\n",
       "      <td>2.900000e-10</td>\n",
       "      <td>4.100000e-10</td>\n",
       "      <td>2.449200e-12</td>\n",
       "      <td>NaN</td>\n",
       "    </tr>\n",
       "    <tr>\n",
       "      <th>3</th>\n",
       "      <td>10/10/2022 11:08:05</td>\n",
       "      <td>2.900000e-10</td>\n",
       "      <td>4.100000e-10</td>\n",
       "      <td>1.493200e-12</td>\n",
       "      <td>NaN</td>\n",
       "    </tr>\n",
       "    <tr>\n",
       "      <th>4</th>\n",
       "      <td>10/10/2022 11:08:06</td>\n",
       "      <td>2.900000e-10</td>\n",
       "      <td>4.100000e-10</td>\n",
       "      <td>2.024800e-12</td>\n",
       "      <td>Grid 0V, EGA bias -2000V, I_Em measured on sam...</td>\n",
       "    </tr>\n",
       "    <tr>\n",
       "      <th>5</th>\n",
       "      <td>10/10/2022 11:08:12</td>\n",
       "      <td>2.900000e-10</td>\n",
       "      <td>4.100000e-10</td>\n",
       "      <td>3.542700e-12</td>\n",
       "      <td>NaN</td>\n",
       "    </tr>\n",
       "    <tr>\n",
       "      <th>6</th>\n",
       "      <td>10/10/2022 11:08:18</td>\n",
       "      <td>2.900000e-10</td>\n",
       "      <td>4.100000e-10</td>\n",
       "      <td>4.951000e-12</td>\n",
       "      <td>NaN</td>\n",
       "    </tr>\n",
       "    <tr>\n",
       "      <th>...</th>\n",
       "      <td>...</td>\n",
       "      <td>...</td>\n",
       "      <td>...</td>\n",
       "      <td>...</td>\n",
       "      <td>...</td>\n",
       "    </tr>\n",
       "    <tr>\n",
       "      <th>235</th>\n",
       "      <td>10/10/2022 11:26:28</td>\n",
       "      <td>4.800000e-10</td>\n",
       "      <td>7.900000e-10</td>\n",
       "      <td>3.052500e-12</td>\n",
       "      <td>NaN</td>\n",
       "    </tr>\n",
       "    <tr>\n",
       "      <th>236</th>\n",
       "      <td>10/10/2022 11:26:34</td>\n",
       "      <td>4.800000e-10</td>\n",
       "      <td>7.900000e-10</td>\n",
       "      <td>1.441000e-13</td>\n",
       "      <td>NaN</td>\n",
       "    </tr>\n",
       "    <tr>\n",
       "      <th>237</th>\n",
       "      <td>10/10/2022 11:26:40</td>\n",
       "      <td>4.700000e-10</td>\n",
       "      <td>7.800000e-10</td>\n",
       "      <td>1.179800e-12</td>\n",
       "      <td>NaN</td>\n",
       "    </tr>\n",
       "    <tr>\n",
       "      <th>238</th>\n",
       "      <td>10/10/2022 11:26:46</td>\n",
       "      <td>4.700000e-10</td>\n",
       "      <td>7.700000e-10</td>\n",
       "      <td>5.574000e-13</td>\n",
       "      <td>NaN</td>\n",
       "    </tr>\n",
       "    <tr>\n",
       "      <th>239</th>\n",
       "      <td>10/10/2022 11:26:51</td>\n",
       "      <td>4.600000e-10</td>\n",
       "      <td>7.600000e-10</td>\n",
       "      <td>2.552500e-12</td>\n",
       "      <td>NaN</td>\n",
       "    </tr>\n",
       "  </tbody>\n",
       "</table>\n",
       "<p>238 rows × 5 columns</p>\n",
       "</div>"
      ],
      "text/plain": [
       "                    Time     Penning_1     Penning_2          I_Em  \\\n",
       "2    10/10/2022 11:08:04  2.900000e-10  4.100000e-10  2.449200e-12   \n",
       "3    10/10/2022 11:08:05  2.900000e-10  4.100000e-10  1.493200e-12   \n",
       "4    10/10/2022 11:08:06  2.900000e-10  4.100000e-10  2.024800e-12   \n",
       "5    10/10/2022 11:08:12  2.900000e-10  4.100000e-10  3.542700e-12   \n",
       "6    10/10/2022 11:08:18  2.900000e-10  4.100000e-10  4.951000e-12   \n",
       "..                   ...           ...           ...           ...   \n",
       "235  10/10/2022 11:26:28  4.800000e-10  7.900000e-10  3.052500e-12   \n",
       "236  10/10/2022 11:26:34  4.800000e-10  7.900000e-10  1.441000e-13   \n",
       "237  10/10/2022 11:26:40  4.700000e-10  7.800000e-10  1.179800e-12   \n",
       "238  10/10/2022 11:26:46  4.700000e-10  7.700000e-10  5.574000e-13   \n",
       "239  10/10/2022 11:26:51  4.600000e-10  7.600000e-10  2.552500e-12   \n",
       "\n",
       "                                         Live comments  \n",
       "2                                                  NaN  \n",
       "3                                                  NaN  \n",
       "4    Grid 0V, EGA bias -2000V, I_Em measured on sam...  \n",
       "5                                                  NaN  \n",
       "6                                                  NaN  \n",
       "..                                                 ...  \n",
       "235                                                NaN  \n",
       "236                                                NaN  \n",
       "237                                                NaN  \n",
       "238                                                NaN  \n",
       "239                                                NaN  \n",
       "\n",
       "[238 rows x 5 columns]"
      ]
     },
     "execution_count": 9,
     "metadata": {},
     "output_type": "execute_result"
    }
   ],
   "source": [
    "df= pd.read_table(\"grid transparent,em on,pumping\",sep='\\t')\n",
    "df.drop(columns=['Full_Range_Turbo','Pirani_1','Injection','XHVTrap'], inplace=True)\n",
    "df.drop(labels=[0,1], axis=0)\n",
    "\n"
   ]
  },
  {
   "cell_type": "code",
   "execution_count": 10,
   "id": "ddb7e003",
   "metadata": {},
   "outputs": [],
   "source": [
    "timestamp=[]\n",
    "for i in df[\"Time\"]:\n",
    "    timestamp.append(i)\n",
    "#making the column into a datetime object\n",
    "timestamps=pd.to_datetime(df[\"Time\"],format=\"%d/%m/%Y %H:%M:%S\")\n"
   ]
  },
  {
   "cell_type": "code",
   "execution_count": 11,
   "id": "b07af336",
   "metadata": {
    "scrolled": true
   },
   "outputs": [
    {
     "name": "stdout",
     "output_type": "stream",
     "text": [
      "0     2022-10-10 11:07:55\n",
      "1     2022-10-10 11:08:01\n",
      "2     2022-10-10 11:08:04\n",
      "3     2022-10-10 11:08:05\n",
      "4     2022-10-10 11:08:06\n",
      "              ...        \n",
      "235   2022-10-10 11:26:28\n",
      "236   2022-10-10 11:26:34\n",
      "237   2022-10-10 11:26:40\n",
      "238   2022-10-10 11:26:46\n",
      "239   2022-10-10 11:26:51\n",
      "Name: Time, Length: 240, dtype: datetime64[ns]\n"
     ]
    }
   ],
   "source": [
    "print(timestamps)"
   ]
  },
  {
   "cell_type": "code",
   "execution_count": 12,
   "id": "d8dc942c",
   "metadata": {},
   "outputs": [],
   "source": [
    "#runtime=[]\n",
    "#for i in range(len(df[\"Timestamp\"])):\n",
    "#    runtime.append((timestamps[i]-timestamps[0]).dt.total_seconds())\n",
    "runtime=(timestamps-timestamps[0]).dt.total_seconds()    \n",
    "df.insert(1,\"Elapsed time\",runtime)\n"
   ]
  },
  {
   "cell_type": "code",
   "execution_count": 13,
   "id": "96ff7c9c",
   "metadata": {},
   "outputs": [],
   "source": [
    "df.head()\n",
    "df.to_csv(\"processed data, grid transparent\")"
   ]
  },
  {
   "cell_type": "code",
   "execution_count": 14,
   "id": "475adc3f",
   "metadata": {},
   "outputs": [],
   "source": [
    "#overall pressure evolution\n",
    "plt.figure()\n",
    "plt.plot((df[\"Elapsed time\"]/3600),df['Penning_1'],marker=\".\", markersize=5,label='PE1')\n",
    "plt.plot((df[\"Elapsed time\"]/3600),df['Penning_2'],marker=\".\", markersize=5,label='PE2')\n",
    "plt.xlabel('Elapsed time (h)')\n",
    "plt.ylabel('Pressure (mbar)')\n",
    "plt.legend()\n",
    "plt.title(\"Pressure evolution, grid transparent\")\n",
    "plt.yscale('log')"
   ]
  }
 ],
 "metadata": {
  "kernelspec": {
   "display_name": "Python 3 (ipykernel)",
   "language": "python",
   "name": "python3"
  },
  "language_info": {
   "codemirror_mode": {
    "name": "ipython",
    "version": 3
   },
   "file_extension": ".py",
   "mimetype": "text/x-python",
   "name": "python",
   "nbconvert_exporter": "python",
   "pygments_lexer": "ipython3",
   "version": "3.9.12"
  }
 },
 "nbformat": 4,
 "nbformat_minor": 5
}
