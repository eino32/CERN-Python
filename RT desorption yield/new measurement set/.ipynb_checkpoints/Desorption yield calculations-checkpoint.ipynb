{
 "cells": [
  {
   "cell_type": "code",
   "execution_count": 1,
   "id": "b08bbc8b",
   "metadata": {
    "scrolled": true
   },
   "outputs": [
    {
     "name": "stderr",
     "output_type": "stream",
     "text": [
      "C:\\Users\\etiirine\\Anaconda3\\lib\\site-packages\\scipy\\__init__.py:146: UserWarning: A NumPy version >=1.16.5 and <1.23.0 is required for this version of SciPy (detected version 1.23.2\n",
      "  warnings.warn(f\"A NumPy version >={np_minversion} and <{np_maxversion}\"\n"
     ]
    }
   ],
   "source": [
    "import pandas as pd\n",
    "from scipy.optimize import curve_fit\n",
    "import seaborn\n",
    "seaborn.set(style='whitegrid')\n",
    "import numpy as np\n",
    "import matplotlib.pyplot as plt\n",
    "%matplotlib qt\n",
    "# %matplotlib inline\n",
    "from datetime import datetime, date"
   ]
  },
  {
   "cell_type": "markdown",
   "id": "a3666226",
   "metadata": {},
   "source": [
    "## Reading in the data and plotting"
   ]
  },
  {
   "cell_type": "code",
   "execution_count": 2,
   "id": "0dc3b839",
   "metadata": {},
   "outputs": [
    {
     "data": {
      "text/html": [
       "<div>\n",
       "<style scoped>\n",
       "    .dataframe tbody tr th:only-of-type {\n",
       "        vertical-align: middle;\n",
       "    }\n",
       "\n",
       "    .dataframe tbody tr th {\n",
       "        vertical-align: top;\n",
       "    }\n",
       "\n",
       "    .dataframe thead th {\n",
       "        text-align: right;\n",
       "    }\n",
       "</style>\n",
       "<table border=\"1\" class=\"dataframe\">\n",
       "  <thead>\n",
       "    <tr style=\"text-align: right;\">\n",
       "      <th></th>\n",
       "      <th>ScanData</th>\n",
       "      <th>1</th>\n",
       "    </tr>\n",
       "  </thead>\n",
       "  <tbody>\n",
       "    <tr>\n",
       "      <th>0</th>\n",
       "      <td>0.00</td>\n",
       "      <td>3.586220e-13</td>\n",
       "    </tr>\n",
       "    <tr>\n",
       "      <th>1</th>\n",
       "      <td>0.03</td>\n",
       "      <td>3.436770e-13</td>\n",
       "    </tr>\n",
       "    <tr>\n",
       "      <th>2</th>\n",
       "      <td>0.06</td>\n",
       "      <td>4.251090e-13</td>\n",
       "    </tr>\n",
       "    <tr>\n",
       "      <th>3</th>\n",
       "      <td>0.09</td>\n",
       "      <td>3.409520e-13</td>\n",
       "    </tr>\n",
       "    <tr>\n",
       "      <th>4</th>\n",
       "      <td>0.13</td>\n",
       "      <td>2.554780e-13</td>\n",
       "    </tr>\n",
       "  </tbody>\n",
       "</table>\n",
       "</div>"
      ],
      "text/plain": [
       "   ScanData             1\n",
       "0      0.00  3.586220e-13\n",
       "1      0.03  3.436770e-13\n",
       "2      0.06  4.251090e-13\n",
       "3      0.09  3.409520e-13\n",
       "4      0.13  2.554780e-13"
      ]
     },
     "execution_count": 2,
     "metadata": {},
     "output_type": "execute_result"
    }
   ],
   "source": [
    "#read in the data\n",
    "df1=pd.read_csv(\"RGA complete desorption measurement_no em.asc\", delim_whitespace=True, index_col=False, skiprows=lambda x: x <=16)\n",
    "df2=pd.read_csv(\"RGA complete desorption measurement_em on_grid off.asc\", delim_whitespace=True, index_col=False, skiprows=lambda x: x <=16)\n",
    "df3=pd.read_csv(\"RGA complete desorption measurement_em on_grid on.asc\", delim_whitespace=True, index_col=False, skiprows=lambda x: x <=16)\n",
    "df1.head()"
   ]
  },
  {
   "cell_type": "code",
   "execution_count": 3,
   "id": "ea0a2e3d",
   "metadata": {
    "scrolled": true
   },
   "outputs": [
    {
     "data": {
      "text/html": [
       "<div>\n",
       "<style scoped>\n",
       "    .dataframe tbody tr th:only-of-type {\n",
       "        vertical-align: middle;\n",
       "    }\n",
       "\n",
       "    .dataframe tbody tr th {\n",
       "        vertical-align: top;\n",
       "    }\n",
       "\n",
       "    .dataframe thead th {\n",
       "        text-align: right;\n",
       "    }\n",
       "</style>\n",
       "<table border=\"1\" class=\"dataframe\">\n",
       "  <thead>\n",
       "    <tr style=\"text-align: right;\">\n",
       "      <th></th>\n",
       "      <th>Mass fraction</th>\n",
       "      <th>Ion current</th>\n",
       "    </tr>\n",
       "  </thead>\n",
       "  <tbody>\n",
       "    <tr>\n",
       "      <th>0</th>\n",
       "      <td>0.00</td>\n",
       "      <td>4.589030e-13</td>\n",
       "    </tr>\n",
       "    <tr>\n",
       "      <th>1</th>\n",
       "      <td>0.03</td>\n",
       "      <td>4.086860e-13</td>\n",
       "    </tr>\n",
       "    <tr>\n",
       "      <th>2</th>\n",
       "      <td>0.06</td>\n",
       "      <td>5.733860e-13</td>\n",
       "    </tr>\n",
       "    <tr>\n",
       "      <th>3</th>\n",
       "      <td>0.09</td>\n",
       "      <td>4.328080e-13</td>\n",
       "    </tr>\n",
       "    <tr>\n",
       "      <th>4</th>\n",
       "      <td>0.13</td>\n",
       "      <td>5.049220e-13</td>\n",
       "    </tr>\n",
       "  </tbody>\n",
       "</table>\n",
       "</div>"
      ],
      "text/plain": [
       "   Mass fraction   Ion current\n",
       "0           0.00  4.589030e-13\n",
       "1           0.03  4.086860e-13\n",
       "2           0.06  5.733860e-13\n",
       "3           0.09  4.328080e-13\n",
       "4           0.13  5.049220e-13"
      ]
     },
     "execution_count": 3,
     "metadata": {},
     "output_type": "execute_result"
    }
   ],
   "source": [
    "df2.head()\n",
    "\n",
    "df1 = df1.rename(columns={'ScanData': 'Mass fraction', '1': 'Ion current'})\n",
    "df2 = df2.rename(columns={'ScanData': 'Mass fraction', '1': 'Ion current'})\n",
    "df3 = df3.rename(columns={'ScanData': 'Mass fraction', '1': 'Ion current'})\n",
    "\n",
    "df3.head()"
   ]
  },
  {
   "cell_type": "code",
   "execution_count": 4,
   "id": "7a108994",
   "metadata": {
    "scrolled": true
   },
   "outputs": [
    {
     "data": {
      "text/plain": [
       "(7e-13, 1e-09)"
      ]
     },
     "execution_count": 4,
     "metadata": {},
     "output_type": "execute_result"
    }
   ],
   "source": [
    "#Plotting the all the spectrums overlaid on top\n",
    "plt.figure(figsize=(14,8))\n",
    "plt.plot((df1[\"Mass fraction\"]),df1['Ion current'],marker=\".\", markersize=4,label='Emission off')\n",
    "plt.plot((df2[\"Mass fraction\"]),df2['Ion current'],marker=\".\", markersize=4,label='Emission on, grid transparent')\n",
    "plt.plot((df3[\"Mass fraction\"]),df3['Ion current'],marker=\".\", markersize=4,label='Emission on, grid repelling')\n",
    "plt.xlabel('Mass fraction (u)')\n",
    "plt.ylabel('Ion current (A)')\n",
    "plt.legend(title=\"Mol masses\", loc=\"upper right\")\n",
    "plt.title(\"RGA scan - full spectrum\")\n",
    "plt.xticks(np.arange(0,50,1.0))\n",
    "plt.yscale('log')\n",
    "plt.ylim(7e-13,1e-9)"
   ]
  },
  {
   "cell_type": "code",
   "execution_count": 5,
   "id": "b09d0369",
   "metadata": {},
   "outputs": [
    {
     "name": "stdout",
     "output_type": "stream",
     "text": [
      "0       1.018390e-13\n",
      "1       6.510000e-14\n",
      "2       1.083720e-13\n",
      "3       4.659300e-14\n",
      "4       2.098000e-13\n",
      "            ...     \n",
      "1595    1.430980e-13\n",
      "1596    4.637130e-13\n",
      "1597    6.771540e-13\n",
      "1598    5.052000e-13\n",
      "1599   -6.397680e-13\n",
      "Name: Ion current, Length: 1600, dtype: float64\n"
     ]
    }
   ],
   "source": [
    "#Effect of turning the emission on\n",
    "grid_transp=df2[\"Ion current\"]-df1[\"Ion current\"]\n",
    "print(grid_transp)\n"
   ]
  },
  {
   "cell_type": "code",
   "execution_count": 6,
   "id": "67c55db1",
   "metadata": {},
   "outputs": [
    {
     "data": {
      "text/plain": [
       "(7e-13, 1e-09)"
      ]
     },
     "execution_count": 6,
     "metadata": {},
     "output_type": "execute_result"
    }
   ],
   "source": [
    "# plotting grid transp. - bckground\n",
    "plt.figure(figsize=(14,8))\n",
    "plt.plot((df1[\"Mass fraction\"]),grid_transp,marker=\".\", markersize=4,label='Subtracted signal')\n",
    "plt.xlabel('Mass fraction (u)')\n",
    "plt.ylabel('Ion current (A)')\n",
    "plt.legend(title=\"Mol masses\", loc=\"upper right\")\n",
    "plt.title(\"Grid transp - bckground\")\n",
    "plt.xticks(np.arange(0,50,1.0))\n",
    "plt.yscale('log')\n",
    "plt.ylim(7e-13,1e-9)"
   ]
  },
  {
   "cell_type": "code",
   "execution_count": 10,
   "id": "51fb273b",
   "metadata": {
    "scrolled": true
   },
   "outputs": [
    {
     "data": {
      "text/plain": [
       "(7e-13, 1e-10)"
      ]
     },
     "execution_count": 10,
     "metadata": {},
     "output_type": "execute_result"
    }
   ],
   "source": [
    "#Plotting Emission on, grid transp. - Emission on, grid repelling\n",
    "#essentially total ESD= EGA ESD + sample ESD\n",
    "#sample ESD= Emission on, grid transp - bckground,grid repelling\n",
    "plt.figure(figsize=(12,6))\n",
    "plt.plot((df2[\"Mass fraction\"]),dif[\"Sample sig\"],marker=\".\", markersize=4,label='Subtracted signal')\n",
    "plt.xlabel('Mass fraction (u)')\n",
    "plt.ylabel('Ion current (A)')\n",
    "plt.legend(loc=\"upper right\")\n",
    "plt.title(\"Differential mass spectrum of ESD from the copper sample\")\n",
    "plt.xticks(np.arange(0,52,2.0),rotation='vertical')\n",
    "plt.yscale('log')\n",
    "plt.ylim(7e-13,1e-10)"
   ]
  },
  {
   "cell_type": "code",
   "execution_count": 7,
   "id": "3c88d028",
   "metadata": {},
   "outputs": [],
   "source": [
    "#subtracting the background from the grid repelling\n",
    "grid_repelling=df3[\"Ion current\"]-df1[\"Ion current\"]"
   ]
  },
  {
   "cell_type": "code",
   "execution_count": 8,
   "id": "3dca14f4",
   "metadata": {},
   "outputs": [
    {
     "data": {
      "text/html": [
       "<div>\n",
       "<style scoped>\n",
       "    .dataframe tbody tr th:only-of-type {\n",
       "        vertical-align: middle;\n",
       "    }\n",
       "\n",
       "    .dataframe tbody tr th {\n",
       "        vertical-align: top;\n",
       "    }\n",
       "\n",
       "    .dataframe thead th {\n",
       "        text-align: right;\n",
       "    }\n",
       "</style>\n",
       "<table border=\"1\" class=\"dataframe\">\n",
       "  <thead>\n",
       "    <tr style=\"text-align: right;\">\n",
       "      <th></th>\n",
       "      <th>Mass fraction</th>\n",
       "      <th>Ion current</th>\n",
       "      <th>Sample sig</th>\n",
       "    </tr>\n",
       "  </thead>\n",
       "  <tbody>\n",
       "    <tr>\n",
       "      <th>4</th>\n",
       "      <td>0.13</td>\n",
       "      <td>4.652780e-13</td>\n",
       "      <td>0.000000e+00</td>\n",
       "    </tr>\n",
       "    <tr>\n",
       "      <th>3</th>\n",
       "      <td>0.09</td>\n",
       "      <td>3.875450e-13</td>\n",
       "      <td>0.000000e+00</td>\n",
       "    </tr>\n",
       "    <tr>\n",
       "      <th>2</th>\n",
       "      <td>0.06</td>\n",
       "      <td>5.334810e-13</td>\n",
       "      <td>0.000000e+00</td>\n",
       "    </tr>\n",
       "    <tr>\n",
       "      <th>1</th>\n",
       "      <td>0.03</td>\n",
       "      <td>4.087770e-13</td>\n",
       "      <td>9.100000e-17</td>\n",
       "    </tr>\n",
       "    <tr>\n",
       "      <th>0</th>\n",
       "      <td>0.00</td>\n",
       "      <td>4.604610e-13</td>\n",
       "      <td>1.558000e-15</td>\n",
       "    </tr>\n",
       "  </tbody>\n",
       "</table>\n",
       "</div>"
      ],
      "text/plain": [
       "   Mass fraction   Ion current    Sample sig\n",
       "4           0.13  4.652780e-13  0.000000e+00\n",
       "3           0.09  3.875450e-13  0.000000e+00\n",
       "2           0.06  5.334810e-13  0.000000e+00\n",
       "1           0.03  4.087770e-13  9.100000e-17\n",
       "0           0.00  4.604610e-13  1.558000e-15"
      ]
     },
     "execution_count": 8,
     "metadata": {},
     "output_type": "execute_result"
    }
   ],
   "source": [
    "#sample ESD= Emission on, grid transp - emission on,grid repelling\n",
    "df2[\"Sample sig\"]=grid_transp-grid_repelling\n",
    "df2[df2 < 0] = 0\n",
    "df2=df2.iloc[::-1]\n",
    "df2.tail()\n"
   ]
  },
  {
   "cell_type": "code",
   "execution_count": 9,
   "id": "143fe53d",
   "metadata": {},
   "outputs": [
    {
     "data": {
      "text/html": [
       "<div>\n",
       "<style scoped>\n",
       "    .dataframe tbody tr th:only-of-type {\n",
       "        vertical-align: middle;\n",
       "    }\n",
       "\n",
       "    .dataframe tbody tr th {\n",
       "        vertical-align: top;\n",
       "    }\n",
       "\n",
       "    .dataframe thead th {\n",
       "        text-align: right;\n",
       "    }\n",
       "</style>\n",
       "<table border=\"1\" class=\"dataframe\">\n",
       "  <thead>\n",
       "    <tr style=\"text-align: right;\">\n",
       "      <th></th>\n",
       "      <th>Mass fraction</th>\n",
       "      <th>Sample sig</th>\n",
       "    </tr>\n",
       "  </thead>\n",
       "  <tbody>\n",
       "    <tr>\n",
       "      <th>1599</th>\n",
       "      <td>49.97</td>\n",
       "      <td>5.126000e-14</td>\n",
       "    </tr>\n",
       "    <tr>\n",
       "      <th>1598</th>\n",
       "      <td>49.94</td>\n",
       "      <td>7.137490e-13</td>\n",
       "    </tr>\n",
       "    <tr>\n",
       "      <th>1597</th>\n",
       "      <td>49.91</td>\n",
       "      <td>6.117550e-13</td>\n",
       "    </tr>\n",
       "    <tr>\n",
       "      <th>1596</th>\n",
       "      <td>49.88</td>\n",
       "      <td>0.000000e+00</td>\n",
       "    </tr>\n",
       "    <tr>\n",
       "      <th>1595</th>\n",
       "      <td>49.84</td>\n",
       "      <td>1.878570e-13</td>\n",
       "    </tr>\n",
       "  </tbody>\n",
       "</table>\n",
       "</div>"
      ],
      "text/plain": [
       "      Mass fraction    Sample sig\n",
       "1599          49.97  5.126000e-14\n",
       "1598          49.94  7.137490e-13\n",
       "1597          49.91  6.117550e-13\n",
       "1596          49.88  0.000000e+00\n",
       "1595          49.84  1.878570e-13"
      ]
     },
     "execution_count": 9,
     "metadata": {},
     "output_type": "execute_result"
    }
   ],
   "source": [
    "#differential spectrum\n",
    "dif=df2[['Mass fraction', 'Sample sig']].copy()\n",
    "dif.head()"
   ]
  },
  {
   "cell_type": "markdown",
   "id": "0f5b1f81",
   "metadata": {},
   "source": [
    "### Desorption yield"
   ]
  },
  {
   "cell_type": "code",
   "execution_count": 11,
   "id": "e19fd1f4",
   "metadata": {
    "scrolled": true
   },
   "outputs": [
    {
     "data": {
      "text/html": [
       "<div>\n",
       "<style scoped>\n",
       "    .dataframe tbody tr th:only-of-type {\n",
       "        vertical-align: middle;\n",
       "    }\n",
       "\n",
       "    .dataframe tbody tr th {\n",
       "        vertical-align: top;\n",
       "    }\n",
       "\n",
       "    .dataframe thead th {\n",
       "        text-align: right;\n",
       "    }\n",
       "</style>\n",
       "<table border=\"1\" class=\"dataframe\">\n",
       "  <thead>\n",
       "    <tr style=\"text-align: right;\">\n",
       "      <th></th>\n",
       "      <th>Time</th>\n",
       "      <th>Penning_1</th>\n",
       "      <th>Penning_2</th>\n",
       "      <th>I_Em</th>\n",
       "      <th>Live comments</th>\n",
       "    </tr>\n",
       "  </thead>\n",
       "  <tbody>\n",
       "    <tr>\n",
       "      <th>2</th>\n",
       "      <td>12/10/2022 14:04:23</td>\n",
       "      <td>2.600000e-10</td>\n",
       "      <td>3.600000e-10</td>\n",
       "      <td>1.768900e-12</td>\n",
       "      <td>NaN</td>\n",
       "    </tr>\n",
       "    <tr>\n",
       "      <th>3</th>\n",
       "      <td>12/10/2022 14:04:28</td>\n",
       "      <td>2.600000e-10</td>\n",
       "      <td>3.600000e-10</td>\n",
       "      <td>2.357900e-12</td>\n",
       "      <td>NaN</td>\n",
       "    </tr>\n",
       "    <tr>\n",
       "      <th>4</th>\n",
       "      <td>12/10/2022 14:04:34</td>\n",
       "      <td>2.600000e-10</td>\n",
       "      <td>3.600000e-10</td>\n",
       "      <td>3.879300e-12</td>\n",
       "      <td>NaN</td>\n",
       "    </tr>\n",
       "    <tr>\n",
       "      <th>5</th>\n",
       "      <td>12/10/2022 14:04:40</td>\n",
       "      <td>2.600000e-10</td>\n",
       "      <td>3.600000e-10</td>\n",
       "      <td>4.801500e-12</td>\n",
       "      <td>NaN</td>\n",
       "    </tr>\n",
       "    <tr>\n",
       "      <th>6</th>\n",
       "      <td>12/10/2022 14:04:46</td>\n",
       "      <td>2.600000e-10</td>\n",
       "      <td>3.600000e-10</td>\n",
       "      <td>9.268000e-13</td>\n",
       "      <td>NaN</td>\n",
       "    </tr>\n",
       "    <tr>\n",
       "      <th>...</th>\n",
       "      <td>...</td>\n",
       "      <td>...</td>\n",
       "      <td>...</td>\n",
       "      <td>...</td>\n",
       "      <td>...</td>\n",
       "    </tr>\n",
       "    <tr>\n",
       "      <th>1668</th>\n",
       "      <td>12/10/2022 16:28:12</td>\n",
       "      <td>1.400000e-09</td>\n",
       "      <td>3.200000e-09</td>\n",
       "      <td>1.097650e-10</td>\n",
       "      <td>NaN</td>\n",
       "    </tr>\n",
       "    <tr>\n",
       "      <th>1669</th>\n",
       "      <td>12/10/2022 16:28:18</td>\n",
       "      <td>1.400000e-09</td>\n",
       "      <td>3.200000e-09</td>\n",
       "      <td>1.151130e-10</td>\n",
       "      <td>NaN</td>\n",
       "    </tr>\n",
       "    <tr>\n",
       "      <th>1670</th>\n",
       "      <td>12/10/2022 16:28:24</td>\n",
       "      <td>1.400000e-09</td>\n",
       "      <td>3.200000e-09</td>\n",
       "      <td>1.112000e-10</td>\n",
       "      <td>NaN</td>\n",
       "    </tr>\n",
       "    <tr>\n",
       "      <th>1671</th>\n",
       "      <td>12/10/2022 16:28:29</td>\n",
       "      <td>1.400000e-09</td>\n",
       "      <td>3.200000e-09</td>\n",
       "      <td>1.156240e-10</td>\n",
       "      <td>NaN</td>\n",
       "    </tr>\n",
       "    <tr>\n",
       "      <th>1672</th>\n",
       "      <td>12/10/2022 16:28:35</td>\n",
       "      <td>1.400000e-09</td>\n",
       "      <td>3.200000e-09</td>\n",
       "      <td>1.154020e-10</td>\n",
       "      <td>NaN</td>\n",
       "    </tr>\n",
       "  </tbody>\n",
       "</table>\n",
       "<p>1671 rows × 5 columns</p>\n",
       "</div>"
      ],
      "text/plain": [
       "                     Time     Penning_1     Penning_2          I_Em  \\\n",
       "2     12/10/2022 14:04:23  2.600000e-10  3.600000e-10  1.768900e-12   \n",
       "3     12/10/2022 14:04:28  2.600000e-10  3.600000e-10  2.357900e-12   \n",
       "4     12/10/2022 14:04:34  2.600000e-10  3.600000e-10  3.879300e-12   \n",
       "5     12/10/2022 14:04:40  2.600000e-10  3.600000e-10  4.801500e-12   \n",
       "6     12/10/2022 14:04:46  2.600000e-10  3.600000e-10  9.268000e-13   \n",
       "...                   ...           ...           ...           ...   \n",
       "1668  12/10/2022 16:28:12  1.400000e-09  3.200000e-09  1.097650e-10   \n",
       "1669  12/10/2022 16:28:18  1.400000e-09  3.200000e-09  1.151130e-10   \n",
       "1670  12/10/2022 16:28:24  1.400000e-09  3.200000e-09  1.112000e-10   \n",
       "1671  12/10/2022 16:28:29  1.400000e-09  3.200000e-09  1.156240e-10   \n",
       "1672  12/10/2022 16:28:35  1.400000e-09  3.200000e-09  1.154020e-10   \n",
       "\n",
       "     Live comments  \n",
       "2              NaN  \n",
       "3              NaN  \n",
       "4              NaN  \n",
       "5              NaN  \n",
       "6              NaN  \n",
       "...            ...  \n",
       "1668           NaN  \n",
       "1669           NaN  \n",
       "1670           NaN  \n",
       "1671           NaN  \n",
       "1672           NaN  \n",
       "\n",
       "[1671 rows x 5 columns]"
      ]
     },
     "execution_count": 11,
     "metadata": {},
     "output_type": "execute_result"
    }
   ],
   "source": [
    "#Desorption yield\n",
    "#First, reading in the Emission current\n",
    "I_em=pd.read_csv(\"complete desorption measurement\", sep=\"\\t\")\n",
    "I_em.drop(columns=['Full_Range_Turbo','Pirani_1','Injection','XHVTrap'], inplace=True)\n",
    "I_em.drop(labels=[0,1], axis=0)\n"
   ]
  },
  {
   "cell_type": "code",
   "execution_count": 12,
   "id": "1eba7cda",
   "metadata": {
    "scrolled": false
   },
   "outputs": [
    {
     "data": {
      "text/html": [
       "<div>\n",
       "<style scoped>\n",
       "    .dataframe tbody tr th:only-of-type {\n",
       "        vertical-align: middle;\n",
       "    }\n",
       "\n",
       "    .dataframe tbody tr th {\n",
       "        vertical-align: top;\n",
       "    }\n",
       "\n",
       "    .dataframe thead th {\n",
       "        text-align: right;\n",
       "    }\n",
       "</style>\n",
       "<table border=\"1\" class=\"dataframe\">\n",
       "  <thead>\n",
       "    <tr style=\"text-align: right;\">\n",
       "      <th></th>\n",
       "      <th>Time</th>\n",
       "      <th>Elapsed time</th>\n",
       "      <th>Penning_1</th>\n",
       "      <th>Penning_2</th>\n",
       "      <th>I_Em</th>\n",
       "      <th>Live comments</th>\n",
       "    </tr>\n",
       "  </thead>\n",
       "  <tbody>\n",
       "    <tr>\n",
       "      <th>1</th>\n",
       "      <td>12/10/2022 14:04:17</td>\n",
       "      <td>5.0</td>\n",
       "      <td>2.600000e-10</td>\n",
       "      <td>3.600000e-10</td>\n",
       "      <td>8.016000e-13</td>\n",
       "      <td>NaN</td>\n",
       "    </tr>\n",
       "    <tr>\n",
       "      <th>2</th>\n",
       "      <td>12/10/2022 14:04:23</td>\n",
       "      <td>11.0</td>\n",
       "      <td>2.600000e-10</td>\n",
       "      <td>3.600000e-10</td>\n",
       "      <td>1.768900e-12</td>\n",
       "      <td>NaN</td>\n",
       "    </tr>\n",
       "    <tr>\n",
       "      <th>3</th>\n",
       "      <td>12/10/2022 14:04:28</td>\n",
       "      <td>16.0</td>\n",
       "      <td>2.600000e-10</td>\n",
       "      <td>3.600000e-10</td>\n",
       "      <td>2.357900e-12</td>\n",
       "      <td>NaN</td>\n",
       "    </tr>\n",
       "    <tr>\n",
       "      <th>4</th>\n",
       "      <td>12/10/2022 14:04:34</td>\n",
       "      <td>22.0</td>\n",
       "      <td>2.600000e-10</td>\n",
       "      <td>3.600000e-10</td>\n",
       "      <td>3.879300e-12</td>\n",
       "      <td>NaN</td>\n",
       "    </tr>\n",
       "    <tr>\n",
       "      <th>5</th>\n",
       "      <td>12/10/2022 14:04:40</td>\n",
       "      <td>28.0</td>\n",
       "      <td>2.600000e-10</td>\n",
       "      <td>3.600000e-10</td>\n",
       "      <td>4.801500e-12</td>\n",
       "      <td>NaN</td>\n",
       "    </tr>\n",
       "  </tbody>\n",
       "</table>\n",
       "</div>"
      ],
      "text/plain": [
       "                  Time  Elapsed time     Penning_1     Penning_2  \\\n",
       "1  12/10/2022 14:04:17           5.0  2.600000e-10  3.600000e-10   \n",
       "2  12/10/2022 14:04:23          11.0  2.600000e-10  3.600000e-10   \n",
       "3  12/10/2022 14:04:28          16.0  2.600000e-10  3.600000e-10   \n",
       "4  12/10/2022 14:04:34          22.0  2.600000e-10  3.600000e-10   \n",
       "5  12/10/2022 14:04:40          28.0  2.600000e-10  3.600000e-10   \n",
       "\n",
       "           I_Em Live comments  \n",
       "1  8.016000e-13           NaN  \n",
       "2  1.768900e-12           NaN  \n",
       "3  2.357900e-12           NaN  \n",
       "4  3.879300e-12           NaN  \n",
       "5  4.801500e-12           NaN  "
      ]
     },
     "execution_count": 12,
     "metadata": {},
     "output_type": "execute_result"
    }
   ],
   "source": [
    "#adding an elapsed time column\n",
    "timestamp=[]\n",
    "for i in I_em[\"Time\"]:\n",
    "    timestamp.append(i)\n",
    "#making the column into a datetime object\n",
    "timestamps=pd.to_datetime(I_em[\"Time\"],format=\"%d/%m/%Y %H:%M:%S\")\n",
    "runtime=(timestamps-timestamps[0]).dt.total_seconds()    \n",
    "I_em.insert(1,\"Elapsed time\",runtime)\n",
    "I_em.drop(index=I_em.index[0], \n",
    "        axis=0, \n",
    "        inplace=True)\n",
    "\n",
    "I_em.head()"
   ]
  },
  {
   "cell_type": "markdown",
   "id": "1f2ec593",
   "metadata": {},
   "source": [
    "## Plotting I_em, pressures"
   ]
  },
  {
   "cell_type": "code",
   "execution_count": 13,
   "id": "80260a11",
   "metadata": {},
   "outputs": [],
   "source": [
    "#Plotting the I_em\n",
    "plt.figure(figsize=(10,6))\n",
    "plt.plot(I_em[\"Elapsed time\"]/3600,I_em[\"I_Em\"],marker=\".\", markersize=4,label='Emission current')\n",
    "plt.xlabel('Elapsed time (h)')\n",
    "plt.ylabel('Emission current (A)')\n",
    "plt.legend()\n",
    "plt.title(\"Emission current over time\")\n",
    "plt.yscale('log')\n"
   ]
  },
  {
   "cell_type": "code",
   "execution_count": 14,
   "id": "cfd0e164",
   "metadata": {},
   "outputs": [
    {
     "data": {
      "text/plain": [
       "(1e-10, 1e-08)"
      ]
     },
     "execution_count": 14,
     "metadata": {},
     "output_type": "execute_result"
    }
   ],
   "source": [
    "#Plotting the pressure of PE2\n",
    "plt.figure(figsize=(10,6))\n",
    "plt.plot(I_em[\"Elapsed time\"]/3600,I_em[\"Penning_2\"],marker=\".\", markersize=4,label='Emission current')\n",
    "plt.xlabel('Elapsed time (h)')\n",
    "plt.ylabel('Pressure (mbar)')\n",
    "plt.legend()\n",
    "plt.title(\"Chamber pressure over time\")\n",
    "plt.yscale('log')\n",
    "plt.ylim(1e-10,1e-8)"
   ]
  },
  {
   "cell_type": "markdown",
   "id": "3e35a5e6",
   "metadata": {},
   "source": [
    "### Grid current (and subtraction) - TODO"
   ]
  },
  {
   "cell_type": "code",
   "execution_count": 15,
   "id": "a109222d",
   "metadata": {},
   "outputs": [
    {
     "name": "stdout",
     "output_type": "stream",
     "text": [
      "0       0.029\n",
      "1       0.029\n",
      "2       0.029\n",
      "3       0.029\n",
      "4       0.029\n",
      "        ...  \n",
      "7262    0.296\n",
      "7263    0.296\n",
      "7264    0.296\n",
      "7265    0.296\n",
      "7266    0.296\n",
      "Name: Imon1, Length: 7267, dtype: float64\n"
     ]
    },
    {
     "data": {
      "text/html": [
       "<div>\n",
       "<style scoped>\n",
       "    .dataframe tbody tr th:only-of-type {\n",
       "        vertical-align: middle;\n",
       "    }\n",
       "\n",
       "    .dataframe tbody tr th {\n",
       "        vertical-align: top;\n",
       "    }\n",
       "\n",
       "    .dataframe thead th {\n",
       "        text-align: right;\n",
       "    }\n",
       "</style>\n",
       "<table border=\"1\" class=\"dataframe\">\n",
       "  <thead>\n",
       "    <tr style=\"text-align: right;\">\n",
       "      <th></th>\n",
       "      <th>Date</th>\n",
       "      <th>Time</th>\n",
       "      <th>Imon1</th>\n",
       "      <th>Imon2</th>\n",
       "      <th>hv_grid</th>\n",
       "    </tr>\n",
       "  </thead>\n",
       "  <tbody>\n",
       "    <tr>\n",
       "      <th>0</th>\n",
       "      <td>12/10/2022</td>\n",
       "      <td>14:05:43.989</td>\n",
       "      <td>0.029</td>\n",
       "      <td>0.035</td>\n",
       "      <td>2.900000e-08</td>\n",
       "    </tr>\n",
       "    <tr>\n",
       "      <th>1</th>\n",
       "      <td>12/10/2022</td>\n",
       "      <td>14:05:45.161</td>\n",
       "      <td>0.029</td>\n",
       "      <td>0.035</td>\n",
       "      <td>2.900000e-08</td>\n",
       "    </tr>\n",
       "    <tr>\n",
       "      <th>2</th>\n",
       "      <td>12/10/2022</td>\n",
       "      <td>14:05:46.328</td>\n",
       "      <td>0.029</td>\n",
       "      <td>0.035</td>\n",
       "      <td>2.900000e-08</td>\n",
       "    </tr>\n",
       "    <tr>\n",
       "      <th>3</th>\n",
       "      <td>12/10/2022</td>\n",
       "      <td>14:05:47.503</td>\n",
       "      <td>0.029</td>\n",
       "      <td>0.035</td>\n",
       "      <td>2.900000e-08</td>\n",
       "    </tr>\n",
       "    <tr>\n",
       "      <th>4</th>\n",
       "      <td>12/10/2022</td>\n",
       "      <td>14:05:48.676</td>\n",
       "      <td>0.029</td>\n",
       "      <td>0.035</td>\n",
       "      <td>2.900000e-08</td>\n",
       "    </tr>\n",
       "  </tbody>\n",
       "</table>\n",
       "</div>"
      ],
      "text/plain": [
       "         Date          Time  Imon1  Imon2       hv_grid\n",
       "0  12/10/2022  14:05:43.989  0.029  0.035  2.900000e-08\n",
       "1  12/10/2022  14:05:45.161  0.029  0.035  2.900000e-08\n",
       "2  12/10/2022  14:05:46.328  0.029  0.035  2.900000e-08\n",
       "3  12/10/2022  14:05:47.503  0.029  0.035  2.900000e-08\n",
       "4  12/10/2022  14:05:48.676  0.029  0.035  2.900000e-08"
      ]
     },
     "execution_count": 15,
     "metadata": {},
     "output_type": "execute_result"
    }
   ],
   "source": [
    "#Reading in the HiVolta measurement file to get the grid current\n",
    "hv=pd.read_csv(\"HiVolta req complete desorption measurement\", sep=\",\", index_col=False)\n",
    "hv.columns=[\"Date\",\"Time\",\"Vmon1\",\"Vmon2\",\"Vmon3\",\"Vmon4\",\"Vmon5\",\"Vmon6\",\"Vmon7\",\"Vmon8\",\"Imon1\",\"Imon2\",\"Imon3\",\"Imon4\",\"Imon5\",\"Imon6\",\"Imon7\",\"Imon8\",\"Comments1\"] \n",
    "hv.drop(columns=[\"Vmon1\",\"Vmon2\",\"Vmon3\",\"Vmon4\",\"Vmon5\",\"Vmon6\",\"Vmon7\",\"Vmon8\",\"Imon3\",\"Imon4\",\"Imon5\",\"Imon6\",\"Imon7\",\"Imon8\",\"Comments1\"], inplace=True)\n",
    "print(hv[\"Imon1\"])\n",
    "hv[\"hv_grid\"]=[element * 1e-6 for element in hv[\"Imon1\"]]\n",
    "hv.head()"
   ]
  },
  {
   "cell_type": "code",
   "execution_count": 16,
   "id": "08c7620d",
   "metadata": {},
   "outputs": [],
   "source": [
    "#TODO:applying the grid current subtraction to the emission current\n",
    "#hv[\"Imon2\"]=[element * 1e-6 for element in hv[\"Imon2\"]]\n",
    "#print(hv[\"Imon2\"])\n",
    "#hv[\"Corrected em\"]=hv[\"Imon2\"]-hv_grid\n",
    "#hv.head()"
   ]
  },
  {
   "cell_type": "markdown",
   "id": "aa2aa2b7",
   "metadata": {},
   "source": [
    "# Primary desorption calculation method\n",
    "### Elena's formula for the cryo setup\n",
    "$$\n",
    "\\eta=\\frac{C_{H2}\\cdot (\\Delta p_1 - \\Delta p_2)q_e}{k_B\\cdot T \\cdot I_e}\n",
    "$$\n",
    "In the case of the RT setup, we dont know the exact conductance due to not having a calibrated orifice. And the $\\Delta p$ in this case is the difference of partial pressures (for the gas in question) e.g grid transparent - grid repelling. Because we use the partial pressures, $I_e$ here is the total emission current.\n",
    "### RT setup:\n",
    "So the formula in the case of the RT setup would be:\n",
    "$$\n",
    "\\eta_{gas}=\\frac{Q\\cdot q_e}{k_B \\cdot T \\cdot I_{e, tot}}=\\frac{\\Delta p_{partial} \\cdot S_{gas}\\cdot q_e}{k_B \\cdot T \\cdot I_{e, tot}}\n",
    "$$\n",
    "where $\\Delta p_{partial}$ would be:\n",
    "$$\n",
    "\\Delta p_{partial}=p_{par, transm.}-p_{par, repel.}\n",
    "$$\n",
    "\n",
    "and\n",
    "$$\n",
    "p_{par}=\\frac{ref_{peak}\\cdot p_{tot}}{\\Sigma_{refpeaks}}\n",
    "$$"
   ]
  },
  {
   "cell_type": "markdown",
   "id": "68c2a7d9",
   "metadata": {},
   "source": [
    "### Effective pumping speeds:\n",
    "Here a simplification is made:\n",
    "$$\n",
    "S_{gas}=c \\cdot S_{eff,N2}\n",
    "$$\n",
    "where  $S_{eff,N2}=42 [\\frac {l}{s}]$ is known and $c$ is:\n",
    "$$\n",
    "c=\\frac{C_1}{C_2}=\\sqrt{\\frac{M_2}{M_1}}\n",
    "$$\n",
    "\n",
    " $M_2$ and $M_1$ are the molar masses of the gas species"
   ]
  },
  {
   "cell_type": "code",
   "execution_count": 49,
   "id": "c8d0c07c",
   "metadata": {},
   "outputs": [
    {
     "name": "stdout",
     "output_type": "stream",
     "text": [
      "0.011759494644146674\n",
      "0.05515691900646476\n",
      "0.03527848393244002\n"
     ]
    }
   ],
   "source": [
    "#calculating the effective pumping speeds in m3/s\n",
    "S_h2=(np.sqrt(2/28)*44)/1000\n",
    "print(S_h2)\n",
    "S_co2=(np.sqrt(44/28)*44)/1000\n",
    "print(S_co2)\n",
    "S_h2o=(np.sqrt(18/28)*44)/1000\n",
    "print(S_h2o)"
   ]
  },
  {
   "cell_type": "code",
   "execution_count": 50,
   "id": "27cea8c6",
   "metadata": {},
   "outputs": [],
   "source": [
    "#Gas species detected desorbing from the Cu sample include H2 and CO2, others in marginal amounts\n",
    "#For this calculation it is assumed that H2 and CO2 make up 100% of the total I_em\n",
    "#step 1 constants\n",
    "k_B=1.38e-23\n",
    "T=296\n",
    "q_e=1.6e-19\n",
    "I_emission=I_em[\"I_Em\"].max()"
   ]
  },
  {
   "cell_type": "code",
   "execution_count": 34,
   "id": "9101d35f",
   "metadata": {},
   "outputs": [
    {
     "name": "stdout",
     "output_type": "stream",
     "text": [
      "[79, 78, 77, 76, 75, 74, 73, 72, 71, 70, 69, 68, 67, 66, 65, 64, 63, 62, 61, 60, 59, 58, 57, 56, 55, 54, 53, 52, 51, 50, 49]\n",
      "[1423, 1422, 1421, 1420, 1419, 1418, 1417, 1416, 1415, 1414, 1413, 1412, 1411, 1410, 1409, 1408, 1407, 1406, 1405, 1404, 1403, 1402, 1401, 1400, 1399, 1398, 1397, 1396, 1395, 1394, 1393]\n",
      "[623, 622, 621, 620, 619, 618, 617, 616, 615, 614, 613, 612, 611, 610, 609, 608, 607, 606, 605, 604, 603, 602, 601, 600, 599, 598, 597, 596, 595, 594, 593, 592, 591, 590, 589, 588, 587, 586, 585, 584, 583, 582, 581, 580, 579, 578, 577, 576, 575, 574, 573, 572, 571, 570, 569, 568, 567, 566, 565, 564, 563, 562, 561]\n"
     ]
    }
   ],
   "source": [
    "#peak indices \n",
    "h2_peak=dif.index[(dif[\"Mass fraction\"]>1.5) & (dif[\"Mass fraction\"]<2.5)].tolist()\n",
    "\n",
    "print(h2_peak)\n",
    "co2_peak=dif.index[(dif[\"Mass fraction\"]>43.5) & (dif[\"Mass fraction\"]<44.5)].tolist()\n",
    "\n",
    "print(co2_peak)\n",
    "h2o_peak=dif.index[(dif[\"Mass fraction\"]>17.5) & (dif[\"Mass fraction\"]<19.5)].tolist()\n",
    "print(h2o_peak)\n",
    "\n"
   ]
  },
  {
   "cell_type": "code",
   "execution_count": 35,
   "id": "5f129f69",
   "metadata": {
    "scrolled": false
   },
   "outputs": [
    {
     "name": "stdout",
     "output_type": "stream",
     "text": [
      "1.031499999999998e-11\n",
      "6.5164999999999995e-12\n",
      "2.0667399999999997e-11\n",
      "3.749889999999997e-11\n",
      "5.6e-09\n"
     ]
    }
   ],
   "source": [
    "#ref peak values\n",
    "h2_ref=dif[\"Sample sig\"][h2_peak].max()\n",
    "\n",
    "\n",
    "h2o_ref=dif[\"Sample sig\"][h2o_peak].max()\n",
    "\n",
    "\n",
    "co2_ref=dif[\"Sample sig\"][co2_peak].max()\n",
    "print(h2_ref)\n",
    "print(h2o_ref)\n",
    "print(co2_ref)\n",
    "\n",
    "\n",
    "#the sums\n",
    "sum_ref=h2_ref+h2o_ref+co2_ref\n",
    "print(sum_ref)\n",
    "#total pressure\n",
    "p_tot=I_em[\"Penning_2\"].max()\n",
    "print(p_tot)"
   ]
  },
  {
   "cell_type": "code",
   "execution_count": 39,
   "id": "a9729d5e",
   "metadata": {
    "scrolled": true
   },
   "outputs": [
    {
     "name": "stdout",
     "output_type": "stream",
     "text": [
      "H2: 1.5404185189432205e-09\n",
      "H2O: 9.731592126702389e-10\n",
      "CO2: 3.086422268386541e-09\n"
     ]
    }
   ],
   "source": [
    "#calculating partial pressures\n",
    "#assuming here that h2, h2o and co2 make up 100% of the desorbed gas\n",
    "#refpeaks: h2- 2 AMU, h2o - 18 AMU, CO2 - 44 AMU\n",
    "h2_par=h2_ref*p_tot/sum_ref\n",
    "\n",
    "print(\"H2:\",h2_par)\n",
    "h2o_par=h2o_ref*p_tot/sum_ref\n",
    "\n",
    "print(\"H2O:\",h2o_par)\n",
    "\n",
    "co2_par=co2_ref*p_tot/sum_ref\n",
    "\n",
    "print(\"CO2:\",co2_par)\n",
    "\n"
   ]
  },
  {
   "cell_type": "code",
   "execution_count": null,
   "id": "42de7455",
   "metadata": {},
   "outputs": [],
   "source": [
    "#"
   ]
  },
  {
   "cell_type": "code",
   "execution_count": 52,
   "id": "ad19e2b4",
   "metadata": {
    "scrolled": true
   },
   "outputs": [
    {
     "name": "stdout",
     "output_type": "stream",
     "text": [
      "0.006537774000574477\n",
      "0.0006956678781331028\n",
      "0.001318464293122939\n"
     ]
    }
   ],
   "source": [
    "#approximated desorption yields\n",
    "eta_co2=(co2_par*S_co2*q_e)/(k_B*T*I_emission)\n",
    "print(eta_co2)\n",
    "eta_h2=(h2_par*S_h2*q_e)/(k_B*T*I_emission)\n",
    "print(eta_h2)\n",
    "eta_h2o=(h2o_par*S_h2o*q_e)/(k_B*T*I_emission)\n",
    "print(eta_h2o)\n"
   ]
  }
 ],
 "metadata": {
  "kernelspec": {
   "display_name": "Python 3 (ipykernel)",
   "language": "python",
   "name": "python3"
  },
  "language_info": {
   "codemirror_mode": {
    "name": "ipython",
    "version": 3
   },
   "file_extension": ".py",
   "mimetype": "text/x-python",
   "name": "python",
   "nbconvert_exporter": "python",
   "pygments_lexer": "ipython3",
   "version": "3.9.12"
  }
 },
 "nbformat": 4,
 "nbformat_minor": 5
}
