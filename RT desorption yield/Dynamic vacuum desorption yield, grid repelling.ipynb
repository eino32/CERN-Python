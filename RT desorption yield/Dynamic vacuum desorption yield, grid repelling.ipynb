{
 "cells": [
  {
   "cell_type": "code",
   "execution_count": 1,
   "id": "e16e2e4b",
   "metadata": {
    "scrolled": true
   },
   "outputs": [
    {
     "name": "stderr",
     "output_type": "stream",
     "text": [
      "C:\\Users\\etiirine\\Anaconda3\\lib\\site-packages\\scipy\\__init__.py:146: UserWarning: A NumPy version >=1.16.5 and <1.23.0 is required for this version of SciPy (detected version 1.23.2\n",
      "  warnings.warn(f\"A NumPy version >={np_minversion} and <{np_maxversion}\"\n"
     ]
    }
   ],
   "source": [
    "import pandas as pd\n",
    "from scipy.optimize import curve_fit\n",
    "import seaborn\n",
    "seaborn.set(style='whitegrid')\n",
    "import numpy as np\n",
    "import matplotlib.pyplot as plt\n",
    "%matplotlib qt\n",
    "# %matplotlib inline\n",
    "from datetime import datetime, date\n"
   ]
  },
  {
   "cell_type": "code",
   "execution_count": 2,
   "id": "dea72e37",
   "metadata": {
    "scrolled": true
   },
   "outputs": [
    {
     "data": {
      "text/html": [
       "<div>\n",
       "<style scoped>\n",
       "    .dataframe tbody tr th:only-of-type {\n",
       "        vertical-align: middle;\n",
       "    }\n",
       "\n",
       "    .dataframe tbody tr th {\n",
       "        vertical-align: top;\n",
       "    }\n",
       "\n",
       "    .dataframe thead th {\n",
       "        text-align: right;\n",
       "    }\n",
       "</style>\n",
       "<table border=\"1\" class=\"dataframe\">\n",
       "  <thead>\n",
       "    <tr style=\"text-align: right;\">\n",
       "      <th></th>\n",
       "      <th>Time</th>\n",
       "      <th>Penning_1</th>\n",
       "      <th>Penning_2</th>\n",
       "      <th>I_Em</th>\n",
       "      <th>Live comments</th>\n",
       "    </tr>\n",
       "  </thead>\n",
       "  <tbody>\n",
       "    <tr>\n",
       "      <th>2</th>\n",
       "      <td>10/10/2022 09:59:02</td>\n",
       "      <td>2.800000e-10</td>\n",
       "      <td>3.800000e-10</td>\n",
       "      <td>2.393500e-12</td>\n",
       "      <td>NaN</td>\n",
       "    </tr>\n",
       "    <tr>\n",
       "      <th>3</th>\n",
       "      <td>10/10/2022 09:59:03</td>\n",
       "      <td>2.700000e-10</td>\n",
       "      <td>3.800000e-10</td>\n",
       "      <td>4.078400e-12</td>\n",
       "      <td>NaN</td>\n",
       "    </tr>\n",
       "    <tr>\n",
       "      <th>4</th>\n",
       "      <td>10/10/2022 09:59:04</td>\n",
       "      <td>2.800000e-10</td>\n",
       "      <td>3.800000e-10</td>\n",
       "      <td>7.433000e-13</td>\n",
       "      <td>NaN</td>\n",
       "    </tr>\n",
       "    <tr>\n",
       "      <th>5</th>\n",
       "      <td>10/10/2022 09:59:10</td>\n",
       "      <td>2.700000e-10</td>\n",
       "      <td>3.800000e-10</td>\n",
       "      <td>1.148700e-12</td>\n",
       "      <td>NaN</td>\n",
       "    </tr>\n",
       "    <tr>\n",
       "      <th>6</th>\n",
       "      <td>10/10/2022 09:59:16</td>\n",
       "      <td>2.800000e-10</td>\n",
       "      <td>3.800000e-10</td>\n",
       "      <td>4.831000e-12</td>\n",
       "      <td>NaN</td>\n",
       "    </tr>\n",
       "    <tr>\n",
       "      <th>...</th>\n",
       "      <td>...</td>\n",
       "      <td>...</td>\n",
       "      <td>...</td>\n",
       "      <td>...</td>\n",
       "      <td>...</td>\n",
       "    </tr>\n",
       "    <tr>\n",
       "      <th>808</th>\n",
       "      <td>10/10/2022 11:06:13</td>\n",
       "      <td>2.900000e-10</td>\n",
       "      <td>4.100000e-10</td>\n",
       "      <td>9.111000e-13</td>\n",
       "      <td>NaN</td>\n",
       "    </tr>\n",
       "    <tr>\n",
       "      <th>809</th>\n",
       "      <td>10/10/2022 11:06:19</td>\n",
       "      <td>2.900000e-10</td>\n",
       "      <td>4.100000e-10</td>\n",
       "      <td>1.040600e-12</td>\n",
       "      <td>NaN</td>\n",
       "    </tr>\n",
       "    <tr>\n",
       "      <th>810</th>\n",
       "      <td>10/10/2022 11:06:25</td>\n",
       "      <td>2.900000e-10</td>\n",
       "      <td>4.100000e-10</td>\n",
       "      <td>1.465700e-12</td>\n",
       "      <td>NaN</td>\n",
       "    </tr>\n",
       "    <tr>\n",
       "      <th>811</th>\n",
       "      <td>10/10/2022 11:06:30</td>\n",
       "      <td>2.900000e-10</td>\n",
       "      <td>4.100000e-10</td>\n",
       "      <td>2.576100e-12</td>\n",
       "      <td>NaN</td>\n",
       "    </tr>\n",
       "    <tr>\n",
       "      <th>812</th>\n",
       "      <td>10/10/2022 11:06:36</td>\n",
       "      <td>2.900000e-10</td>\n",
       "      <td>4.100000e-10</td>\n",
       "      <td>7.906400e-12</td>\n",
       "      <td>NaN</td>\n",
       "    </tr>\n",
       "  </tbody>\n",
       "</table>\n",
       "<p>811 rows × 5 columns</p>\n",
       "</div>"
      ],
      "text/plain": [
       "                    Time     Penning_1     Penning_2          I_Em  \\\n",
       "2    10/10/2022 09:59:02  2.800000e-10  3.800000e-10  2.393500e-12   \n",
       "3    10/10/2022 09:59:03  2.700000e-10  3.800000e-10  4.078400e-12   \n",
       "4    10/10/2022 09:59:04  2.800000e-10  3.800000e-10  7.433000e-13   \n",
       "5    10/10/2022 09:59:10  2.700000e-10  3.800000e-10  1.148700e-12   \n",
       "6    10/10/2022 09:59:16  2.800000e-10  3.800000e-10  4.831000e-12   \n",
       "..                   ...           ...           ...           ...   \n",
       "808  10/10/2022 11:06:13  2.900000e-10  4.100000e-10  9.111000e-13   \n",
       "809  10/10/2022 11:06:19  2.900000e-10  4.100000e-10  1.040600e-12   \n",
       "810  10/10/2022 11:06:25  2.900000e-10  4.100000e-10  1.465700e-12   \n",
       "811  10/10/2022 11:06:30  2.900000e-10  4.100000e-10  2.576100e-12   \n",
       "812  10/10/2022 11:06:36  2.900000e-10  4.100000e-10  7.906400e-12   \n",
       "\n",
       "    Live comments  \n",
       "2             NaN  \n",
       "3             NaN  \n",
       "4             NaN  \n",
       "5             NaN  \n",
       "6             NaN  \n",
       "..            ...  \n",
       "808           NaN  \n",
       "809           NaN  \n",
       "810           NaN  \n",
       "811           NaN  \n",
       "812           NaN  \n",
       "\n",
       "[811 rows x 5 columns]"
      ]
     },
     "execution_count": 2,
     "metadata": {},
     "output_type": "execute_result"
    }
   ],
   "source": [
    "df= pd.read_table(\"grid opaque,em on,pumping_repeat measurement\",sep='\\t')\n",
    "df.drop(columns=['Full_Range_Turbo','Pirani_1','Injection','XHVTrap'], inplace=True)\n",
    "df.drop(labels=[0,1], axis=0)\n",
    "\n"
   ]
  },
  {
   "cell_type": "code",
   "execution_count": 3,
   "id": "ddb7e003",
   "metadata": {},
   "outputs": [],
   "source": [
    "timestamp=[]\n",
    "for i in df[\"Time\"]:\n",
    "    timestamp.append(i)\n",
    "#making the column into a datetime object\n",
    "timestamps=pd.to_datetime(df[\"Time\"],format=\"%d/%m/%Y %H:%M:%S\")\n"
   ]
  },
  {
   "cell_type": "code",
   "execution_count": 4,
   "id": "b07af336",
   "metadata": {
    "scrolled": true
   },
   "outputs": [
    {
     "name": "stdout",
     "output_type": "stream",
     "text": [
      "0     2022-10-10 09:58:55\n",
      "1     2022-10-10 09:58:56\n",
      "2     2022-10-10 09:59:02\n",
      "3     2022-10-10 09:59:03\n",
      "4     2022-10-10 09:59:04\n",
      "              ...        \n",
      "808   2022-10-10 11:06:13\n",
      "809   2022-10-10 11:06:19\n",
      "810   2022-10-10 11:06:25\n",
      "811   2022-10-10 11:06:30\n",
      "812   2022-10-10 11:06:36\n",
      "Name: Time, Length: 813, dtype: datetime64[ns]\n"
     ]
    }
   ],
   "source": [
    "print(timestamps)"
   ]
  },
  {
   "cell_type": "code",
   "execution_count": 5,
   "id": "d8dc942c",
   "metadata": {},
   "outputs": [],
   "source": [
    "#runtime=[]\n",
    "#for i in range(len(df[\"Timestamp\"])):\n",
    "#    runtime.append((timestamps[i]-timestamps[0]).dt.total_seconds())\n",
    "runtime=(timestamps-timestamps[0]).dt.total_seconds()    \n",
    "df.insert(1,\"Elapsed time\",runtime)\n"
   ]
  },
  {
   "cell_type": "code",
   "execution_count": 6,
   "id": "96ff7c9c",
   "metadata": {
    "scrolled": true
   },
   "outputs": [],
   "source": [
    "df.to_csv(\"processed data, grid repelling\")"
   ]
  },
  {
   "cell_type": "code",
   "execution_count": 7,
   "id": "475adc3f",
   "metadata": {},
   "outputs": [],
   "source": [
    "#overall pressure evolution\n",
    "plt.figure()\n",
    "plt.plot((df[\"Elapsed time\"]/3600),df['Penning_1'],marker=\".\", markersize=5,label='PE1')\n",
    "plt.plot((df[\"Elapsed time\"]/3600),df['Penning_2'],marker=\".\", markersize=5,label='PE2')\n",
    "plt.xlabel('Elapsed time (h)')\n",
    "plt.ylabel('Pressure (mbar)')\n",
    "plt.legend()\n",
    "plt.title(\"Pressure evolution, grid repelling\")\n",
    "plt.yscale('log')"
   ]
  }
 ],
 "metadata": {
  "kernelspec": {
   "display_name": "Python 3 (ipykernel)",
   "language": "python",
   "name": "python3"
  },
  "language_info": {
   "codemirror_mode": {
    "name": "ipython",
    "version": 3
   },
   "file_extension": ".py",
   "mimetype": "text/x-python",
   "name": "python",
   "nbconvert_exporter": "python",
   "pygments_lexer": "ipython3",
   "version": "3.9.12"
  }
 },
 "nbformat": 4,
 "nbformat_minor": 5
}
