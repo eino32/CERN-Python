{
 "cells": [
  {
   "cell_type": "code",
   "execution_count": 1,
   "id": "a6926c14",
   "metadata": {
    "scrolled": true
   },
   "outputs": [
    {
     "name": "stderr",
     "output_type": "stream",
     "text": [
      "C:\\Users\\etiirine\\Anaconda3\\lib\\site-packages\\scipy\\__init__.py:146: UserWarning: A NumPy version >=1.16.5 and <1.23.0 is required for this version of SciPy (detected version 1.23.2\n",
      "  warnings.warn(f\"A NumPy version >={np_minversion} and <{np_maxversion}\"\n"
     ]
    }
   ],
   "source": [
    "import pandas as pd\n",
    "from scipy.optimize import curve_fit\n",
    "import seaborn\n",
    "seaborn.set(style='whitegrid')\n",
    "import numpy as np\n",
    "import matplotlib.pyplot as plt\n",
    "from matplotlib.ticker import LogFormatter\n",
    "%matplotlib qt\n",
    "# %matplotlib inline\n",
    "from datetime import datetime, date"
   ]
  },
  {
   "cell_type": "markdown",
   "id": "752d6d3e",
   "metadata": {},
   "source": [
    "## Reading in the data"
   ]
  },
  {
   "cell_type": "code",
   "execution_count": null,
   "id": "13b9098c",
   "metadata": {
    "scrolled": false
   },
   "outputs": [],
   "source": [
    "#read in the data\n",
    "mid=pd.read_csv(\"sample out mid.tsv\", sep=\"\\t\", skiprows=lambda x: x <=11,  on_bad_lines=\"skip\")\n",
    "#add elapsed time columns\n",
    "timestamps1=pd.to_datetime(mid[\"mass 2.0_time\"],format=\"%Y/%m/%d %H:%M:%S\")\n",
    "timestamps2=pd.to_datetime(mid[\"mass 28.0_time\"],format=\"%Y/%m/%d %H:%M:%S\")\n",
    "timestamps3=pd.to_datetime(mid[\"mass 44.0_time\"],format=\"%Y/%m/%d %H:%M:%S\")\n",
    "\n",
    "runtime1=(timestamps1-timestamps1[0]).dt.total_seconds()    \n",
    "mid.insert(1,\"Elapsed time, mass 2\",runtime1)\n",
    "runtime2=(timestamps2-timestamps2[0]).dt.total_seconds()    \n",
    "mid.insert(10,\"Elapsed time, mass 28\",runtime2)\n",
    "runtime3=(timestamps3-timestamps2[0]).dt.total_seconds()    \n",
    "mid.insert(16,\"Elapsed time, mass 44\",runtime3)\n",
    "mid.head()\n"
   ]
  },
  {
   "cell_type": "code",
   "execution_count": null,
   "id": "c8e05e80",
   "metadata": {},
   "outputs": [],
   "source": [
    "#reading the Emission current, pressures\n",
    "vaclog=pd.read_csv(\"vaclog\", sep=\"\\t\")\n",
    "vaclog.head()\n",
    "#adding an elapsed time column\n",
    "timestamp=[]\n",
    "for i in vaclog[\"Time\"]:\n",
    "    timestamp.append(i)\n",
    "#making the column into a datetime object\n",
    "timestamps=pd.to_datetime(vaclog[\"Time\"],format=\"%d/%m/%Y %H:%M:%S\")\n",
    "runtime=(timestamps-timestamps[0]).dt.total_seconds()    \n",
    "vaclog.insert(2,\"Elapsed time\",runtime)\n",
    "vaclog.drop(index=vaclog.index[0], \n",
    "        axis=0, \n",
    "        inplace=True)\n",
    "\n",
    "vaclog.head()"
   ]
  },
  {
   "cell_type": "code",
   "execution_count": null,
   "id": "697c192b",
   "metadata": {
    "scrolled": true
   },
   "outputs": [],
   "source": [
    "#Reading in the HiVolta measurement file to get the grid current\n",
    "hv = pd.read_csv(\"hv log\", sep=\",\")\n",
    "#hv.drop(columns=[\"Vmon1\",\"Vmon2\",\"Vmon3\",\"Vmon4\",\"Vmon5\",\"Vmon6\",\"Vmon7\",\"Vmon8\",\"Imon3\",\"Imon4\",\"Imon5\",\"Imon6\",\"Imon7\",\"Imon8\",\"Comments1\"], inplace=True)\n",
    "hv[\"hv_grid\"]=[element * 1e-6 for element in hv[\"IMon1\"]]\n",
    "hv[\"em\"]=[element * 1e-6 for element in hv[\"IMon2\"]]\n",
    "hv.drop(hv.columns[hv.columns.str.contains('Unnamed',case = False)],axis = 1, inplace = True)\n",
    "hv[\"em\"]=abs(hv[\"em\"])\n",
    "hv[\"hv_grid\"]=abs(hv[\"hv_grid\"])\n",
    "\n",
    "#adding an elapsed time column\n",
    "timestamp=[]\n",
    "for i in hv[\"Time\"]:\n",
    "    timestamp.append(i)\n",
    "    \n",
    "#making the column into a datetime object\n",
    "timestamps=pd.to_datetime(hv[\"Time\"],format=\"%H:%M:%S.%f\")\n",
    "runtime=(timestamps-timestamps[0]).dt.total_seconds()    \n",
    "hv.insert(2,\"Elapsed time\",runtime)\n",
    "hv.drop(index=hv.index[0], \n",
    "        axis=0, \n",
    "        inplace=True)\n",
    "\n",
    "hv.describe()\n",
    "\n"
   ]
  },
  {
   "cell_type": "markdown",
   "id": "395b3e4c",
   "metadata": {},
   "source": [
    "### Position of the EGA\n",
    "\n",
    " "
   ]
  },
  {
   "cell_type": "markdown",
   "id": "63cc0f7b",
   "metadata": {},
   "source": [
    "<div>\n",
    "<img src=\"20221117_142845-Copy1.jpg\" width=\"1000\"/>\n",
    "</div>"
   ]
  },
  {
   "cell_type": "markdown",
   "id": "0f4290fc",
   "metadata": {},
   "source": [
    "### Data processing"
   ]
  },
  {
   "cell_type": "code",
   "execution_count": null,
   "id": "4e32e940",
   "metadata": {},
   "outputs": [],
   "source": [
    "#Plotting the all the relevant MID spectrums\n",
    "plt.figure(figsize=(14,8))\n",
    "plt.plot(mid['Elapsed time, mass 2'],mid[\"mass 2.0_value\"],marker=\".\", markersize=4,label='h2')\n",
    "plt.plot(mid['Elapsed time, mass 28'],mid[\"mass 28.0_value\"],marker=\".\", markersize=4,label='co')\n",
    "plt.plot(mid['Elapsed time, mass 44'],mid[\"mass 44.0_value\"],marker=\".\", markersize=4,label='co2')\n",
    "plt.xlabel('Elapsed time (s)')\n",
    "plt.ylabel('Ion current (A)')\n",
    "plt.legend(title=\"Mol masses\", loc=\"upper right\")\n",
    "plt.title(\"RGA scans overlay\")\n",
    "plt.yscale('log')\n"
   ]
  },
  {
   "cell_type": "code",
   "execution_count": null,
   "id": "3fd8abc3",
   "metadata": {
    "scrolled": false
   },
   "outputs": [],
   "source": [
    "#Filtering background signal\n",
    "\n",
    "#Find the timestamp where emission was turned on\n",
    "#print(\"Result 1:\",hv.loc[hv[\"Comment\"]==\"emission start\"])\n",
    "x=pd.Timestamp(2022, 11, 10, 17,12, 45)\n",
    "\n",
    "#then find the time value closest to it in the MID scan file\n",
    "print(\"\\n\",\"Result 2:\",mid.iloc[(pd.to_datetime(mid['mass 2.0_time'],format=\"%Y/%m/%d %H:%M:%S\") - x).abs().argsort(),:])\n",
    "\n",
    "#average the signal before this timestamp and subtract it from the Em-on part\n",
    "bck=np.mean(mid[\"mass 40.0_value\"])\n",
    "print(\"\\n\",\"Result 3:\",bck)\n",
    "\n",
    "#apply background correction to the rest of the mass spectrum\n",
    "mid[\"mass 2, corr\"]=mid[\"mass 2.0_value\"]-bck\n",
    "print(\"Res 1:\",mid[\"mass 2, corr\"].describe())\n",
    "\n",
    "\n",
    "#From the signal, get the partial pressures \n",
    "h2_sens=2.13e-2\n",
    "p_h2=mid[\"mass 2, corr\"][102:195]/h2_sens\n",
    "print(p_h2.describe())\n",
    "\n",
    "#baseline for partial pressure delta\n",
    "base_h2=mid[\"mass 2, corr\"][0:102]/h2_sens\n",
    "base_h2.describe()"
   ]
  },
  {
   "cell_type": "code",
   "execution_count": null,
   "id": "52f2a767",
   "metadata": {},
   "outputs": [],
   "source": [
    "#CO\n",
    "\n",
    "#Find the timestamp where emission was turned on\n",
    "#print(\"Result 1:\",hv.loc[hv[\"Comment\"]==\"emission start\"])\n",
    "x=pd.Timestamp(2022, 11, 10, 17,12, 45)\n",
    "\n",
    "#then find the time value closest to it in the MID scan file\n",
    "print(\"\\n\",\"Result 2:\",mid.iloc[(pd.to_datetime(mid['mass 28.0_time'],format=\"%Y/%m/%d %H:%M:%S\") - x).abs().argsort(),:])\n",
    "\n",
    "#average this signal and subtract it from the Em-on part\n",
    "bck=np.mean(mid[\"mass 28.0_value\"][0:102])\n",
    "print(\"\\n\",\"Result 3:\",bck)\n",
    "\n",
    "#apply background correction to the rest of the mass spectrum\n",
    "mid[\"mass 28, corr\"]=mid[\"mass 28.0_value\"][102:]-bck\n",
    "mid[\"mass 28, corr\"].describe()\n",
    "\n",
    "#getting the differential spectrum\n",
    "#first get the timestamp where grid voltage was changed to -500V\n",
    "print(\"Location:\",hv.loc[hv[\"Comment\"]==\"grid repelling\"])\n",
    "y=pd.Timestamp(2022, 11, 10, 17,22, 56)\n",
    "\n",
    "#then find the time value closest to it in the MID scan file\n",
    "print(\"\\n\",\"Result 4:\",mid.iloc[(pd.to_datetime(mid['mass 28.0_time'],format=\"%Y/%m/%d %H:%M:%S\") - y).abs().argsort(),:])\n",
    "\n",
    "#subtract grid repelling from grid transparent\n",
    "#getting the mean signal when grid is repelling\n",
    "grid2=np.mean(mid[\"mass 28, corr\"][195:])\n",
    "mid[\"sample sig, mass 28\"]=mid[\"mass 28, corr\"][102:195]-grid2\n",
    "mid[\"sample sig, mass 28\"].describe()\n"
   ]
  },
  {
   "cell_type": "markdown",
   "id": "b5accc7c",
   "metadata": {},
   "source": [
    "### Plotting"
   ]
  },
  {
   "cell_type": "code",
   "execution_count": null,
   "id": "3805e1d1",
   "metadata": {},
   "outputs": [],
   "source": [
    "#plotting HiVolta log\n",
    "plt.figure(figsize=(12,6))\n",
    "plt.plot(hv[\"Elapsed time\"],hv[\"hv_grid\"],marker=\".\", markersize=4,label='Grid current')\n",
    "plt.plot(hv[\"Elapsed time\"],hv[\"em\"],marker=\".\", markersize=4,label='Emission current')\n",
    "plt.xlabel('Elapsed time (h)')\n",
    "plt.ylabel('Current (A)')\n",
    "plt.legend(loc=\"upper right\")\n",
    "plt.title(\"HiVolta current recording\")\n",
    "plt.yscale('log')\n"
   ]
  },
  {
   "cell_type": "code",
   "execution_count": null,
   "id": "579435aa",
   "metadata": {},
   "outputs": [],
   "source": [
    "#Plotting BA2, BA1 pressure\n",
    "plt.figure(figsize=(10,6))\n",
    "plt.plot(vaclog[\"Elapsed time\"]/3600,vaclog[\"Barion_2\"],marker=\".\", markersize=4,label='Barion 2 pressure reading')\n",
    "plt.plot(vaclog[\"Elapsed time\"]/3600,vaclog[\"Barion_1\"],marker=\".\", markersize=4,label='Barion 1 pressure reading')\n",
    "\n",
    "plt.xlabel('Elapsed time (h)')\n",
    "plt.ylabel('Pressure (mbar)')\n",
    "plt.legend()\n",
    "plt.title(\"Barion 2 pressure evolution\")\n",
    "ax = plt.gca()\n",
    "ax.set_yscale('log')\n",
    "plt.tick_params(axis=\"y\", which='minor')\n",
    "ax.yaxis.set_minor_formatter(LogFormatter(minor_thresholds=(2,0.5)))\n",
    "plt.show()"
   ]
  },
  {
   "cell_type": "markdown",
   "id": "5aeb15fb",
   "metadata": {},
   "source": [
    "# Primary desorption calculation method\n",
    "### Elena's formula for the cryo setup\n",
    "$$\n",
    "\\eta=\\frac{C_{H2}\\cdot (\\Delta p_1 - \\Delta p_2)q_e}{k_B\\cdot T \\cdot I_e}\n",
    "$$\n",
    "\n",
    "Where $\\Delta p_i=p(t)_i - p(t=0)_i$ and $i=1,2$\n",
    "In the case of the 4K setup, we know the exact conductance of gasses. The formula above applies well.\n"
   ]
  },
  {
   "cell_type": "code",
   "execution_count": null,
   "id": "2d01bc9a",
   "metadata": {
    "scrolled": true
   },
   "outputs": [],
   "source": [
    "#calculation delta_p-s\n",
    "dp1 = (np.mean(p_h2)-np.mean(base_h2))*100\n",
    "print(dp1)\n",
    "\n",
    "#Constants\n",
    "k_B = 1.38e-23\n",
    "T = 296\n",
    "q_e = 1.6e-19\n",
    "c_h2 = 37.91/1000\n",
    "s_h2=42/1000\n",
    "x_h2=1/((1/c_h2)+(1/s_h2))\n",
    "print(x_h2)\n",
    "#Emission current\n",
    "I_em = np.mean(hv[\"em\"].nlargest(30))\n",
    "print(I_em)\n",
    "#Conductance for CO in m3/s\n",
    "c_co=10.13/1000\n",
    "c_co2 = 8.08/1000\n"
   ]
  },
  {
   "cell_type": "code",
   "execution_count": null,
   "id": "5b47396f",
   "metadata": {},
   "outputs": [],
   "source": [
    "#Desorption yield\n",
    "eta_h2 = (x_h2*dp1*q_e)/(k_B*T*I_em)\n",
    "#eta_co = (c_co*(dp1-dp2)*q_e)/(k_B*T*I_em)\n",
    "print(\"The desorption yield for H2 [mol/el]:\",eta_h2,\"\\n\",)#\"\"The desorption yield for CO2 [mol/el]:\",eta_co2)"
   ]
  }
 ],
 "metadata": {
  "kernelspec": {
   "display_name": "Python 3 (ipykernel)",
   "language": "python",
   "name": "python3"
  },
  "language_info": {
   "codemirror_mode": {
    "name": "ipython",
    "version": 3
   },
   "file_extension": ".py",
   "mimetype": "text/x-python",
   "name": "python",
   "nbconvert_exporter": "python",
   "pygments_lexer": "ipython3",
   "version": "3.9.12"
  }
 },
 "nbformat": 4,
 "nbformat_minor": 5
}
