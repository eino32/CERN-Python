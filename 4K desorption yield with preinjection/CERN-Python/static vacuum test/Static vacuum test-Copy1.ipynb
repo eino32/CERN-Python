{
 "cells": [
  {
   "cell_type": "code",
   "execution_count": 1,
   "id": "e16e2e4b",
   "metadata": {
    "scrolled": true
   },
   "outputs": [
    {
     "name": "stderr",
     "output_type": "stream",
     "text": [
      "C:\\Users\\etiirine\\Anaconda3\\lib\\site-packages\\scipy\\__init__.py:146: UserWarning: A NumPy version >=1.16.5 and <1.23.0 is required for this version of SciPy (detected version 1.23.2\n",
      "  warnings.warn(f\"A NumPy version >={np_minversion} and <{np_maxversion}\"\n"
     ]
    }
   ],
   "source": [
    "import pandas as pd\n",
    "from scipy.optimize import curve_fit\n",
    "import seaborn\n",
    "seaborn.set(style='whitegrid')\n",
    "import numpy as np\n",
    "import matplotlib.pyplot as plt\n",
    "%matplotlib qt\n",
    "# %matplotlib inline\n",
    "from datetime import datetime, date\n"
   ]
  },
  {
   "cell_type": "code",
   "execution_count": 2,
   "id": "dea72e37",
   "metadata": {
    "scrolled": true
   },
   "outputs": [
    {
     "data": {
      "text/html": [
       "<div>\n",
       "<style scoped>\n",
       "    .dataframe tbody tr th:only-of-type {\n",
       "        vertical-align: middle;\n",
       "    }\n",
       "\n",
       "    .dataframe tbody tr th {\n",
       "        vertical-align: top;\n",
       "    }\n",
       "\n",
       "    .dataframe thead th {\n",
       "        text-align: right;\n",
       "    }\n",
       "</style>\n",
       "<table border=\"1\" class=\"dataframe\">\n",
       "  <thead>\n",
       "    <tr style=\"text-align: right;\">\n",
       "      <th></th>\n",
       "      <th>Time</th>\n",
       "      <th>Penning_1</th>\n",
       "      <th>Penning_2</th>\n",
       "      <th>Live comments</th>\n",
       "    </tr>\n",
       "  </thead>\n",
       "  <tbody>\n",
       "    <tr>\n",
       "      <th>0</th>\n",
       "      <td>28/09/2022 14:54:30</td>\n",
       "      <td>3.400000e-10</td>\n",
       "      <td>4.400000e-10</td>\n",
       "      <td>NaN</td>\n",
       "    </tr>\n",
       "    <tr>\n",
       "      <th>1</th>\n",
       "      <td>28/09/2022 14:54:34</td>\n",
       "      <td>3.400000e-10</td>\n",
       "      <td>4.400000e-10</td>\n",
       "      <td>Static vacuum test, Penning +RGA MID</td>\n",
       "    </tr>\n",
       "    <tr>\n",
       "      <th>2</th>\n",
       "      <td>28/09/2022 14:54:45</td>\n",
       "      <td>3.400000e-10</td>\n",
       "      <td>4.400000e-10</td>\n",
       "      <td>NaN</td>\n",
       "    </tr>\n",
       "    <tr>\n",
       "      <th>3</th>\n",
       "      <td>28/09/2022 14:54:55</td>\n",
       "      <td>3.400000e-10</td>\n",
       "      <td>4.400000e-10</td>\n",
       "      <td>Under dynamic vacuum</td>\n",
       "    </tr>\n",
       "    <tr>\n",
       "      <th>4</th>\n",
       "      <td>28/09/2022 14:55:05</td>\n",
       "      <td>3.400000e-10</td>\n",
       "      <td>4.400000e-10</td>\n",
       "      <td>NaN</td>\n",
       "    </tr>\n",
       "  </tbody>\n",
       "</table>\n",
       "</div>"
      ],
      "text/plain": [
       "                  Time     Penning_1     Penning_2  \\\n",
       "0  28/09/2022 14:54:30  3.400000e-10  4.400000e-10   \n",
       "1  28/09/2022 14:54:34  3.400000e-10  4.400000e-10   \n",
       "2  28/09/2022 14:54:45  3.400000e-10  4.400000e-10   \n",
       "3  28/09/2022 14:54:55  3.400000e-10  4.400000e-10   \n",
       "4  28/09/2022 14:55:05  3.400000e-10  4.400000e-10   \n",
       "\n",
       "                          Live comments  \n",
       "0                                   NaN  \n",
       "1  Static vacuum test, Penning +RGA MID  \n",
       "2                                   NaN  \n",
       "3                  Under dynamic vacuum  \n",
       "4                                   NaN  "
      ]
     },
     "execution_count": 2,
     "metadata": {},
     "output_type": "execute_result"
    }
   ],
   "source": [
    "df= pd.read_table(\"Static vacuum test after bakeout.txt\",sep='\\t')\n",
    "df.drop(columns=['Full_Range_Turbo','Pirani_1','Injection','XHVTrap','I_Em'], inplace=True)\n",
    "\n",
    "df.head()"
   ]
  },
  {
   "cell_type": "code",
   "execution_count": 3,
   "id": "ddb7e003",
   "metadata": {},
   "outputs": [],
   "source": [
    "timestamp=[]\n",
    "for i in df[\"Time\"]:\n",
    "    timestamp.append(i[11:])\n",
    "df.insert(1,\"Timestamp\",timestamp)\n",
    "#making the column into a datetime object\n",
    "timestamps=pd.to_datetime(df[\"Time\"],format=\"%d/%m/%Y %H:%M:%S\")\n"
   ]
  },
  {
   "cell_type": "code",
   "execution_count": 4,
   "id": "b07af336",
   "metadata": {
    "scrolled": true
   },
   "outputs": [
    {
     "name": "stdout",
     "output_type": "stream",
     "text": [
      "0      2022-09-28 14:54:30\n",
      "1      2022-09-28 14:54:34\n",
      "2      2022-09-28 14:54:45\n",
      "3      2022-09-28 14:54:55\n",
      "4      2022-09-28 14:55:05\n",
      "               ...        \n",
      "8450   2022-09-29 09:58:52\n",
      "8451   2022-09-29 09:58:53\n",
      "8452   2022-09-29 09:59:04\n",
      "8453   2022-09-29 09:59:05\n",
      "8454   2022-09-29 09:59:07\n",
      "Name: Time, Length: 8455, dtype: datetime64[ns]\n"
     ]
    }
   ],
   "source": [
    "print(timestamps)"
   ]
  },
  {
   "cell_type": "code",
   "execution_count": 5,
   "id": "d8dc942c",
   "metadata": {},
   "outputs": [],
   "source": [
    "#runtime=[]\n",
    "#for i in range(len(df[\"Timestamp\"])):\n",
    "#    runtime.append((timestamps[i]-timestamps[0]).dt.total_seconds())\n",
    "runtime=(timestamps-timestamps[0]).dt.total_seconds()    \n",
    "df.insert(2,\"Elapsed time\",runtime)\n"
   ]
  },
  {
   "cell_type": "code",
   "execution_count": 6,
   "id": "96ff7c9c",
   "metadata": {},
   "outputs": [
    {
     "data": {
      "text/html": [
       "<div>\n",
       "<style scoped>\n",
       "    .dataframe tbody tr th:only-of-type {\n",
       "        vertical-align: middle;\n",
       "    }\n",
       "\n",
       "    .dataframe tbody tr th {\n",
       "        vertical-align: top;\n",
       "    }\n",
       "\n",
       "    .dataframe thead th {\n",
       "        text-align: right;\n",
       "    }\n",
       "</style>\n",
       "<table border=\"1\" class=\"dataframe\">\n",
       "  <thead>\n",
       "    <tr style=\"text-align: right;\">\n",
       "      <th></th>\n",
       "      <th>Time</th>\n",
       "      <th>Timestamp</th>\n",
       "      <th>Elapsed time</th>\n",
       "      <th>Penning_1</th>\n",
       "      <th>Penning_2</th>\n",
       "      <th>Live comments</th>\n",
       "    </tr>\n",
       "  </thead>\n",
       "  <tbody>\n",
       "    <tr>\n",
       "      <th>0</th>\n",
       "      <td>28/09/2022 14:54:30</td>\n",
       "      <td>14:54:30</td>\n",
       "      <td>0.0</td>\n",
       "      <td>3.400000e-10</td>\n",
       "      <td>4.400000e-10</td>\n",
       "      <td>NaN</td>\n",
       "    </tr>\n",
       "    <tr>\n",
       "      <th>1</th>\n",
       "      <td>28/09/2022 14:54:34</td>\n",
       "      <td>14:54:34</td>\n",
       "      <td>4.0</td>\n",
       "      <td>3.400000e-10</td>\n",
       "      <td>4.400000e-10</td>\n",
       "      <td>Static vacuum test, Penning +RGA MID</td>\n",
       "    </tr>\n",
       "    <tr>\n",
       "      <th>2</th>\n",
       "      <td>28/09/2022 14:54:45</td>\n",
       "      <td>14:54:45</td>\n",
       "      <td>15.0</td>\n",
       "      <td>3.400000e-10</td>\n",
       "      <td>4.400000e-10</td>\n",
       "      <td>NaN</td>\n",
       "    </tr>\n",
       "    <tr>\n",
       "      <th>3</th>\n",
       "      <td>28/09/2022 14:54:55</td>\n",
       "      <td>14:54:55</td>\n",
       "      <td>25.0</td>\n",
       "      <td>3.400000e-10</td>\n",
       "      <td>4.400000e-10</td>\n",
       "      <td>Under dynamic vacuum</td>\n",
       "    </tr>\n",
       "    <tr>\n",
       "      <th>4</th>\n",
       "      <td>28/09/2022 14:55:05</td>\n",
       "      <td>14:55:05</td>\n",
       "      <td>35.0</td>\n",
       "      <td>3.400000e-10</td>\n",
       "      <td>4.400000e-10</td>\n",
       "      <td>NaN</td>\n",
       "    </tr>\n",
       "  </tbody>\n",
       "</table>\n",
       "</div>"
      ],
      "text/plain": [
       "                  Time Timestamp  Elapsed time     Penning_1     Penning_2  \\\n",
       "0  28/09/2022 14:54:30  14:54:30           0.0  3.400000e-10  4.400000e-10   \n",
       "1  28/09/2022 14:54:34  14:54:34           4.0  3.400000e-10  4.400000e-10   \n",
       "2  28/09/2022 14:54:45  14:54:45          15.0  3.400000e-10  4.400000e-10   \n",
       "3  28/09/2022 14:54:55  14:54:55          25.0  3.400000e-10  4.400000e-10   \n",
       "4  28/09/2022 14:55:05  14:55:05          35.0  3.400000e-10  4.400000e-10   \n",
       "\n",
       "                          Live comments  \n",
       "0                                   NaN  \n",
       "1  Static vacuum test, Penning +RGA MID  \n",
       "2                                   NaN  \n",
       "3                  Under dynamic vacuum  \n",
       "4                                   NaN  "
      ]
     },
     "execution_count": 6,
     "metadata": {},
     "output_type": "execute_result"
    }
   ],
   "source": [
    "df.head()"
   ]
  },
  {
   "cell_type": "code",
   "execution_count": 9,
   "id": "475adc3f",
   "metadata": {},
   "outputs": [],
   "source": [
    "#overall pressure evolution\n",
    "plt.figure()\n",
    "plt.plot((df[\"Elapsed time\"]/3600),df['Penning_1'],marker=\".\", markersize=5,label='PE1')\n",
    "plt.plot((df[\"Elapsed time\"]/3600),df['Penning_2'],marker=\".\", markersize=5,label='PE2')\n",
    "plt.xlabel('Elapsed time (h)')\n",
    "plt.ylabel('Pressure (mbar)')\n",
    "plt.legend()\n",
    "plt.title(\"RT setup pressure evolution\")\n",
    "plt.yscale('log')"
   ]
  },
  {
   "cell_type": "code",
   "execution_count": 10,
   "id": "83eb1585",
   "metadata": {},
   "outputs": [
    {
     "name": "stdout",
     "output_type": "stream",
     "text": [
      "0      4.400000e-10\n",
      "1      4.400000e-10\n",
      "2      4.400000e-10\n",
      "3      4.400000e-10\n",
      "4      4.400000e-10\n",
      "           ...     \n",
      "546    1.300000e-06\n",
      "547    1.300000e-06\n",
      "548    1.400000e-06\n",
      "549    1.500000e-06\n",
      "550    1.600000e-06\n",
      "Name: Penning_2, Length: 551, dtype: float64\n"
     ]
    }
   ],
   "source": [
    "#sorting out values which are in the static vacuum region\n",
    "#use only PE2, due to being more representative of the experiment area in the chamber\n",
    "values=[]\n",
    "statvac=df[\"Penning_2\"][0:np.argmax(df[\"Penning_2\"])]\n",
    "timeperiod=df[\"Elapsed time\"][0:np.argmax(df[\"Penning_2\"])]\n",
    "print(statvac)\n",
    "                                        "
   ]
  },
  {
   "cell_type": "code",
   "execution_count": 11,
   "id": "6a09a7b3",
   "metadata": {},
   "outputs": [],
   "source": [
    "#plotting the pressure evolution of the static vacuum \n",
    "plt.figure()\n",
    "plt.plot((timeperiod/60),statvac,marker=\".\", markersize=5,label='PE2')\n",
    "plt.xlabel('Elapsed time (min)')\n",
    "plt.ylabel('Pressure (mbar)')\n",
    "plt.legend()\n",
    "plt.title('RT setup pressure evolution under static vacuum')\n",
    "plt.yscale('log')"
   ]
  },
  {
   "cell_type": "code",
   "execution_count": null,
   "id": "a0b6597c",
   "metadata": {},
   "outputs": [],
   "source": []
  },
  {
   "cell_type": "code",
   "execution_count": null,
   "id": "f3b077f7",
   "metadata": {},
   "outputs": [],
   "source": []
  },
  {
   "cell_type": "code",
   "execution_count": null,
   "id": "aae0fc75",
   "metadata": {},
   "outputs": [],
   "source": []
  }
 ],
 "metadata": {
  "kernelspec": {
   "display_name": "Python 3 (ipykernel)",
   "language": "python",
   "name": "python3"
  },
  "language_info": {
   "codemirror_mode": {
    "name": "ipython",
    "version": 3
   },
   "file_extension": ".py",
   "mimetype": "text/x-python",
   "name": "python",
   "nbconvert_exporter": "python",
   "pygments_lexer": "ipython3",
   "version": "3.9.12"
  }
 },
 "nbformat": 4,
 "nbformat_minor": 5
}
