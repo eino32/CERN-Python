{
 "cells": [
  {
   "cell_type": "code",
   "execution_count": 1,
   "id": "1d8cf751",
   "metadata": {},
   "outputs": [
    {
     "name": "stderr",
     "output_type": "stream",
     "text": [
      "C:\\Users\\etiirine\\Anaconda3\\lib\\site-packages\\scipy\\__init__.py:146: UserWarning: A NumPy version >=1.16.5 and <1.23.0 is required for this version of SciPy (detected version 1.23.2\n",
      "  warnings.warn(f\"A NumPy version >={np_minversion} and <{np_maxversion}\"\n"
     ]
    }
   ],
   "source": [
    "import pandas as pd\n",
    "from scipy.optimize import curve_fit\n",
    "import seaborn\n",
    "seaborn.set(style='whitegrid')\n",
    "import numpy as np\n",
    "import matplotlib.pyplot as plt\n",
    "%matplotlib qt\n",
    "# %matplotlib inline\n",
    "from datetime import datetime, date\n"
   ]
  },
  {
   "cell_type": "code",
   "execution_count": 2,
   "id": "855bcfa4",
   "metadata": {},
   "outputs": [],
   "source": [
    "#read in the data\n",
    "pre=pd.read_csv(\"before injection mass scan.tsv\", sep='\\t', index_col=False, skiprows=lambda x: x <=19)\n",
    "\n",
    "pre[\"Mass\"]=pre['Mass'].round(1)\n",
    "\n",
    "#rem negative vals\n",
    "pre[pre < 0] = 0\n",
    "pre=pre.iloc[::-1]\n",
    "\n"
   ]
  },
  {
   "cell_type": "code",
   "execution_count": 3,
   "id": "0d84bdca",
   "metadata": {},
   "outputs": [
    {
     "data": {
      "text/html": [
       "<div>\n",
       "<style scoped>\n",
       "    .dataframe tbody tr th:only-of-type {\n",
       "        vertical-align: middle;\n",
       "    }\n",
       "\n",
       "    .dataframe tbody tr th {\n",
       "        vertical-align: top;\n",
       "    }\n",
       "\n",
       "    .dataframe thead th {\n",
       "        text-align: right;\n",
       "    }\n",
       "</style>\n",
       "<table border=\"1\" class=\"dataframe\">\n",
       "  <thead>\n",
       "    <tr style=\"text-align: right;\">\n",
       "      <th></th>\n",
       "      <th>Mass</th>\n",
       "      <th>Current</th>\n",
       "    </tr>\n",
       "  </thead>\n",
       "  <tbody>\n",
       "    <tr>\n",
       "      <th>490</th>\n",
       "      <td>1.0</td>\n",
       "      <td>3.654900e-12</td>\n",
       "    </tr>\n",
       "    <tr>\n",
       "      <th>489</th>\n",
       "      <td>1.1</td>\n",
       "      <td>2.633700e-12</td>\n",
       "    </tr>\n",
       "    <tr>\n",
       "      <th>488</th>\n",
       "      <td>1.2</td>\n",
       "      <td>2.042500e-12</td>\n",
       "    </tr>\n",
       "    <tr>\n",
       "      <th>487</th>\n",
       "      <td>1.3</td>\n",
       "      <td>1.558700e-12</td>\n",
       "    </tr>\n",
       "    <tr>\n",
       "      <th>486</th>\n",
       "      <td>1.4</td>\n",
       "      <td>1.505000e-12</td>\n",
       "    </tr>\n",
       "    <tr>\n",
       "      <th>485</th>\n",
       "      <td>1.5</td>\n",
       "      <td>1.451200e-12</td>\n",
       "    </tr>\n",
       "    <tr>\n",
       "      <th>484</th>\n",
       "      <td>1.6</td>\n",
       "      <td>2.580000e-12</td>\n",
       "    </tr>\n",
       "    <tr>\n",
       "      <th>483</th>\n",
       "      <td>1.7</td>\n",
       "      <td>4.783700e-12</td>\n",
       "    </tr>\n",
       "    <tr>\n",
       "      <th>482</th>\n",
       "      <td>1.8</td>\n",
       "      <td>7.148700e-12</td>\n",
       "    </tr>\n",
       "    <tr>\n",
       "      <th>481</th>\n",
       "      <td>1.9</td>\n",
       "      <td>8.868700e-12</td>\n",
       "    </tr>\n",
       "  </tbody>\n",
       "</table>\n",
       "</div>"
      ],
      "text/plain": [
       "     Mass       Current\n",
       "490   1.0  3.654900e-12\n",
       "489   1.1  2.633700e-12\n",
       "488   1.2  2.042500e-12\n",
       "487   1.3  1.558700e-12\n",
       "486   1.4  1.505000e-12\n",
       "485   1.5  1.451200e-12\n",
       "484   1.6  2.580000e-12\n",
       "483   1.7  4.783700e-12\n",
       "482   1.8  7.148700e-12\n",
       "481   1.9  8.868700e-12"
      ]
     },
     "execution_count": 3,
     "metadata": {},
     "output_type": "execute_result"
    }
   ],
   "source": [
    "#read in the data\n",
    "inj=pd.read_csv(\"during injection RGA scan.tsv\", sep='\\t', index_col=False, skiprows=lambda x: x <=19)\n",
    "inj[\"Mass\"]=inj['Mass'].round(1)\n",
    "#remove negative values\n",
    "inj[inj < 0] = 0\n",
    "inj.head(10)\n",
    "inj=inj.iloc[::-1]\n",
    "inj.head(10)\n"
   ]
  },
  {
   "cell_type": "code",
   "execution_count": 4,
   "id": "300d70ad",
   "metadata": {},
   "outputs": [
    {
     "data": {
      "text/html": [
       "<div>\n",
       "<style scoped>\n",
       "    .dataframe tbody tr th:only-of-type {\n",
       "        vertical-align: middle;\n",
       "    }\n",
       "\n",
       "    .dataframe tbody tr th {\n",
       "        vertical-align: top;\n",
       "    }\n",
       "\n",
       "    .dataframe thead th {\n",
       "        text-align: right;\n",
       "    }\n",
       "</style>\n",
       "<table border=\"1\" class=\"dataframe\">\n",
       "  <thead>\n",
       "    <tr style=\"text-align: right;\">\n",
       "      <th></th>\n",
       "      <th>Time</th>\n",
       "      <th>Elapsed time</th>\n",
       "      <th>injection 100mbar</th>\n",
       "      <th>Barion_2</th>\n",
       "      <th>Barion_1</th>\n",
       "      <th>injection 1mbar</th>\n",
       "    </tr>\n",
       "  </thead>\n",
       "  <tbody>\n",
       "    <tr>\n",
       "      <th>0</th>\n",
       "      <td>19/10/2022 14:23:33</td>\n",
       "      <td>0.0</td>\n",
       "      <td>-0.062245</td>\n",
       "      <td>3.270000e-09</td>\n",
       "      <td>1.060000e-09</td>\n",
       "      <td>0.000454</td>\n",
       "    </tr>\n",
       "    <tr>\n",
       "      <th>1</th>\n",
       "      <td>19/10/2022 14:23:43</td>\n",
       "      <td>10.0</td>\n",
       "      <td>-0.062296</td>\n",
       "      <td>3.270000e-09</td>\n",
       "      <td>1.060000e-09</td>\n",
       "      <td>0.000454</td>\n",
       "    </tr>\n",
       "    <tr>\n",
       "      <th>2</th>\n",
       "      <td>19/10/2022 14:23:54</td>\n",
       "      <td>21.0</td>\n",
       "      <td>-0.061974</td>\n",
       "      <td>3.280000e-09</td>\n",
       "      <td>1.060000e-09</td>\n",
       "      <td>0.000454</td>\n",
       "    </tr>\n",
       "    <tr>\n",
       "      <th>3</th>\n",
       "      <td>19/10/2022 14:24:04</td>\n",
       "      <td>31.0</td>\n",
       "      <td>-0.062394</td>\n",
       "      <td>3.270000e-09</td>\n",
       "      <td>1.060000e-09</td>\n",
       "      <td>0.000467</td>\n",
       "    </tr>\n",
       "    <tr>\n",
       "      <th>4</th>\n",
       "      <td>19/10/2022 14:24:14</td>\n",
       "      <td>41.0</td>\n",
       "      <td>-0.062567</td>\n",
       "      <td>3.270000e-09</td>\n",
       "      <td>1.070000e-09</td>\n",
       "      <td>0.000451</td>\n",
       "    </tr>\n",
       "  </tbody>\n",
       "</table>\n",
       "</div>"
      ],
      "text/plain": [
       "                  Time  Elapsed time  injection 100mbar      Barion_2  \\\n",
       "0  19/10/2022 14:23:33           0.0          -0.062245  3.270000e-09   \n",
       "1  19/10/2022 14:23:43          10.0          -0.062296  3.270000e-09   \n",
       "2  19/10/2022 14:23:54          21.0          -0.061974  3.280000e-09   \n",
       "3  19/10/2022 14:24:04          31.0          -0.062394  3.270000e-09   \n",
       "4  19/10/2022 14:24:14          41.0          -0.062567  3.270000e-09   \n",
       "\n",
       "       Barion_1  injection 1mbar  \n",
       "0  1.060000e-09         0.000454  \n",
       "1  1.060000e-09         0.000454  \n",
       "2  1.060000e-09         0.000454  \n",
       "3  1.060000e-09         0.000467  \n",
       "4  1.070000e-09         0.000451  "
      ]
     },
     "execution_count": 4,
     "metadata": {},
     "output_type": "execute_result"
    }
   ],
   "source": [
    "#pressures\n",
    "#read in the data\n",
    "p= pd.read_csv(\"RGA calibration with N2\", sep='\\t', index_col=False)\n",
    "p.drop(columns=[\"Live comments\",\"I_emission\",\"I_grid\",\"T-platinum\",\"T-CERNOX\",\"helium\",\"DUAL.1\"], inplace=True)\n",
    "p=p.set_axis(['Time', 'injection 100mbar', 'Barion_2', 'Barion_1', 'injection 1mbar'], axis=1, inplace=False)\n",
    "#add elapsed time\n",
    "\n",
    "timestamps=pd.to_datetime(p[\"Time\"],format=\"%d/%m/%Y %H:%M:%S\")\n",
    "runtime=(timestamps-timestamps[0]).dt.total_seconds()    \n",
    "p.insert(1,\"Elapsed time\",runtime)\n",
    "p.head()\n"
   ]
  },
  {
   "cell_type": "code",
   "execution_count": 5,
   "id": "c5b40ddb",
   "metadata": {},
   "outputs": [],
   "source": [
    "#plotting pressures\n",
    "plt.figure()\n",
    "plt.plot((p[\"Elapsed time\"]/3600),p['Barion_1'],marker=\".\", markersize=5,label='BA1')\n",
    "plt.xlabel('Elapsed time (h)')\n",
    "plt.ylabel('Pressure (mbar)')\n",
    "plt.legend()\n",
    "plt.title(\"Pressure evolution during injection\")\n",
    "plt.yscale('log')"
   ]
  },
  {
   "cell_type": "code",
   "execution_count": 6,
   "id": "2991fe09",
   "metadata": {},
   "outputs": [
    {
     "data": {
      "text/html": [
       "<div>\n",
       "<style scoped>\n",
       "    .dataframe tbody tr th:only-of-type {\n",
       "        vertical-align: middle;\n",
       "    }\n",
       "\n",
       "    .dataframe tbody tr th {\n",
       "        vertical-align: top;\n",
       "    }\n",
       "\n",
       "    .dataframe thead th {\n",
       "        text-align: right;\n",
       "    }\n",
       "</style>\n",
       "<table border=\"1\" class=\"dataframe\">\n",
       "  <thead>\n",
       "    <tr style=\"text-align: right;\">\n",
       "      <th></th>\n",
       "      <th>Mass</th>\n",
       "      <th>Current</th>\n",
       "    </tr>\n",
       "  </thead>\n",
       "  <tbody>\n",
       "    <tr>\n",
       "      <th>0</th>\n",
       "      <td>1.0</td>\n",
       "      <td>3.278700e-12</td>\n",
       "    </tr>\n",
       "    <tr>\n",
       "      <th>1</th>\n",
       "      <td>1.1</td>\n",
       "      <td>2.472500e-12</td>\n",
       "    </tr>\n",
       "    <tr>\n",
       "      <th>2</th>\n",
       "      <td>1.2</td>\n",
       "      <td>1.773800e-12</td>\n",
       "    </tr>\n",
       "    <tr>\n",
       "      <th>3</th>\n",
       "      <td>1.3</td>\n",
       "      <td>1.451200e-12</td>\n",
       "    </tr>\n",
       "    <tr>\n",
       "      <th>4</th>\n",
       "      <td>1.4</td>\n",
       "      <td>1.236300e-12</td>\n",
       "    </tr>\n",
       "  </tbody>\n",
       "</table>\n",
       "</div>"
      ],
      "text/plain": [
       "   Mass       Current\n",
       "0   1.0  3.278700e-12\n",
       "1   1.1  2.472500e-12\n",
       "2   1.2  1.773800e-12\n",
       "3   1.3  1.451200e-12\n",
       "4   1.4  1.236300e-12"
      ]
     },
     "execution_count": 6,
     "metadata": {},
     "output_type": "execute_result"
    }
   ],
   "source": [
    "#new dataframe for differential values\n",
    "data=list(zip(inj[\"Mass\"],inj[\"Current\"]-pre[\"Current\"]))\n",
    "dif=pd.DataFrame(data, columns=[\"Mass\", \"Current\"])\n",
    "dif.head()"
   ]
  },
  {
   "cell_type": "code",
   "execution_count": 7,
   "id": "38a75db8",
   "metadata": {
    "scrolled": true
   },
   "outputs": [
    {
     "name": "stderr",
     "output_type": "stream",
     "text": [
      "No artists with labels found to put in legend.  Note that artists whose label start with an underscore are ignored when legend() is called with no argument.\n"
     ]
    }
   ],
   "source": [
    "#plot the differential spectrum\n",
    "plt.figure()\n",
    "plt.plot((dif[\"Mass\"]),dif['Current'],marker=\".\", markersize=5)\n",
    "plt.xlabel('Molecular mass (amu)')\n",
    "plt.ylabel('Ion current (A)')\n",
    "plt.legend()\n",
    "plt.title(\"Differential spectrum\")\n",
    "plt.yscale('log')\n",
    "plt.show()\n"
   ]
  },
  {
   "cell_type": "code",
   "execution_count": 11,
   "id": "48e7e6e0",
   "metadata": {},
   "outputs": [
    {
     "name": "stdout",
     "output_type": "stream",
     "text": [
      "6.47894e-06\n",
      "0.0003166791018283855\n"
     ]
    }
   ],
   "source": [
    "#getting the sensitivity values from the differential spectrum\n",
    "I_refN2=dif[\"Current\"].max()\n",
    "p_dif=p[\"Barion_1\"].max()-p[\"Barion_1\"].min()\n",
    "print(p_dif)\n",
    "s_N2=I_refN2/p_dif\n",
    "print(s_N2)"
   ]
  },
  {
   "cell_type": "code",
   "execution_count": null,
   "id": "e94a5fc4",
   "metadata": {},
   "outputs": [],
   "source": []
  }
 ],
 "metadata": {
  "kernelspec": {
   "display_name": "Python 3 (ipykernel)",
   "language": "python",
   "name": "python3"
  },
  "language_info": {
   "codemirror_mode": {
    "name": "ipython",
    "version": 3
   },
   "file_extension": ".py",
   "mimetype": "text/x-python",
   "name": "python",
   "nbconvert_exporter": "python",
   "pygments_lexer": "ipython3",
   "version": "3.9.12"
  }
 },
 "nbformat": 4,
 "nbformat_minor": 5
}
